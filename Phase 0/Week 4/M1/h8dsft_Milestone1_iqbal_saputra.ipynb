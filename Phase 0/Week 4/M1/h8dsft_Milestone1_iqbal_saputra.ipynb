{
 "cells": [
  {
   "cell_type": "markdown",
   "metadata": {},
   "source": [
    "# Perkenalan"
   ]
  },
  {
   "cell_type": "markdown",
   "metadata": {},
   "source": [
    "<b>\n",
    "\n",
    "==============================\n",
    "\n",
    "Nama: Muhammad Iqbal Saputra\n",
    "\n",
    "Batch: RMT-032\n",
    "\n",
    "Objektif dari program ini adalah untuk menghasilkan analisis terhadap data marketing campaign menggunakan pendekatan statistik dan mengvisualisasikan hasil analisis tersebut kedalam dashboard\n",
    "\n",
    "\n",
    "==============================\n"
   ]
  },
  {
   "cell_type": "markdown",
   "metadata": {},
   "source": [
    "### URL"
   ]
  },
  {
   "cell_type": "markdown",
   "metadata": {},
   "source": [
    "[Tableau](https://public.tableau.com/app/profile/iqbal.saputra/viz/Milestone1_17176909684240/Dashboard1?publish=yes\n",
    ")\n",
    "\n",
    "[Dataset](https://raw.githubusercontent.com/iqbal-saputra/marketing_campaign/main/marketing_data.csv)"
   ]
  },
  {
   "cell_type": "markdown",
   "metadata": {},
   "source": [
    "## Libraries"
   ]
  },
  {
   "cell_type": "code",
   "execution_count": 1,
   "metadata": {},
   "outputs": [],
   "source": [
    "import pandas as pd  # Untuk manipulasi data\n",
    "import matplotlib.pyplot as plt  # Untuk visualisasi data dasar\n",
    "import seaborn as sns  # Untuk visualisasi data yang lebih kompleks\n",
    "from scipy.stats import f_oneway, pearsonr  # Mengimpor f_oneway dan pearsonr dari scipy.stats"
   ]
  },
  {
   "cell_type": "markdown",
   "metadata": {},
   "source": [
    "# Identifikasi Masalah"
   ]
  },
  {
   "cell_type": "markdown",
   "metadata": {},
   "source": [
    "## Latar Belakang"
   ]
  },
  {
   "cell_type": "markdown",
   "metadata": {},
   "source": [
    "PT. Dwana Indonesia adalah sebuah perusahaan retail besar yang bergerak di Indonesia. Perusahaan ini memiliki jaringan toko serba ada yang menyediakan berbagai macam barang untuk memenuhi kebutuhan sehari-hari masyarakat. Sebagai bagian dari strategi marketing, PT. Dwana Indonesia rutin menjalankan campaign marketing untuk menarik minat pelanggan dan meningkatkan penjualan."
   ]
  },
  {
   "cell_type": "markdown",
   "metadata": {},
   "source": [
    "## Topik Permasalahan"
   ]
  },
  {
   "cell_type": "markdown",
   "metadata": {},
   "source": [
    "Perusahaan ini rutin menjalankan campaign marketing untuk menarik minat pelanggan dan meningkatkan penjualan. Namun, tidak semua campaign mendapatkan respon yang diharapkan. Untuk meningkatkan efektivitas campaign di masa depan, perusahaan ingin memahami faktor-faktor yang mempengaruhi penerimaan campaign marketing oleh pelanggan. Analisis ini akan mencakup identifikasi produk terlaris, negara dengan penjualan terbanyak, rata-rata pendapatan pelanggan, waktu pelaksanaan campaign, serta korelasi antara jumlah anak dan total pengeluaran, dan pengaruh tingkat pendidikan terhadap keluhan pelanggan."
   ]
  },
  {
   "cell_type": "markdown",
   "metadata": {},
   "source": [
    "## SMART Framework"
   ]
  },
  {
   "cell_type": "markdown",
   "metadata": {},
   "source": [
    "\n",
    "\n",
    "> Spesifik: Menganalisis faktor-faktor yang mempengaruhi penerimaan campaign marketing oleh pelanggan PT. Dwana Indonesia untuk meningkatkan efektivitas campaign marketing.\n",
    "\n",
    "> Measurable: Diukur dengan mengidentifikasi produk yang paling banyak terjual, negara dengan penjualan terbanyak, rata-rata pendapatan pelanggan, waktu pelaksanaan campaign, korelasi antara jumlah anak dan total pengeluaran, serta pengaruh tingkat pendidikan terhadap tingkat keluhan.\n",
    "\n",
    "> Achievable: Menggunakan analisis data dengan teknik statistik deskriptif, inferensial, dan visualisasi data untuk mendapatkan wawasan yang relevan.\n",
    "\n",
    "> Relevant: Analisis ini akan membantu PT. Dwana Indonesia meningkatkan efektivitas campaign marketing, kepuasan pelanggan, dan penjualan.\n",
    "\n",
    "> Time-bound: Proses analisis ini akan diselesaikan dalam waktu 1 bulan.\n",
    "\n",
    "**Problem Statement:**\n",
    "Dalam waktu 1 bulan, kami akan menganalisis faktor-faktor yang mempengaruhi penerimaan campaign marketing oleh pelanggan PT. Dwana Indonesia. Hasil dari analisis ini akan memberikan wawasan yang relevan bagi departemen marketing untuk meningkatkan efektivitas campaign marketing, kepuasan pelanggan, dan penjualan."
   ]
  },
  {
   "cell_type": "markdown",
   "metadata": {},
   "source": [
    "## Penjabaran Masalah dengan Metode 5W + 1H"
   ]
  },
  {
   "cell_type": "markdown",
   "metadata": {},
   "source": [
    "| 5W + 1H                                                 | Metode Penjabaran  |\n",
    "|---------------------------------------------------------|---------------------|\n",
    "| Bagaimana Pola Pembelian Berdasarkan Usia Pelanggan? | Visualisasi Data    |\n",
    "| Apakah Ada Hubungan Antara Pendapatan Pelanggan dan Produk yang Dibeli? | Visualisasi Data    |\n",
    "| Bagaimana Pengaruh Diskon Terhadap Jumlah Pembelian? | Visualisasi Data    |\n",
    "| Apakah Ada Perbedaan Signifikan dalam Total Pengeluaran Berdasarkan Tingkat Pendidikan Pelanggan? | Statistik Inferensial |\n",
    "| Apakah pelanggan yang lebih tua cenderung tidak ahli dalam teknologi dan mungkin lebih suka berbelanja di toko fisik? | Visualisasi Data |\n",
    "| Bagaimana distribusi pendapatan (Income) pelanggan? | Stastika Deskriptif |\n",
    "\n"
   ]
  },
  {
   "cell_type": "markdown",
   "metadata": {},
   "source": [
    "## Informasi tambahan mengenai data"
   ]
  },
  {
   "cell_type": "markdown",
   "metadata": {},
   "source": [
    "| Kolom                | Deskripsi                                                                 |\n",
    "|----------------------|--------------------------------------------------------------------------|\n",
    "| ID                   | Identifier unik untuk setiap pelanggan.                                   |\n",
    "| Year_Birth           | Tahun kelahiran pelanggan.                                                |\n",
    "| Education            | Tingkat pendidikan pelanggan.                                             |\n",
    "| Marital_Status       | Status pernikahan pelanggan.                                              |\n",
    "| Income               | Pendapatan pelanggan.                                                     |\n",
    "| Kidhome              | Jumlah anak kecil yang tinggal di rumah pelanggan.                        |\n",
    "| Teenhome             | Jumlah remaja yang tinggal di rumah pelanggan.                            |\n",
    "| Dt_Customer          | Tanggal pelanggan mendaftar menjadi customer.                             |\n",
    "| Recency              | Jumlah hari sejak terakhir kali pelanggan melakukan pembelian.            |\n",
    "| MntWines             | Jumlah uang yang dihabiskan untuk membeli wine dalam dua tahun terakhir.  |\n",
    "| MntFruits            | Jumlah uang yang dihabiskan untuk membeli buah dalam dua tahun terakhir.  |\n",
    "| MntMeatProducts      | Jumlah uang yang dihabiskan untuk membeli produk daging dalam dua tahun terakhir.|\n",
    "| MntFishProducts      | Jumlah uang yang dihabiskan untuk membeli produk ikan dalam dua tahun terakhir.|\n",
    "| MntSweetProducts     | Jumlah uang yang dihabiskan untuk membeli produk manis dalam dua tahun terakhir.|\n",
    "| MntGoldProds         | Jumlah uang yang dihabiskan untuk membeli produk emas dalam dua tahun terakhir.|\n",
    "| NumDealsPurchases    | Jumlah pembelian yang dilakukan dengan menggunakan diskon.                |\n",
    "| NumWebPurchases      | Jumlah pembelian yang dilakukan melalui website.                          |\n",
    "| NumCatalogPurchases  | Jumlah pembelian yang dilakukan melalui katalog.                          |\n",
    "| NumStorePurchases    | Jumlah pembelian yang dilakukan di toko fisik.                            |\n",
    "| NumWebVisitsMonth    | Jumlah kunjungan website dalam sebulan terakhir.                          |\n",
    "| AcceptedCmp3         | Apakah pelanggan menerima campaign marketing 3 (0: tidak, 1: ya).         |\n",
    "| AcceptedCmp4         | Apakah pelanggan menerima campaign marketing 4 (0: tidak, 1: ya).         |\n",
    "| AcceptedCmp5         | Apakah pelanggan menerima campaign marketing 5 (0: tidak, 1: ya).         |\n",
    "| AcceptedCmp1         | Apakah pelanggan menerima campaign marketing 1 (0: tidak, 1: ya).         |\n",
    "| AcceptedCmp2         | Apakah pelanggan menerima campaign marketing 2 (0: tidak, 1: ya).         |\n",
    "| Response             | Apakah pelanggan menerima campaign marketing terakhir (0: tidak, 1: ya).  |\n",
    "| Complain             | Apakah pelanggan pernah mengajukan keluhan dalam dua tahun terakhir (0: tidak, 1: ya).|\n",
    "| Country              | Negara tempat tinggal pelanggan.                                          |\n"
   ]
  },
  {
   "cell_type": "markdown",
   "metadata": {},
   "source": [
    "# Data Loading"
   ]
  },
  {
   "cell_type": "code",
   "execution_count": 2,
   "metadata": {},
   "outputs": [],
   "source": [
    "# Baca file CSV dari URL\n",
    "url = 'https://raw.githubusercontent.com/iqbal-saputra/marketing_campaign/main/marketing_data.csv'\n",
    "df = pd.read_csv(url)"
   ]
  },
  {
   "cell_type": "code",
   "execution_count": 3,
   "metadata": {},
   "outputs": [
    {
     "data": {
      "text/html": [
       "<div>\n",
       "<style scoped>\n",
       "    .dataframe tbody tr th:only-of-type {\n",
       "        vertical-align: middle;\n",
       "    }\n",
       "\n",
       "    .dataframe tbody tr th {\n",
       "        vertical-align: top;\n",
       "    }\n",
       "\n",
       "    .dataframe thead th {\n",
       "        text-align: right;\n",
       "    }\n",
       "</style>\n",
       "<table border=\"1\" class=\"dataframe\">\n",
       "  <thead>\n",
       "    <tr style=\"text-align: right;\">\n",
       "      <th></th>\n",
       "      <th>ID</th>\n",
       "      <th>Year_Birth</th>\n",
       "      <th>Education</th>\n",
       "      <th>Marital_Status</th>\n",
       "      <th>Income</th>\n",
       "      <th>Kidhome</th>\n",
       "      <th>Teenhome</th>\n",
       "      <th>Dt_Customer</th>\n",
       "      <th>Recency</th>\n",
       "      <th>MntWines</th>\n",
       "      <th>...</th>\n",
       "      <th>NumStorePurchases</th>\n",
       "      <th>NumWebVisitsMonth</th>\n",
       "      <th>AcceptedCmp3</th>\n",
       "      <th>AcceptedCmp4</th>\n",
       "      <th>AcceptedCmp5</th>\n",
       "      <th>AcceptedCmp1</th>\n",
       "      <th>AcceptedCmp2</th>\n",
       "      <th>Response</th>\n",
       "      <th>Complain</th>\n",
       "      <th>Country</th>\n",
       "    </tr>\n",
       "  </thead>\n",
       "  <tbody>\n",
       "    <tr>\n",
       "      <th>0</th>\n",
       "      <td>1826</td>\n",
       "      <td>1970</td>\n",
       "      <td>Graduation</td>\n",
       "      <td>Divorced</td>\n",
       "      <td>$84,835.00</td>\n",
       "      <td>0</td>\n",
       "      <td>0</td>\n",
       "      <td>6/16/14</td>\n",
       "      <td>0</td>\n",
       "      <td>189</td>\n",
       "      <td>...</td>\n",
       "      <td>6</td>\n",
       "      <td>1</td>\n",
       "      <td>0</td>\n",
       "      <td>0</td>\n",
       "      <td>0</td>\n",
       "      <td>0</td>\n",
       "      <td>0</td>\n",
       "      <td>1</td>\n",
       "      <td>0</td>\n",
       "      <td>SP</td>\n",
       "    </tr>\n",
       "    <tr>\n",
       "      <th>1</th>\n",
       "      <td>1</td>\n",
       "      <td>1961</td>\n",
       "      <td>Graduation</td>\n",
       "      <td>Single</td>\n",
       "      <td>$57,091.00</td>\n",
       "      <td>0</td>\n",
       "      <td>0</td>\n",
       "      <td>6/15/14</td>\n",
       "      <td>0</td>\n",
       "      <td>464</td>\n",
       "      <td>...</td>\n",
       "      <td>7</td>\n",
       "      <td>5</td>\n",
       "      <td>0</td>\n",
       "      <td>0</td>\n",
       "      <td>0</td>\n",
       "      <td>0</td>\n",
       "      <td>1</td>\n",
       "      <td>1</td>\n",
       "      <td>0</td>\n",
       "      <td>CA</td>\n",
       "    </tr>\n",
       "    <tr>\n",
       "      <th>2</th>\n",
       "      <td>10476</td>\n",
       "      <td>1958</td>\n",
       "      <td>Graduation</td>\n",
       "      <td>Married</td>\n",
       "      <td>$67,267.00</td>\n",
       "      <td>0</td>\n",
       "      <td>1</td>\n",
       "      <td>5/13/14</td>\n",
       "      <td>0</td>\n",
       "      <td>134</td>\n",
       "      <td>...</td>\n",
       "      <td>5</td>\n",
       "      <td>2</td>\n",
       "      <td>0</td>\n",
       "      <td>0</td>\n",
       "      <td>0</td>\n",
       "      <td>0</td>\n",
       "      <td>0</td>\n",
       "      <td>0</td>\n",
       "      <td>0</td>\n",
       "      <td>US</td>\n",
       "    </tr>\n",
       "    <tr>\n",
       "      <th>3</th>\n",
       "      <td>1386</td>\n",
       "      <td>1967</td>\n",
       "      <td>Graduation</td>\n",
       "      <td>Together</td>\n",
       "      <td>$32,474.00</td>\n",
       "      <td>1</td>\n",
       "      <td>1</td>\n",
       "      <td>5/11/14</td>\n",
       "      <td>0</td>\n",
       "      <td>10</td>\n",
       "      <td>...</td>\n",
       "      <td>2</td>\n",
       "      <td>7</td>\n",
       "      <td>0</td>\n",
       "      <td>0</td>\n",
       "      <td>0</td>\n",
       "      <td>0</td>\n",
       "      <td>0</td>\n",
       "      <td>0</td>\n",
       "      <td>0</td>\n",
       "      <td>AUS</td>\n",
       "    </tr>\n",
       "    <tr>\n",
       "      <th>4</th>\n",
       "      <td>5371</td>\n",
       "      <td>1989</td>\n",
       "      <td>Graduation</td>\n",
       "      <td>Single</td>\n",
       "      <td>$21,474.00</td>\n",
       "      <td>1</td>\n",
       "      <td>0</td>\n",
       "      <td>4/8/14</td>\n",
       "      <td>0</td>\n",
       "      <td>6</td>\n",
       "      <td>...</td>\n",
       "      <td>2</td>\n",
       "      <td>7</td>\n",
       "      <td>1</td>\n",
       "      <td>0</td>\n",
       "      <td>0</td>\n",
       "      <td>0</td>\n",
       "      <td>0</td>\n",
       "      <td>1</td>\n",
       "      <td>0</td>\n",
       "      <td>SP</td>\n",
       "    </tr>\n",
       "  </tbody>\n",
       "</table>\n",
       "<p>5 rows × 28 columns</p>\n",
       "</div>"
      ],
      "text/plain": [
       "      ID  Year_Birth   Education Marital_Status       Income  Kidhome  \\\n",
       "0   1826        1970  Graduation       Divorced  $84,835.00         0   \n",
       "1      1        1961  Graduation         Single  $57,091.00         0   \n",
       "2  10476        1958  Graduation        Married  $67,267.00         0   \n",
       "3   1386        1967  Graduation       Together  $32,474.00         1   \n",
       "4   5371        1989  Graduation         Single  $21,474.00         1   \n",
       "\n",
       "   Teenhome Dt_Customer  Recency  MntWines  ...  NumStorePurchases  \\\n",
       "0         0     6/16/14        0       189  ...                  6   \n",
       "1         0     6/15/14        0       464  ...                  7   \n",
       "2         1     5/13/14        0       134  ...                  5   \n",
       "3         1     5/11/14        0        10  ...                  2   \n",
       "4         0      4/8/14        0         6  ...                  2   \n",
       "\n",
       "   NumWebVisitsMonth  AcceptedCmp3  AcceptedCmp4  AcceptedCmp5  AcceptedCmp1  \\\n",
       "0                  1             0             0             0             0   \n",
       "1                  5             0             0             0             0   \n",
       "2                  2             0             0             0             0   \n",
       "3                  7             0             0             0             0   \n",
       "4                  7             1             0             0             0   \n",
       "\n",
       "   AcceptedCmp2  Response  Complain  Country  \n",
       "0             0         1         0       SP  \n",
       "1             1         1         0       CA  \n",
       "2             0         0         0       US  \n",
       "3             0         0         0      AUS  \n",
       "4             0         1         0       SP  \n",
       "\n",
       "[5 rows x 28 columns]"
      ]
     },
     "execution_count": 3,
     "metadata": {},
     "output_type": "execute_result"
    }
   ],
   "source": [
    "# Tampilkan beberapa baris pertama\n",
    "df.head()"
   ]
  },
  {
   "cell_type": "code",
   "execution_count": 4,
   "metadata": {},
   "outputs": [
    {
     "name": "stdout",
     "output_type": "stream",
     "text": [
      "<class 'pandas.core.frame.DataFrame'>\n",
      "RangeIndex: 2240 entries, 0 to 2239\n",
      "Data columns (total 28 columns):\n",
      " #   Column               Non-Null Count  Dtype \n",
      "---  ------               --------------  ----- \n",
      " 0   ID                   2240 non-null   int64 \n",
      " 1   Year_Birth           2240 non-null   int64 \n",
      " 2   Education            2240 non-null   object\n",
      " 3   Marital_Status       2240 non-null   object\n",
      " 4   Income               2216 non-null   object\n",
      " 5   Kidhome              2240 non-null   int64 \n",
      " 6   Teenhome             2240 non-null   int64 \n",
      " 7   Dt_Customer          2240 non-null   object\n",
      " 8   Recency              2240 non-null   int64 \n",
      " 9   MntWines             2240 non-null   int64 \n",
      " 10  MntFruits            2240 non-null   int64 \n",
      " 11  MntMeatProducts      2240 non-null   int64 \n",
      " 12  MntFishProducts      2240 non-null   int64 \n",
      " 13  MntSweetProducts     2240 non-null   int64 \n",
      " 14  MntGoldProds         2240 non-null   int64 \n",
      " 15  NumDealsPurchases    2240 non-null   int64 \n",
      " 16  NumWebPurchases      2240 non-null   int64 \n",
      " 17  NumCatalogPurchases  2240 non-null   int64 \n",
      " 18  NumStorePurchases    2240 non-null   int64 \n",
      " 19  NumWebVisitsMonth    2240 non-null   int64 \n",
      " 20  AcceptedCmp3         2240 non-null   int64 \n",
      " 21  AcceptedCmp4         2240 non-null   int64 \n",
      " 22  AcceptedCmp5         2240 non-null   int64 \n",
      " 23  AcceptedCmp1         2240 non-null   int64 \n",
      " 24  AcceptedCmp2         2240 non-null   int64 \n",
      " 25  Response             2240 non-null   int64 \n",
      " 26  Complain             2240 non-null   int64 \n",
      " 27  Country              2240 non-null   object\n",
      "dtypes: int64(23), object(5)\n",
      "memory usage: 490.1+ KB\n"
     ]
    }
   ],
   "source": [
    "# Cek tipe data\n",
    "df.info()"
   ]
  },
  {
   "cell_type": "code",
   "execution_count": 5,
   "metadata": {},
   "outputs": [],
   "source": [
    "# Membersihkan data agar bisa di load ke SQL\n",
    "df['Income'] = df['Income'].str.replace('\"', '').str.replace('$', '').str.replace(',', '').astype(float)\n",
    "df['Dt_Customer'] = pd.to_datetime(df['Dt_Customer'], format='%m/%d/%y')"
   ]
  },
  {
   "cell_type": "code",
   "execution_count": 6,
   "metadata": {},
   "outputs": [
    {
     "data": {
      "text/html": [
       "<div>\n",
       "<style scoped>\n",
       "    .dataframe tbody tr th:only-of-type {\n",
       "        vertical-align: middle;\n",
       "    }\n",
       "\n",
       "    .dataframe tbody tr th {\n",
       "        vertical-align: top;\n",
       "    }\n",
       "\n",
       "    .dataframe thead th {\n",
       "        text-align: right;\n",
       "    }\n",
       "</style>\n",
       "<table border=\"1\" class=\"dataframe\">\n",
       "  <thead>\n",
       "    <tr style=\"text-align: right;\">\n",
       "      <th></th>\n",
       "      <th>ID</th>\n",
       "      <th>Year_Birth</th>\n",
       "      <th>Education</th>\n",
       "      <th>Marital_Status</th>\n",
       "      <th>Income</th>\n",
       "      <th>Kidhome</th>\n",
       "      <th>Teenhome</th>\n",
       "      <th>Dt_Customer</th>\n",
       "      <th>Recency</th>\n",
       "      <th>MntWines</th>\n",
       "      <th>...</th>\n",
       "      <th>NumStorePurchases</th>\n",
       "      <th>NumWebVisitsMonth</th>\n",
       "      <th>AcceptedCmp3</th>\n",
       "      <th>AcceptedCmp4</th>\n",
       "      <th>AcceptedCmp5</th>\n",
       "      <th>AcceptedCmp1</th>\n",
       "      <th>AcceptedCmp2</th>\n",
       "      <th>Response</th>\n",
       "      <th>Complain</th>\n",
       "      <th>Country</th>\n",
       "    </tr>\n",
       "  </thead>\n",
       "  <tbody>\n",
       "    <tr>\n",
       "      <th>0</th>\n",
       "      <td>1826</td>\n",
       "      <td>1970</td>\n",
       "      <td>Graduation</td>\n",
       "      <td>Divorced</td>\n",
       "      <td>84835.0</td>\n",
       "      <td>0</td>\n",
       "      <td>0</td>\n",
       "      <td>2014-06-16</td>\n",
       "      <td>0</td>\n",
       "      <td>189</td>\n",
       "      <td>...</td>\n",
       "      <td>6</td>\n",
       "      <td>1</td>\n",
       "      <td>0</td>\n",
       "      <td>0</td>\n",
       "      <td>0</td>\n",
       "      <td>0</td>\n",
       "      <td>0</td>\n",
       "      <td>1</td>\n",
       "      <td>0</td>\n",
       "      <td>SP</td>\n",
       "    </tr>\n",
       "    <tr>\n",
       "      <th>1</th>\n",
       "      <td>1</td>\n",
       "      <td>1961</td>\n",
       "      <td>Graduation</td>\n",
       "      <td>Single</td>\n",
       "      <td>57091.0</td>\n",
       "      <td>0</td>\n",
       "      <td>0</td>\n",
       "      <td>2014-06-15</td>\n",
       "      <td>0</td>\n",
       "      <td>464</td>\n",
       "      <td>...</td>\n",
       "      <td>7</td>\n",
       "      <td>5</td>\n",
       "      <td>0</td>\n",
       "      <td>0</td>\n",
       "      <td>0</td>\n",
       "      <td>0</td>\n",
       "      <td>1</td>\n",
       "      <td>1</td>\n",
       "      <td>0</td>\n",
       "      <td>CA</td>\n",
       "    </tr>\n",
       "    <tr>\n",
       "      <th>2</th>\n",
       "      <td>10476</td>\n",
       "      <td>1958</td>\n",
       "      <td>Graduation</td>\n",
       "      <td>Married</td>\n",
       "      <td>67267.0</td>\n",
       "      <td>0</td>\n",
       "      <td>1</td>\n",
       "      <td>2014-05-13</td>\n",
       "      <td>0</td>\n",
       "      <td>134</td>\n",
       "      <td>...</td>\n",
       "      <td>5</td>\n",
       "      <td>2</td>\n",
       "      <td>0</td>\n",
       "      <td>0</td>\n",
       "      <td>0</td>\n",
       "      <td>0</td>\n",
       "      <td>0</td>\n",
       "      <td>0</td>\n",
       "      <td>0</td>\n",
       "      <td>US</td>\n",
       "    </tr>\n",
       "    <tr>\n",
       "      <th>3</th>\n",
       "      <td>1386</td>\n",
       "      <td>1967</td>\n",
       "      <td>Graduation</td>\n",
       "      <td>Together</td>\n",
       "      <td>32474.0</td>\n",
       "      <td>1</td>\n",
       "      <td>1</td>\n",
       "      <td>2014-05-11</td>\n",
       "      <td>0</td>\n",
       "      <td>10</td>\n",
       "      <td>...</td>\n",
       "      <td>2</td>\n",
       "      <td>7</td>\n",
       "      <td>0</td>\n",
       "      <td>0</td>\n",
       "      <td>0</td>\n",
       "      <td>0</td>\n",
       "      <td>0</td>\n",
       "      <td>0</td>\n",
       "      <td>0</td>\n",
       "      <td>AUS</td>\n",
       "    </tr>\n",
       "    <tr>\n",
       "      <th>4</th>\n",
       "      <td>5371</td>\n",
       "      <td>1989</td>\n",
       "      <td>Graduation</td>\n",
       "      <td>Single</td>\n",
       "      <td>21474.0</td>\n",
       "      <td>1</td>\n",
       "      <td>0</td>\n",
       "      <td>2014-04-08</td>\n",
       "      <td>0</td>\n",
       "      <td>6</td>\n",
       "      <td>...</td>\n",
       "      <td>2</td>\n",
       "      <td>7</td>\n",
       "      <td>1</td>\n",
       "      <td>0</td>\n",
       "      <td>0</td>\n",
       "      <td>0</td>\n",
       "      <td>0</td>\n",
       "      <td>1</td>\n",
       "      <td>0</td>\n",
       "      <td>SP</td>\n",
       "    </tr>\n",
       "  </tbody>\n",
       "</table>\n",
       "<p>5 rows × 28 columns</p>\n",
       "</div>"
      ],
      "text/plain": [
       "      ID  Year_Birth   Education Marital_Status   Income  Kidhome  Teenhome  \\\n",
       "0   1826        1970  Graduation       Divorced  84835.0        0         0   \n",
       "1      1        1961  Graduation         Single  57091.0        0         0   \n",
       "2  10476        1958  Graduation        Married  67267.0        0         1   \n",
       "3   1386        1967  Graduation       Together  32474.0        1         1   \n",
       "4   5371        1989  Graduation         Single  21474.0        1         0   \n",
       "\n",
       "  Dt_Customer  Recency  MntWines  ...  NumStorePurchases  NumWebVisitsMonth  \\\n",
       "0  2014-06-16        0       189  ...                  6                  1   \n",
       "1  2014-06-15        0       464  ...                  7                  5   \n",
       "2  2014-05-13        0       134  ...                  5                  2   \n",
       "3  2014-05-11        0        10  ...                  2                  7   \n",
       "4  2014-04-08        0         6  ...                  2                  7   \n",
       "\n",
       "   AcceptedCmp3  AcceptedCmp4  AcceptedCmp5  AcceptedCmp1  AcceptedCmp2  \\\n",
       "0             0             0             0             0             0   \n",
       "1             0             0             0             0             1   \n",
       "2             0             0             0             0             0   \n",
       "3             0             0             0             0             0   \n",
       "4             1             0             0             0             0   \n",
       "\n",
       "   Response  Complain  Country  \n",
       "0         1         0       SP  \n",
       "1         1         0       CA  \n",
       "2         0         0       US  \n",
       "3         0         0      AUS  \n",
       "4         1         0       SP  \n",
       "\n",
       "[5 rows x 28 columns]"
      ]
     },
     "execution_count": 6,
     "metadata": {},
     "output_type": "execute_result"
    }
   ],
   "source": [
    "# Cek apakah proses cleaning berhasil\n",
    "df.head()"
   ]
  },
  {
   "cell_type": "code",
   "execution_count": 7,
   "metadata": {},
   "outputs": [
    {
     "name": "stdout",
     "output_type": "stream",
     "text": [
      "<class 'pandas.core.frame.DataFrame'>\n",
      "RangeIndex: 2240 entries, 0 to 2239\n",
      "Data columns (total 28 columns):\n",
      " #   Column               Non-Null Count  Dtype         \n",
      "---  ------               --------------  -----         \n",
      " 0   ID                   2240 non-null   int64         \n",
      " 1   Year_Birth           2240 non-null   int64         \n",
      " 2   Education            2240 non-null   object        \n",
      " 3   Marital_Status       2240 non-null   object        \n",
      " 4   Income               2216 non-null   float64       \n",
      " 5   Kidhome              2240 non-null   int64         \n",
      " 6   Teenhome             2240 non-null   int64         \n",
      " 7   Dt_Customer          2240 non-null   datetime64[ns]\n",
      " 8   Recency              2240 non-null   int64         \n",
      " 9   MntWines             2240 non-null   int64         \n",
      " 10  MntFruits            2240 non-null   int64         \n",
      " 11  MntMeatProducts      2240 non-null   int64         \n",
      " 12  MntFishProducts      2240 non-null   int64         \n",
      " 13  MntSweetProducts     2240 non-null   int64         \n",
      " 14  MntGoldProds         2240 non-null   int64         \n",
      " 15  NumDealsPurchases    2240 non-null   int64         \n",
      " 16  NumWebPurchases      2240 non-null   int64         \n",
      " 17  NumCatalogPurchases  2240 non-null   int64         \n",
      " 18  NumStorePurchases    2240 non-null   int64         \n",
      " 19  NumWebVisitsMonth    2240 non-null   int64         \n",
      " 20  AcceptedCmp3         2240 non-null   int64         \n",
      " 21  AcceptedCmp4         2240 non-null   int64         \n",
      " 22  AcceptedCmp5         2240 non-null   int64         \n",
      " 23  AcceptedCmp1         2240 non-null   int64         \n",
      " 24  AcceptedCmp2         2240 non-null   int64         \n",
      " 25  Response             2240 non-null   int64         \n",
      " 26  Complain             2240 non-null   int64         \n",
      " 27  Country              2240 non-null   object        \n",
      "dtypes: datetime64[ns](1), float64(1), int64(23), object(3)\n",
      "memory usage: 490.1+ KB\n"
     ]
    }
   ],
   "source": [
    "# Cek apakah proses cleaning berhasil\n",
    "df.info()"
   ]
  },
  {
   "cell_type": "code",
   "execution_count": 8,
   "metadata": {},
   "outputs": [],
   "source": [
    "# Simpan data ke file CSV baru\n",
    "path = 'C:/tmp/marketing_data.csv'\n",
    "df.to_csv(path, index=False)\n",
    "df.to_csv('marketing_data.csv', index=False)"
   ]
  },
  {
   "cell_type": "markdown",
   "metadata": {},
   "source": [
    "##### SQL"
   ]
  },
  {
   "cell_type": "markdown",
   "metadata": {},
   "source": [
    "```postgreSQL\n",
    "\n",
    "-- Buat database jika belum ada\n",
    "CREATE DATABASE marketing_campaign;\n",
    "\n",
    "-- TCL\n",
    "BEGIN;\n",
    "\n",
    "-- Buat tabel untuk menyimpan data\n",
    "CREATE TABLE marketing_data (\n",
    "    ID INT PRIMARY KEY,\n",
    "    Year_Birth INT,\n",
    "    Education VARCHAR(50),\n",
    "    Marital_Status VARCHAR(50),\n",
    "    Income FLOAT,\n",
    "    Kidhome INT,\n",
    "    Teenhome INT,\n",
    "    Dt_Customer DATE,\n",
    "    Recency INT,\n",
    "    MntWines FLOAT,\n",
    "    MntFruits FLOAT,\n",
    "    MntMeatProducts FLOAT,\n",
    "    MntFishProducts FLOAT,\n",
    "    MntSweetProducts FLOAT,\n",
    "    MntGoldProds FLOAT,\n",
    "    NumDealsPurchases INT,\n",
    "    NumWebPurchases INT,\n",
    "    NumCatalogPurchases INT,\n",
    "    NumStorePurchases INT,\n",
    "    NumWebVisitsMonth INT,\n",
    "    AcceptedCmp3 INT,\n",
    "    AcceptedCmp4 INT,\n",
    "    AcceptedCmp5 INT,\n",
    "    AcceptedCmp1 INT,\n",
    "    AcceptedCmp2 INT,\n",
    "    Response INT,\n",
    "    Complain INT,\n",
    "    Country VARCHAR(50)\n",
    ");\n",
    "\n",
    "-- Load data dari CSV ke tabel\n",
    "COPY marketing_data (ID, Year_Birth, Education, Marital_Status, Income, Kidhome, Teenhome, Dt_Customer, Recency, MntWines, MntFruits, MntMeatProducts, MntFishProducts, MntSweetProducts, MntGoldProds, NumDealsPurchases, NumWebPurchases, NumCatalogPurchases, NumStorePurchases, NumWebVisitsMonth, AcceptedCmp3, AcceptedCmp4, AcceptedCmp5, AcceptedCmp1, AcceptedCmp2, Response, Complain, Country)\n",
    "FROM 'C:/tmp/marketing_data.csv' \n",
    "DELIMITER ',' \n",
    "CSV HEADER\n",
    "NULL AS ''\n",
    "QUOTE '\"'\n",
    "ESCAPE '\\';\n",
    "\n",
    "SELECT *\n",
    "FROM marketing_data\n",
    "\n",
    "COMMIT;\n",
    "\n",
    "```"
   ]
  },
  {
   "cell_type": "markdown",
   "metadata": {},
   "source": [
    "# Data Cleaning"
   ]
  },
  {
   "cell_type": "code",
   "execution_count": 9,
   "metadata": {},
   "outputs": [],
   "source": [
    "# Import data\n",
    "df_cleaned = pd.read_csv('C:/tmp/marketing_data.csv')"
   ]
  },
  {
   "cell_type": "code",
   "execution_count": 10,
   "metadata": {},
   "outputs": [
    {
     "name": "stdout",
     "output_type": "stream",
     "text": [
      "ID                      0\n",
      "Year_Birth              0\n",
      "Education               0\n",
      "Marital_Status          0\n",
      "Income                 24\n",
      "Kidhome                 0\n",
      "Teenhome                0\n",
      "Dt_Customer             0\n",
      "Recency                 0\n",
      "MntWines                0\n",
      "MntFruits               0\n",
      "MntMeatProducts         0\n",
      "MntFishProducts         0\n",
      "MntSweetProducts        0\n",
      "MntGoldProds            0\n",
      "NumDealsPurchases       0\n",
      "NumWebPurchases         0\n",
      "NumCatalogPurchases     0\n",
      "NumStorePurchases       0\n",
      "NumWebVisitsMonth       0\n",
      "AcceptedCmp3            0\n",
      "AcceptedCmp4            0\n",
      "AcceptedCmp5            0\n",
      "AcceptedCmp1            0\n",
      "AcceptedCmp2            0\n",
      "Response                0\n",
      "Complain                0\n",
      "Country                 0\n",
      "dtype: int64\n"
     ]
    }
   ],
   "source": [
    "'''\n",
    "Proses cleaning data\n",
    "'''\n",
    "\n",
    "# Mengidentifikasi missing values\n",
    "missing_values = df_cleaned.isnull().sum()\n",
    "print(missing_values)\n"
   ]
  },
  {
   "cell_type": "code",
   "execution_count": 11,
   "metadata": {},
   "outputs": [],
   "source": [
    "# Menghapus baris yang memiliki missing values\n",
    "df_cleaned = df.dropna() # saya memilih metode ini karna value yang kosong < 5%"
   ]
  },
  {
   "cell_type": "code",
   "execution_count": 12,
   "metadata": {},
   "outputs": [
    {
     "data": {
      "text/plain": [
       "ID                     0\n",
       "Year_Birth             0\n",
       "Education              0\n",
       "Marital_Status         0\n",
       "Income                 0\n",
       "Kidhome                0\n",
       "Teenhome               0\n",
       "Dt_Customer            0\n",
       "Recency                0\n",
       "MntWines               0\n",
       "MntFruits              0\n",
       "MntMeatProducts        0\n",
       "MntFishProducts        0\n",
       "MntSweetProducts       0\n",
       "MntGoldProds           0\n",
       "NumDealsPurchases      0\n",
       "NumWebPurchases        0\n",
       "NumCatalogPurchases    0\n",
       "NumStorePurchases      0\n",
       "NumWebVisitsMonth      0\n",
       "AcceptedCmp3           0\n",
       "AcceptedCmp4           0\n",
       "AcceptedCmp5           0\n",
       "AcceptedCmp1           0\n",
       "AcceptedCmp2           0\n",
       "Response               0\n",
       "Complain               0\n",
       "Country                0\n",
       "dtype: int64"
      ]
     },
     "execution_count": 12,
     "metadata": {},
     "output_type": "execute_result"
    }
   ],
   "source": [
    "# Cek apakah ada missing value\n",
    "missing_values = df_cleaned.isnull().sum()\n",
    "missing_values"
   ]
  },
  {
   "cell_type": "code",
   "execution_count": 13,
   "metadata": {},
   "outputs": [],
   "source": [
    "# Membuat copy agar ketika membersihkan data tidak merubah data df_cleaned\n",
    "df_cleaned_categorical = df_cleaned.copy(deep=True)"
   ]
  },
  {
   "cell_type": "code",
   "execution_count": 14,
   "metadata": {},
   "outputs": [],
   "source": [
    "# Identifikasi kolom kategorikal\n",
    "categorical_columns = ['Education', 'Marital_Status', 'Country']\n",
    "\n",
    "# Trim whitespaces di nama kolom\n",
    "df_cleaned_categorical.rename(columns=lambda x: x.strip(), inplace=True)\n",
    "\n",
    "# Trim whitespaces di semua kolom kategorikal menggunakan .loc[]\n",
    "for column in categorical_columns:\n",
    "    df_cleaned_categorical.loc[:, column] = df_cleaned_categorical[column].str.strip()"
   ]
  },
  {
   "cell_type": "code",
   "execution_count": 15,
   "metadata": {},
   "outputs": [],
   "source": [
    "# Membaut list dari setiap kolom\n",
    "education_unique = df_cleaned_categorical['Education'].unique().tolist()\n",
    "marital_status_unique = df_cleaned_categorical['Marital_Status'].unique().tolist()\n",
    "country_unique = df_cleaned_categorical['Country'].unique().tolist()"
   ]
  },
  {
   "cell_type": "code",
   "execution_count": 16,
   "metadata": {},
   "outputs": [
    {
     "data": {
      "text/plain": [
       "['Graduation', 'PhD', '2n Cycle', 'Master', 'Basic']"
      ]
     },
     "execution_count": 16,
     "metadata": {},
     "output_type": "execute_result"
    }
   ],
   "source": [
    "# Menampilkan list unik agar kita dapat mengetahui value apa yang seharusnya dirapihkan\n",
    "education_unique"
   ]
  },
  {
   "cell_type": "code",
   "execution_count": 17,
   "metadata": {},
   "outputs": [
    {
     "data": {
      "text/plain": [
       "['Divorced',\n",
       " 'Single',\n",
       " 'Married',\n",
       " 'Together',\n",
       " 'Widow',\n",
       " 'YOLO',\n",
       " 'Alone',\n",
       " 'Absurd']"
      ]
     },
     "execution_count": 17,
     "metadata": {},
     "output_type": "execute_result"
    }
   ],
   "source": [
    "# Menampilkan list unik agar kita dapat mengetahui value apa yang seharusnya dirapihkan\n",
    "marital_status_unique"
   ]
  },
  {
   "cell_type": "code",
   "execution_count": 18,
   "metadata": {},
   "outputs": [
    {
     "data": {
      "text/plain": [
       "['SP', 'CA', 'US', 'AUS', 'GER', 'IND', 'SA', 'ME']"
      ]
     },
     "execution_count": 18,
     "metadata": {},
     "output_type": "execute_result"
    }
   ],
   "source": [
    "# Menampilkan list unik agar kita dapat mengetahui value apa yang seharusnya dirapihkan\n",
    "country_unique"
   ]
  },
  {
   "cell_type": "code",
   "execution_count": 19,
   "metadata": {},
   "outputs": [],
   "source": [
    "# Mengganti nilai yang tidak konsisten menggunakan .loc[]\n",
    "education_mapping = {\n",
    "    'Basic': 'Basic Education',\n",
    "    'Graduation': \"Bachelor's Degree\", \n",
    "    '2n Cycle': \"Master's Degree\", \n",
    "    'Master': \"Master's Degree\",\n",
    "    'PhD': 'Doctorate Degree'\n",
    "}\n",
    "\n",
    "df_cleaned_categorical.loc[:, 'Education'] = df_cleaned_categorical['Education'].replace(education_mapping)\n"
   ]
  },
  {
   "cell_type": "code",
   "execution_count": 20,
   "metadata": {},
   "outputs": [
    {
     "name": "stdout",
     "output_type": "stream",
     "text": [
      "Bachelor's Degree\n",
      "Doctorate Degree\n",
      "Master's Degree\n",
      "Basic Education\n"
     ]
    }
   ],
   "source": [
    "# Cetak nilai-nilai unik dalam kolom Education setelah pengelompokan\n",
    "for value in df_cleaned_categorical['Education'].unique():\n",
    "    print(value)\n"
   ]
  },
  {
   "cell_type": "code",
   "execution_count": 21,
   "metadata": {},
   "outputs": [],
   "source": [
    "# Mapping marital_status agar value lebih rapi dan mudah di analisis\n",
    "marital_status_mapping = {\n",
    "    'YOLO': 'Single',\n",
    "    'Alone': 'Single',\n",
    "    'Absurd': 'Single',\n",
    "    'Together': 'Together',\n",
    "    'Married': 'Married',\n",
    "    'Divorced': 'Divorced',\n",
    "    'Widow': 'Widowed'\n",
    "}\n",
    "\n",
    "# Mengganti value pada kolom, sesuai dengan value yang sudah kita mapping\n",
    "df_cleaned_categorical.loc[:, 'Marital_Status'] = df_cleaned_categorical['Marital_Status'].replace(marital_status_mapping)"
   ]
  },
  {
   "cell_type": "code",
   "execution_count": 22,
   "metadata": {},
   "outputs": [
    {
     "name": "stdout",
     "output_type": "stream",
     "text": [
      "Divorced\n",
      "Single\n",
      "Married\n",
      "Together\n",
      "Widowed\n"
     ]
    }
   ],
   "source": [
    "# Display value unik dalam kolom Marital_Status setelah dirapihkan\n",
    "for value in df_cleaned_categorical['Marital_Status'].unique():\n",
    "    print(value)\n"
   ]
  },
  {
   "cell_type": "code",
   "execution_count": 23,
   "metadata": {},
   "outputs": [],
   "source": [
    "# Mapping country agar value lebih rapi dan mudah di analisis\n",
    "country_mapping = {\n",
    "    'SP': 'Spain',\n",
    "    'CA': 'Canada',\n",
    "    'AUS': 'Australia',\n",
    "    'GER': 'Germany',\n",
    "    'IND': 'India',\n",
    "    'US': 'United States',\n",
    "    'SA': 'South Africa',\n",
    "    'ME': 'Mexico'\n",
    "}\n",
    "\n",
    "# Mengganti value pada kolom, sesuai dengan value yang sudah kita mapping\n",
    "df_cleaned_categorical.loc[:, 'Country'] = df_cleaned_categorical['Country'].replace(country_mapping)"
   ]
  },
  {
   "cell_type": "code",
   "execution_count": 24,
   "metadata": {},
   "outputs": [
    {
     "name": "stdout",
     "output_type": "stream",
     "text": [
      "Spain\n",
      "Canada\n",
      "United States\n",
      "Australia\n",
      "Germany\n",
      "India\n",
      "South Africa\n",
      "Mexico\n"
     ]
    }
   ],
   "source": [
    "# Display value unik dalam kolom Country setelah dirapihkan\n",
    "for value in df_cleaned_categorical['Country'].unique():\n",
    "    print(value)"
   ]
  },
  {
   "cell_type": "code",
   "execution_count": 25,
   "metadata": {},
   "outputs": [],
   "source": [
    "# Assign hasil pembersihan kembali ke df_cleaned menggunakan .loc[]\n",
    "df_cleaned.loc[:, categorical_columns] = df_cleaned_categorical[categorical_columns]"
   ]
  },
  {
   "cell_type": "code",
   "execution_count": 26,
   "metadata": {},
   "outputs": [
    {
     "name": "stdout",
     "output_type": "stream",
     "text": [
      "[\"Bachelor's Degree\", 'Doctorate Degree', \"Master's Degree\", 'Basic Education']\n",
      "['Divorced', 'Single', 'Married', 'Together', 'Widowed']\n",
      "['Spain', 'Canada', 'United States', 'Australia', 'Germany', 'India', 'South Africa', 'Mexico']\n"
     ]
    }
   ],
   "source": [
    "# Display value pada dataset sesudah kita rapihkan (memastikan data apakah berhasil di cleaning)\n",
    "education_unique = df_cleaned['Education'].unique().tolist()\n",
    "print(education_unique)\n",
    "\n",
    "marital_status_unique = df_cleaned['Marital_Status'].unique().tolist()\n",
    "print(marital_status_unique)\n",
    "\n",
    "country_unique = df_cleaned['Country'].unique().tolist()\n",
    "print(country_unique)"
   ]
  },
  {
   "cell_type": "code",
   "execution_count": 27,
   "metadata": {},
   "outputs": [
    {
     "name": "stdout",
     "output_type": "stream",
     "text": [
      "Jumlah baris duplikat: 0\n"
     ]
    }
   ],
   "source": [
    "# Cek apakah ada data duplikat\n",
    "duplicate_rows = df_cleaned.duplicated()\n",
    "print(f\"Jumlah baris duplikat: {duplicate_rows.sum()}\")"
   ]
  },
  {
   "cell_type": "code",
   "execution_count": 28,
   "metadata": {},
   "outputs": [],
   "source": [
    "# Incase ada data duplikat, kode ini menghapus baris duplikat\n",
    "df_cleaned = df_cleaned.drop_duplicates()"
   ]
  },
  {
   "cell_type": "code",
   "execution_count": 29,
   "metadata": {},
   "outputs": [],
   "source": [
    "# Membuat kolom baru, agar data lebih mudah di analisis\n",
    "df_cleaned['Total_Children'] = df_cleaned['Kidhome'] + df_cleaned['Teenhome']\n",
    "df_cleaned['Age'] = 2024 - df_cleaned['Year_Birth']\n",
    "df_cleaned['Total_Spending'] = (\n",
    "    df_cleaned['MntWines'] + \n",
    "    df_cleaned['MntFruits'] + \n",
    "    df_cleaned['MntMeatProducts'] + \n",
    "    df_cleaned['MntFishProducts'] + \n",
    "    df_cleaned['MntSweetProducts'] + \n",
    "    df_cleaned['MntGoldProds']\n",
    ")\n",
    "\n",
    "# Menghapus kolom yang tidak diperlukan\n",
    "df_cleaned.drop(columns=['Year_Birth', 'Kidhome', 'Teenhome'], inplace=True)"
   ]
  },
  {
   "cell_type": "code",
   "execution_count": 30,
   "metadata": {},
   "outputs": [
    {
     "data": {
      "text/html": [
       "<div>\n",
       "<style scoped>\n",
       "    .dataframe tbody tr th:only-of-type {\n",
       "        vertical-align: middle;\n",
       "    }\n",
       "\n",
       "    .dataframe tbody tr th {\n",
       "        vertical-align: top;\n",
       "    }\n",
       "\n",
       "    .dataframe thead th {\n",
       "        text-align: right;\n",
       "    }\n",
       "</style>\n",
       "<table border=\"1\" class=\"dataframe\">\n",
       "  <thead>\n",
       "    <tr style=\"text-align: right;\">\n",
       "      <th></th>\n",
       "      <th>ID</th>\n",
       "      <th>EDUCATION</th>\n",
       "      <th>MARITAL_STATUS</th>\n",
       "      <th>AGE</th>\n",
       "      <th>TOTAL_CHILDREN</th>\n",
       "      <th>INCOME</th>\n",
       "      <th>TOTAL_SPENDING</th>\n",
       "      <th>COUNTRY</th>\n",
       "      <th>DATE_ENROLLED</th>\n",
       "      <th>RECENCY</th>\n",
       "      <th>...</th>\n",
       "      <th>CATALOG_PURCHASE</th>\n",
       "      <th>STORE_PURCHASE</th>\n",
       "      <th>WEBVISIT</th>\n",
       "      <th>CMP1</th>\n",
       "      <th>CMP2</th>\n",
       "      <th>CMP3</th>\n",
       "      <th>CMP4</th>\n",
       "      <th>CMP5</th>\n",
       "      <th>RESPONSE</th>\n",
       "      <th>COMPLAIN</th>\n",
       "    </tr>\n",
       "  </thead>\n",
       "  <tbody>\n",
       "    <tr>\n",
       "      <th>0</th>\n",
       "      <td>1826</td>\n",
       "      <td>Bachelor's Degree</td>\n",
       "      <td>Divorced</td>\n",
       "      <td>54</td>\n",
       "      <td>0</td>\n",
       "      <td>84835.0</td>\n",
       "      <td>1190</td>\n",
       "      <td>Spain</td>\n",
       "      <td>2014-06-16</td>\n",
       "      <td>0</td>\n",
       "      <td>...</td>\n",
       "      <td>4</td>\n",
       "      <td>6</td>\n",
       "      <td>1</td>\n",
       "      <td>0</td>\n",
       "      <td>0</td>\n",
       "      <td>0</td>\n",
       "      <td>0</td>\n",
       "      <td>0</td>\n",
       "      <td>1</td>\n",
       "      <td>0</td>\n",
       "    </tr>\n",
       "    <tr>\n",
       "      <th>1</th>\n",
       "      <td>1</td>\n",
       "      <td>Bachelor's Degree</td>\n",
       "      <td>Single</td>\n",
       "      <td>63</td>\n",
       "      <td>0</td>\n",
       "      <td>57091.0</td>\n",
       "      <td>577</td>\n",
       "      <td>Canada</td>\n",
       "      <td>2014-06-15</td>\n",
       "      <td>0</td>\n",
       "      <td>...</td>\n",
       "      <td>3</td>\n",
       "      <td>7</td>\n",
       "      <td>5</td>\n",
       "      <td>0</td>\n",
       "      <td>1</td>\n",
       "      <td>0</td>\n",
       "      <td>0</td>\n",
       "      <td>0</td>\n",
       "      <td>1</td>\n",
       "      <td>0</td>\n",
       "    </tr>\n",
       "    <tr>\n",
       "      <th>2</th>\n",
       "      <td>10476</td>\n",
       "      <td>Bachelor's Degree</td>\n",
       "      <td>Married</td>\n",
       "      <td>66</td>\n",
       "      <td>1</td>\n",
       "      <td>67267.0</td>\n",
       "      <td>251</td>\n",
       "      <td>United States</td>\n",
       "      <td>2014-05-13</td>\n",
       "      <td>0</td>\n",
       "      <td>...</td>\n",
       "      <td>2</td>\n",
       "      <td>5</td>\n",
       "      <td>2</td>\n",
       "      <td>0</td>\n",
       "      <td>0</td>\n",
       "      <td>0</td>\n",
       "      <td>0</td>\n",
       "      <td>0</td>\n",
       "      <td>0</td>\n",
       "      <td>0</td>\n",
       "    </tr>\n",
       "  </tbody>\n",
       "</table>\n",
       "<p>3 rows × 28 columns</p>\n",
       "</div>"
      ],
      "text/plain": [
       "      ID          EDUCATION MARITAL_STATUS  AGE  TOTAL_CHILDREN   INCOME  \\\n",
       "0   1826  Bachelor's Degree       Divorced   54               0  84835.0   \n",
       "1      1  Bachelor's Degree         Single   63               0  57091.0   \n",
       "2  10476  Bachelor's Degree        Married   66               1  67267.0   \n",
       "\n",
       "   TOTAL_SPENDING        COUNTRY DATE_ENROLLED  RECENCY  ...  \\\n",
       "0            1190          Spain    2014-06-16        0  ...   \n",
       "1             577         Canada    2014-06-15        0  ...   \n",
       "2             251  United States    2014-05-13        0  ...   \n",
       "\n",
       "   CATALOG_PURCHASE  STORE_PURCHASE  WEBVISIT  CMP1  CMP2  CMP3  CMP4  CMP5  \\\n",
       "0                 4               6         1     0     0     0     0     0   \n",
       "1                 3               7         5     0     1     0     0     0   \n",
       "2                 2               5         2     0     0     0     0     0   \n",
       "\n",
       "   RESPONSE  COMPLAIN  \n",
       "0         1         0  \n",
       "1         1         0  \n",
       "2         0         0  \n",
       "\n",
       "[3 rows x 28 columns]"
      ]
     },
     "execution_count": 30,
     "metadata": {},
     "output_type": "execute_result"
    }
   ],
   "source": [
    "# Mengganti nama kolom\n",
    "new_columns = {\n",
    "    'ID': 'ID',\n",
    "    'Education': 'EDUCATION',\n",
    "    'Marital_Status': 'MARITAL_STATUS',\n",
    "    'Income': 'INCOME',\n",
    "    'Dt_Customer': 'DATE_ENROLLED',\n",
    "    'Recency': 'RECENCY',\n",
    "    'MntWines': 'AMOUNT_WINES',\n",
    "    'MntFruits': 'AMOUNT_FRUITS',\n",
    "    'MntMeatProducts': 'AMOUNT_MEAT',\n",
    "    'MntFishProducts': 'AMOUNT_FISH',\n",
    "    'MntSweetProducts': 'AMOUNT_SWEET',\n",
    "    'MntGoldProds': 'AMOUNT_GOLD',\n",
    "    'NumDealsPurchases': 'DISC_PURCHASE',\n",
    "    'NumWebPurchases': 'WEB_PURCHASE',\n",
    "    'NumCatalogPurchases': 'CATALOG_PURCHASE',\n",
    "    'NumStorePurchases': 'STORE_PURCHASE',\n",
    "    'NumWebVisitsMonth': 'WEBVISIT',\n",
    "    'AcceptedCmp3': 'CMP3',\n",
    "    'AcceptedCmp4': 'CMP4',\n",
    "    'AcceptedCmp5': 'CMP5',\n",
    "    'AcceptedCmp1': 'CMP1',\n",
    "    'AcceptedCmp2': 'CMP2',\n",
    "    'Response': 'RESPONSE',\n",
    "    'Complain': 'COMPLAIN',\n",
    "    'Country': 'COUNTRY',\n",
    "    'Total_Children': 'TOTAL_CHILDREN',\n",
    "    'Age': 'AGE',\n",
    "    'Total_Spending': 'TOTAL_SPENDING'\n",
    "}\n",
    "\n",
    "# Mengganti nama kolom\n",
    "df_cleaned.rename(columns=new_columns, inplace=True)\n",
    "\n",
    "# Mengurutkan kolom\n",
    "desired_order = [\n",
    "    'ID', 'EDUCATION', 'MARITAL_STATUS', 'AGE', 'TOTAL_CHILDREN', 'INCOME', \n",
    "    'TOTAL_SPENDING', 'COUNTRY', 'DATE_ENROLLED', 'RECENCY', 'AMOUNT_WINES', \n",
    "    'AMOUNT_FRUITS', 'AMOUNT_MEAT', 'AMOUNT_FISH', 'AMOUNT_SWEET', 'AMOUNT_GOLD', \n",
    "    'DISC_PURCHASE', 'WEB_PURCHASE', 'CATALOG_PURCHASE', 'STORE_PURCHASE', \n",
    "    'WEBVISIT', 'CMP1', 'CMP2', 'CMP3', 'CMP4', 'CMP5', 'RESPONSE', 'COMPLAIN'\n",
    "]\n",
    "\n",
    "# Memastikan semua kolom ada sebelum menyusun ulang\n",
    "missing_columns = [col for col in desired_order if col not in df_cleaned.columns]\n",
    "if not missing_columns:\n",
    "    df_cleaned = df_cleaned[desired_order]\n",
    "else:\n",
    "    print(f\"Kolom yang hilang: {missing_columns}\")\n",
    "\n",
    "# Menampilkan beberapa baris pertama dari data yang sudah diperbarui dan disusun ulang\n",
    "df_cleaned.head(3)"
   ]
  },
  {
   "cell_type": "code",
   "execution_count": 31,
   "metadata": {},
   "outputs": [],
   "source": [
    "# Export file ke folder saat ini dan folder C:/tmp\n",
    "path = 'C:/tmp/marketing_data_clean.csv'\n",
    "df_cleaned.to_csv(path, index=False)\n",
    "df_cleaned.to_csv('marketing_data_clean.csv', index=False)"
   ]
  },
  {
   "cell_type": "markdown",
   "metadata": {},
   "source": [
    "sekarang data sudah bersih, siap dianalisis"
   ]
  },
  {
   "cell_type": "markdown",
   "metadata": {},
   "source": [
    "##### SQL"
   ]
  },
  {
   "cell_type": "markdown",
   "metadata": {},
   "source": [
    "```SQL\n",
    "\n",
    "-- TCL\n",
    "BEGIN;\n",
    "\n",
    "-- Buat tabel untuk menyimpan data\n",
    "CREATE TABLE marketing_data_clean (\n",
    "    ID INT PRIMARY KEY,\n",
    "    EDUCATION VARCHAR(50),\n",
    "    MARITAL_STATUS VARCHAR(50),\n",
    "    AGE INT,\n",
    "    TOTAL_CHILDREN INT,\n",
    "    INCOME FLOAT,\n",
    "    TOTAL_SPENDING FLOAT,\n",
    "    COUNTRY VARCHAR(50),\n",
    "    DATE_ENROLLED DATE,\n",
    "    RECENCY INT,\n",
    "    AMOUNT_WINES FLOAT,\n",
    "    AMOUNT_FRUITS FLOAT,\n",
    "    AMOUNT_MEAT FLOAT,\n",
    "    AMOUNT_FISH FLOAT,\n",
    "    AMOUNT_SWEET FLOAT,\n",
    "    AMOUNT_GOLD FLOAT,\n",
    "    DISC_PURCHASE INT,\n",
    "    WEB_PURCHASE INT,\n",
    "    CATALOG_PURCHASE INT,\n",
    "    STORE_PURCHASE INT,\n",
    "    WEBVISIT INT,\n",
    "    CMP1 INT,\n",
    "    CMP2 INT,\n",
    "    CMP3 INT,\n",
    "    CMP4 INT,\n",
    "    CMP5 INT,\n",
    "    RESPONSE INT,\n",
    "    COMPLAIN INT\n",
    ");\n",
    "\n",
    "-- Load data dari CSV ke tabel\n",
    "COPY marketing_data_clean (\n",
    "    ID, EDUCATION, MARITAL_STATUS, AGE, TOTAL_CHILDREN, INCOME, TOTAL_SPENDING,\n",
    "    COUNTRY, DATE_ENROLLED, RECENCY, AMOUNT_WINES, AMOUNT_FRUITS, AMOUNT_MEAT,\n",
    "    AMOUNT_FISH, AMOUNT_SWEET, AMOUNT_GOLD, DISC_PURCHASE, WEB_PURCHASE,\n",
    "    CATALOG_PURCHASE, STORE_PURCHASE, WEBVISIT, CMP1, CMP2, CMP3, CMP4, CMP5,\n",
    "    RESPONSE, COMPLAIN\n",
    ")\n",
    "FROM 'C:/tmp/marketing_data_clean.csv' \n",
    "DELIMITER ',' \n",
    "CSV HEADER\n",
    "NULL AS ''\n",
    "QUOTE '\"'\n",
    "ESCAPE '\\';\n",
    "\n",
    "-- Tampilkan data untuk verifikasi\n",
    "SELECT *\n",
    "FROM marketing_data_clean;\n",
    "\n",
    "COMMIT;\n",
    "\n",
    "```"
   ]
  },
  {
   "cell_type": "markdown",
   "metadata": {},
   "source": [
    "# Analisis dan Perhitungan"
   ]
  },
  {
   "cell_type": "code",
   "execution_count": 32,
   "metadata": {},
   "outputs": [],
   "source": [
    "# Import file dari folder C:/tmp\n",
    "data_analysis = pd.read_csv('C:/tmp/marketing_data_clean.csv')"
   ]
  },
  {
   "cell_type": "code",
   "execution_count": 33,
   "metadata": {},
   "outputs": [
    {
     "name": "stdout",
     "output_type": "stream",
     "text": [
      "<class 'pandas.core.frame.DataFrame'>\n",
      "RangeIndex: 2216 entries, 0 to 2215\n",
      "Data columns (total 28 columns):\n",
      " #   Column            Non-Null Count  Dtype  \n",
      "---  ------            --------------  -----  \n",
      " 0   ID                2216 non-null   int64  \n",
      " 1   EDUCATION         2216 non-null   object \n",
      " 2   MARITAL_STATUS    2216 non-null   object \n",
      " 3   AGE               2216 non-null   int64  \n",
      " 4   TOTAL_CHILDREN    2216 non-null   int64  \n",
      " 5   INCOME            2216 non-null   float64\n",
      " 6   TOTAL_SPENDING    2216 non-null   int64  \n",
      " 7   COUNTRY           2216 non-null   object \n",
      " 8   DATE_ENROLLED     2216 non-null   object \n",
      " 9   RECENCY           2216 non-null   int64  \n",
      " 10  AMOUNT_WINES      2216 non-null   int64  \n",
      " 11  AMOUNT_FRUITS     2216 non-null   int64  \n",
      " 12  AMOUNT_MEAT       2216 non-null   int64  \n",
      " 13  AMOUNT_FISH       2216 non-null   int64  \n",
      " 14  AMOUNT_SWEET      2216 non-null   int64  \n",
      " 15  AMOUNT_GOLD       2216 non-null   int64  \n",
      " 16  DISC_PURCHASE     2216 non-null   int64  \n",
      " 17  WEB_PURCHASE      2216 non-null   int64  \n",
      " 18  CATALOG_PURCHASE  2216 non-null   int64  \n",
      " 19  STORE_PURCHASE    2216 non-null   int64  \n",
      " 20  WEBVISIT          2216 non-null   int64  \n",
      " 21  CMP1              2216 non-null   int64  \n",
      " 22  CMP2              2216 non-null   int64  \n",
      " 23  CMP3              2216 non-null   int64  \n",
      " 24  CMP4              2216 non-null   int64  \n",
      " 25  CMP5              2216 non-null   int64  \n",
      " 26  RESPONSE          2216 non-null   int64  \n",
      " 27  COMPLAIN          2216 non-null   int64  \n",
      "dtypes: float64(1), int64(23), object(4)\n",
      "memory usage: 484.9+ KB\n"
     ]
    }
   ],
   "source": [
    "# Menampilkan informasi data (memastikan data sudah sesuai)\n",
    "data_analysis.info()"
   ]
  },
  {
   "cell_type": "code",
   "execution_count": 34,
   "metadata": {},
   "outputs": [
    {
     "data": {
      "text/html": [
       "<div>\n",
       "<style scoped>\n",
       "    .dataframe tbody tr th:only-of-type {\n",
       "        vertical-align: middle;\n",
       "    }\n",
       "\n",
       "    .dataframe tbody tr th {\n",
       "        vertical-align: top;\n",
       "    }\n",
       "\n",
       "    .dataframe thead th {\n",
       "        text-align: right;\n",
       "    }\n",
       "</style>\n",
       "<table border=\"1\" class=\"dataframe\">\n",
       "  <thead>\n",
       "    <tr style=\"text-align: right;\">\n",
       "      <th></th>\n",
       "      <th>ID</th>\n",
       "      <th>EDUCATION</th>\n",
       "      <th>MARITAL_STATUS</th>\n",
       "      <th>AGE</th>\n",
       "      <th>TOTAL_CHILDREN</th>\n",
       "      <th>INCOME</th>\n",
       "      <th>TOTAL_SPENDING</th>\n",
       "      <th>COUNTRY</th>\n",
       "      <th>DATE_ENROLLED</th>\n",
       "      <th>RECENCY</th>\n",
       "      <th>...</th>\n",
       "      <th>CATALOG_PURCHASE</th>\n",
       "      <th>STORE_PURCHASE</th>\n",
       "      <th>WEBVISIT</th>\n",
       "      <th>CMP1</th>\n",
       "      <th>CMP2</th>\n",
       "      <th>CMP3</th>\n",
       "      <th>CMP4</th>\n",
       "      <th>CMP5</th>\n",
       "      <th>RESPONSE</th>\n",
       "      <th>COMPLAIN</th>\n",
       "    </tr>\n",
       "  </thead>\n",
       "  <tbody>\n",
       "    <tr>\n",
       "      <th>0</th>\n",
       "      <td>1826</td>\n",
       "      <td>Bachelor's Degree</td>\n",
       "      <td>Divorced</td>\n",
       "      <td>54</td>\n",
       "      <td>0</td>\n",
       "      <td>84835.0</td>\n",
       "      <td>1190</td>\n",
       "      <td>Spain</td>\n",
       "      <td>2014-06-16</td>\n",
       "      <td>0</td>\n",
       "      <td>...</td>\n",
       "      <td>4</td>\n",
       "      <td>6</td>\n",
       "      <td>1</td>\n",
       "      <td>0</td>\n",
       "      <td>0</td>\n",
       "      <td>0</td>\n",
       "      <td>0</td>\n",
       "      <td>0</td>\n",
       "      <td>1</td>\n",
       "      <td>0</td>\n",
       "    </tr>\n",
       "    <tr>\n",
       "      <th>1</th>\n",
       "      <td>1</td>\n",
       "      <td>Bachelor's Degree</td>\n",
       "      <td>Single</td>\n",
       "      <td>63</td>\n",
       "      <td>0</td>\n",
       "      <td>57091.0</td>\n",
       "      <td>577</td>\n",
       "      <td>Canada</td>\n",
       "      <td>2014-06-15</td>\n",
       "      <td>0</td>\n",
       "      <td>...</td>\n",
       "      <td>3</td>\n",
       "      <td>7</td>\n",
       "      <td>5</td>\n",
       "      <td>0</td>\n",
       "      <td>1</td>\n",
       "      <td>0</td>\n",
       "      <td>0</td>\n",
       "      <td>0</td>\n",
       "      <td>1</td>\n",
       "      <td>0</td>\n",
       "    </tr>\n",
       "    <tr>\n",
       "      <th>2</th>\n",
       "      <td>10476</td>\n",
       "      <td>Bachelor's Degree</td>\n",
       "      <td>Married</td>\n",
       "      <td>66</td>\n",
       "      <td>1</td>\n",
       "      <td>67267.0</td>\n",
       "      <td>251</td>\n",
       "      <td>United States</td>\n",
       "      <td>2014-05-13</td>\n",
       "      <td>0</td>\n",
       "      <td>...</td>\n",
       "      <td>2</td>\n",
       "      <td>5</td>\n",
       "      <td>2</td>\n",
       "      <td>0</td>\n",
       "      <td>0</td>\n",
       "      <td>0</td>\n",
       "      <td>0</td>\n",
       "      <td>0</td>\n",
       "      <td>0</td>\n",
       "      <td>0</td>\n",
       "    </tr>\n",
       "  </tbody>\n",
       "</table>\n",
       "<p>3 rows × 28 columns</p>\n",
       "</div>"
      ],
      "text/plain": [
       "      ID          EDUCATION MARITAL_STATUS  AGE  TOTAL_CHILDREN   INCOME  \\\n",
       "0   1826  Bachelor's Degree       Divorced   54               0  84835.0   \n",
       "1      1  Bachelor's Degree         Single   63               0  57091.0   \n",
       "2  10476  Bachelor's Degree        Married   66               1  67267.0   \n",
       "\n",
       "   TOTAL_SPENDING        COUNTRY DATE_ENROLLED  RECENCY  ...  \\\n",
       "0            1190          Spain    2014-06-16        0  ...   \n",
       "1             577         Canada    2014-06-15        0  ...   \n",
       "2             251  United States    2014-05-13        0  ...   \n",
       "\n",
       "   CATALOG_PURCHASE  STORE_PURCHASE  WEBVISIT  CMP1  CMP2  CMP3  CMP4  CMP5  \\\n",
       "0                 4               6         1     0     0     0     0     0   \n",
       "1                 3               7         5     0     1     0     0     0   \n",
       "2                 2               5         2     0     0     0     0     0   \n",
       "\n",
       "   RESPONSE  COMPLAIN  \n",
       "0         1         0  \n",
       "1         1         0  \n",
       "2         0         0  \n",
       "\n",
       "[3 rows x 28 columns]"
      ]
     },
     "execution_count": 34,
     "metadata": {},
     "output_type": "execute_result"
    }
   ],
   "source": [
    "# Menampilkan sekilas info data\n",
    "data_analysis.head(3)"
   ]
  },
  {
   "cell_type": "code",
   "execution_count": 35,
   "metadata": {},
   "outputs": [
    {
     "data": {
      "text/html": [
       "<div>\n",
       "<style scoped>\n",
       "    .dataframe tbody tr th:only-of-type {\n",
       "        vertical-align: middle;\n",
       "    }\n",
       "\n",
       "    .dataframe tbody tr th {\n",
       "        vertical-align: top;\n",
       "    }\n",
       "\n",
       "    .dataframe thead th {\n",
       "        text-align: right;\n",
       "    }\n",
       "</style>\n",
       "<table border=\"1\" class=\"dataframe\">\n",
       "  <thead>\n",
       "    <tr style=\"text-align: right;\">\n",
       "      <th></th>\n",
       "      <th>AGE</th>\n",
       "      <th>INCOME</th>\n",
       "      <th>TOTAL_CHILDREN</th>\n",
       "      <th>TOTAL_SPENDING</th>\n",
       "      <th>RECENCY</th>\n",
       "      <th>AMOUNT_WINES</th>\n",
       "      <th>AMOUNT_FRUITS</th>\n",
       "      <th>AMOUNT_MEAT</th>\n",
       "      <th>AMOUNT_FISH</th>\n",
       "      <th>AMOUNT_SWEET</th>\n",
       "      <th>AMOUNT_GOLD</th>\n",
       "      <th>DISC_PURCHASE</th>\n",
       "      <th>WEB_PURCHASE</th>\n",
       "      <th>CATALOG_PURCHASE</th>\n",
       "      <th>STORE_PURCHASE</th>\n",
       "      <th>WEBVISIT</th>\n",
       "    </tr>\n",
       "  </thead>\n",
       "  <tbody>\n",
       "    <tr>\n",
       "      <th>count</th>\n",
       "      <td>2216.000000</td>\n",
       "      <td>2216.000000</td>\n",
       "      <td>2216.000000</td>\n",
       "      <td>2216.000000</td>\n",
       "      <td>2216.000000</td>\n",
       "      <td>2216.000000</td>\n",
       "      <td>2216.000000</td>\n",
       "      <td>2216.000000</td>\n",
       "      <td>2216.000000</td>\n",
       "      <td>2216.000000</td>\n",
       "      <td>2216.000000</td>\n",
       "      <td>2216.000000</td>\n",
       "      <td>2216.000000</td>\n",
       "      <td>2216.000000</td>\n",
       "      <td>2216.000000</td>\n",
       "      <td>2216.000000</td>\n",
       "    </tr>\n",
       "    <tr>\n",
       "      <th>mean</th>\n",
       "      <td>55.179603</td>\n",
       "      <td>52247.251354</td>\n",
       "      <td>0.947202</td>\n",
       "      <td>607.075361</td>\n",
       "      <td>49.012635</td>\n",
       "      <td>305.091606</td>\n",
       "      <td>26.356047</td>\n",
       "      <td>166.995939</td>\n",
       "      <td>37.637635</td>\n",
       "      <td>27.028881</td>\n",
       "      <td>43.965253</td>\n",
       "      <td>2.323556</td>\n",
       "      <td>4.085289</td>\n",
       "      <td>2.671029</td>\n",
       "      <td>5.800993</td>\n",
       "      <td>5.319043</td>\n",
       "    </tr>\n",
       "    <tr>\n",
       "      <th>std</th>\n",
       "      <td>11.985554</td>\n",
       "      <td>25173.076661</td>\n",
       "      <td>0.749062</td>\n",
       "      <td>602.900476</td>\n",
       "      <td>28.948352</td>\n",
       "      <td>337.327920</td>\n",
       "      <td>39.793917</td>\n",
       "      <td>224.283273</td>\n",
       "      <td>54.752082</td>\n",
       "      <td>41.072046</td>\n",
       "      <td>51.815414</td>\n",
       "      <td>1.923716</td>\n",
       "      <td>2.740951</td>\n",
       "      <td>2.926734</td>\n",
       "      <td>3.250785</td>\n",
       "      <td>2.425359</td>\n",
       "    </tr>\n",
       "    <tr>\n",
       "      <th>min</th>\n",
       "      <td>28.000000</td>\n",
       "      <td>1730.000000</td>\n",
       "      <td>0.000000</td>\n",
       "      <td>5.000000</td>\n",
       "      <td>0.000000</td>\n",
       "      <td>0.000000</td>\n",
       "      <td>0.000000</td>\n",
       "      <td>0.000000</td>\n",
       "      <td>0.000000</td>\n",
       "      <td>0.000000</td>\n",
       "      <td>0.000000</td>\n",
       "      <td>0.000000</td>\n",
       "      <td>0.000000</td>\n",
       "      <td>0.000000</td>\n",
       "      <td>0.000000</td>\n",
       "      <td>0.000000</td>\n",
       "    </tr>\n",
       "    <tr>\n",
       "      <th>25%</th>\n",
       "      <td>47.000000</td>\n",
       "      <td>35303.000000</td>\n",
       "      <td>0.000000</td>\n",
       "      <td>69.000000</td>\n",
       "      <td>24.000000</td>\n",
       "      <td>24.000000</td>\n",
       "      <td>2.000000</td>\n",
       "      <td>16.000000</td>\n",
       "      <td>3.000000</td>\n",
       "      <td>1.000000</td>\n",
       "      <td>9.000000</td>\n",
       "      <td>1.000000</td>\n",
       "      <td>2.000000</td>\n",
       "      <td>0.000000</td>\n",
       "      <td>3.000000</td>\n",
       "      <td>3.000000</td>\n",
       "    </tr>\n",
       "    <tr>\n",
       "      <th>50%</th>\n",
       "      <td>54.000000</td>\n",
       "      <td>51381.500000</td>\n",
       "      <td>1.000000</td>\n",
       "      <td>396.500000</td>\n",
       "      <td>49.000000</td>\n",
       "      <td>174.500000</td>\n",
       "      <td>8.000000</td>\n",
       "      <td>68.000000</td>\n",
       "      <td>12.000000</td>\n",
       "      <td>8.000000</td>\n",
       "      <td>24.500000</td>\n",
       "      <td>2.000000</td>\n",
       "      <td>4.000000</td>\n",
       "      <td>2.000000</td>\n",
       "      <td>5.000000</td>\n",
       "      <td>6.000000</td>\n",
       "    </tr>\n",
       "    <tr>\n",
       "      <th>75%</th>\n",
       "      <td>65.000000</td>\n",
       "      <td>68522.000000</td>\n",
       "      <td>1.000000</td>\n",
       "      <td>1048.000000</td>\n",
       "      <td>74.000000</td>\n",
       "      <td>505.000000</td>\n",
       "      <td>33.000000</td>\n",
       "      <td>232.250000</td>\n",
       "      <td>50.000000</td>\n",
       "      <td>33.000000</td>\n",
       "      <td>56.000000</td>\n",
       "      <td>3.000000</td>\n",
       "      <td>6.000000</td>\n",
       "      <td>4.000000</td>\n",
       "      <td>8.000000</td>\n",
       "      <td>7.000000</td>\n",
       "    </tr>\n",
       "    <tr>\n",
       "      <th>max</th>\n",
       "      <td>131.000000</td>\n",
       "      <td>666666.000000</td>\n",
       "      <td>3.000000</td>\n",
       "      <td>2525.000000</td>\n",
       "      <td>99.000000</td>\n",
       "      <td>1493.000000</td>\n",
       "      <td>199.000000</td>\n",
       "      <td>1725.000000</td>\n",
       "      <td>259.000000</td>\n",
       "      <td>262.000000</td>\n",
       "      <td>321.000000</td>\n",
       "      <td>15.000000</td>\n",
       "      <td>27.000000</td>\n",
       "      <td>28.000000</td>\n",
       "      <td>13.000000</td>\n",
       "      <td>20.000000</td>\n",
       "    </tr>\n",
       "  </tbody>\n",
       "</table>\n",
       "</div>"
      ],
      "text/plain": [
       "               AGE         INCOME  TOTAL_CHILDREN  TOTAL_SPENDING  \\\n",
       "count  2216.000000    2216.000000     2216.000000     2216.000000   \n",
       "mean     55.179603   52247.251354        0.947202      607.075361   \n",
       "std      11.985554   25173.076661        0.749062      602.900476   \n",
       "min      28.000000    1730.000000        0.000000        5.000000   \n",
       "25%      47.000000   35303.000000        0.000000       69.000000   \n",
       "50%      54.000000   51381.500000        1.000000      396.500000   \n",
       "75%      65.000000   68522.000000        1.000000     1048.000000   \n",
       "max     131.000000  666666.000000        3.000000     2525.000000   \n",
       "\n",
       "           RECENCY  AMOUNT_WINES  AMOUNT_FRUITS  AMOUNT_MEAT  AMOUNT_FISH  \\\n",
       "count  2216.000000   2216.000000    2216.000000  2216.000000  2216.000000   \n",
       "mean     49.012635    305.091606      26.356047   166.995939    37.637635   \n",
       "std      28.948352    337.327920      39.793917   224.283273    54.752082   \n",
       "min       0.000000      0.000000       0.000000     0.000000     0.000000   \n",
       "25%      24.000000     24.000000       2.000000    16.000000     3.000000   \n",
       "50%      49.000000    174.500000       8.000000    68.000000    12.000000   \n",
       "75%      74.000000    505.000000      33.000000   232.250000    50.000000   \n",
       "max      99.000000   1493.000000     199.000000  1725.000000   259.000000   \n",
       "\n",
       "       AMOUNT_SWEET  AMOUNT_GOLD  DISC_PURCHASE  WEB_PURCHASE  \\\n",
       "count   2216.000000  2216.000000    2216.000000   2216.000000   \n",
       "mean      27.028881    43.965253       2.323556      4.085289   \n",
       "std       41.072046    51.815414       1.923716      2.740951   \n",
       "min        0.000000     0.000000       0.000000      0.000000   \n",
       "25%        1.000000     9.000000       1.000000      2.000000   \n",
       "50%        8.000000    24.500000       2.000000      4.000000   \n",
       "75%       33.000000    56.000000       3.000000      6.000000   \n",
       "max      262.000000   321.000000      15.000000     27.000000   \n",
       "\n",
       "       CATALOG_PURCHASE  STORE_PURCHASE     WEBVISIT  \n",
       "count       2216.000000     2216.000000  2216.000000  \n",
       "mean           2.671029        5.800993     5.319043  \n",
       "std            2.926734        3.250785     2.425359  \n",
       "min            0.000000        0.000000     0.000000  \n",
       "25%            0.000000        3.000000     3.000000  \n",
       "50%            2.000000        5.000000     6.000000  \n",
       "75%            4.000000        8.000000     7.000000  \n",
       "max           28.000000       13.000000    20.000000  "
      ]
     },
     "execution_count": 35,
     "metadata": {},
     "output_type": "execute_result"
    }
   ],
   "source": [
    "# Menampilkan deskriptif statistik pada kolom-kolom numerik\n",
    "selected_columns = [\n",
    "    'AGE', 'INCOME', 'TOTAL_CHILDREN', 'TOTAL_SPENDING', 'RECENCY', \n",
    "    'AMOUNT_WINES', 'AMOUNT_FRUITS', 'AMOUNT_MEAT', 'AMOUNT_FISH', \n",
    "    'AMOUNT_SWEET', 'AMOUNT_GOLD', 'DISC_PURCHASE', 'WEB_PURCHASE', \n",
    "    'CATALOG_PURCHASE', 'STORE_PURCHASE', 'WEBVISIT'\n",
    "]\n",
    "descriptive_stats = data_analysis[selected_columns].describe()\n",
    "descriptive_stats"
   ]
  },
  {
   "cell_type": "markdown",
   "metadata": {},
   "source": [
    "## Bagaimana Pola Pembelian Berdasarkan Usia Pelanggan?\n"
   ]
  },
  {
   "cell_type": "code",
   "execution_count": 36,
   "metadata": {},
   "outputs": [
    {
     "name": "stderr",
     "output_type": "stream",
     "text": [
      "C:\\Users\\User\\AppData\\Roaming\\Python\\Python310\\site-packages\\seaborn\\categorical.py:641: FutureWarning: The default of observed=False is deprecated and will be changed to True in a future version of pandas. Pass observed=False to retain current behavior or observed=True to adopt the future default and silence this warning.\n",
      "  grouped_vals = vals.groupby(grouper)\n"
     ]
    },
    {
     "data": {
      "image/png": "[encoded data removed]",
      "text/plain": [
       "<Figure size 1000x600 with 1 Axes>"
      ]
     },
     "metadata": {},
     "output_type": "display_data"
    }
   ],
   "source": [
    "# Mengelompokkan umur pelanggan\n",
    "bins = [18, 30, 40, 50, 60, 70, 80, 90, 100]\n",
    "labels = ['18-29', '30-39', '40-49', '50-59', '60-69', '70-79', '80-89', '90-100']\n",
    "data_analysis['AGE_GROUP'] = pd.cut(data_analysis['AGE'], bins=bins, labels=labels, right=False, include_lowest=True)\n",
    "\n",
    "# Visualisasi pembelian berdasarkan kelompok usia\n",
    "age_group_sales = data_analysis.groupby('AGE_GROUP', observed=True)['TOTAL_SPENDING'].sum().reset_index()\n",
    "\n",
    "plt.figure(figsize=(10, 6))\n",
    "sns.barplot(x='AGE_GROUP', y='TOTAL_SPENDING', data=age_group_sales, palette='viridis')\n",
    "plt.title('Total Spending by Age Group')\n",
    "plt.xlabel('Age Group')\n",
    "plt.ylabel('Total Spending')\n",
    "plt.xticks(rotation=45)\n",
    "plt.show()\n"
   ]
  },
  {
   "cell_type": "markdown",
   "metadata": {},
   "source": [
    "**Insight:**\n",
    "Dari visualisasi di atas, dapat kita lihat bahwa kelompok usia dengan total pengeluaran tertinggi adalah pelanggan yang berusia antara 50-59 tahun, diikuti oleh kelompok usia 40-49 tahun dan 60-69 tahun.\n",
    "\n",
    "---\n",
    "\n",
    "- **Kelompok Usia 50-59 Tahun**: Kelompok ini memiliki total pengeluaran tertinggi. Ini menunjukkan bahwa pelanggan dalam rentang usia ini mungkin memiliki pendapatan yang stabil dan cenderung membelanjakan lebih banyak. Mereka mungkin sudah mapan secara finansial dan berinvestasi lebih banyak dalam kebutuhan rumah tangga dan gaya hidup.\n",
    "\n",
    "- **Kelompok Usia 40-49 Tahun dan 60-69 Tahun**: Kelompok usia ini juga menunjukkan total pengeluaran yang tinggi, meskipun sedikit lebih rendah dibandingkan kelompok usia 50-59 tahun. Ini menunjukkan bahwa strategi marketing juga perlu difokuskan pada kelompok usia ini.\n",
    "\n",
    "- **Kelompok Usia 30-39 Tahun dan 70-79 Tahun**: Meskipun tidak setinggi kelompok usia di atas, kelompok ini masih menunjukkan total pengeluaran yang signifikan. campaign marketing dapat disesuaikan untuk menarik minat kelompok usia ini dengan penawaran produk yang sesuai dengan kebutuhan mereka.\n",
    "\n",
    "- **Kelompok Usia 18-29 Tahun dan 80-89 Tahun**: Kelompok ini memiliki total pengeluaran yang jauh lebih rendah dibandingkan kelompok usia lainnya. Ini mungkin disebabkan oleh pendapatan yang lebih rendah atau prioritas pengeluaran yang berbeda.\n",
    "\n",
    "**Masukan**:\n",
    "1. **Fokus pada Kelompok Usia 50-59 Tahun**: Mengembangkan campaign marketing yang khusus menargetkan kelompok usia ini dengan penawaran produk premium dan layanan eksklusif.\n",
    "2. **Penawaran untuk Kelompok Usia 40-49 Tahun dan 60-69 Tahun**: Menyesuaikan campaign marketing untuk menarik kelompok usia ini dengan menyoroti produk yang sesuai dengan kebutuhan mereka.\n",
    "3. **Strategi untuk Kelompok Usia Muda dan Tua**: Mengidentifikasi cara untuk meningkatkan daya tarik produk kepada kelompok usia 18-29 tahun dan 80-89 tahun, mungkin dengan penawaran yang lebih terjangkau atau produk yang lebih sesuai dengan gaya hidup mereka.\n",
    "4. **Segmentasi Pasar**: Menggunakan data ini untuk segmentasi pasar yang lebih efektif dan menyusun pesan marketing yang sesuai untuk setiap kelompok usia.\n",
    "\n"
   ]
  },
  {
   "cell_type": "markdown",
   "metadata": {},
   "source": [
    "## Apakah Ada Hubungan Antara Pendapatan Pelanggan dan Produk yang Dibeli?"
   ]
  },
  {
   "cell_type": "code",
   "execution_count": 37,
   "metadata": {},
   "outputs": [
    {
     "data": {
      "image/png": "[encoded data removed]",
      "text/plain": [
       "<Figure size 1000x600 with 1 Axes>"
      ]
     },
     "metadata": {},
     "output_type": "display_data"
    }
   ],
   "source": [
    "# Visualisasi hubungan antara pendapatan dan kategori produk yang dibeli\n",
    "product_columns = ['AMOUNT_WINES', 'AMOUNT_FRUITS', 'AMOUNT_MEAT', 'AMOUNT_FISH', 'AMOUNT_SWEET', 'AMOUNT_GOLD']\n",
    "data_analysis['TOTAL_PRODUCT_SPENDING'] = data_analysis[product_columns].sum(axis=1)\n",
    "\n",
    "# Plotting\n",
    "plt.figure(figsize=(10, 6))\n",
    "sns.scatterplot(x='INCOME', y='TOTAL_PRODUCT_SPENDING', data=data_analysis, color='darkblue')\n",
    "plt.title('Income vs. Total Product Spending')\n",
    "plt.xlabel('Income')\n",
    "plt.ylabel('Total Product Spending')\n",
    "plt.show()\n"
   ]
  },
  {
   "cell_type": "markdown",
   "metadata": {},
   "source": [
    "**Insight:**\n",
    "Dari scatter plot di atas, dapat kita lihat bahwa ada kecenderungan peningkatan total pengeluaran untuk produk seiring dengan peningkatan pendapatan pelanggan. Namun, distribusi data menunjukkan bahwa sebagian besar pelanggan memiliki pendapatan di bawah 100,000 dengan total pengeluaran produk yang bervariasi.\n",
    "\n",
    "---\n",
    "\n",
    "- **Pendapatan di Bawah 100,000**: Sebagian besar pelanggan berada dalam rentang pendapatan ini. Total pengeluaran untuk produk pada rentang pendapatan ini cukup bervariasi, menunjukkan bahwa pendapatan mungkin mempengaruhi pengeluaran mereka.\n",
    "\n",
    "- **Pendapatan di Atas 100,000**: Pelanggan dengan pendapatan di atas 100,000 menunjukkan peningkatan total pengeluaran produk, meskipun jumlah pelanggan dalam kategori ini relatif lebih sedikit. Ini menunjukkan bahwa pelanggan dengan pendapatan lebih tinggi cenderung mengeluarkan lebih banyak uang.\n",
    "\n",
    "- **Outliers**: Terdapat beberapa outliers dengan pendapatan sangat tinggi dan total pengeluaran produk yang tidak proporsional. Outliers ini perlu dianalisis lebih lanjut untuk memahami perilaku pembelian mereka.\n",
    "\n",
    "**Masukan**:\n",
    "1. **Segmentasi Berdasarkan Pendapatan**: Mengembangkan strategi marketing yang berbeda untuk segmen pendapatan yang berbeda. Untuk pelanggan dengan pendapatan tinggi, fokus pada produk premium dan layanan eksklusif.\n",
    "2. **Penawaran Produk Beragam**: Menawarkan berbagai produk dengan harga berbeda untuk memenuhi kebutuhan pelanggan dalam berbagai rentang pendapatan.\n",
    "3. **Analisis Lanjutan**: Melakukan analisis lebih lanjut untuk outliers untuk memahami perilaku mereka dan menyesuaikan strategi marketing yang sesuai.\n",
    "4. **Targeted Marketing Campaign**: Menggunakan data pendapatan untuk membuat campaign marketing yang lebih bertarget dan relevan, yang dapat meningkatkan efektivitas dan efisiensi campaign marketing.\n"
   ]
  },
  {
   "cell_type": "markdown",
   "metadata": {},
   "source": [
    "## Bagaimana Pengaruh Diskon Terhadap Jumlah Pembelian?"
   ]
  },
  {
   "cell_type": "code",
   "execution_count": 38,
   "metadata": {},
   "outputs": [
    {
     "data": {
      "image/png": "[encoded data removed]",
      "text/plain": [
       "<Figure size 1000x600 with 1 Axes>"
      ]
     },
     "metadata": {},
     "output_type": "display_data"
    }
   ],
   "source": [
    "# Visualisasi pengaruh diskon terhadap jumlah pembelian\n",
    "plt.figure(figsize=(10, 6))\n",
    "sns.scatterplot(x='DISC_PURCHASE', y='TOTAL_SPENDING', data=data_analysis, color='darkblue')\n",
    "plt.title('Impact of Discounts on Total Spending')\n",
    "plt.xlabel('Number of Discounted Purchases')\n",
    "plt.ylabel('Total Spending')\n",
    "plt.show()\n"
   ]
  },
  {
   "cell_type": "markdown",
   "metadata": {},
   "source": [
    "**Insight:**\n",
    "- **Jumlah Pembelian Diskon dan Pengeluaran**: Tidak ada hubungan yang jelas antara jumlah pembelian dengan diskon dan total pengeluaran. Pelanggan yang melakukan banyak pembelian dengan diskon tidak selalu menghabiskan lebih banyak uang secara total.\n",
    "- **Strategi Diskon**: Strategi diskon saat ini mungkin tidak cukup mendorong pengeluaran total yang lebih tinggi. Perusahaan mungkin perlu mengevaluasi kembali bagaimana diskon diberikan dan mencari cara untuk membuatnya lebih efektif dalam mendorong peningkatan pengeluaran.\n",
    "\n",
    "---\n",
    "\n",
    "**Observasi:**\n",
    "1. **Distribusi Pembelian dengan Diskon**:\n",
    "   - Sebagian besar pelanggan melakukan antara 0 hingga 5 pembelian dengan diskon.\n",
    "   - Ada beberapa pelanggan yang melakukan lebih dari 10 pembelian dengan diskon, tetapi jumlah ini jauh lebih sedikit.\n",
    "\n",
    "2. **Pengeluaran Total**:\n",
    "   - Pengeluaran total bervariasi di seluruh jumlah pembelian dengan diskon.\n",
    "   - Tidak ada tren yang jelas bahwa lebih banyak pembelian dengan diskon selalu menghasilkan total pengeluaran yang lebih tinggi.\n",
    "\n",
    "3. **Pelanggan dengan Pengeluaran Tinggi**:\n",
    "   - Beberapa pelanggan yang melakukan 0 hingga 5 pembelian dengan diskon memiliki pengeluaran total yang sangat tinggi (di atas 2000).\n",
    "\n",
    "**Masukan**:\n",
    "1. **Evaluasi Strategi Diskon**: Mengkaji ulang strategi diskon yang ada untuk memastikan bahwa diskon yang diberikan benar-benar mendorong peningkatan total pengeluaran.\n",
    "2. **Penawaran Bundel**: Mencoba penawaran bundel atau diskon yang hanya berlaku jika pelanggan membeli produk dalam jumlah tertentu, untuk mendorong peningkatan pengeluaran total.\n",
    "3. **Segmentasi Pelanggan**: Menyesuaikan strategi diskon berdasarkan segmentasi pelanggan. Misalnya, menawarkan diskon khusus untuk pelanggan dengan pengeluaran tinggi untuk mendorong loyalitas dan pengeluaran yang lebih besar.\n"
   ]
  },
  {
   "cell_type": "markdown",
   "metadata": {},
   "source": [
    "## Apakah Ada Perbedaan Signifikan dalam Total Pengeluaran Berdasarkan Tingkat Pendidikan Pelanggan?"
   ]
  },
  {
   "cell_type": "code",
   "execution_count": 39,
   "metadata": {},
   "outputs": [
    {
     "name": "stdout",
     "output_type": "stream",
     "text": [
      "Menolak Hipotesis Nol (H0): Ada perbedaan signifikan dalam total pengeluaran berdasarkan tingkat pendidikan.\n"
     ]
    }
   ],
   "source": [
    "# Mengelompokkan data berdasarkan tingkat pendidikan\n",
    "edu_levels = data_analysis['EDUCATION'].unique()\n",
    "groups = [data_analysis[data_analysis['EDUCATION'] == level]['TOTAL_SPENDING'] for level in edu_levels]\n",
    "\n",
    "# Melakukan uji ANOVA\n",
    "f_stat, p_value = f_oneway(*groups)\n",
    "\n",
    "# Menampilkan hasil\n",
    "f_stat, p_value\n",
    "\n",
    "# Hipotesis\n",
    "\"\"\"\n",
    "Hipotesis Nol (H0): Tidak ada perbedaan signifikan dalam total pengeluaran (TOTAL_SPENDING) berdasarkan tingkat pendidikan (EDUCATION) pelanggan.\n",
    "Hipotesis Alternatif (H1): Ada perbedaan signifikan dalam total pengeluaran (TOTAL_SPENDING) berdasarkan tingkat pendidikan (EDUCATION) pelanggan.\n",
    "\"\"\"\n",
    "\n",
    "# Memeriksa hasil\n",
    "if p_value < 0.05:\n",
    "    print(\"Menolak Hipotesis Nol (H0): Ada perbedaan signifikan dalam total pengeluaran berdasarkan tingkat pendidikan.\")\n",
    "else:\n",
    "    print(\"Gagal Menolak Hipotesis Nol (H0): Tidak ada perbedaan signifikan dalam total pengeluaran berdasarkan tingkat pendidikan.\")\n"
   ]
  },
  {
   "cell_type": "markdown",
   "metadata": {},
   "source": [
    "**Hasil Uji ANOVA:**\n",
    "- Nilai F-statistic: 17.13530023338521\n",
    "- Nilai p-value: 5.3198013144921505e-11\n",
    "- Kesimpulan: Menolak Hipotesis Nol (H0). Ada perbedaan signifikan dalam total pengeluaran berdasarkan tingkat pendidikan pelanggan."
   ]
  },
  {
   "cell_type": "code",
   "execution_count": 40,
   "metadata": {},
   "outputs": [
    {
     "data": {
      "image/png": "[encoded data removed]",
      "text/plain": [
       "<Figure size 1000x600 with 1 Axes>"
      ]
     },
     "metadata": {},
     "output_type": "display_data"
    }
   ],
   "source": [
    "# Visualisasi boxplot\n",
    "plt.figure(figsize=(10, 6))\n",
    "sns.boxplot(x='EDUCATION', y='TOTAL_SPENDING', data=data_analysis, palette='viridis')\n",
    "plt.title('Total Spending by Education Level')\n",
    "plt.xlabel('Education Level')\n",
    "plt.ylabel('Total Spending')\n",
    "plt.xticks(rotation=45)\n",
    "plt.show()"
   ]
  },
  {
   "cell_type": "markdown",
   "metadata": {},
   "source": [
    "**Insight:**\n",
    "- Pelanggan dengan pendidikan dasar memiliki total pengeluaran yang jauh lebih rendah dibandingkan dengan pelanggan dengan tingkat pendidikan yang lebih tinggi.\n",
    "- Pelanggan dengan gelar sarjana, doktor, dan magister memiliki pola pengeluaran yang lebih tinggi dan lebih bervariasi, menunjukkan bahwa mereka mungkin memiliki daya beli yang lebih tinggi.\n",
    "- Pendidikan dasar menunjukkan pengeluaran yang sangat rendah dan konsisten, yang mungkin mencerminkan keterbatasan finansial atau preferensi belanja yang lebih hemat.\n",
    "\n",
    "--- \n",
    "\n",
    "**Hasil Boxplot:**\n",
    "- **Bachelor's Degree**: Kelompok ini menunjukkan variasi yang luas dalam total pengeluaran, dengan median yang cukup tinggi. Ini menunjukkan bahwa pelanggan dengan gelar sarjana cenderung memiliki pengeluaran yang signifikan.\n",
    "- **Doctorate Degree**: Kelompok ini juga menunjukkan variasi yang luas dalam total pengeluaran, mirip dengan kelompok Bachelor's Degree.\n",
    "- **Master's Degree**: Kelompok ini memiliki median total pengeluaran yang sedikit lebih rendah dibandingkan dengan kelompok Bachelor's dan Doctorate Degree, tetapi masih menunjukkan variasi yang luas.\n",
    "- **Basic Education**: Kelompok ini memiliki total pengeluaran yang paling rendah dengan sedikit variasi, menunjukkan bahwa pelanggan dengan pendidikan dasar cenderung mengeluarkan uang lebih sedikit.\n",
    "\n",
    "**Masukan**:\n",
    "1. **Segmentasi Berdasarkan Pendidikan**: Mengembangkan strategi marketing yang disesuaikan untuk kelompok pendidikan yang berbeda.\n",
    "   - **Bachelor's dan Doctorate Degree**: Menawarkan produk premium dan layanan eksklusif.\n",
    "   - **Master's Degree**: Menyesuaikan penawaran dengan kebutuhan spesifik kelompok ini, mungkin dengan produk yang lebih berfokus pada kualitas dan kenyamanan.\n",
    "   - **Basic Education**: Menawarkan produk yang lebih terjangkau dan promosi diskon untuk menarik pelanggan dalam kelompok ini.\n",
    "\n",
    "2. **Penawaran Khusus**: Menawarkan produk atau promosi yang sesuai dengan preferensi masing-masing kelompok pendidikan.\n",
    "3. **Analisis Lanjutan**: Melakukan analisis lebih lanjut untuk memahami lebih dalam bagaimana setiap kelompok pendidikan membelanjakan uang mereka dan menyesuaikan strategi marketing yang lebih tepat.\n"
   ]
  },
  {
   "cell_type": "markdown",
   "metadata": {},
   "source": [
    "## Apakah pelanggan yang lebih tua cenderung tidak ahli dalam teknologi dan mungkin lebih suka berbelanja di toko fisik?"
   ]
  },
  {
   "cell_type": "code",
   "execution_count": 41,
   "metadata": {},
   "outputs": [
    {
     "name": "stderr",
     "output_type": "stream",
     "text": [
      "C:\\Users\\User\\AppData\\Local\\Temp\\ipykernel_22656\\2636196781.py:2: FutureWarning: The default of observed=False is deprecated and will be changed to True in a future version of pandas. Pass observed=False to retain current behavior or observed=True to adopt the future default and silence this warning.\n",
      "  avg_web_purchases_by_age_group = data_analysis.groupby('AGE_GROUP')['WEB_PURCHASE'].mean()\n"
     ]
    },
    {
     "data": {
      "image/png": "[encoded data removed]",
      "text/plain": [
       "<Figure size 1000x600 with 1 Axes>"
      ]
     },
     "metadata": {},
     "output_type": "display_data"
    }
   ],
   "source": [
    "# Menghitung rata-rata pembelian web untuk setiap kelompok usia\n",
    "avg_web_purchases_by_age_group = data_analysis.groupby('AGE_GROUP')['WEB_PURCHASE'].mean()\n",
    "\n",
    "# Visualisasi rata-rata pembelian web berdasarkan kelompok usia\n",
    "plt.figure(figsize=(10, 6))\n",
    "avg_web_purchases_by_age_group.plot(kind='bar', color='skyblue')\n",
    "plt.title('Average Number of Web Purchases by Age Group')\n",
    "plt.xlabel('Age Group')\n",
    "plt.ylabel('Average Number of Web Purchases')\n",
    "plt.xticks(rotation=45)\n",
    "plt.show()\n"
   ]
  },
  {
   "cell_type": "markdown",
   "metadata": {},
   "source": [
    "**Insight:**\n",
    "Dari bar plot di atas, kita dapat melihat rata-rata jumlah pembelian web untuk setiap kelompok usia. Plot ini memberikan wawasan tentang apakah ada hubungan antara usia pelanggan dan kecenderungan mereka untuk berbelanja online.\n",
    "\n",
    "---\n",
    "\n",
    "- **Kelompok Usia 80-89**: Menunjukkan rata-rata pembelian web yang paling tinggi dibandingkan kelompok usia lainnya. Ini mungkin menunjukkan bahwa pelanggan dalam kelompok usia ini cukup aktif dalam berbelanja online.\n",
    "- **Kelompok Usia 50-79**: Juga menunjukkan rata-rata pembelian web yang cukup tinggi, menunjukkan bahwa pelanggan dalam kelompok usia ini nyaman dengan teknologi dan sering melakukan pembelian online.\n",
    "- **Kelompok Usia 18-39 dan 90-100**: Menunjukkan rata-rata pembelian web yang lebih rendah. Kelompok usia yang sangat muda mungkin belum memiliki kemampuan finansial yang kuat, sementara kelompok usia yang sangat tua mungkin kurang nyaman dengan teknologi.\n",
    "\n",
    "**Masukan**:\n",
    "1. **Segmentasi Berdasarkan Usia**: Mengembangkan strategi marketing yang disesuaikan untuk kelompok usia yang berbeda. Misalnya, menargetkan kelompok usia yang lebih tua dengan tutorial online atau bantuan teknologi untuk meningkatkan kenyamanan mereka dalam berbelanja online.\n",
    "2. **Campaign Marketing Online yang Disesuaikan**: Menawarkan penawaran dan diskon khusus untuk kelompok usia yang lebih aktif berbelanja online, seperti kelompok usia 50-79.\n",
    "3. **Penawaran Khusus untuk Kelompok Usia yang Lebih Tua**: Menyediakan promosi atau layanan khusus untuk menarik kelompok usia yang lebih tua agar lebih nyaman berbelanja online.\n",
    "4. **Program Edukasi**: Mengadakan program edukasi untuk kelompok usia yang lebih muda tentang manfaat dan cara berbelanja online secara aman dan nyaman.\n"
   ]
  },
  {
   "cell_type": "markdown",
   "metadata": {},
   "source": [
    "## Bagaimana distribusi pendapatan (Income) pelanggan?"
   ]
  },
  {
   "cell_type": "code",
   "execution_count": 42,
   "metadata": {},
   "outputs": [
    {
     "name": "stderr",
     "output_type": "stream",
     "text": [
      "C:\\Users\\User\\AppData\\Roaming\\Python\\Python310\\site-packages\\seaborn\\_oldcore.py:1119: FutureWarning: use_inf_as_na option is deprecated and will be removed in a future version. Convert inf values to NaN before operating instead.\n",
      "  with pd.option_context('mode.use_inf_as_na', True):\n"
     ]
    },
    {
     "name": "stdout",
     "output_type": "stream",
     "text": [
      "Statistik Deskriptif untuk Pendapatan (Income):\n",
      "count      2216.000000\n",
      "mean      52247.251354\n",
      "std       25173.076661\n",
      "min        1730.000000\n",
      "25%       35303.000000\n",
      "50%       51381.500000\n",
      "75%       68522.000000\n",
      "max      666666.000000\n",
      "Name: INCOME, dtype: float64\n",
      "Variance: 633683788.575619\n",
      "Standard Deviation: 25173.076660901403\n"
     ]
    },
    {
     "data": {
      "image/png": "[encoded data removed]",
      "text/plain": [
       "<Figure size 1200x600 with 2 Axes>"
      ]
     },
     "metadata": {},
     "output_type": "display_data"
    }
   ],
   "source": [
    "income_stats = data_analysis['INCOME'].describe()\n",
    "income_variance = data_analysis['INCOME'].var()\n",
    "income_std_dev = data_analysis['INCOME'].std()\n",
    "\n",
    "# Menampilkan statistik deskriptif\n",
    "print(\"Statistik Deskriptif untuk Pendapatan (Income):\")\n",
    "print(income_stats)\n",
    "print(f\"Variance: {income_variance}\")\n",
    "print(f\"Standard Deviation: {income_std_dev}\")\n",
    "\n",
    "# Visualisasi distribusi pendapatan\n",
    "plt.figure(figsize=(12, 6))\n",
    "\n",
    "# Histogram\n",
    "plt.subplot(1, 2, 1)\n",
    "sns.histplot(data_analysis['INCOME'], bins=30, kde=True)\n",
    "plt.title('Histogram of Income')\n",
    "plt.xlabel('Income')\n",
    "plt.ylabel('Frequency')\n",
    "\n",
    "# Box Plot\n",
    "plt.subplot(1, 2, 2)\n",
    "sns.boxplot(x=data_analysis['INCOME'])\n",
    "plt.title('Box Plot of Income')\n",
    "plt.xlabel('Income')\n",
    "\n",
    "plt.tight_layout()\n",
    "plt.show()"
   ]
  },
  {
   "cell_type": "markdown",
   "metadata": {},
   "source": [
    "**Insight:**\n",
    "Dari histogram dan box plot di atas, kita dapat melihat bahwa pendapatan pelanggan sangat bervariasi dengan sebagian besar pendapatan berada di bawah 100.000. Ada beberapa pelanggan dengan pendapatan yang sangat tinggi, yang menunjukkan adanya outliers dalam data.\n",
    "\n",
    "---\n",
    "\n",
    "- **Distribusi Positif**: Pendapatan pelanggan memiliki distribusi yang sangat condong ke kiri (positively skewed), dengan sebagian besar pelanggan memiliki pendapatan di bawah 100.000.sangat populer di kalangan pelanggan.\n",
    "- **Median Pendapatan**: Median pendapatan pelanggan berada di sekitar 50.000 hingga 60.000, menunjukkan bahwa setengah dari populasi memiliki pendapatan di bawah nilai ini.\n",
    "- **Outliers**: Ada beberapa outliers dengan pendapatan yang jauh lebih tinggi daripada mayoritas pelanggan. Ini bisa mempengaruhi rata-rata pendapatan secara signifikan.\n",
    "- **Deviasi Standar**: Deviasi standar pendapatan cukup tinggi, menunjukkan variasi yang signifikan dalam pendapatan pelanggan.\n",
    "\n",
    "**Masukan**:\n",
    "1. **Segmentasi Pasar**: Mengembangkan strategi segmentasi pasar berdasarkan pendapatan pelanggan untuk menargetkan kelompok yang berbeda dengan penawaran yang sesuai.\n",
    "2. **Produk Premium untuk Pelanggan dengan Pendapatan Tinggi**: Memperkenalkan atau mempromosikan produk premium dan layanan eksklusif kepada pelanggan dengan pendapatan tinggi (outliers).\n",
    "3. **Penawaran Khusus untuk Pelanggan dengan Pendapatan Rendah hingga Menengah**: Mengembangkan campaign marketing dan penawaran khusus untuk pelanggan dengan pendapatan di bawah 100.000 untuk meningkatkan keterlibatan dan penjualan di segmen ini.\n",
    "4. **Pengelolaan Stok yang Efisien**: Memastikan ketersediaan produk yang sesuai dengan preferensi masing-masing segmen pelanggan berdasarkan pendapatan.\n"
   ]
  },
  {
   "cell_type": "markdown",
   "metadata": {},
   "source": [
    "## Produk Apa yang Paling banyak menghasilkan konversi? (Analisis Tambahan)"
   ]
  },
  {
   "cell_type": "code",
   "execution_count": 43,
   "metadata": {},
   "outputs": [
    {
     "data": {
      "image/png": "[encoded data removed]",
      "text/plain": [
       "<Figure size 1200x800 with 1 Axes>"
      ]
     },
     "metadata": {},
     "output_type": "display_data"
    }
   ],
   "source": [
    "# Menghitung total pembelian untuk setiap produk\n",
    "product_columns = ['AMOUNT_WINES', 'AMOUNT_FRUITS', 'AMOUNT_MEAT', 'AMOUNT_FISH', 'AMOUNT_SWEET', 'AMOUNT_GOLD']\n",
    "total_purchases = data_analysis[product_columns].sum().reset_index()\n",
    "total_purchases.columns = ['Product', 'Total Purchases']\n",
    "\n",
    "# Visualisasi jumlah pembelian untuk setiap produk\n",
    "plt.figure(figsize=(12, 8))\n",
    "sns.barplot(x='Product', y='Total Purchases', data=total_purchases, palette='viridis')\n",
    "plt.title('Total Purchases by Product')\n",
    "plt.xlabel('Product')\n",
    "plt.ylabel('Total Purchases')\n",
    "plt.xticks(rotation=45)\n",
    "plt.show()\n"
   ]
  },
  {
   "cell_type": "markdown",
   "metadata": {},
   "source": [
    "**Insight:**\n",
    "Dari bar plot di atas, kita dapat melihat bahwa produk yang paling sering dibeli oleh pelanggan adalah anggur (wines), diikuti oleh produk daging (meat), emas (gold), ikan (fish), produk manis (sweet), dan buah-buahan (fruits).\n",
    "\n",
    "---\n",
    "\n",
    "- **AMOUNT_WINES**: Anggur adalah produk yang paling sering dibeli dengan total pembelian yang jauh lebih tinggi dibandingkan produk lainnya. Ini menunjukkan bahwa anggur adalah produk yang sangat populer di kalangan pelanggan.\n",
    "- **AMOUNT_MEAT**: Produk daging juga menunjukkan total pembelian yang tinggi, menunjukkan preferensi yang signifikan dari pelanggan.\n",
    "- **AMOUNT_GOLD**: Produk emas menunjukkan total pembelian yang cukup tinggi, menunjukkan minat pelanggan terhadap produk ini.\n",
    "- **AMOUNT_FISH, AMOUNT_SWEET, AMOUNT_FRUITS**: Produk-produk ini memiliki total pembelian yang lebih rendah dibandingkan dengan anggur, daging, dan emas.\n",
    "\n",
    "**Masukan**:\n",
    "1. **Promosi untuk Produk Populer**: Mengembangkan campaign marketing yang berfokus pada produk-produk yang paling sering dibeli, seperti anggur dan daging, untuk meningkatkan penjualan lebih lanjut.\n",
    "2. **Penawaran Bundling**: Menawarkan paket bundling untuk produk-produk populer untuk mendorong pembelian lebih banyak. Misalnya, menggabungkan penawaran diskon untuk pembelian anggur dan daging bersama-sama.\n",
    "3. **Pengelolaan Stok**: Memastikan bahwa produk-produk yang paling sering dibeli selalu tersedia di stok untuk memenuhi permintaan pelanggan.\n",
    "4. **Analisis Lanjutan**: Melakukan analisis lebih lanjut untuk memahami alasan di balik popularitas produk-produk ini dan menyesuaikan strategi marketing yang lebih tepat.\n"
   ]
  },
  {
   "cell_type": "markdown",
   "metadata": {},
   "source": [
    "## Negara mana yang memiliki penjualan terbanyak"
   ]
  },
  {
   "cell_type": "code",
   "execution_count": 44,
   "metadata": {},
   "outputs": [
    {
     "data": {
      "image/png": "[encoded data removed]",
      "text/plain": [
       "<Figure size 1200x600 with 1 Axes>"
      ]
     },
     "metadata": {},
     "output_type": "display_data"
    },
    {
     "data": {
      "text/html": [
       "<div>\n",
       "<style scoped>\n",
       "    .dataframe tbody tr th:only-of-type {\n",
       "        vertical-align: middle;\n",
       "    }\n",
       "\n",
       "    .dataframe tbody tr th {\n",
       "        vertical-align: top;\n",
       "    }\n",
       "\n",
       "    .dataframe thead th {\n",
       "        text-align: right;\n",
       "    }\n",
       "</style>\n",
       "<table border=\"1\" class=\"dataframe\">\n",
       "  <thead>\n",
       "    <tr style=\"text-align: right;\">\n",
       "      <th></th>\n",
       "      <th>COUNTRY</th>\n",
       "      <th>TOTAL_SPENDING</th>\n",
       "    </tr>\n",
       "  </thead>\n",
       "  <tbody>\n",
       "    <tr>\n",
       "      <th>6</th>\n",
       "      <td>Spain</td>\n",
       "      <td>659557</td>\n",
       "    </tr>\n",
       "    <tr>\n",
       "      <th>5</th>\n",
       "      <td>South Africa</td>\n",
       "      <td>211071</td>\n",
       "    </tr>\n",
       "    <tr>\n",
       "      <th>1</th>\n",
       "      <td>Canada</td>\n",
       "      <td>167403</td>\n",
       "    </tr>\n",
       "    <tr>\n",
       "      <th>0</th>\n",
       "      <td>Australia</td>\n",
       "      <td>85576</td>\n",
       "    </tr>\n",
       "    <tr>\n",
       "      <th>3</th>\n",
       "      <td>India</td>\n",
       "      <td>77806</td>\n",
       "    </tr>\n",
       "  </tbody>\n",
       "</table>\n",
       "</div>"
      ],
      "text/plain": [
       "        COUNTRY  TOTAL_SPENDING\n",
       "6         Spain          659557\n",
       "5  South Africa          211071\n",
       "1        Canada          167403\n",
       "0     Australia           85576\n",
       "3         India           77806"
      ]
     },
     "execution_count": 44,
     "metadata": {},
     "output_type": "execute_result"
    }
   ],
   "source": [
    "# Mengelompokkan data berdasarkan negara dan menghitung total pengeluaran\n",
    "country_sales = data_analysis.groupby('COUNTRY')['TOTAL_SPENDING'].sum().reset_index()\n",
    "\n",
    "# Mengurutkan negara berdasarkan total pengeluaran tertinggi\n",
    "country_sales = country_sales.sort_values(by='TOTAL_SPENDING', ascending=False)\n",
    "\n",
    "# Visualisasi negara dengan penjualan terbanyak\n",
    "plt.figure(figsize=(12, 6))\n",
    "sns.barplot(x='TOTAL_SPENDING', y='COUNTRY', data=country_sales, palette='viridis')\n",
    "plt.title('Total Spending by Country')\n",
    "plt.xlabel('Total Spending')\n",
    "plt.ylabel('Country')\n",
    "plt.show()\n",
    "\n",
    "# Menampilkan negara dengan total penjualan terbanyak\n",
    "country_sales.head()\n"
   ]
  },
  {
   "cell_type": "markdown",
   "metadata": {},
   "source": [
    "**Insight:**\n",
    "- Dari visualisasi di atas, terlihat bahwa negara dengan total penjualan terbanyak adalah Spanyol, diikuti oleh Afrika Selatan dan Kanada.\n",
    "- Spanyol memiliki total pengeluaran yang sangat tinggi dibandingkan negara lainnya, menunjukkan bahwa pasar di Spanyol sangat kuat untuk produk-produk yang dijual oleh PT. Dwana Indonesia.\n",
    "- Negara-negara seperti Amerika Serikat dan Meksiko memiliki total pengeluaran yang lebih rendah, menunjukkan bahwa ada potensi untuk meningkatkan strategi marketing di wilayah tersebut.\n",
    "\n",
    "---\n",
    "\n",
    "**Masukan:**\n",
    "- Fokuskan strategi marketing dan campaign di Spanyol untuk mempertahankan dan meningkatkan penjualan di pasar yang sudah kuat.\n",
    "- Evaluasi strategi marketing di negara-negara dengan penjualan yang lebih rendah seperti Amerika Serikat dan Meksiko untuk mencari peluang peningkatan.\n",
    "- Pertimbangkan untuk menjalankan campaign promosi khusus di Afrika Selatan dan Kanada untuk menguatkan posisi pasar di negara-negara tersebut.\n"
   ]
  },
  {
   "cell_type": "markdown",
   "metadata": {},
   "source": [
    "# Pengambilan Kesimpulan"
   ]
  },
  {
   "cell_type": "markdown",
   "metadata": {},
   "source": [
    "### Pola Pembelian Berdasarkan Usia Pelanggan\n"
   ]
  },
  {
   "cell_type": "markdown",
   "metadata": {},
   "source": [
    "**Kesimpulan:**\n",
    "Pelanggan dengan usia 50-59 tahun memiliki total pengeluaran tertinggi, diikuti oleh kelompok usia 40-49 tahun dan 60-69 tahun. Kelompok usia 18-29 tahun dan 80-89 tahun memiliki pengeluaran yang jauh lebih rendah.\n",
    "\n",
    "**Rekomendasi:**\n",
    "- Fokuskan campaign marketing pada kelompok usia 50-59 tahun dengan penawaran produk premium.\n",
    "- Sesuaikan campaign untuk kelompok usia 40-49 tahun dan 60-69 tahun.\n",
    "- Identifikasi cara untuk menarik minat kelompok usia 18-29 tahun dan 80-89 tahun dengan penawaran yang lebih terjangkau atau produk yang sesuai dengan gaya hidup mereka."
   ]
  },
  {
   "cell_type": "markdown",
   "metadata": {},
   "source": [
    "### Hubungan Antara Pendapatan Pelanggan dan Produk yang Dibeli"
   ]
  },
  {
   "cell_type": "markdown",
   "metadata": {},
   "source": [
    "**Kesimpulan:**\n",
    "Pelanggan dengan pendapatan lebih tinggi cenderung mengeluarkan lebih banyak uang, meskipun sebagian besar pelanggan memiliki pendapatan di bawah 100,000 dengan pengeluaran yang bervariasi.\n",
    "\n",
    "**Rekomendasi:**\n",
    "- Segmentasi pasar berdasarkan pendapatan dan kembangkan strategi marketing yang sesuai.\n",
    "- Tawarkan berbagai produk dengan harga yang berbeda untuk memenuhi kebutuhan pelanggan dalam berbagai rentang pendapatan."
   ]
  },
  {
   "cell_type": "markdown",
   "metadata": {},
   "source": [
    "### Pengaruh Diskon Terhadap Jumlah Pembelian"
   ]
  },
  {
   "cell_type": "markdown",
   "metadata": {},
   "source": [
    "**Kesimpulan:**\n",
    "Tidak ada hubungan yang jelas antara jumlah pembelian dengan diskon dan total pengeluaran. Strategi diskon saat ini mungkin tidak cukup efektif dalam mendorong peningkatan pengeluaran total.\n",
    "\n",
    "**Rekomendasi:**\n",
    "- Evaluasi strategi diskon yang ada dan coba penawaran bundling untuk meningkatkan pengeluaran total.\n",
    "- Sesuaikan strategi diskon berdasarkan segmentasi pelanggan."
   ]
  },
  {
   "cell_type": "markdown",
   "metadata": {},
   "source": [
    "### Perbedaan Total Pengeluaran Berdasarkan Tingkat Pendidikan"
   ]
  },
  {
   "cell_type": "markdown",
   "metadata": {},
   "source": [
    "\n",
    "**Kesimpulan:**\n",
    "Ada perbedaan signifikan dalam total pengeluaran berdasarkan tingkat pendidikan. Pelanggan dengan pendidikan dasar memiliki total pengeluaran yang jauh lebih rendah dibandingkan dengan pelanggan dengan tingkat pendidikan yang lebih tinggi.\n",
    "\n",
    "**Rekomendasi:**\n",
    "- Segmentasi pasar berdasarkan tingkat pendidikan dan kembangkan strategi marketing yang disesuaikan.\n",
    "- Tawarkan produk premium untuk pelanggan dengan gelar sarjana, doktor, dan magister.\n",
    "- Tawarkan produk yang lebih terjangkau untuk pelanggan dengan pendidikan dasar.\n",
    "\n"
   ]
  },
  {
   "cell_type": "markdown",
   "metadata": {},
   "source": [
    "### Rata-rata Pembelian Web Berdasarkan Kelompok Usia"
   ]
  },
  {
   "cell_type": "markdown",
   "metadata": {},
   "source": [
    "**Kesimpulan:**\n",
    "Pelanggan dalam kelompok usia 80-89 tahun menunjukkan rata-rata pembelian web yang paling tinggi, diikuti oleh kelompok usia 50-79 tahun. Kelompok usia 18-39 dan 90-100 menunjukkan rata-rata pembelian web yang lebih rendah.\n",
    "\n",
    "**Rekomendasi:**\n",
    "- Mengembangkan strategi marketing yang disesuaikan untuk kelompok usia yang berbeda.\n",
    "- Menawarkan penawaran dan diskon khusus untuk kelompok usia yang lebih aktif berbelanja online.\n",
    "- Melakukan campaign kepada kelompok usia 18-39 dan 90-100 (jika memungkinkan) tentang kemudahan berbelanja secara online\n",
    "\n"
   ]
  },
  {
   "cell_type": "markdown",
   "metadata": {},
   "source": [
    "### Distribusi Pendapatan Pelanggan"
   ]
  },
  {
   "cell_type": "markdown",
   "metadata": {},
   "source": [
    "**Kesimpulan:**\n",
    "Sebagian besar pelanggan memiliki pendapatan di bawah 100.000 dengan distribusi pendapatan yang sangat condong ke kiri (positively skewed). Median pendapatan berada di sekitar 50.000 hingga 60.000. Terdapat beberapa outliers dengan pendapatan yang jauh lebih tinggi, yang mempengaruhi rata-rata pendapatan secara signifikan. Deviasi standar pendapatan yang tinggi menunjukkan adanya variasi yang signifikan dalam pendapatan pelanggan.\n",
    "\n",
    "**Rekomendasi:**\n",
    "- Mengembangkan strategi segmentasi pasar berdasarkan pendapatan pelanggan untuk menargetkan kelompok yang berbeda dengan penawaran yang sesuai.\n",
    "- Memperkenalkan atau mempromosikan produk premium dan layanan eksklusif kepada pelanggan dengan pendapatan tinggi (outliers).\n",
    "- Mengembangkan campaign marketing dan penawaran khusus untuk pelanggan dengan pendapatan di bawah 100.000 untuk meningkatkan keterlibatan dan penjualan di segmen ini.\n",
    "- Memastikan ketersediaan produk yang sesuai dengan preferensi masing-masing segmen pelanggan berdasarkan pendapatan.\n",
    "\n"
   ]
  },
  {
   "cell_type": "markdown",
   "metadata": {},
   "source": [
    "### Produk yang Paling Sering Dibeli"
   ]
  },
  {
   "cell_type": "markdown",
   "metadata": {},
   "source": [
    "\n",
    "**Kesimpulan:**\n",
    "Anggur adalah produk yang paling sering dibeli, diikuti oleh produk daging, emas, ikan, produk manis, dan buah-buahan.\n",
    "\n",
    "**Rekomendasi:**\n",
    "- Mengevaluasi campaign marketing untuk produk yang tidak populer.\n",
    "- Mengembangkan campaign marketing yang berfokus pada produk-produk yang paling sering dibeli.\n",
    "- Menawarkan paket bundling untuk produk populer dengan produk yang tidak populer untuk mendorong pembelian lebih banyak serta meningkatkan penjualan produk yang tidak populer\n",
    "- Memastikan bahwa produk-produk yang paling sering dibeli selalu tersedia di stok (Operational).\n",
    "\n"
   ]
  },
  {
   "cell_type": "markdown",
   "metadata": {},
   "source": [
    "### Penjualan Berdasarkan Negara"
   ]
  },
  {
   "cell_type": "markdown",
   "metadata": {},
   "source": [
    "\n",
    "**Kesimpulan:**\n",
    "Spanyol memiliki total penjualan tertinggi, diikuti oleh Afrika Selatan dan Kanada. Negara-negara seperti Amerika Serikat dan Meksiko memiliki total pengeluaran yang lebih rendah.\n",
    "\n",
    "**Rekomendasi:**\n",
    "- Fokuskan strategi marketing dan campaign di Spanyol untuk mempertahankan dan meningkatkan penjualan.\n",
    "- Evaluasi strategi marketing di negara-negara dengan penjualan yang lebih rendah untuk mencari peluang peningkatan.\n",
    "- Jalankan campaign promosi khusus di Afrika Selatan dan Kanada untuk menguatkan posisi pasar di negara-negara tersebut."
   ]
  }
 ],
 "metadata": {
  "kernelspec": {
   "display_name": "base",
   "language": "python",
   "name": "python3"
  },
  "language_info": {
   "codemirror_mode": {
    "name": "ipython",
    "version": 3
   },
   "file_extension": ".py",
   "mimetype": "text/x-python",
   "name": "python",
   "nbconvert_exporter": "python",
   "pygments_lexer": "ipython3",
   "version": "3.10.14"
  }
 },
 "nbformat": 4,
 "nbformat_minor": 2
}
