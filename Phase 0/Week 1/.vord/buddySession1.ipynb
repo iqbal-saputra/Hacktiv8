{
 "cells": [
  {
   "cell_type": "code",
   "execution_count": 1,
   "metadata": {},
   "outputs": [
    {
     "name": "stdout",
     "output_type": "stream",
     "text": [
      "['Hello', 'World!']\n",
      "<class 'list'>\n",
      "<class 'int'>\n",
      "2\n",
      "['a', 'b', 'c', 'd', 'e', 'f']\n",
      "<class 'list'>\n",
      "<class 'int'>\n",
      "6\n"
     ]
    }
   ],
   "source": [
    "def number_of_word(sentence):\n",
    "    kata = sentence.split()\n",
    "    print(kata)\n",
    "    print(type(kata))\n",
    "    jumlah_kata = len(kata)\n",
    "    print(type(jumlah_kata))\n",
    "    \n",
    "    return jumlah_kata\n",
    "\n",
    "\n",
    "print(number_of_word(\"Hello World!\"))\n",
    "print(number_of_word(\"a b c d e f\"))\n"
   ]
  },
  {
   "cell_type": "code",
   "execution_count": 2,
   "metadata": {},
   "outputs": [
    {
     "name": "stdout",
     "output_type": "stream",
     "text": [
      "[5, 10, 15, 20]\n",
      "[10, 20, 30, 40, 50]\n"
     ]
    }
   ],
   "source": [
    "def find_multiples(start_range, end_range, multiple):\n",
    "    multiple_list = [] # list buat menyimpan angka\n",
    "    for angka in range(start_range, end_range + 1):\n",
    "        # print(angka)\n",
    "        if angka % multiple == 0:\n",
    "            multiple_list.append(angka)\n",
    "            \n",
    "    # print(type(multiple_list))\n",
    "    # print(type(number))\n",
    "    # print(type(angka))\n",
    "    return multiple_list\n",
    "\n",
    "print(find_multiples(1,20,5))\n",
    "print(find_multiples(1,50,10))"
   ]
  },
  {
   "cell_type": "code",
   "execution_count": 37,
   "metadata": {},
   "outputs": [
    {
     "name": "stdout",
     "output_type": "stream",
     "text": [
      "{'Adam': 2.5, 'Faiz': 4.0}\n",
      "{'Albert': 'A', 'Dwi': 'B', 'Syahdan': 'D', 'Veronica': 'B'}\n"
     ]
    }
   ],
   "source": [
    "def Grade_Converter(convert_to, **kwargs):\n",
    "    grade_to_letter = {\n",
    "        (85, 100): 'A',\n",
    "        (70, 84.99): 'B',\n",
    "        (60, 69.99): 'C',\n",
    "        (50, 59.99): 'D',\n",
    "        (40, 49.99): 'E',\n",
    "        (0, 39.99): 'F'\n",
    "    }\n",
    "    \n",
    "    grade_to_gpa = {\n",
    "        (85, 100): 4.0,\n",
    "        (70, 84.99): 3.0,\n",
    "        (60, 69.99): 2.5,\n",
    "        (50, 59.99): 2.0,\n",
    "        (40, 49.99): 1.5,\n",
    "        (0, 39.99): 1.0\n",
    "    }\n",
    "    \n",
    "    result = {}\n",
    "    \n",
    "    for student, score in kwargs.items():\n",
    "        if convert_to == 'letter_grade':\n",
    "            for range_, letter in grade_to_letter.items(): # 'range_' agar tidak error karna 'range' adalah fungsi built in\n",
    "                if range_[0] <= score <= range_[1]:\n",
    "                    result[student] = letter\n",
    "                    break\n",
    "        elif convert_to == 'gpa':\n",
    "            for range_, gpa in grade_to_gpa.items():\n",
    "                if range_[0] <= score <= range_[1]:\n",
    "                    result[student] = gpa\n",
    "                    break\n",
    "        else:\n",
    "            print(\"'convert_to' harus 'letter_grade' atau 'gpa'\")\n",
    "    \n",
    "    return result\n",
    "\n",
    "print(Grade_Converter(convert_to='gpa', Adam=62, Faiz=91))\n",
    "print(Grade_Converter(convert_to='letter_grade', Albert=90, Dwi=82, Syahdan=58, Veronica=84))\n",
    "\n"
   ]
  },
  {
   "cell_type": "code",
   "execution_count": null,
   "metadata": {},
   "outputs": [],
   "source": []
  }
 ],
 "metadata": {
  "kernelspec": {
   "display_name": "hacktiv8",
   "language": "python",
   "name": "python3"
  },
  "language_info": {
   "codemirror_mode": {
    "name": "ipython",
    "version": 3
   },
   "file_extension": ".py",
   "mimetype": "text/x-python",
   "name": "python",
   "nbconvert_exporter": "python",
   "pygments_lexer": "ipython3",
   "version": "3.11.11"
  }
 },
 "nbformat": 4,
 "nbformat_minor": 2
}
