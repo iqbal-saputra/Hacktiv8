{
 "cells": [
  {
   "cell_type": "code",
   "execution_count": 34,
   "metadata": {},
   "outputs": [
    {
     "name": "stdout",
     "output_type": "stream",
     "text": [
      "nAMA SAYA luffy\n"
     ]
    }
   ],
   "source": [
    "# swapcase example\n",
    "\n",
    "txt = \"Nama saya LUFFY\"\n",
    "x = txt.swapcase()\n",
    "print(x)"
   ]
  },
  {
   "cell_type": "code",
   "execution_count": 35,
   "metadata": {},
   "outputs": [
    {
     "name": "stdout",
     "output_type": "stream",
     "text": [
      "['apple', 'banana', 'cherry', 14, 0.25]\n"
     ]
    }
   ],
   "source": [
    "# List example\n",
    "my_list = ['apple', 'banana', 'cherry', 14, 0.25]\n",
    "print(my_list)"
   ]
  },
  {
   "cell_type": "code",
   "execution_count": 36,
   "metadata": {},
   "outputs": [
    {
     "name": "stdout",
     "output_type": "stream",
     "text": [
      "[0, 2, 3]\n"
     ]
    }
   ],
   "source": [
    "# List\n",
    "my_list = [1, 2, 3]\n",
    "my_list[0] = 0\n",
    "print(my_list)"
   ]
  },
  {
   "cell_type": "code",
   "execution_count": 37,
   "metadata": {},
   "outputs": [
    {
     "ename": "TypeError",
     "evalue": "'tuple' object does not support item assignment",
     "output_type": "error",
     "traceback": [
      "\u001b[1;31m---------------------------------------------------------------------------\u001b[0m",
      "\u001b[1;31mTypeError\u001b[0m                                 Traceback (most recent call last)",
      "Cell \u001b[1;32mIn[37], line 3\u001b[0m\n\u001b[0;32m      1\u001b[0m \u001b[38;5;66;03m# Tuple\u001b[39;00m\n\u001b[0;32m      2\u001b[0m my_tuple \u001b[38;5;241m=\u001b[39m (\u001b[38;5;241m1\u001b[39m, \u001b[38;5;241m2\u001b[39m, \u001b[38;5;241m3\u001b[39m)\n\u001b[1;32m----> 3\u001b[0m my_tuple[\u001b[38;5;241m0\u001b[39m] \u001b[38;5;241m=\u001b[39m \u001b[38;5;241m0\u001b[39m \u001b[38;5;66;03m# akan error karena immutable\u001b[39;00m\n\u001b[0;32m      4\u001b[0m \u001b[38;5;28mprint\u001b[39m(my_tuple)\n",
      "\u001b[1;31mTypeError\u001b[0m: 'tuple' object does not support item assignment"
     ]
    }
   ],
   "source": [
    "# Tuple\n",
    "my_tuple = (1, 2, 3)\n",
    "my_tuple[0] = 0 # akan error karena immutable\n",
    "print(my_tuple)"
   ]
  },
  {
   "cell_type": "code",
   "execution_count": 38,
   "metadata": {},
   "outputs": [
    {
     "name": "stdout",
     "output_type": "stream",
     "text": [
      "{'brand': 'Ford', 'model': 'Mustang', 'year': 1964}\n"
     ]
    }
   ],
   "source": [
    "car = {\n",
    "  \"brand\": \"Ford\",\n",
    "  \"model\": \"Mustang\",\n",
    "  \"year\": 1964\n",
    "}\n",
    "\n",
    "print(car)"
   ]
  },
  {
   "cell_type": "code",
   "execution_count": 39,
   "metadata": {},
   "outputs": [
    {
     "data": {
      "text/plain": [
       "1964"
      ]
     },
     "execution_count": 39,
     "metadata": {},
     "output_type": "execute_result"
    }
   ],
   "source": [
    "car[\"year\"]"
   ]
  },
  {
   "cell_type": "code",
   "execution_count": 40,
   "metadata": {},
   "outputs": [
    {
     "data": {
      "text/plain": [
       "dict_keys(['brand', 'model', 'year'])"
      ]
     },
     "execution_count": 40,
     "metadata": {},
     "output_type": "execute_result"
    }
   ],
   "source": [
    "car.keys()"
   ]
  },
  {
   "cell_type": "code",
   "execution_count": 41,
   "metadata": {},
   "outputs": [
    {
     "data": {
      "text/plain": [
       "dict_values(['Ford', 'Mustang', 1964])"
      ]
     },
     "execution_count": 41,
     "metadata": {},
     "output_type": "execute_result"
    }
   ],
   "source": [
    "car.values()"
   ]
  },
  {
   "cell_type": "code",
   "execution_count": 42,
   "metadata": {},
   "outputs": [
    {
     "name": "stdout",
     "output_type": "stream",
     "text": [
      "array('i', [1, 2, 3, 4, 5])\n"
     ]
    }
   ],
   "source": [
    "# Array example\n",
    "import array as arr\n",
    "my_array = arr.array('i', [1, 2, 3, 4, 5]) # `i` for integer\n",
    "print(my_array)"
   ]
  },
  {
   "cell_type": "code",
   "execution_count": 43,
   "metadata": {},
   "outputs": [
    {
     "name": "stdout",
     "output_type": "stream",
     "text": [
      "Original array:  array('i', [1, 2, 3, 4, 5])\n",
      "After appending a value:  array('i', [1, 2, 3, 4, 5, 6])\n",
      "After inserting a value:  array('i', [-3, 1, 2, 3, 4, 5, 6])\n",
      "After removing a value:  array('i', [-3, 1, 2, 3, 4, 6])\n",
      "After inserting a value:  array('i', [-3, 1, -9, 2, 3, 4, 6])\n"
     ]
    }
   ],
   "source": [
    "# Create an array\n",
    "numbers = arr.array('i', [1, 2, 3, 4, 5])\n",
    "print(\"Original array: \", numbers)\n",
    "\n",
    "# Append a value to the end of the array\n",
    "numbers.append(6)\n",
    "print(\"After appending a value: \", numbers)\n",
    "\n",
    "# Insert a value at a specific position\n",
    "numbers.insert(0, -3)\n",
    "print(\"After inserting a value: \", numbers)\n",
    "\n",
    "# Remove a value from the array\n",
    "numbers.remove(5)\n",
    "print(\"After removing a value: \", numbers)\n",
    "\n",
    "numbers.insert(2, -9)\n",
    "print(\"After inserting a value: \", numbers)"
   ]
  },
  {
   "cell_type": "code",
   "execution_count": 44,
   "metadata": {},
   "outputs": [
    {
     "name": "stdout",
     "output_type": "stream",
     "text": [
      "The index of the first occurrence of 2:  3\n",
      "The number of occurrences of 2:  1\n"
     ]
    }
   ],
   "source": [
    "# # Reverse the order of the array\n",
    "# numbers.reverse()\n",
    "# print(\"After reversing the array: \", numbers)\n",
    "\n",
    "# Get the index of the first occurrence of a value\n",
    "index = numbers.index(2)\n",
    "print(\"The index of the first occurrence of 2: \", index)\n",
    "\n",
    "# Count the number of occurrences of a value\n",
    "count = numbers.count(2)\n",
    "print(\"The number of occurrences of 2: \", count)"
   ]
  },
  {
   "cell_type": "code",
   "execution_count": 46,
   "metadata": {},
   "outputs": [
    {
     "name": "stdout",
     "output_type": "stream",
     "text": [
      "Addition:  [ 6  8 10 12]\n",
      "Subtraction:  [-4 -4 -4 -4]\n",
      "Multiplication:  [ 5 12 21 32]\n",
      "Division:  [0.2        0.33333333 0.42857143 0.5       ]\n",
      "Exponentiation:  [ 1  4  9 16]\n",
      "Modulus:  [1 2 3 4]\n"
     ]
    }
   ],
   "source": [
    "import numpy as np\n",
    "\n",
    "# Create two arrays\n",
    "a = np.array([1, 2, 3, 4])\n",
    "b = np.array([5, 6, 7, 8])\n",
    "\n",
    "# Addition\n",
    "addition = a + b\n",
    "print(\"Addition: \", addition)\n",
    "\n",
    "# Subtraction\n",
    "subtraction = a - b\n",
    "print(\"Subtraction: \", subtraction)\n",
    "\n",
    "# Multiplication\n",
    "multiplication = a * b\n",
    "print(\"Multiplication: \", multiplication)\n",
    "\n",
    "# Division\n",
    "division = a / b\n",
    "print(\"Division: \", division)\n",
    "\n",
    "# Exponentiation\n",
    "exponentiation = a ** 2\n",
    "print(\"Exponentiation: \", exponentiation)\n",
    "\n",
    "# Modulus\n",
    "modulus = a % b\n",
    "print(\"Modulus: \", modulus)"
   ]
  },
  {
   "cell_type": "code",
   "execution_count": null,
   "metadata": {},
   "outputs": [],
   "source": []
  }
 ],
 "metadata": {
  "kernelspec": {
   "display_name": "base",
   "language": "python",
   "name": "python3"
  },
  "language_info": {
   "codemirror_mode": {
    "name": "ipython",
    "version": 3
   },
   "file_extension": ".py",
   "mimetype": "text/x-python",
   "name": "python",
   "nbconvert_exporter": "python",
   "pygments_lexer": "ipython3",
   "version": "3.11.5"
  }
 },
 "nbformat": 4,
 "nbformat_minor": 2
}
