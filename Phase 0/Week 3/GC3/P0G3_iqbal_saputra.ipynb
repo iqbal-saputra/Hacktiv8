{
 "cells": [
  {
   "cell_type": "markdown",
   "metadata": {},
   "source": [
    "#\n",
    "<b>\n",
    "\n",
    "==============================\n",
    "\n",
    "Nama: Muhammad Iqbal Saputra\n",
    "\n",
    "Batch: RMT-032\n",
    "\n",
    "Objektif dari program ini adalah untuk mengambil data dari website yang dituju pada hal ini tokped, \n",
    "lalu menganalisis data dan menarik kesimpulan melalui pendekatan statistik dari data tersebut\n",
    "\n",
    "\n",
    "==============================\n"
   ]
  },
  {
   "cell_type": "code",
   "execution_count": 2,
   "metadata": {},
   "outputs": [
    {
     "name": "stdout",
     "output_type": "stream",
     "text": [
      "Collecting matplotlib\n",
      "  Downloading matplotlib-3.10.0-cp311-cp311-win_amd64.whl.metadata (11 kB)\n",
      "Requirement already satisfied: contourpy>=1.0.1 in c:\\users\\miqba\\.conda\\envs\\hacktiv8\\lib\\site-packages (from matplotlib) (1.2.1)\n",
      "Requirement already satisfied: cycler>=0.10 in c:\\users\\miqba\\.conda\\envs\\hacktiv8\\lib\\site-packages (from matplotlib) (0.12.1)\n",
      "Requirement already satisfied: fonttools>=4.22.0 in c:\\users\\miqba\\.conda\\envs\\hacktiv8\\lib\\site-packages (from matplotlib) (4.53.1)\n",
      "Collecting kiwisolver>=1.3.1 (from matplotlib)\n",
      "  Downloading kiwisolver-1.4.8-cp311-cp311-win_amd64.whl.metadata (6.3 kB)\n",
      "Requirement already satisfied: numpy>=1.23 in c:\\users\\miqba\\.conda\\envs\\hacktiv8\\lib\\site-packages (from matplotlib) (1.26.4)\n",
      "Requirement already satisfied: packaging>=20.0 in c:\\users\\miqba\\.conda\\envs\\hacktiv8\\lib\\site-packages (from matplotlib) (24.2)\n",
      "Collecting pillow>=8 (from matplotlib)\n",
      "  Downloading pillow-11.1.0-cp311-cp311-win_amd64.whl.metadata (9.3 kB)\n",
      "Requirement already satisfied: pyparsing>=2.3.1 in c:\\users\\miqba\\.conda\\envs\\hacktiv8\\lib\\site-packages (from matplotlib) (3.2.1)\n",
      "Requirement already satisfied: python-dateutil>=2.7 in c:\\users\\miqba\\.conda\\envs\\hacktiv8\\lib\\site-packages (from matplotlib) (2.9.0.post0)\n",
      "Requirement already satisfied: six>=1.5 in c:\\users\\miqba\\.conda\\envs\\hacktiv8\\lib\\site-packages (from python-dateutil>=2.7->matplotlib) (1.17.0)\n",
      "Downloading matplotlib-3.10.0-cp311-cp311-win_amd64.whl (8.0 MB)\n",
      "   ---------------------------------------- 0.0/8.0 MB ? eta -:--:--\n",
      "   ---------------------------------------- 0.0/8.0 MB ? eta -:--:--\n",
      "   - -------------------------------------- 0.3/8.0 MB ? eta -:--:--\n",
      "   - -------------------------------------- 0.3/8.0 MB ? eta -:--:--\n",
      "   -- ------------------------------------- 0.5/8.0 MB 730.2 kB/s eta 0:00:11\n",
      "   --- ------------------------------------ 0.8/8.0 MB 781.4 kB/s eta 0:00:10\n",
      "   ----- ---------------------------------- 1.0/8.0 MB 883.6 kB/s eta 0:00:08\n",
      "   ----- ---------------------------------- 1.0/8.0 MB 883.6 kB/s eta 0:00:08\n",
      "   ----- ---------------------------------- 1.0/8.0 MB 883.6 kB/s eta 0:00:08\n",
      "   ----- ---------------------------------- 1.0/8.0 MB 883.6 kB/s eta 0:00:08\n",
      "   ------ --------------------------------- 1.3/8.0 MB 639.4 kB/s eta 0:00:11\n",
      "   ------- -------------------------------- 1.6/8.0 MB 699.0 kB/s eta 0:00:10\n",
      "   --------- ------------------------------ 1.8/8.0 MB 740.2 kB/s eta 0:00:09\n",
      "   ---------- ----------------------------- 2.1/8.0 MB 748.1 kB/s eta 0:00:08\n",
      "   ---------- ----------------------------- 2.1/8.0 MB 748.1 kB/s eta 0:00:08\n",
      "   ----------- ---------------------------- 2.4/8.0 MB 767.1 kB/s eta 0:00:08\n",
      "   ------------- -------------------------- 2.6/8.0 MB 774.6 kB/s eta 0:00:07\n",
      "   -------------- ------------------------- 2.9/8.0 MB 784.2 kB/s eta 0:00:07\n",
      "   -------------- ------------------------- 2.9/8.0 MB 784.2 kB/s eta 0:00:07\n",
      "   -------------- ------------------------- 2.9/8.0 MB 784.2 kB/s eta 0:00:07\n",
      "   -------------- ------------------------- 2.9/8.0 MB 784.2 kB/s eta 0:00:07\n",
      "   -------------- ------------------------- 2.9/8.0 MB 784.2 kB/s eta 0:00:07\n",
      "   -------------- ------------------------- 2.9/8.0 MB 784.2 kB/s eta 0:00:07\n",
      "   -------------- ------------------------- 2.9/8.0 MB 784.2 kB/s eta 0:00:07\n",
      "   -------------- ------------------------- 2.9/8.0 MB 784.2 kB/s eta 0:00:07\n",
      "   -------------- ------------------------- 2.9/8.0 MB 784.2 kB/s eta 0:00:07\n",
      "   --------------- ------------------------ 3.1/8.0 MB 554.2 kB/s eta 0:00:09\n",
      "   --------------- ------------------------ 3.1/8.0 MB 554.2 kB/s eta 0:00:09\n",
      "   --------------- ------------------------ 3.1/8.0 MB 554.2 kB/s eta 0:00:09\n",
      "   --------------- ------------------------ 3.1/8.0 MB 554.2 kB/s eta 0:00:09\n",
      "   ---------------- ----------------------- 3.4/8.0 MB 535.4 kB/s eta 0:00:09\n",
      "   ---------------- ----------------------- 3.4/8.0 MB 535.4 kB/s eta 0:00:09\n",
      "   ------------------ --------------------- 3.7/8.0 MB 534.6 kB/s eta 0:00:09\n",
      "   ------------------ --------------------- 3.7/8.0 MB 534.6 kB/s eta 0:00:09\n",
      "   ------------------- -------------------- 3.9/8.0 MB 537.5 kB/s eta 0:00:08\n",
      "   ------------------- -------------------- 3.9/8.0 MB 537.5 kB/s eta 0:00:08\n",
      "   -------------------- ------------------- 4.2/8.0 MB 541.2 kB/s eta 0:00:08\n",
      "   -------------------- ------------------- 4.2/8.0 MB 541.2 kB/s eta 0:00:08\n",
      "   ---------------------- ----------------- 4.5/8.0 MB 549.0 kB/s eta 0:00:07\n",
      "   ----------------------- ---------------- 4.7/8.0 MB 563.7 kB/s eta 0:00:06\n",
      "   ------------------------ --------------- 5.0/8.0 MB 579.7 kB/s eta 0:00:06\n",
      "   ------------------------ --------------- 5.0/8.0 MB 579.7 kB/s eta 0:00:06\n",
      "   -------------------------- ------------- 5.2/8.0 MB 581.7 kB/s eta 0:00:05\n",
      "   -------------------------- ------------- 5.2/8.0 MB 581.7 kB/s eta 0:00:05\n",
      "   --------------------------- ------------ 5.5/8.0 MB 590.7 kB/s eta 0:00:05\n",
      "   ---------------------------- ----------- 5.8/8.0 MB 601.2 kB/s eta 0:00:04\n",
      "   ------------------------------ --------- 6.0/8.0 MB 611.1 kB/s eta 0:00:04\n",
      "   ------------------------------ --------- 6.0/8.0 MB 611.1 kB/s eta 0:00:04\n",
      "   ------------------------------- -------- 6.3/8.0 MB 616.4 kB/s eta 0:00:03\n",
      "   -------------------------------- ------- 6.6/8.0 MB 626.3 kB/s eta 0:00:03\n",
      "   -------------------------------- ------- 6.6/8.0 MB 626.3 kB/s eta 0:00:03\n",
      "   --------------------------------- ------ 6.8/8.0 MB 632.6 kB/s eta 0:00:02\n",
      "   ----------------------------------- ---- 7.1/8.0 MB 639.6 kB/s eta 0:00:02\n",
      "   ------------------------------------ --- 7.3/8.0 MB 643.4 kB/s eta 0:00:02\n",
      "   ------------------------------------ --- 7.3/8.0 MB 643.4 kB/s eta 0:00:02\n",
      "   ------------------------------------- -- 7.6/8.0 MB 650.7 kB/s eta 0:00:01\n",
      "   ---------------------------------------  7.9/8.0 MB 657.5 kB/s eta 0:00:01\n",
      "   ---------------------------------------- 8.0/8.0 MB 659.7 kB/s eta 0:00:00\n",
      "Downloading kiwisolver-1.4.8-cp311-cp311-win_amd64.whl (71 kB)\n",
      "Downloading pillow-11.1.0-cp311-cp311-win_amd64.whl (2.6 MB)\n",
      "   ---------------------------------------- 0.0/2.6 MB ? eta -:--:--\n",
      "   ---------------------------------------- 0.0/2.6 MB ? eta -:--:--\n",
      "   --- ------------------------------------ 0.3/2.6 MB ? eta -:--:--\n",
      "   --- ------------------------------------ 0.3/2.6 MB ? eta -:--:--\n",
      "   --- ------------------------------------ 0.3/2.6 MB ? eta -:--:--\n",
      "   ------- -------------------------------- 0.5/2.6 MB 493.7 kB/s eta 0:00:05\n",
      "   ----------- ---------------------------- 0.8/2.6 MB 633.2 kB/s eta 0:00:03\n",
      "   ----------- ---------------------------- 0.8/2.6 MB 633.2 kB/s eta 0:00:03\n",
      "   --------------- ------------------------ 1.0/2.6 MB 699.0 kB/s eta 0:00:03\n",
      "   ------------------- -------------------- 1.3/2.6 MB 729.2 kB/s eta 0:00:02\n",
      "   ------------------- -------------------- 1.3/2.6 MB 729.2 kB/s eta 0:00:02\n",
      "   ----------------------- ---------------- 1.6/2.6 MB 729.4 kB/s eta 0:00:02\n",
      "   --------------------------- ------------ 1.8/2.6 MB 780.2 kB/s eta 0:00:02\n",
      "   ------------------------------- -------- 2.1/2.6 MB 815.6 kB/s eta 0:00:01\n",
      "   ----------------------------------- ---- 2.4/2.6 MB 808.5 kB/s eta 0:00:01\n",
      "   ----------------------------------- ---- 2.4/2.6 MB 808.5 kB/s eta 0:00:01\n",
      "   ---------------------------------------- 2.6/2.6 MB 779.8 kB/s eta 0:00:00\n",
      "Installing collected packages: pillow, kiwisolver, matplotlib\n",
      "Successfully installed kiwisolver-1.4.8 matplotlib-3.10.0 pillow-11.1.0\n",
      "Note: you may need to restart the kernel to use updated packages.\n"
     ]
    },
    {
     "name": "stderr",
     "output_type": "stream",
     "text": [
      "WARNING: Retrying (Retry(total=4, connect=None, read=None, redirect=None, status=None)) after connection broken by 'ProtocolError('Connection aborted.', ConnectionResetError(10054, 'An existing connection was forcibly closed by the remote host', None, 10054, None))': /simple/matplotlib/\n",
      "WARNING: Retrying (Retry(total=3, connect=None, read=None, redirect=None, status=None)) after connection broken by 'ProtocolError('Connection aborted.', ConnectionResetError(10054, 'An existing connection was forcibly closed by the remote host', None, 10054, None))': /simple/matplotlib/\n"
     ]
    }
   ],
   "source": [
    "%pip install matplotlib"
   ]
  },
  {
   "cell_type": "code",
   "execution_count": 2,
   "metadata": {},
   "outputs": [
    {
     "name": "stdout",
     "output_type": "stream",
     "text": [
      "Collecting seaborn\n",
      "  Downloading seaborn-0.13.2-py3-none-any.whl.metadata (5.4 kB)\n",
      "Requirement already satisfied: numpy!=1.24.0,>=1.20 in c:\\users\\miqba\\.conda\\envs\\hacktiv8\\lib\\site-packages (from seaborn) (1.26.4)\n",
      "Requirement already satisfied: pandas>=1.2 in c:\\users\\miqba\\.conda\\envs\\hacktiv8\\lib\\site-packages (from seaborn) (2.2.3)\n",
      "Requirement already satisfied: matplotlib!=3.6.1,>=3.4 in c:\\users\\miqba\\.conda\\envs\\hacktiv8\\lib\\site-packages (from seaborn) (3.10.0)\n",
      "Requirement already satisfied: contourpy>=1.0.1 in c:\\users\\miqba\\.conda\\envs\\hacktiv8\\lib\\site-packages (from matplotlib!=3.6.1,>=3.4->seaborn) (1.2.1)\n",
      "Requirement already satisfied: cycler>=0.10 in c:\\users\\miqba\\.conda\\envs\\hacktiv8\\lib\\site-packages (from matplotlib!=3.6.1,>=3.4->seaborn) (0.12.1)\n",
      "Requirement already satisfied: fonttools>=4.22.0 in c:\\users\\miqba\\.conda\\envs\\hacktiv8\\lib\\site-packages (from matplotlib!=3.6.1,>=3.4->seaborn) (4.53.1)\n",
      "Requirement already satisfied: kiwisolver>=1.3.1 in c:\\users\\miqba\\.conda\\envs\\hacktiv8\\lib\\site-packages (from matplotlib!=3.6.1,>=3.4->seaborn) (1.4.8)\n",
      "Requirement already satisfied: packaging>=20.0 in c:\\users\\miqba\\.conda\\envs\\hacktiv8\\lib\\site-packages (from matplotlib!=3.6.1,>=3.4->seaborn) (24.2)\n",
      "Requirement already satisfied: pillow>=8 in c:\\users\\miqba\\.conda\\envs\\hacktiv8\\lib\\site-packages (from matplotlib!=3.6.1,>=3.4->seaborn) (11.1.0)\n",
      "Requirement already satisfied: pyparsing>=2.3.1 in c:\\users\\miqba\\.conda\\envs\\hacktiv8\\lib\\site-packages (from matplotlib!=3.6.1,>=3.4->seaborn) (3.2.1)\n",
      "Requirement already satisfied: python-dateutil>=2.7 in c:\\users\\miqba\\.conda\\envs\\hacktiv8\\lib\\site-packages (from matplotlib!=3.6.1,>=3.4->seaborn) (2.9.0.post0)\n",
      "Requirement already satisfied: pytz>=2020.1 in c:\\users\\miqba\\.conda\\envs\\hacktiv8\\lib\\site-packages (from pandas>=1.2->seaborn) (2025.1)\n",
      "Requirement already satisfied: tzdata>=2022.7 in c:\\users\\miqba\\.conda\\envs\\hacktiv8\\lib\\site-packages (from pandas>=1.2->seaborn) (2025.1)\n",
      "Requirement already satisfied: six>=1.5 in c:\\users\\miqba\\.conda\\envs\\hacktiv8\\lib\\site-packages (from python-dateutil>=2.7->matplotlib!=3.6.1,>=3.4->seaborn) (1.17.0)\n",
      "Downloading seaborn-0.13.2-py3-none-any.whl (294 kB)\n",
      "Installing collected packages: seaborn\n",
      "Successfully installed seaborn-0.13.2\n",
      "Note: you may need to restart the kernel to use updated packages.\n"
     ]
    }
   ],
   "source": [
    "%pip install seaborn"
   ]
  },
  {
   "cell_type": "code",
   "execution_count": 2,
   "metadata": {},
   "outputs": [
    {
     "name": "stdout",
     "output_type": "stream",
     "text": [
      "Collecting selenium\n",
      "  Downloading selenium-4.28.1-py3-none-any.whl.metadata (7.1 kB)\n",
      "Requirement already satisfied: urllib3<3,>=1.26 in c:\\users\\miqba\\.conda\\envs\\hacktiv8\\lib\\site-packages (from urllib3[socks]<3,>=1.26->selenium) (1.26.20)\n",
      "Requirement already satisfied: trio~=0.17 in c:\\users\\miqba\\.conda\\envs\\hacktiv8\\lib\\site-packages (from selenium) (0.28.0)\n",
      "Requirement already satisfied: trio-websocket~=0.9 in c:\\users\\miqba\\.conda\\envs\\hacktiv8\\lib\\site-packages (from selenium) (0.11.1)\n",
      "Requirement already satisfied: certifi>=2021.10.8 in c:\\users\\miqba\\.conda\\envs\\hacktiv8\\lib\\site-packages (from selenium) (2022.6.15)\n",
      "Requirement already satisfied: typing_extensions~=4.9 in c:\\users\\miqba\\.conda\\envs\\hacktiv8\\lib\\site-packages (from selenium) (4.12.2)\n",
      "Requirement already satisfied: websocket-client~=1.8 in c:\\users\\miqba\\.conda\\envs\\hacktiv8\\lib\\site-packages (from selenium) (1.8.0)\n",
      "Requirement already satisfied: attrs>=23.2.0 in c:\\users\\miqba\\.conda\\envs\\hacktiv8\\lib\\site-packages (from trio~=0.17->selenium) (23.2.0)\n",
      "Requirement already satisfied: sortedcontainers in c:\\users\\miqba\\.conda\\envs\\hacktiv8\\lib\\site-packages (from trio~=0.17->selenium) (2.4.0)\n",
      "Requirement already satisfied: idna in c:\\users\\miqba\\.conda\\envs\\hacktiv8\\lib\\site-packages (from trio~=0.17->selenium) (3.10)\n",
      "Requirement already satisfied: outcome in c:\\users\\miqba\\.conda\\envs\\hacktiv8\\lib\\site-packages (from trio~=0.17->selenium) (1.3.0.post0)\n",
      "Requirement already satisfied: sniffio>=1.3.0 in c:\\users\\miqba\\.conda\\envs\\hacktiv8\\lib\\site-packages (from trio~=0.17->selenium) (1.3.1)\n",
      "Requirement already satisfied: cffi>=1.14 in c:\\users\\miqba\\.conda\\envs\\hacktiv8\\lib\\site-packages (from trio~=0.17->selenium) (1.15.1)\n",
      "Requirement already satisfied: wsproto>=0.14 in c:\\users\\miqba\\.conda\\envs\\hacktiv8\\lib\\site-packages (from trio-websocket~=0.9->selenium) (1.2.0)\n",
      "Requirement already satisfied: PySocks!=1.5.7,<2.0,>=1.5.6 in c:\\users\\miqba\\.conda\\envs\\hacktiv8\\lib\\site-packages (from urllib3[socks]<3,>=1.26->selenium) (1.7.1)\n",
      "Requirement already satisfied: pycparser in c:\\users\\miqba\\.conda\\envs\\hacktiv8\\lib\\site-packages (from cffi>=1.14->trio~=0.17->selenium) (2.22)\n",
      "Requirement already satisfied: h11<1,>=0.9.0 in c:\\users\\miqba\\.conda\\envs\\hacktiv8\\lib\\site-packages (from wsproto>=0.14->trio-websocket~=0.9->selenium) (0.14.0)\n",
      "Downloading selenium-4.28.1-py3-none-any.whl (9.5 MB)\n",
      "   ---------------------------------------- 0.0/9.5 MB ? eta -:--:--\n",
      "   -------- ------------------------------- 2.1/9.5 MB 11.7 MB/s eta 0:00:01\n",
      "   ------------------- -------------------- 4.7/9.5 MB 11.9 MB/s eta 0:00:01\n",
      "   ----------------------------- ---------- 7.1/9.5 MB 11.8 MB/s eta 0:00:01\n",
      "   ---------------------------------------  9.4/9.5 MB 11.7 MB/s eta 0:00:01\n",
      "   ---------------------------------------- 9.5/9.5 MB 11.4 MB/s eta 0:00:00\n",
      "Installing collected packages: selenium\n",
      "Successfully installed selenium-4.28.1\n",
      "Note: you may need to restart the kernel to use updated packages.\n"
     ]
    }
   ],
   "source": [
    "%pip install selenium"
   ]
  },
  {
   "cell_type": "code",
   "execution_count": 3,
   "metadata": {},
   "outputs": [],
   "source": [
    "# import module-module yang diperlukan\n",
    "import time\n",
    "import pandas as pd\n",
    "import numpy as np\n",
    "import matplotlib.pyplot as plt\n",
    "import seaborn as sns\n",
    "from selenium import webdriver\n",
    "from bs4 import BeautifulSoup\n",
    "import scipy.stats as stats"
   ]
  },
  {
   "cell_type": "markdown",
   "metadata": {},
   "source": [
    "# A. Web Scraping"
   ]
  },
  {
   "cell_type": "code",
   "execution_count": 2,
   "metadata": {},
   "outputs": [],
   "source": [
    "# inisialisasi dataframe\n",
    "nama_produk = []\n",
    "harga_produk = []\n",
    "nama_toko = []\n",
    "lokasi_toko = []\n",
    "banyak_terjual = []\n",
    "rating_produk = []\n"
   ]
  },
  {
   "cell_type": "code",
   "execution_count": 3,
   "metadata": {},
   "outputs": [
    {
     "ename": "WebDriverException",
     "evalue": "Message: 'chromedriver' executable needs to be in PATH. Please see https://chromedriver.chromium.org/home\n",
     "output_type": "error",
     "traceback": [
      "\u001b[1;31m---------------------------------------------------------------------------\u001b[0m",
      "\u001b[1;31mFileNotFoundError\u001b[0m                         Traceback (most recent call last)",
      "File \u001b[1;32mc:\\ProgramData\\anaconda3\\envs\\py310\\lib\\site-packages\\selenium\\webdriver\\common\\service.py:71\u001b[0m, in \u001b[0;36mService.start\u001b[1;34m(self)\u001b[0m\n\u001b[0;32m     70\u001b[0m     cmd\u001b[38;5;241m.\u001b[39mextend(\u001b[38;5;28mself\u001b[39m\u001b[38;5;241m.\u001b[39mcommand_line_args())\n\u001b[1;32m---> 71\u001b[0m     \u001b[38;5;28mself\u001b[39m\u001b[38;5;241m.\u001b[39mprocess \u001b[38;5;241m=\u001b[39m \u001b[43msubprocess\u001b[49m\u001b[38;5;241;43m.\u001b[39;49m\u001b[43mPopen\u001b[49m\u001b[43m(\u001b[49m\u001b[43mcmd\u001b[49m\u001b[43m,\u001b[49m\u001b[43m \u001b[49m\u001b[43menv\u001b[49m\u001b[38;5;241;43m=\u001b[39;49m\u001b[38;5;28;43mself\u001b[39;49m\u001b[38;5;241;43m.\u001b[39;49m\u001b[43menv\u001b[49m\u001b[43m,\u001b[49m\n\u001b[0;32m     72\u001b[0m \u001b[43m                                    \u001b[49m\u001b[43mclose_fds\u001b[49m\u001b[38;5;241;43m=\u001b[39;49m\u001b[43msystem\u001b[49m\u001b[43m(\u001b[49m\u001b[43m)\u001b[49m\u001b[43m \u001b[49m\u001b[38;5;241;43m!=\u001b[39;49m\u001b[43m \u001b[49m\u001b[38;5;124;43m'\u001b[39;49m\u001b[38;5;124;43mWindows\u001b[39;49m\u001b[38;5;124;43m'\u001b[39;49m\u001b[43m,\u001b[49m\n\u001b[0;32m     73\u001b[0m \u001b[43m                                    \u001b[49m\u001b[43mstdout\u001b[49m\u001b[38;5;241;43m=\u001b[39;49m\u001b[38;5;28;43mself\u001b[39;49m\u001b[38;5;241;43m.\u001b[39;49m\u001b[43mlog_file\u001b[49m\u001b[43m,\u001b[49m\n\u001b[0;32m     74\u001b[0m \u001b[43m                                    \u001b[49m\u001b[43mstderr\u001b[49m\u001b[38;5;241;43m=\u001b[39;49m\u001b[38;5;28;43mself\u001b[39;49m\u001b[38;5;241;43m.\u001b[39;49m\u001b[43mlog_file\u001b[49m\u001b[43m,\u001b[49m\n\u001b[0;32m     75\u001b[0m \u001b[43m                                    \u001b[49m\u001b[43mstdin\u001b[49m\u001b[38;5;241;43m=\u001b[39;49m\u001b[43mPIPE\u001b[49m\u001b[43m,\u001b[49m\n\u001b[0;32m     76\u001b[0m \u001b[43m                                    \u001b[49m\u001b[43mcreationflags\u001b[49m\u001b[38;5;241;43m=\u001b[39;49m\u001b[38;5;28;43mself\u001b[39;49m\u001b[38;5;241;43m.\u001b[39;49m\u001b[43mcreationflags\u001b[49m\u001b[43m)\u001b[49m\n\u001b[0;32m     77\u001b[0m \u001b[38;5;28;01mexcept\u001b[39;00m \u001b[38;5;167;01mTypeError\u001b[39;00m:\n",
      "File \u001b[1;32mc:\\ProgramData\\anaconda3\\envs\\py310\\lib\\subprocess.py:971\u001b[0m, in \u001b[0;36mPopen.__init__\u001b[1;34m(self, args, bufsize, executable, stdin, stdout, stderr, preexec_fn, close_fds, shell, cwd, env, universal_newlines, startupinfo, creationflags, restore_signals, start_new_session, pass_fds, user, group, extra_groups, encoding, errors, text, umask, pipesize)\u001b[0m\n\u001b[0;32m    968\u001b[0m             \u001b[38;5;28mself\u001b[39m\u001b[38;5;241m.\u001b[39mstderr \u001b[38;5;241m=\u001b[39m io\u001b[38;5;241m.\u001b[39mTextIOWrapper(\u001b[38;5;28mself\u001b[39m\u001b[38;5;241m.\u001b[39mstderr,\n\u001b[0;32m    969\u001b[0m                     encoding\u001b[38;5;241m=\u001b[39mencoding, errors\u001b[38;5;241m=\u001b[39merrors)\n\u001b[1;32m--> 971\u001b[0m     \u001b[38;5;28;43mself\u001b[39;49m\u001b[38;5;241;43m.\u001b[39;49m\u001b[43m_execute_child\u001b[49m\u001b[43m(\u001b[49m\u001b[43margs\u001b[49m\u001b[43m,\u001b[49m\u001b[43m \u001b[49m\u001b[43mexecutable\u001b[49m\u001b[43m,\u001b[49m\u001b[43m \u001b[49m\u001b[43mpreexec_fn\u001b[49m\u001b[43m,\u001b[49m\u001b[43m \u001b[49m\u001b[43mclose_fds\u001b[49m\u001b[43m,\u001b[49m\n\u001b[0;32m    972\u001b[0m \u001b[43m                        \u001b[49m\u001b[43mpass_fds\u001b[49m\u001b[43m,\u001b[49m\u001b[43m \u001b[49m\u001b[43mcwd\u001b[49m\u001b[43m,\u001b[49m\u001b[43m \u001b[49m\u001b[43menv\u001b[49m\u001b[43m,\u001b[49m\n\u001b[0;32m    973\u001b[0m \u001b[43m                        \u001b[49m\u001b[43mstartupinfo\u001b[49m\u001b[43m,\u001b[49m\u001b[43m \u001b[49m\u001b[43mcreationflags\u001b[49m\u001b[43m,\u001b[49m\u001b[43m \u001b[49m\u001b[43mshell\u001b[49m\u001b[43m,\u001b[49m\n\u001b[0;32m    974\u001b[0m \u001b[43m                        \u001b[49m\u001b[43mp2cread\u001b[49m\u001b[43m,\u001b[49m\u001b[43m \u001b[49m\u001b[43mp2cwrite\u001b[49m\u001b[43m,\u001b[49m\n\u001b[0;32m    975\u001b[0m \u001b[43m                        \u001b[49m\u001b[43mc2pread\u001b[49m\u001b[43m,\u001b[49m\u001b[43m \u001b[49m\u001b[43mc2pwrite\u001b[49m\u001b[43m,\u001b[49m\n\u001b[0;32m    976\u001b[0m \u001b[43m                        \u001b[49m\u001b[43merrread\u001b[49m\u001b[43m,\u001b[49m\u001b[43m \u001b[49m\u001b[43merrwrite\u001b[49m\u001b[43m,\u001b[49m\n\u001b[0;32m    977\u001b[0m \u001b[43m                        \u001b[49m\u001b[43mrestore_signals\u001b[49m\u001b[43m,\u001b[49m\n\u001b[0;32m    978\u001b[0m \u001b[43m                        \u001b[49m\u001b[43mgid\u001b[49m\u001b[43m,\u001b[49m\u001b[43m \u001b[49m\u001b[43mgids\u001b[49m\u001b[43m,\u001b[49m\u001b[43m \u001b[49m\u001b[43muid\u001b[49m\u001b[43m,\u001b[49m\u001b[43m \u001b[49m\u001b[43mumask\u001b[49m\u001b[43m,\u001b[49m\n\u001b[0;32m    979\u001b[0m \u001b[43m                        \u001b[49m\u001b[43mstart_new_session\u001b[49m\u001b[43m)\u001b[49m\n\u001b[0;32m    980\u001b[0m \u001b[38;5;28;01mexcept\u001b[39;00m:\n\u001b[0;32m    981\u001b[0m     \u001b[38;5;66;03m# Cleanup if the child failed starting.\u001b[39;00m\n",
      "File \u001b[1;32mc:\\ProgramData\\anaconda3\\envs\\py310\\lib\\subprocess.py:1456\u001b[0m, in \u001b[0;36mPopen._execute_child\u001b[1;34m(self, args, executable, preexec_fn, close_fds, pass_fds, cwd, env, startupinfo, creationflags, shell, p2cread, p2cwrite, c2pread, c2pwrite, errread, errwrite, unused_restore_signals, unused_gid, unused_gids, unused_uid, unused_umask, unused_start_new_session)\u001b[0m\n\u001b[0;32m   1455\u001b[0m \u001b[38;5;28;01mtry\u001b[39;00m:\n\u001b[1;32m-> 1456\u001b[0m     hp, ht, pid, tid \u001b[38;5;241m=\u001b[39m \u001b[43m_winapi\u001b[49m\u001b[38;5;241;43m.\u001b[39;49m\u001b[43mCreateProcess\u001b[49m\u001b[43m(\u001b[49m\u001b[43mexecutable\u001b[49m\u001b[43m,\u001b[49m\u001b[43m \u001b[49m\u001b[43margs\u001b[49m\u001b[43m,\u001b[49m\n\u001b[0;32m   1457\u001b[0m \u001b[43m                             \u001b[49m\u001b[38;5;66;43;03m# no special security\u001b[39;49;00m\n\u001b[0;32m   1458\u001b[0m \u001b[43m                             \u001b[49m\u001b[38;5;28;43;01mNone\u001b[39;49;00m\u001b[43m,\u001b[49m\u001b[43m \u001b[49m\u001b[38;5;28;43;01mNone\u001b[39;49;00m\u001b[43m,\u001b[49m\n\u001b[0;32m   1459\u001b[0m \u001b[43m                             \u001b[49m\u001b[38;5;28;43mint\u001b[39;49m\u001b[43m(\u001b[49m\u001b[38;5;129;43;01mnot\u001b[39;49;00m\u001b[43m \u001b[49m\u001b[43mclose_fds\u001b[49m\u001b[43m)\u001b[49m\u001b[43m,\u001b[49m\n\u001b[0;32m   1460\u001b[0m \u001b[43m                             \u001b[49m\u001b[43mcreationflags\u001b[49m\u001b[43m,\u001b[49m\n\u001b[0;32m   1461\u001b[0m \u001b[43m                             \u001b[49m\u001b[43menv\u001b[49m\u001b[43m,\u001b[49m\n\u001b[0;32m   1462\u001b[0m \u001b[43m                             \u001b[49m\u001b[43mcwd\u001b[49m\u001b[43m,\u001b[49m\n\u001b[0;32m   1463\u001b[0m \u001b[43m                             \u001b[49m\u001b[43mstartupinfo\u001b[49m\u001b[43m)\u001b[49m\n\u001b[0;32m   1464\u001b[0m \u001b[38;5;28;01mfinally\u001b[39;00m:\n\u001b[0;32m   1465\u001b[0m     \u001b[38;5;66;03m# Child is launched. Close the parent's copy of those pipe\u001b[39;00m\n\u001b[0;32m   1466\u001b[0m     \u001b[38;5;66;03m# handles that only the child should have open.  You need\u001b[39;00m\n\u001b[1;32m   (...)\u001b[0m\n\u001b[0;32m   1469\u001b[0m     \u001b[38;5;66;03m# pipe will not close when the child process exits and the\u001b[39;00m\n\u001b[0;32m   1470\u001b[0m     \u001b[38;5;66;03m# ReadFile will hang.\u001b[39;00m\n",
      "\u001b[1;31mFileNotFoundError\u001b[0m: [WinError 2] The system cannot find the file specified",
      "\nDuring handling of the above exception, another exception occurred:\n",
      "\u001b[1;31mWebDriverException\u001b[0m                        Traceback (most recent call last)",
      "Input \u001b[1;32mIn [3]\u001b[0m, in \u001b[0;36m<cell line: 2>\u001b[1;34m()\u001b[0m\n\u001b[0;32m      1\u001b[0m \u001b[38;5;66;03m# membuat intance webdriver\u001b[39;00m\n\u001b[1;32m----> 2\u001b[0m driver \u001b[38;5;241m=\u001b[39m \u001b[43mwebdriver\u001b[49m\u001b[38;5;241;43m.\u001b[39;49m\u001b[43mChrome\u001b[49m\u001b[43m(\u001b[49m\u001b[43m)\u001b[49m\n\u001b[0;32m      4\u001b[0m \u001b[38;5;66;03m# melakukan perulangan untuk 10 halaman\u001b[39;00m\n\u001b[0;32m      5\u001b[0m \u001b[38;5;28;01mfor\u001b[39;00m i \u001b[38;5;129;01min\u001b[39;00m \u001b[38;5;28mrange\u001b[39m(\u001b[38;5;241m10\u001b[39m):\n",
      "File \u001b[1;32mc:\\ProgramData\\anaconda3\\envs\\py310\\lib\\site-packages\\selenium\\webdriver\\chrome\\webdriver.py:69\u001b[0m, in \u001b[0;36mWebDriver.__init__\u001b[1;34m(self, executable_path, port, options, service_args, desired_capabilities, service_log_path, chrome_options, service, keep_alive)\u001b[0m\n\u001b[0;32m     66\u001b[0m \u001b[38;5;28;01mif\u001b[39;00m \u001b[38;5;129;01mnot\u001b[39;00m service:\n\u001b[0;32m     67\u001b[0m     service \u001b[38;5;241m=\u001b[39m Service(executable_path, port, service_args, service_log_path)\n\u001b[1;32m---> 69\u001b[0m \u001b[38;5;28;43msuper\u001b[39;49m\u001b[43m(\u001b[49m\u001b[43m)\u001b[49m\u001b[38;5;241;43m.\u001b[39;49m\u001b[38;5;21;43m__init__\u001b[39;49m\u001b[43m(\u001b[49m\u001b[43mDesiredCapabilities\u001b[49m\u001b[38;5;241;43m.\u001b[39;49m\u001b[43mCHROME\u001b[49m\u001b[43m[\u001b[49m\u001b[38;5;124;43m'\u001b[39;49m\u001b[38;5;124;43mbrowserName\u001b[39;49m\u001b[38;5;124;43m'\u001b[39;49m\u001b[43m]\u001b[49m\u001b[43m,\u001b[49m\u001b[43m \u001b[49m\u001b[38;5;124;43m\"\u001b[39;49m\u001b[38;5;124;43mgoog\u001b[39;49m\u001b[38;5;124;43m\"\u001b[39;49m\u001b[43m,\u001b[49m\n\u001b[0;32m     70\u001b[0m \u001b[43m                 \u001b[49m\u001b[43mport\u001b[49m\u001b[43m,\u001b[49m\u001b[43m \u001b[49m\u001b[43moptions\u001b[49m\u001b[43m,\u001b[49m\n\u001b[0;32m     71\u001b[0m \u001b[43m                 \u001b[49m\u001b[43mservice_args\u001b[49m\u001b[43m,\u001b[49m\u001b[43m \u001b[49m\u001b[43mdesired_capabilities\u001b[49m\u001b[43m,\u001b[49m\n\u001b[0;32m     72\u001b[0m \u001b[43m                 \u001b[49m\u001b[43mservice_log_path\u001b[49m\u001b[43m,\u001b[49m\u001b[43m \u001b[49m\u001b[43mservice\u001b[49m\u001b[43m,\u001b[49m\u001b[43m \u001b[49m\u001b[43mkeep_alive\u001b[49m\u001b[43m)\u001b[49m\n",
      "File \u001b[1;32mc:\\ProgramData\\anaconda3\\envs\\py310\\lib\\site-packages\\selenium\\webdriver\\chromium\\webdriver.py:89\u001b[0m, in \u001b[0;36mChromiumDriver.__init__\u001b[1;34m(self, browser_name, vendor_prefix, port, options, service_args, desired_capabilities, service_log_path, service, keep_alive)\u001b[0m\n\u001b[0;32m     86\u001b[0m     \u001b[38;5;28;01mraise\u001b[39;00m \u001b[38;5;167;01mAttributeError\u001b[39;00m(\u001b[38;5;124m'\u001b[39m\u001b[38;5;124mservice cannot be None\u001b[39m\u001b[38;5;124m'\u001b[39m)\n\u001b[0;32m     88\u001b[0m \u001b[38;5;28mself\u001b[39m\u001b[38;5;241m.\u001b[39mservice \u001b[38;5;241m=\u001b[39m service\n\u001b[1;32m---> 89\u001b[0m \u001b[38;5;28;43mself\u001b[39;49m\u001b[38;5;241;43m.\u001b[39;49m\u001b[43mservice\u001b[49m\u001b[38;5;241;43m.\u001b[39;49m\u001b[43mstart\u001b[49m\u001b[43m(\u001b[49m\u001b[43m)\u001b[49m\n\u001b[0;32m     91\u001b[0m \u001b[38;5;28;01mtry\u001b[39;00m:\n\u001b[0;32m     92\u001b[0m     \u001b[38;5;28msuper\u001b[39m()\u001b[38;5;241m.\u001b[39m\u001b[38;5;21m__init__\u001b[39m(\n\u001b[0;32m     93\u001b[0m         command_executor\u001b[38;5;241m=\u001b[39mChromiumRemoteConnection(\n\u001b[0;32m     94\u001b[0m             remote_server_addr\u001b[38;5;241m=\u001b[39m\u001b[38;5;28mself\u001b[39m\u001b[38;5;241m.\u001b[39mservice\u001b[38;5;241m.\u001b[39mservice_url,\n\u001b[0;32m     95\u001b[0m             browser_name\u001b[38;5;241m=\u001b[39mbrowser_name, vendor_prefix\u001b[38;5;241m=\u001b[39mvendor_prefix,\n\u001b[0;32m     96\u001b[0m             keep_alive\u001b[38;5;241m=\u001b[39mkeep_alive, ignore_proxy\u001b[38;5;241m=\u001b[39m_ignore_proxy),\n\u001b[0;32m     97\u001b[0m         options\u001b[38;5;241m=\u001b[39moptions)\n",
      "File \u001b[1;32mc:\\ProgramData\\anaconda3\\envs\\py310\\lib\\site-packages\\selenium\\webdriver\\common\\service.py:81\u001b[0m, in \u001b[0;36mService.start\u001b[1;34m(self)\u001b[0m\n\u001b[0;32m     79\u001b[0m \u001b[38;5;28;01mexcept\u001b[39;00m \u001b[38;5;167;01mOSError\u001b[39;00m \u001b[38;5;28;01mas\u001b[39;00m err:\n\u001b[0;32m     80\u001b[0m     \u001b[38;5;28;01mif\u001b[39;00m err\u001b[38;5;241m.\u001b[39merrno \u001b[38;5;241m==\u001b[39m errno\u001b[38;5;241m.\u001b[39mENOENT:\n\u001b[1;32m---> 81\u001b[0m         \u001b[38;5;28;01mraise\u001b[39;00m WebDriverException(\n\u001b[0;32m     82\u001b[0m             \u001b[38;5;124m\"\u001b[39m\u001b[38;5;124m'\u001b[39m\u001b[38;5;132;01m{}\u001b[39;00m\u001b[38;5;124m'\u001b[39m\u001b[38;5;124m executable needs to be in PATH. \u001b[39m\u001b[38;5;132;01m{}\u001b[39;00m\u001b[38;5;124m\"\u001b[39m\u001b[38;5;241m.\u001b[39mformat(\n\u001b[0;32m     83\u001b[0m                 os\u001b[38;5;241m.\u001b[39mpath\u001b[38;5;241m.\u001b[39mbasename(\u001b[38;5;28mself\u001b[39m\u001b[38;5;241m.\u001b[39mpath), \u001b[38;5;28mself\u001b[39m\u001b[38;5;241m.\u001b[39mstart_error_message)\n\u001b[0;32m     84\u001b[0m         )\n\u001b[0;32m     85\u001b[0m     \u001b[38;5;28;01melif\u001b[39;00m err\u001b[38;5;241m.\u001b[39merrno \u001b[38;5;241m==\u001b[39m errno\u001b[38;5;241m.\u001b[39mEACCES:\n\u001b[0;32m     86\u001b[0m         \u001b[38;5;28;01mraise\u001b[39;00m WebDriverException(\n\u001b[0;32m     87\u001b[0m             \u001b[38;5;124m\"\u001b[39m\u001b[38;5;124m'\u001b[39m\u001b[38;5;132;01m{}\u001b[39;00m\u001b[38;5;124m'\u001b[39m\u001b[38;5;124m executable may have wrong permissions. \u001b[39m\u001b[38;5;132;01m{}\u001b[39;00m\u001b[38;5;124m\"\u001b[39m\u001b[38;5;241m.\u001b[39mformat(\n\u001b[0;32m     88\u001b[0m                 os\u001b[38;5;241m.\u001b[39mpath\u001b[38;5;241m.\u001b[39mbasename(\u001b[38;5;28mself\u001b[39m\u001b[38;5;241m.\u001b[39mpath), \u001b[38;5;28mself\u001b[39m\u001b[38;5;241m.\u001b[39mstart_error_message)\n\u001b[0;32m     89\u001b[0m         )\n",
      "\u001b[1;31mWebDriverException\u001b[0m: Message: 'chromedriver' executable needs to be in PATH. Please see https://chromedriver.chromium.org/home\n"
     ]
    }
   ],
   "source": [
    "# membuat intance webdriver\n",
    "driver = webdriver.Chrome()\n",
    "\n",
    "# melakukan perulangan untuk 10 halaman\n",
    "for i in range(10):\n",
    "    url = f\"https://www.tokopedia.com/search?navsource=&page={i}&q=seblak&srp_component_id=02.01.00.00&srp_page_id=&srp_page_title=&st=\"\n",
    "    driver.get(url)\n",
    "    time.sleep(1)\n",
    "\n",
    "    # melakukan scrolling ke bawah\n",
    "    for i in range(50):\n",
    "        driver.execute_script(\"window.scroll(0,500)\")\n",
    "        time.sleep(1)\n",
    "\n",
    "    # mengambil HTML source\n",
    "    html = driver.page_source\n",
    "\n",
    "    # membuat objek BeautifulSoup\n",
    "    soup = BeautifulSoup(html, \"html.parser\")\n",
    "\n",
    "    # menghindari elemen iklan\n",
    "    iklan = soup.select(\".css-1nod7cp:not(.css-1asz3by)\")\n",
    "\n",
    "    # melakukan perulangan untuk setiap elemen\n",
    "    for i in iklan:\n",
    "        # menghapus elemen dari HTML source\n",
    "        i.extract()\n",
    "\n",
    "    # mencari elemen dengan class 'css-1asz3by'\n",
    "    boxes = soup.find_all('div', {\"class\": \"css-1asz3by\"})\n",
    "\n",
    "    # melakukan perulangan untuk setiap kotak produk\n",
    "    for box in boxes:\n",
    "        # nama produk\n",
    "        try:\n",
    "            nama_produk_element = box.find('div', {\"class\": \"prd_link-product-name css-3um8ox\"})\n",
    "            nama_produk.append(nama_produk_element.get_text())\n",
    "        except:\n",
    "            nama_produk.append(None)\n",
    "            \n",
    "        # harga produk\n",
    "        try:\n",
    "            harga_produk_element = box.find('div', {\"class\": \"prd_link-product-price css-h66vau\"})\n",
    "            harga_produk.append(harga_produk_element.get_text())\n",
    "        except:\n",
    "            harga_produk.append(None)\n",
    "            \n",
    "        # nama toko\n",
    "        try:\n",
    "            shop_name_element = box.find('span', {'class': 'prd_link-shop-name css-1kdc32b flip'})\n",
    "            nama_toko.append(shop_name_element.get_text())\n",
    "        except:\n",
    "            nama_toko.append(None)\n",
    "\n",
    "        # lokasi toko\n",
    "        try:\n",
    "            shop_location_element = box.find('span', {'class': 'prd_link-shop-loc css-1kdc32b flip'})\n",
    "            lokasi_toko.append(shop_location_element.get_text())\n",
    "        except:\n",
    "            lokasi_toko.append(None)\n",
    "\n",
    "        # banyak terjual\n",
    "        try:\n",
    "            sold_element_list = box.find_all('span', {\"class\": \"prd_label-integrity css-1sgek4h\"})\n",
    "            for sold_element in sold_element_list:\n",
    "                banyak_terjual.append(sold_element.get_text())\n",
    "        except:\n",
    "            banyak_terjual.append(None)\n",
    "            \n",
    "        # rating produk\n",
    "        try:\n",
    "            rating_element_list = box.find_all('span', {\"class\": \"prd_rating-average-text css-t70v7i\"})\n",
    "            for rating_element in rating_element_list:\n",
    "                rating_produk.append(rating_element.get_text())\n",
    "        except:\n",
    "            rating_produk.append(None)\n",
    "            \n",
    "\n",
    "# inisialisasi data frame\n",
    "df = pd.DataFrame()\n",
    "\n",
    "# memastikan semua panjang data sama\n",
    "common_length = min(len(nama_produk), len(harga_produk), len(rating_produk), len(banyak_terjual), len(lokasi_toko), len(nama_toko))\n",
    "\n",
    "# menambahkan data ke data frame\n",
    "df['nama produk'] = nama_produk[:common_length]\n",
    "df['harga produk'] = harga_produk[:common_length]\n",
    "df['nama toko'] = nama_toko[:common_length]\n",
    "df['lokasi toko'] = lokasi_toko[:common_length]\n",
    "df['banyak terjual'] = banyak_terjual[:common_length]\n",
    "df['rating produk'] = rating_produk[:common_length]\n",
    "\n",
    "# mematikan driver\n",
    "driver.quit()"
   ]
  },
  {
   "cell_type": "code",
   "execution_count": 4,
   "metadata": {},
   "outputs": [
    {
     "data": {
      "text/html": [
       "<div>\n",
       "<style scoped>\n",
       "    .dataframe tbody tr th:only-of-type {\n",
       "        vertical-align: middle;\n",
       "    }\n",
       "\n",
       "    .dataframe tbody tr th {\n",
       "        vertical-align: top;\n",
       "    }\n",
       "\n",
       "    .dataframe thead th {\n",
       "        text-align: right;\n",
       "    }\n",
       "</style>\n",
       "<table border=\"1\" class=\"dataframe\">\n",
       "  <thead>\n",
       "    <tr style=\"text-align: right;\">\n",
       "      <th></th>\n",
       "      <th>nama produk</th>\n",
       "      <th>harga produk</th>\n",
       "      <th>nama toko</th>\n",
       "      <th>lokasi toko</th>\n",
       "      <th>banyak terjual</th>\n",
       "      <th>rating produk</th>\n",
       "    </tr>\n",
       "  </thead>\n",
       "  <tbody>\n",
       "  </tbody>\n",
       "</table>\n",
       "</div>"
      ],
      "text/plain": [
       "Empty DataFrame\n",
       "Columns: [nama produk, harga produk, nama toko, lokasi toko, banyak terjual, rating produk]\n",
       "Index: []"
      ]
     },
     "execution_count": 4,
     "metadata": {},
     "output_type": "execute_result"
    }
   ],
   "source": [
    "# menampilkan data frame 5 teratas (memastikan apakah webscraping kita berhasil)\n",
    "df.head()"
   ]
  },
  {
   "cell_type": "code",
   "execution_count": 5,
   "metadata": {},
   "outputs": [
    {
     "name": "stdout",
     "output_type": "stream",
     "text": [
      "<class 'pandas.core.frame.DataFrame'>\n",
      "RangeIndex: 0 entries\n",
      "Data columns (total 6 columns):\n",
      " #   Column          Non-Null Count  Dtype  \n",
      "---  ------          --------------  -----  \n",
      " 0   nama produk     0 non-null      float64\n",
      " 1   harga produk    0 non-null      float64\n",
      " 2   nama toko       0 non-null      float64\n",
      " 3   lokasi toko     0 non-null      float64\n",
      " 4   banyak terjual  0 non-null      float64\n",
      " 5   rating produk   0 non-null      float64\n",
      "dtypes: float64(6)\n",
      "memory usage: 124.0 bytes\n"
     ]
    }
   ],
   "source": [
    "# menampilkan info data frame (memastikan apakah webscraping kita berhasil)\n",
    "df.info()"
   ]
  },
  {
   "cell_type": "code",
   "execution_count": 6,
   "metadata": {},
   "outputs": [],
   "source": [
    "# import dataframe ke csv\n",
    "df.to_csv('seblak_produk.csv', index=False)"
   ]
  },
  {
   "cell_type": "markdown",
   "metadata": {},
   "source": [
    "# B. Data Preparation"
   ]
  },
  {
   "cell_type": "code",
   "execution_count": 7,
   "metadata": {},
   "outputs": [],
   "source": [
    "# membaca file CSV (data hasil scraping)\n",
    "data_explore = pd.read_csv('seblak_produk.csv')"
   ]
  },
  {
   "cell_type": "code",
   "execution_count": 8,
   "metadata": {},
   "outputs": [
    {
     "data": {
      "text/html": [
       "<div>\n",
       "<style scoped>\n",
       "    .dataframe tbody tr th:only-of-type {\n",
       "        vertical-align: middle;\n",
       "    }\n",
       "\n",
       "    .dataframe tbody tr th {\n",
       "        vertical-align: top;\n",
       "    }\n",
       "\n",
       "    .dataframe thead th {\n",
       "        text-align: right;\n",
       "    }\n",
       "</style>\n",
       "<table border=\"1\" class=\"dataframe\">\n",
       "  <thead>\n",
       "    <tr style=\"text-align: right;\">\n",
       "      <th></th>\n",
       "      <th>nama produk</th>\n",
       "      <th>harga produk</th>\n",
       "      <th>nama toko</th>\n",
       "      <th>lokasi toko</th>\n",
       "      <th>banyak terjual</th>\n",
       "      <th>rating produk</th>\n",
       "    </tr>\n",
       "  </thead>\n",
       "  <tbody>\n",
       "  </tbody>\n",
       "</table>\n",
       "</div>"
      ],
      "text/plain": [
       "Empty DataFrame\n",
       "Columns: [nama produk, harga produk, nama toko, lokasi toko, banyak terjual, rating produk]\n",
       "Index: []"
      ]
     },
     "execution_count": 8,
     "metadata": {},
     "output_type": "execute_result"
    }
   ],
   "source": [
    "# menampilkan 5 data teratas dari data_explore\n",
    "data_explore.head(5)"
   ]
  },
  {
   "cell_type": "code",
   "execution_count": 9,
   "metadata": {},
   "outputs": [
    {
     "data": {
      "text/html": [
       "<div>\n",
       "<style scoped>\n",
       "    .dataframe tbody tr th:only-of-type {\n",
       "        vertical-align: middle;\n",
       "    }\n",
       "\n",
       "    .dataframe tbody tr th {\n",
       "        vertical-align: top;\n",
       "    }\n",
       "\n",
       "    .dataframe thead th {\n",
       "        text-align: right;\n",
       "    }\n",
       "</style>\n",
       "<table border=\"1\" class=\"dataframe\">\n",
       "  <thead>\n",
       "    <tr style=\"text-align: right;\">\n",
       "      <th></th>\n",
       "      <th>nama produk</th>\n",
       "      <th>harga produk</th>\n",
       "      <th>nama toko</th>\n",
       "      <th>lokasi toko</th>\n",
       "      <th>banyak terjual</th>\n",
       "      <th>rating produk</th>\n",
       "    </tr>\n",
       "  </thead>\n",
       "  <tbody>\n",
       "  </tbody>\n",
       "</table>\n",
       "</div>"
      ],
      "text/plain": [
       "Empty DataFrame\n",
       "Columns: [nama produk, harga produk, nama toko, lokasi toko, banyak terjual, rating produk]\n",
       "Index: []"
      ]
     },
     "execution_count": 9,
     "metadata": {},
     "output_type": "execute_result"
    }
   ],
   "source": [
    "# menampilkan 5 data terbawah dari data_explore\n",
    "data_explore.tail(5)"
   ]
  },
  {
   "cell_type": "markdown",
   "metadata": {},
   "source": [
    "setelah sekilas melihat data, format harga produk dan banyak terjual masih belum menjadi format yang benar. semestinya format kolom tersebut int/float agar mudah di olah\n"
   ]
  },
  {
   "cell_type": "code",
   "execution_count": 10,
   "metadata": {},
   "outputs": [
    {
     "name": "stdout",
     "output_type": "stream",
     "text": [
      "<class 'pandas.core.frame.DataFrame'>\n",
      "RangeIndex: 0 entries\n",
      "Data columns (total 6 columns):\n",
      " #   Column          Non-Null Count  Dtype \n",
      "---  ------          --------------  ----- \n",
      " 0   nama produk     0 non-null      object\n",
      " 1   harga produk    0 non-null      object\n",
      " 2   nama toko       0 non-null      object\n",
      " 3   lokasi toko     0 non-null      object\n",
      " 4   banyak terjual  0 non-null      object\n",
      " 5   rating produk   0 non-null      object\n",
      "dtypes: object(6)\n",
      "memory usage: 124.0+ bytes\n"
     ]
    }
   ],
   "source": [
    "# menampilkan informasi tentang data yang baru saja diimport dari file seblak_produk.csv\n",
    "data_explore.info()"
   ]
  },
  {
   "cell_type": "code",
   "execution_count": 11,
   "metadata": {},
   "outputs": [
    {
     "data": {
      "text/html": [
       "<div>\n",
       "<style scoped>\n",
       "    .dataframe tbody tr th:only-of-type {\n",
       "        vertical-align: middle;\n",
       "    }\n",
       "\n",
       "    .dataframe tbody tr th {\n",
       "        vertical-align: top;\n",
       "    }\n",
       "\n",
       "    .dataframe thead th {\n",
       "        text-align: right;\n",
       "    }\n",
       "</style>\n",
       "<table border=\"1\" class=\"dataframe\">\n",
       "  <thead>\n",
       "    <tr style=\"text-align: right;\">\n",
       "      <th></th>\n",
       "      <th>nama produk</th>\n",
       "      <th>harga produk</th>\n",
       "      <th>nama toko</th>\n",
       "      <th>lokasi toko</th>\n",
       "      <th>banyak terjual</th>\n",
       "      <th>rating produk</th>\n",
       "    </tr>\n",
       "  </thead>\n",
       "  <tbody>\n",
       "    <tr>\n",
       "      <th>count</th>\n",
       "      <td>0</td>\n",
       "      <td>0</td>\n",
       "      <td>0</td>\n",
       "      <td>0</td>\n",
       "      <td>0</td>\n",
       "      <td>0</td>\n",
       "    </tr>\n",
       "    <tr>\n",
       "      <th>unique</th>\n",
       "      <td>0</td>\n",
       "      <td>0</td>\n",
       "      <td>0</td>\n",
       "      <td>0</td>\n",
       "      <td>0</td>\n",
       "      <td>0</td>\n",
       "    </tr>\n",
       "    <tr>\n",
       "      <th>top</th>\n",
       "      <td>NaN</td>\n",
       "      <td>NaN</td>\n",
       "      <td>NaN</td>\n",
       "      <td>NaN</td>\n",
       "      <td>NaN</td>\n",
       "      <td>NaN</td>\n",
       "    </tr>\n",
       "    <tr>\n",
       "      <th>freq</th>\n",
       "      <td>NaN</td>\n",
       "      <td>NaN</td>\n",
       "      <td>NaN</td>\n",
       "      <td>NaN</td>\n",
       "      <td>NaN</td>\n",
       "      <td>NaN</td>\n",
       "    </tr>\n",
       "  </tbody>\n",
       "</table>\n",
       "</div>"
      ],
      "text/plain": [
       "       nama produk harga produk nama toko lokasi toko banyak terjual  \\\n",
       "count            0            0         0           0              0   \n",
       "unique           0            0         0           0              0   \n",
       "top            NaN          NaN       NaN         NaN            NaN   \n",
       "freq           NaN          NaN       NaN         NaN            NaN   \n",
       "\n",
       "       rating produk  \n",
       "count              0  \n",
       "unique             0  \n",
       "top              NaN  \n",
       "freq             NaN  "
      ]
     },
     "execution_count": 11,
     "metadata": {},
     "output_type": "execute_result"
    }
   ],
   "source": [
    "# menampilkan statistik data numerik dari data_explore\n",
    "data_explore.describe()"
   ]
  },
  {
   "cell_type": "markdown",
   "metadata": {},
   "source": [
    "dikarnakan data yang bertipe numerik hanya rating produk, hasil dari data_explore.describe() hanya hasil dari kolom rating produk, yang berarti data_explore belum bersih"
   ]
  },
  {
   "cell_type": "code",
   "execution_count": 12,
   "metadata": {},
   "outputs": [
    {
     "data": {
      "text/plain": [
       "nama produk       0\n",
       "harga produk      0\n",
       "nama toko         0\n",
       "lokasi toko       0\n",
       "banyak terjual    0\n",
       "rating produk     0\n",
       "dtype: int64"
      ]
     },
     "execution_count": 12,
     "metadata": {},
     "output_type": "execute_result"
    }
   ],
   "source": [
    "# cek missing value dari setiap kolom\n",
    "data_explore.isnull().sum()"
   ]
  },
  {
   "cell_type": "markdown",
   "metadata": {},
   "source": [
    "tidak ditemukan missing value"
   ]
  },
  {
   "cell_type": "code",
   "execution_count": 13,
   "metadata": {},
   "outputs": [],
   "source": [
    "# incase terdapat missing value, kode ini akan menghilangkan baris yang memiliki missing value\n",
    "data_explore.dropna(subset=['rating produk'], inplace=True)\n",
    "data_explore.dropna(subset=['banyak terjual'], inplace=True)"
   ]
  },
  {
   "cell_type": "code",
   "execution_count": 14,
   "metadata": {},
   "outputs": [
    {
     "data": {
      "text/plain": [
       "0"
      ]
     },
     "execution_count": 14,
     "metadata": {},
     "output_type": "execute_result"
    }
   ],
   "source": [
    "# cek dan menampilkan jika ada baris yang duplikat\n",
    "data_explore.duplicated().sum()"
   ]
  },
  {
   "cell_type": "markdown",
   "metadata": {},
   "source": [
    "terdapat banyak baris yang terduplikat"
   ]
  },
  {
   "cell_type": "code",
   "execution_count": 15,
   "metadata": {},
   "outputs": [
    {
     "data": {
      "text/html": [
       "<div>\n",
       "<style scoped>\n",
       "    .dataframe tbody tr th:only-of-type {\n",
       "        vertical-align: middle;\n",
       "    }\n",
       "\n",
       "    .dataframe tbody tr th {\n",
       "        vertical-align: top;\n",
       "    }\n",
       "\n",
       "    .dataframe thead th {\n",
       "        text-align: right;\n",
       "    }\n",
       "</style>\n",
       "<table border=\"1\" class=\"dataframe\">\n",
       "  <thead>\n",
       "    <tr style=\"text-align: right;\">\n",
       "      <th></th>\n",
       "      <th>nama produk</th>\n",
       "      <th>harga produk</th>\n",
       "      <th>nama toko</th>\n",
       "      <th>lokasi toko</th>\n",
       "      <th>banyak terjual</th>\n",
       "      <th>rating produk</th>\n",
       "    </tr>\n",
       "  </thead>\n",
       "  <tbody>\n",
       "  </tbody>\n",
       "</table>\n",
       "</div>"
      ],
      "text/plain": [
       "Empty DataFrame\n",
       "Columns: [nama produk, harga produk, nama toko, lokasi toko, banyak terjual, rating produk]\n",
       "Index: []"
      ]
     },
     "execution_count": 15,
     "metadata": {},
     "output_type": "execute_result"
    }
   ],
   "source": [
    "# menampilkan baris yang duplikat\n",
    "data_explore[data_explore.duplicated()]"
   ]
  },
  {
   "cell_type": "code",
   "execution_count": 16,
   "metadata": {},
   "outputs": [],
   "source": [
    "# menyimpan data tanpa duplikat \n",
    "data_explore_no_duplicates = data_explore.drop_duplicates()\n",
    "\n",
    "# deep copy data agar ketika melakukan proses cleaning, tidak merubah data_explore\n",
    "data_explore_no_duplicates = data_explore_no_duplicates.copy(deep=True)"
   ]
  },
  {
   "cell_type": "code",
   "execution_count": 17,
   "metadata": {},
   "outputs": [
    {
     "name": "stdout",
     "output_type": "stream",
     "text": [
      "<class 'pandas.core.frame.DataFrame'>\n",
      "RangeIndex: 0 entries\n",
      "Data columns (total 6 columns):\n",
      " #   Column          Non-Null Count  Dtype \n",
      "---  ------          --------------  ----- \n",
      " 0   nama produk     0 non-null      object\n",
      " 1   harga produk    0 non-null      object\n",
      " 2   nama toko       0 non-null      object\n",
      " 3   lokasi toko     0 non-null      object\n",
      " 4   banyak terjual  0 non-null      object\n",
      " 5   rating produk   0 non-null      object\n",
      "dtypes: object(6)\n",
      "memory usage: 124.0+ bytes\n"
     ]
    }
   ],
   "source": [
    "# menampilkan informasi tentang data yang sudah bersih dari duplikat\n",
    "data_explore_no_duplicates.info()"
   ]
  },
  {
   "cell_type": "code",
   "execution_count": 18,
   "metadata": {},
   "outputs": [
    {
     "data": {
      "text/plain": [
       "nama produk       0\n",
       "harga produk      0\n",
       "nama toko         0\n",
       "lokasi toko       0\n",
       "banyak terjual    0\n",
       "rating produk     0\n",
       "dtype: int64"
      ]
     },
     "execution_count": 18,
     "metadata": {},
     "output_type": "execute_result"
    }
   ],
   "source": [
    "# double cek missing value dari data yang sudah bersih dari duplikat\n",
    "data_explore_no_duplicates.isnull().sum()"
   ]
  },
  {
   "cell_type": "code",
   "execution_count": 19,
   "metadata": {},
   "outputs": [],
   "source": [
    "# double cek incase terdapat missing value, \n",
    "# kode ini akan menghilangkan baris yang memiliki missing value\n",
    "data_explore_no_duplicates.dropna(subset=['rating produk'], inplace=True)\n",
    "data_explore_no_duplicates.dropna(subset=['banyak terjual'], inplace=True)"
   ]
  },
  {
   "cell_type": "code",
   "execution_count": 20,
   "metadata": {},
   "outputs": [],
   "source": [
    "# menghapus \"Rp\" dari kolom \"harga produk\" dan merubah tipe data menjadi float\n",
    "data_explore_no_duplicates['harga produk'] = data_explore_no_duplicates['harga produk'].str.replace('Rp', '').str.replace('.','').astype(float)"
   ]
  },
  {
   "cell_type": "code",
   "execution_count": 21,
   "metadata": {},
   "outputs": [],
   "source": [
    "# menghapus karakter '+' dan 'terjual' pada kolom 'banyak terjual'\n",
    "data_explore_no_duplicates['banyak terjual'] = data_explore_no_duplicates['banyak terjual'].str.replace('+', '').str.replace(' terjual', '')\n",
    "# menganti 'rb+' menjadi '000'\n",
    "data_explore_no_duplicates['banyak terjual'] = data_explore_no_duplicates['banyak terjual'].replace({'rb+': '000'}, regex=True).replace('[^\\d\\.]', '', regex=True).astype(int)\n",
    "# mengubah tipe data pada kolom 'banyak terjual' menjadi numerik\n",
    "data_explore_no_duplicates['banyak terjual'] = pd.to_numeric(data_explore_no_duplicates['banyak terjual'], errors='coerce')"
   ]
  },
  {
   "cell_type": "code",
   "execution_count": 22,
   "metadata": {},
   "outputs": [
    {
     "data": {
      "text/html": [
       "<div>\n",
       "<style scoped>\n",
       "    .dataframe tbody tr th:only-of-type {\n",
       "        vertical-align: middle;\n",
       "    }\n",
       "\n",
       "    .dataframe tbody tr th {\n",
       "        vertical-align: top;\n",
       "    }\n",
       "\n",
       "    .dataframe thead th {\n",
       "        text-align: right;\n",
       "    }\n",
       "</style>\n",
       "<table border=\"1\" class=\"dataframe\">\n",
       "  <thead>\n",
       "    <tr style=\"text-align: right;\">\n",
       "      <th></th>\n",
       "      <th>nama produk</th>\n",
       "      <th>harga produk</th>\n",
       "      <th>nama toko</th>\n",
       "      <th>lokasi toko</th>\n",
       "      <th>banyak terjual</th>\n",
       "      <th>rating produk</th>\n",
       "    </tr>\n",
       "  </thead>\n",
       "  <tbody>\n",
       "  </tbody>\n",
       "</table>\n",
       "</div>"
      ],
      "text/plain": [
       "Empty DataFrame\n",
       "Columns: [nama produk, harga produk, nama toko, lokasi toko, banyak terjual, rating produk]\n",
       "Index: []"
      ]
     },
     "execution_count": 22,
     "metadata": {},
     "output_type": "execute_result"
    }
   ],
   "source": [
    "# menampilkan data teratas yang sudah kita bersihkan (memastikan proses cleaning berhasil)\n",
    "data_explore_no_duplicates.head()"
   ]
  },
  {
   "cell_type": "code",
   "execution_count": 23,
   "metadata": {},
   "outputs": [
    {
     "name": "stdout",
     "output_type": "stream",
     "text": [
      "<class 'pandas.core.frame.DataFrame'>\n",
      "RangeIndex: 0 entries\n",
      "Data columns (total 6 columns):\n",
      " #   Column          Non-Null Count  Dtype  \n",
      "---  ------          --------------  -----  \n",
      " 0   nama produk     0 non-null      object \n",
      " 1   harga produk    0 non-null      float64\n",
      " 2   nama toko       0 non-null      object \n",
      " 3   lokasi toko     0 non-null      object \n",
      " 4   banyak terjual  0 non-null      int32  \n",
      " 5   rating produk   0 non-null      object \n",
      "dtypes: float64(1), int32(1), object(4)\n",
      "memory usage: 124.0+ bytes\n"
     ]
    }
   ],
   "source": [
    "# menampilkan informasi data yang sudah kita bersihkan (memastikan proses cleaning berhasil)\n",
    "data_explore_no_duplicates.info()"
   ]
  },
  {
   "cell_type": "code",
   "execution_count": 24,
   "metadata": {},
   "outputs": [
    {
     "data": {
      "text/html": [
       "<div>\n",
       "<style scoped>\n",
       "    .dataframe tbody tr th:only-of-type {\n",
       "        vertical-align: middle;\n",
       "    }\n",
       "\n",
       "    .dataframe tbody tr th {\n",
       "        vertical-align: top;\n",
       "    }\n",
       "\n",
       "    .dataframe thead th {\n",
       "        text-align: right;\n",
       "    }\n",
       "</style>\n",
       "<table border=\"1\" class=\"dataframe\">\n",
       "  <thead>\n",
       "    <tr style=\"text-align: right;\">\n",
       "      <th></th>\n",
       "      <th>harga produk</th>\n",
       "      <th>banyak terjual</th>\n",
       "    </tr>\n",
       "  </thead>\n",
       "  <tbody>\n",
       "    <tr>\n",
       "      <th>count</th>\n",
       "      <td>0.0</td>\n",
       "      <td>0.0</td>\n",
       "    </tr>\n",
       "    <tr>\n",
       "      <th>mean</th>\n",
       "      <td>NaN</td>\n",
       "      <td>NaN</td>\n",
       "    </tr>\n",
       "    <tr>\n",
       "      <th>std</th>\n",
       "      <td>NaN</td>\n",
       "      <td>NaN</td>\n",
       "    </tr>\n",
       "    <tr>\n",
       "      <th>min</th>\n",
       "      <td>NaN</td>\n",
       "      <td>NaN</td>\n",
       "    </tr>\n",
       "    <tr>\n",
       "      <th>25%</th>\n",
       "      <td>NaN</td>\n",
       "      <td>NaN</td>\n",
       "    </tr>\n",
       "    <tr>\n",
       "      <th>50%</th>\n",
       "      <td>NaN</td>\n",
       "      <td>NaN</td>\n",
       "    </tr>\n",
       "    <tr>\n",
       "      <th>75%</th>\n",
       "      <td>NaN</td>\n",
       "      <td>NaN</td>\n",
       "    </tr>\n",
       "    <tr>\n",
       "      <th>max</th>\n",
       "      <td>NaN</td>\n",
       "      <td>NaN</td>\n",
       "    </tr>\n",
       "  </tbody>\n",
       "</table>\n",
       "</div>"
      ],
      "text/plain": [
       "       harga produk  banyak terjual\n",
       "count           0.0             0.0\n",
       "mean            NaN             NaN\n",
       "std             NaN             NaN\n",
       "min             NaN             NaN\n",
       "25%             NaN             NaN\n",
       "50%             NaN             NaN\n",
       "75%             NaN             NaN\n",
       "max             NaN             NaN"
      ]
     },
     "execution_count": 24,
     "metadata": {},
     "output_type": "execute_result"
    }
   ],
   "source": [
    "# menampilkan statistik data yang berupa numerik\n",
    "data_explore_no_duplicates.describe()"
   ]
  },
  {
   "cell_type": "code",
   "execution_count": 25,
   "metadata": {},
   "outputs": [],
   "source": [
    "# export data yang sudah dibersihkan ke csv \n",
    "data_explore_no_duplicates.to_csv('data_clean.csv')"
   ]
  },
  {
   "cell_type": "markdown",
   "metadata": {},
   "source": [
    "# C. Business Understanding/Problem Statement"
   ]
  },
  {
   "cell_type": "markdown",
   "metadata": {},
   "source": [
    "## **SMART Framework**\n",
    "\n",
    "> Specific      : Menganalisis faktor-faktor yang mempengaruhi penjualan produk seblak di Tokopedia yang bertujuan utk meningkatkan penjualan.\n",
    "\n",
    "> Measureable   : Diukur dari peningkatan jumlah konversi penjualan dan rating produk sebelum dan sesudah mengimplementasikan strategi, target terukur meningkatkan penjualan sebesar 15% dari serta meningkatkan skor rating minimal 0.5.\n",
    "\n",
    "> Achieveable   : Menggunakan analisis data untuk menentukan harga jual yang optimal terhadap potensi pasar yang mempertimbangkan metriks-metriks penjualan seperti lokasi toko, harga produk, rating produk dan lain sebagainya.\n",
    "\n",
    "> Relevant      : Mengoptimalkan penjualan produk pada platform, dan membantu para penjual/pelaku UMKM membuat keputusan bisnis berdasarkan data.\n",
    "\n",
    "> Time-bound    : Proses ini akan dilakukan dalam waktu 6 bulan, termasuk pengumpulan data, analisis, dan implementasi.\n",
    "\n",
    "Problem statment \n",
    "---\n",
    "\"Dalam waktu 6 bulan, kami akan meningkatkan penjualan produk seblak di Tokopedia sebesar 15% dan skor rating minimal 0.5 dengan menganalisis faktor-faktor kunci seperti lokasi toko, harga produk, dan rating produk, serta menggunakan hasil analisis untuk menentukan harga jual yang optimal dan membuat strategi penjualan yang efektif.\""
   ]
  },
  {
   "cell_type": "markdown",
   "metadata": {},
   "source": [
    "# D. Analysis"
   ]
  },
  {
   "cell_type": "code",
   "execution_count": 26,
   "metadata": {},
   "outputs": [],
   "source": [
    "# import data yang sudah bersih\n",
    "data_analysis = pd.read_csv('data_clean.csv')"
   ]
  },
  {
   "cell_type": "code",
   "execution_count": 27,
   "metadata": {},
   "outputs": [
    {
     "name": "stdout",
     "output_type": "stream",
     "text": [
      "<class 'pandas.core.frame.DataFrame'>\n",
      "RangeIndex: 0 entries\n",
      "Data columns (total 7 columns):\n",
      " #   Column          Non-Null Count  Dtype \n",
      "---  ------          --------------  ----- \n",
      " 0   Unnamed: 0      0 non-null      object\n",
      " 1   nama produk     0 non-null      object\n",
      " 2   harga produk    0 non-null      object\n",
      " 3   nama toko       0 non-null      object\n",
      " 4   lokasi toko     0 non-null      object\n",
      " 5   banyak terjual  0 non-null      object\n",
      " 6   rating produk   0 non-null      object\n",
      "dtypes: object(7)\n",
      "memory usage: 124.0+ bytes\n"
     ]
    }
   ],
   "source": [
    "# make sure data yang ingin kita analisis tipe datanya sudah sesuai\n",
    "data_analysis.info()"
   ]
  },
  {
   "cell_type": "markdown",
   "metadata": {},
   "source": [
    "## 1. Mean, Median, Standard Deviation, Skewness, Kurtosis"
   ]
  },
  {
   "cell_type": "code",
   "execution_count": 28,
   "metadata": {},
   "outputs": [],
   "source": [
    "# menghitung rata-rata, median, standar deviasi, skew, dan kurtosis dari masing-masing kolom\n",
    "\n",
    "# harga produk \n",
    "mean_hp = data_analysis['harga produk'].mean()\n",
    "median_hp = data_analysis['harga produk'].median()\n",
    "std_hp = data_analysis['harga produk'].std()\n",
    "skew_hp = data_analysis['harga produk'].skew()\n",
    "kurtosis_hp = data_analysis['harga produk'].kurtosis()\n",
    "\n",
    "# banyak terjual\n",
    "mean_bt = data_analysis['banyak terjual'].mean()\n",
    "median_bt = data_analysis['banyak terjual'].median()\n",
    "std_bt = data_analysis['banyak terjual'].std()\n",
    "skew_bt = data_analysis['banyak terjual'].skew()\n",
    "kurtosis_bt = data_analysis['banyak terjual'].kurtosis()\n",
    "\n",
    "# rating produk\n",
    "mean_r = data_analysis['rating produk'].mean()\n",
    "median_r = data_analysis['rating produk'].median()\n",
    "std_r = data_analysis['rating produk'].std()\n",
    "skew_r = data_analysis['rating produk'].skew()\n",
    "kurtosis_r = data_analysis['rating produk'].kurtosis()"
   ]
  },
  {
   "cell_type": "code",
   "execution_count": 29,
   "metadata": {},
   "outputs": [
    {
     "name": "stdout",
     "output_type": "stream",
     "text": [
      "         harga produk         \n",
      "          ---------           \n",
      "Mean \t\t\t= nan\n",
      "Median \t\t\t= nan\n",
      "Standar deviasi \t= nan\n",
      "Skewness \t\t= nan\n",
      "Kurtosis \t\t= nan\n",
      "\n",
      "        banyak terjual        \n",
      "          ---------           \n",
      "Mean \t\t\t= nan\n",
      "Median \t\t\t= nan\n",
      "Standar deviasi \t= nan\n",
      "Skewness \t\t= nan\n",
      "Kurtosis \t\t= nan\n",
      "\n",
      "        rating produk         \n",
      "          ---------           \n",
      "Mean \t\t\t= nan\n",
      "Median \t\t\t= nan\n",
      "Standar deviasi \t= nan\n",
      "Skewness \t\t= nan\n",
      "Kurtosis \t\t= nan\n",
      "          ---------           \n"
     ]
    }
   ],
   "source": [
    "# menampilkan hasil statistik\n",
    "\n",
    "print(f\"{'harga produk':^30}\")\n",
    "print(f\"{'---------':^30}\")\n",
    "print(f\"Mean \\t\\t\\t= {mean_hp:.2f}\")\n",
    "print(f\"Median \\t\\t\\t= {median_hp:.2f}\")\n",
    "print(f\"Standar deviasi \\t= {std_hp:.2f}\")\n",
    "print(f\"Skewness \\t\\t= {skew_hp:.2f}\")\n",
    "print(f\"Kurtosis \\t\\t= {kurtosis_hp:.2f}\")\n",
    "\n",
    "print(f\"\\n{'banyak terjual':^30}\")\n",
    "print(f\"{'---------':^30}\")\n",
    "print(f\"Mean \\t\\t\\t= {mean_bt:.2f}\")\n",
    "print(f\"Median \\t\\t\\t= {median_bt:.2f}\")\n",
    "print(f\"Standar deviasi \\t= {std_bt:.2f}\")\n",
    "print(f\"Skewness \\t\\t= {skew_bt:.2f}\")\n",
    "print(f\"Kurtosis \\t\\t= {kurtosis_bt:.2f}\")\n",
    "\n",
    "print(f\"\\n{'rating produk':^30}\")\n",
    "print(f\"{'---------':^30}\")\n",
    "print(f\"Mean \\t\\t\\t= {mean_r:.2f}\")\n",
    "print(f\"Median \\t\\t\\t= {median_r:.2f}\")\n",
    "print(f\"Standar deviasi \\t= {std_r:.2f}\")\n",
    "print(f\"Skewness \\t\\t= {skew_r:.2f}\")\n",
    "print(f\"Kurtosis \\t\\t= {kurtosis_r:.2f}\")\n",
    "print(f\"{'---------':^30}\")\n"
   ]
  },
  {
   "cell_type": "markdown",
   "metadata": {},
   "source": [
    "### **Insight**\n",
    "***'harga produk'***\n",
    "- **Mean dan Median**: harga produk rata-rata sekitar Rp21,074.81, tapi harga median lebih rendah yaitu Rp16,990.00. ini menunjukkan bahwa sebagian besar produk memiliki harga yang lebih rendah dari rata-rata, dengan beberapa produk yang memiliki harga sangat tinggi yang meningkatkan rata-rata (mungkin karena beberapa toko menjual dalam jumlah pcs yang berbeda, contoh toko A menjual per 100pcs sedangkan toko B menjual per 10pcs).\n",
    "- **Standar Deviasi**: standar deviasi yang tinggi (Rp20,672.20) menunjukkan variasi harga yang sangat besar di antara produk seblak.\n",
    "- **Skewness**: skewness yang positif (3.78) menunjukkan distribusi harga yang miring ke kanan, artinya ada beberapa produk dengan harga yang sangat tinggi.\n",
    "- **Kurtosis**: kurtosis yang sangat tinggi (20.63) menunjukkan bahwa distribusi harga memiliki banyak outlier atau harga yang ekstrem.\n",
    "\n",
    "***'banyak terjual'***\n",
    "- **Mean dan Median**: rata-rata penjualan sekitar 1,154.68 unit, tapi median jauh lebih rendah pada 250 unit. Ini menunjukkan bahwa sebagian besar produk terjual dalam jumlah yang lebih rendah, dengan beberapa produk terjual dalam jumlah sangat besar yang meningkatkan rata-rata.\n",
    "- **Standar Deviasi**: standar deviasi yang sangat tinggi (2,461.28 unit) menunjukkan bahwa ada variasi besar dalam jumlah produk yang terjual.\n",
    "- **Skewness**: skewness yang positif (2.93) menunjukkan distribusi jumlah terjual yang miring ke kanan, artinya ada beberapa produk yang terjual dalam jumlah sangat besar.\n",
    "- **Kurtosis**: kurtosis yang tinggi (7.63) menunjukkan bahwa distribusi jumlah terjual memiliki banyak outlier atau jumlah yang ekstrem.\n",
    "\n",
    "***'rating produk'***\n",
    "- **Mean dan Median**: rata-rata rating produk sangat tinggi pada 4.87, dengan median hampir sama yaitu 4.90. Ini menunjukkan bahwa mayoritas produk seblak mendapatkan rating yang sangat baik.\n",
    "- **Standar Deviasi**: standar deviasi yang rendah (0.12) menunjukkan bahwa rating produk cukup konsisten dan sebagian besar berada di sekitar rata-rata tinggi.\n",
    "- **Skewness**: skewness yang negatif (-2.23) menunjukkan distribusi rating yang miring ke kiri, artinya sebagian besar produk mendapatkan rating yang sangat tinggi.\n",
    "- **Kurtosis**: kurtosis yang sangat tinggi (12.00) menunjukkan bahwa distribusi rating memiliki beberapa outlier dengan rating yang ekstrem (mungkin didapat dari produk dengan rating yang sangat rendah)."
   ]
  },
  {
   "cell_type": "code",
   "execution_count": 30,
   "metadata": {},
   "outputs": [
    {
     "ename": "TypeError",
     "evalue": "no numeric data to plot",
     "output_type": "error",
     "traceback": [
      "\u001b[1;31m---------------------------------------------------------------------------\u001b[0m",
      "\u001b[1;31mTypeError\u001b[0m                                 Traceback (most recent call last)",
      "Cell \u001b[1;32mIn[30], line 5\u001b[0m\n\u001b[0;32m      2\u001b[0m fig, axes \u001b[38;5;241m=\u001b[39m plt\u001b[38;5;241m.\u001b[39msubplots(nrows\u001b[38;5;241m=\u001b[39m\u001b[38;5;241m3\u001b[39m, ncols\u001b[38;5;241m=\u001b[39m\u001b[38;5;241m2\u001b[39m, figsize\u001b[38;5;241m=\u001b[39m(\u001b[38;5;241m14\u001b[39m, \u001b[38;5;241m12\u001b[39m))\n\u001b[0;32m      4\u001b[0m \u001b[38;5;66;03m# plot untuk 'harga produk'\u001b[39;00m\n\u001b[1;32m----> 5\u001b[0m \u001b[43mdata_analysis\u001b[49m\u001b[43m[\u001b[49m\u001b[38;5;124;43m'\u001b[39;49m\u001b[38;5;124;43mharga produk\u001b[39;49m\u001b[38;5;124;43m'\u001b[39;49m\u001b[43m]\u001b[49m\u001b[38;5;241;43m.\u001b[39;49m\u001b[43mplot\u001b[49m\u001b[43m(\u001b[49m\u001b[43mkind\u001b[49m\u001b[38;5;241;43m=\u001b[39;49m\u001b[38;5;124;43m'\u001b[39;49m\u001b[38;5;124;43mhist\u001b[39;49m\u001b[38;5;124;43m'\u001b[39;49m\u001b[43m,\u001b[49m\u001b[43m \u001b[49m\u001b[43mbins\u001b[49m\u001b[38;5;241;43m=\u001b[39;49m\u001b[38;5;241;43m20\u001b[39;49m\u001b[43m,\u001b[49m\u001b[43m \u001b[49m\u001b[43max\u001b[49m\u001b[38;5;241;43m=\u001b[39;49m\u001b[43maxes\u001b[49m\u001b[43m[\u001b[49m\u001b[38;5;241;43m0\u001b[39;49m\u001b[43m,\u001b[49m\u001b[43m \u001b[49m\u001b[38;5;241;43m0\u001b[39;49m\u001b[43m]\u001b[49m\u001b[43m,\u001b[49m\u001b[43m \u001b[49m\u001b[43mcolor\u001b[49m\u001b[38;5;241;43m=\u001b[39;49m\u001b[38;5;124;43m'\u001b[39;49m\u001b[38;5;124;43mskyblue\u001b[39;49m\u001b[38;5;124;43m'\u001b[39;49m\u001b[43m,\u001b[49m\u001b[43m \u001b[49m\u001b[43medgecolor\u001b[49m\u001b[38;5;241;43m=\u001b[39;49m\u001b[38;5;124;43m'\u001b[39;49m\u001b[38;5;124;43mblack\u001b[39;49m\u001b[38;5;124;43m'\u001b[39;49m\u001b[43m)\u001b[49m\n\u001b[0;32m      6\u001b[0m axes[\u001b[38;5;241m0\u001b[39m, \u001b[38;5;241m0\u001b[39m]\u001b[38;5;241m.\u001b[39mset_title(\u001b[38;5;124m'\u001b[39m\u001b[38;5;124mHistogram Harga Produk\u001b[39m\u001b[38;5;124m'\u001b[39m)\n\u001b[0;32m      7\u001b[0m axes[\u001b[38;5;241m0\u001b[39m, \u001b[38;5;241m0\u001b[39m]\u001b[38;5;241m.\u001b[39mset_xlabel(\u001b[38;5;124m'\u001b[39m\u001b[38;5;124mHarga Produk\u001b[39m\u001b[38;5;124m'\u001b[39m)\n",
      "File \u001b[1;32m~\\AppData\\Roaming\\Python\\Python310\\site-packages\\pandas\\plotting\\_core.py:1030\u001b[0m, in \u001b[0;36mPlotAccessor.__call__\u001b[1;34m(self, *args, **kwargs)\u001b[0m\n\u001b[0;32m   1027\u001b[0m             label_name \u001b[38;5;241m=\u001b[39m label_kw \u001b[38;5;129;01mor\u001b[39;00m data\u001b[38;5;241m.\u001b[39mcolumns\n\u001b[0;32m   1028\u001b[0m             data\u001b[38;5;241m.\u001b[39mcolumns \u001b[38;5;241m=\u001b[39m label_name\n\u001b[1;32m-> 1030\u001b[0m \u001b[38;5;28;01mreturn\u001b[39;00m plot_backend\u001b[38;5;241m.\u001b[39mplot(data, kind\u001b[38;5;241m=\u001b[39mkind, \u001b[38;5;241m*\u001b[39m\u001b[38;5;241m*\u001b[39mkwargs)\n",
      "File \u001b[1;32m~\\AppData\\Roaming\\Python\\Python310\\site-packages\\pandas\\plotting\\_matplotlib\\__init__.py:71\u001b[0m, in \u001b[0;36mplot\u001b[1;34m(data, kind, **kwargs)\u001b[0m\n\u001b[0;32m     69\u001b[0m         kwargs[\u001b[38;5;124m\"\u001b[39m\u001b[38;5;124max\u001b[39m\u001b[38;5;124m\"\u001b[39m] \u001b[38;5;241m=\u001b[39m \u001b[38;5;28mgetattr\u001b[39m(ax, \u001b[38;5;124m\"\u001b[39m\u001b[38;5;124mleft_ax\u001b[39m\u001b[38;5;124m\"\u001b[39m, ax)\n\u001b[0;32m     70\u001b[0m plot_obj \u001b[38;5;241m=\u001b[39m PLOT_CLASSES[kind](data, \u001b[38;5;241m*\u001b[39m\u001b[38;5;241m*\u001b[39mkwargs)\n\u001b[1;32m---> 71\u001b[0m \u001b[43mplot_obj\u001b[49m\u001b[38;5;241;43m.\u001b[39;49m\u001b[43mgenerate\u001b[49m\u001b[43m(\u001b[49m\u001b[43m)\u001b[49m\n\u001b[0;32m     72\u001b[0m plot_obj\u001b[38;5;241m.\u001b[39mdraw()\n\u001b[0;32m     73\u001b[0m \u001b[38;5;28;01mreturn\u001b[39;00m plot_obj\u001b[38;5;241m.\u001b[39mresult\n",
      "File \u001b[1;32m~\\AppData\\Roaming\\Python\\Python310\\site-packages\\pandas\\plotting\\_matplotlib\\core.py:499\u001b[0m, in \u001b[0;36mMPLPlot.generate\u001b[1;34m(self)\u001b[0m\n\u001b[0;32m    497\u001b[0m \u001b[38;5;129m@final\u001b[39m\n\u001b[0;32m    498\u001b[0m \u001b[38;5;28;01mdef\u001b[39;00m \u001b[38;5;21mgenerate\u001b[39m(\u001b[38;5;28mself\u001b[39m) \u001b[38;5;241m-\u001b[39m\u001b[38;5;241m>\u001b[39m \u001b[38;5;28;01mNone\u001b[39;00m:\n\u001b[1;32m--> 499\u001b[0m     \u001b[38;5;28;43mself\u001b[39;49m\u001b[38;5;241;43m.\u001b[39;49m\u001b[43m_compute_plot_data\u001b[49m\u001b[43m(\u001b[49m\u001b[43m)\u001b[49m\n\u001b[0;32m    500\u001b[0m     fig \u001b[38;5;241m=\u001b[39m \u001b[38;5;28mself\u001b[39m\u001b[38;5;241m.\u001b[39mfig\n\u001b[0;32m    501\u001b[0m     \u001b[38;5;28mself\u001b[39m\u001b[38;5;241m.\u001b[39m_make_plot(fig)\n",
      "File \u001b[1;32m~\\AppData\\Roaming\\Python\\Python310\\site-packages\\pandas\\plotting\\_matplotlib\\core.py:698\u001b[0m, in \u001b[0;36mMPLPlot._compute_plot_data\u001b[1;34m(self)\u001b[0m\n\u001b[0;32m    696\u001b[0m \u001b[38;5;66;03m# no non-numeric frames or series allowed\u001b[39;00m\n\u001b[0;32m    697\u001b[0m \u001b[38;5;28;01mif\u001b[39;00m is_empty:\n\u001b[1;32m--> 698\u001b[0m     \u001b[38;5;28;01mraise\u001b[39;00m \u001b[38;5;167;01mTypeError\u001b[39;00m(\u001b[38;5;124m\"\u001b[39m\u001b[38;5;124mno numeric data to plot\u001b[39m\u001b[38;5;124m\"\u001b[39m)\n\u001b[0;32m    700\u001b[0m \u001b[38;5;28mself\u001b[39m\u001b[38;5;241m.\u001b[39mdata \u001b[38;5;241m=\u001b[39m numeric_data\u001b[38;5;241m.\u001b[39mapply(\u001b[38;5;28mtype\u001b[39m(\u001b[38;5;28mself\u001b[39m)\u001b[38;5;241m.\u001b[39m_convert_to_ndarray)\n",
      "\u001b[1;31mTypeError\u001b[0m: no numeric data to plot"
     ]
    },
    {
     "data": {
      "image/png": "[encoded data removed]",
      "text/plain": [
       "<Figure size 1400x1200 with 6 Axes>"
      ]
     },
     "metadata": {},
     "output_type": "display_data"
    }
   ],
   "source": [
    "# mengplot hasil statistik agar audience lebih mudah melihat data\n",
    "fig, axes = plt.subplots(nrows=3, ncols=2, figsize=(14, 12))\n",
    "\n",
    "# plot untuk 'harga produk'\n",
    "data_analysis['harga produk'].plot(kind='hist', bins=20, ax=axes[0, 0], color='skyblue', edgecolor='black')\n",
    "axes[0, 0].set_title('Histogram Harga Produk')\n",
    "axes[0, 0].set_xlabel('Harga Produk')\n",
    "axes[0, 0].set_ylabel('Frekuensi')\n",
    "\n",
    "data_analysis['harga produk'].plot(kind='box', ax=axes[0, 1], vert=False, patch_artist=True, boxprops=dict(facecolor='skyblue'))\n",
    "axes[0, 1].set_title('Box Plot Harga Produk')\n",
    "axes[0, 1].set_xlabel('Harga Produk')\n",
    "\n",
    "# plot untuk 'banyak terjual'\n",
    "data_analysis['banyak terjual'].plot(kind='hist', bins=20, ax=axes[1, 0], color='lightgreen', edgecolor='black')\n",
    "axes[1, 0].set_title('Histogram Banyak Terjual')\n",
    "axes[1, 0].set_xlabel('Banyak Terjual')\n",
    "axes[1, 0].set_ylabel('Frekuensi')\n",
    "\n",
    "data_analysis['banyak terjual'].plot(kind='box', ax=axes[1, 1], vert=False, patch_artist=True, boxprops=dict(facecolor='lightgreen'))\n",
    "axes[1, 1].set_title('Box Plot Banyak Terjual')\n",
    "axes[1, 1].set_xlabel('Banyak Terjual')\n",
    "\n",
    "# plot untuk 'rating produk'\n",
    "data_analysis['rating produk'].plot(kind='hist', bins=20, ax=axes[2, 0], color='lightcoral', edgecolor='black')\n",
    "axes[2, 0].set_title('Histogram Rating Produk')\n",
    "axes[2, 0].set_xlabel('Rating Produk')\n",
    "axes[2, 0].set_ylabel('Frekuensi')\n",
    "\n",
    "data_analysis['rating produk'].plot(kind='box', ax=axes[2, 1], vert=False, patch_artist=True, boxprops=dict(facecolor='lightcoral'))\n",
    "axes[2, 1].set_title('Box Plot Rating Produk')\n",
    "axes[2, 1].set_xlabel('Rating Produk')\n",
    "\n",
    "plt.tight_layout()\n",
    "plt.show()\n"
   ]
  },
  {
   "cell_type": "markdown",
   "metadata": {},
   "source": [
    "## 2. Potensi minimum & maksimum jika menjual produk seblak"
   ]
  },
  {
   "cell_type": "code",
   "execution_count": null,
   "metadata": {},
   "outputs": [],
   "source": [
    "# menghitung pendapatan per bulan\n",
    "data_analysis['pendapatan'] = data_analysis['harga produk'] * data_analysis['banyak terjual']\n",
    "\n",
    "# menghitung rata-rata dan standar deviasi dari pendapatan\n",
    "mean_pendapatan = data_analysis['pendapatan'].mean()\n",
    "std_pendapatan = data_analysis['pendapatan'].std()\n",
    "\n",
    "# menghitung confidence level, menggunakan metode z-score\n",
    "confidence_level = 0.95\n",
    "z_score = stats.norm.ppf((1 + confidence_level) / 2)\n",
    "\n",
    "# menghitung margin of error\n",
    "margin_of_error = z_score * (std_pendapatan / np.sqrt(len(data_analysis['pendapatan'])))\n",
    "\n",
    "# menghitung confidence interval\n",
    "lower_bound = mean_pendapatan - margin_of_error\n",
    "upper_bound = mean_pendapatan + margin_of_error\n",
    "\n",
    "# hasil\n",
    "print(f\"Rata-rata pendapatan\\t\\t\\t: {mean_pendapatan:.2f}\")\n",
    "print(f\"Standar deviasi pendapatan\\t\\t: {std_pendapatan:.2f}\")\n",
    "print(f\"Margin of Error\\t\\t\\t\\t: {margin_of_error:.2f}\")\n",
    "print(f\"95% Confidence Interval for Pendapatan\\t: ({lower_bound:.2f}, {upper_bound:.2f})\")\n"
   ]
  },
  {
   "cell_type": "markdown",
   "metadata": {},
   "source": [
    "dari hasil tersebut\n",
    "- potensi minimum pendapatan menjual seblak adalah Rp17.629.188/bulan\n",
    "- potensi maximum pendapatan menjual seblak adalah Rp34.794.635/bulan"
   ]
  },
  {
   "cell_type": "code",
   "execution_count": null,
   "metadata": {},
   "outputs": [],
   "source": [
    "# memastikan kolom pendapatan sudah berhasil ditambahkan\n",
    "data_analysis.info()"
   ]
  },
  {
   "cell_type": "code",
   "execution_count": null,
   "metadata": {},
   "outputs": [],
   "source": [
    "# memastikan kolom pendapatan berhasil ditambahkan\n",
    "data_analysis.head(3)"
   ]
  },
  {
   "cell_type": "markdown",
   "metadata": {},
   "source": [
    "## 3. Perbandingan harga antara Jabodetabek dan di luar Jabodetabek"
   ]
  },
  {
   "cell_type": "markdown",
   "metadata": {},
   "source": [
    "<h4> Hipotesis\n",
    "\n",
    "- H0: Harga barang di Jabodetabek dan luar Jabodetabek tidak berbeda signifikan\n",
    "> μ₁ = μ₂\n",
    "- H1 : Harga barang di Jabodetabek dan luar Jabodetabek berbeda signifikan \n",
    "> μ₁ ≠ μ₂\n",
    "\n"
   ]
  },
  {
   "cell_type": "code",
   "execution_count": null,
   "metadata": {},
   "outputs": [],
   "source": [
    "# cek dimana saja lokasi toko\n",
    "data_analysis['lokasi toko'].value_counts()"
   ]
  },
  {
   "cell_type": "code",
   "execution_count": null,
   "metadata": {},
   "outputs": [],
   "source": [
    "# membuat list yang berisikan kota-kota Jabodetabek\n",
    "jabodetabek = ['Jakarta Selatan','Jakarta Timur','Jakarta Pusat','Jakarta Utara','Jakarta Barat ','Tangerang Selatan','Kab. Tangerang','Tangerang','Depok','Kab. Bogor','Bogor']\n",
    "\n",
    "# membuat kolom baru yang mengklasifikasikan lokasi toko apakah jabodetabek atau bukan\n",
    "data_analysis['lokasi'] = np.where(data_analysis['lokasi toko'].isin(jabodetabek), 'Jabodetabek', 'Luar Jabodetabek')"
   ]
  },
  {
   "cell_type": "code",
   "execution_count": null,
   "metadata": {},
   "outputs": [],
   "source": [
    "# cek kolom\n",
    "data_analysis.head(3)"
   ]
  },
  {
   "cell_type": "code",
   "execution_count": null,
   "metadata": {},
   "outputs": [],
   "source": [
    "# menghitung harga produk rata-rata di Jabodetabek dan luar Jabodetabek\n",
    "harga_jabodetabek = data_analysis[data_analysis['lokasi'] == 'Jabodetabek']['harga produk'].mean()\n",
    "harga_luar_jabodetabek = data_analysis[data_analysis['lokasi'] != 'Jabodetabek']['harga produk'].mean()\n",
    "\n",
    "# hipotesis\n",
    "h0 = np.mean(data_analysis[data_analysis['lokasi'] == 'Jabodetabek']['harga produk']) != np.mean(data_analysis[data_analysis['lokasi'] != 'Jabodetabek']['harga produk'])\n",
    "h1 = np.mean(data_analysis[data_analysis['lokasi'] == 'Jabodetabek']['harga produk']) == np.mean(data_analysis[data_analysis['lokasi'] != 'Jabodetabek']['harga produk'])\n",
    "\n",
    "# uji t-test\n",
    "t_stat, p_value = stats.ttest_ind(data_analysis[data_analysis['lokasi'] == 'Jabodetabek']['harga produk'], data_analysis[data_analysis['lokasi'] != 'Jabodetabek']['harga produk'])\n",
    "\n",
    "# Tampilkan hasil uji hipotesis\n",
    "print(f\"Rata-rata harga produk di Jabodetabek\\t\\t: {harga_jabodetabek}\")\n",
    "print(f\"Rata-rata harga produk di Luar Jabodetabek\\t: {harga_luar_jabodetabek}\")\n",
    "print(f\"T-stats\\t\\t\\t\\t\\t\\t: {t_stat}\")\n",
    "print(f\"P-Value\\t\\t\\t\\t\\t\\t: {p_value}\")\n",
    "\n",
    "print(\"\")\n",
    "# hasil hipotesis\n",
    "if p_value < 0.05:\n",
    "    print('Hipotesis nol ditolak')\n",
    "else:\n",
    "    print('Hipotesis nol diterima')"
   ]
  },
  {
   "cell_type": "markdown",
   "metadata": {},
   "source": [
    "**Penjelasan:**\n",
    "\n",
    "- Pada uji hipotesis kali ini kita menggunakan t-stat dikarnakan size sample lebih dari 30, dan jenis hipotesis komparatif yang menggunakan hipotesis dua sisi (two-tailed hypothesis)\n",
    "\n",
    "- T-stats: Nilai t-stats yang rendah (-0.21) nilai ini menunjukkan perbedaan rata-rata harga antara Jabodetabek dan luar Jabodetabek sangat kecil\n",
    "\n",
    "- P-value: Nilai p-value yang tinggi (0.84) jauh lebih besar dari tingkat signifikansi (0.05). ini menunjukkan bahwa tidak ada bukti yang cukup untuk menolak hipotesis null\n",
    "\n",
    "Berdasarkan data yang tersedia, tidak ada bukti yang cukup kuat untuk menunjukkan bahwa harga barang di Jabodetabek berbeda secara signifikan dengan harga di luar Jabodetabek. Perbedaan kecil pada rata-rata harga mungkin karna faktor lain selain biaya bahan baku, seperti biaya transportasi, permintaan, dan penawaran.\n"
   ]
  },
  {
   "cell_type": "markdown",
   "metadata": {},
   "source": [
    "## 4. Apakah orang lebih cenderung suka dengan produk yang harganya murah?"
   ]
  },
  {
   "cell_type": "code",
   "execution_count": null,
   "metadata": {},
   "outputs": [],
   "source": [
    "# plotting \n",
    "sns.lmplot(data = data_analysis,x='rating produk',y='harga produk')"
   ]
  },
  {
   "cell_type": "markdown",
   "metadata": {},
   "source": [
    "#### Pearson Correlation (Hubungan Linear)"
   ]
  },
  {
   "cell_type": "code",
   "execution_count": null,
   "metadata": {},
   "outputs": [],
   "source": [
    "# uji korelasi pearson\n",
    "corr_r , pval_p = stats.pearsonr(data_analysis['harga produk'],data_analysis['rating produk'])\n",
    "\n",
    "print(f\"r-correlation: {corr_r:.2f}\\np-value : {pval_p}\")"
   ]
  },
  {
   "cell_type": "markdown",
   "metadata": {},
   "source": [
    "- Terdapat hubungan korelasi negatif antara rating produk dan harga produk.\n",
    "- Artinya, semakin tinggi harga produk, semakin rendah rating produknya.\n",
    "- Namun, nilai koefisien korelasinya kecil (kurang dari 0.3), menunjukkan bahwa hubungannya lemah.\n",
    "- Nilai p jauh lebih kecil dari 0.05 (tingkat signifikansi umum), menunjukkan bahwa terdapat bukti statistik yang kuat untuk menolak hipotesis null (H0) yang menyatakan bahwa tidak terdapat hubungan antara rating produk dan harga produk."
   ]
  },
  {
   "cell_type": "markdown",
   "metadata": {},
   "source": [
    "#### Spearman Correlation (Hubungan Non-Linear)"
   ]
  },
  {
   "cell_type": "code",
   "execution_count": null,
   "metadata": {},
   "outputs": [],
   "source": [
    "# uji korelasi spearman\n",
    "if len(data_analysis['harga produk']) == len(data_analysis['rating produk']):\n",
    "    corr_a, pval_b = stats.spearmanr(data_analysis['harga produk'].values.reshape(-1,1), data_analysis['rating produk'].values.reshape(-1,1))\n",
    "    print(f\"Spearman correlation: {corr_a:.2f}\\np-value: {pval_b}\")"
   ]
  },
  {
   "cell_type": "markdown",
   "metadata": {},
   "source": [
    "- Terdapat hubungan korelasi non-linear yang lemah antara rating produk dan harga produk.\n",
    "- Arah hubungannya tidak dapat ditentukan secara pasti.\n",
    "- Nilai p lebih besar dari 0.05 (tingkat signifikansi umum), menunjukkan bahwa tidak terdapat bukti statistik yang cukup untuk menolak hipotesis null (H0) yang menyatakan bahwa tidak terdapat hubungan antara rating produk dan harga produk."
   ]
  },
  {
   "cell_type": "markdown",
   "metadata": {},
   "source": [
    "# E. Conclusion"
   ]
  },
  {
   "cell_type": "markdown",
   "metadata": {},
   "source": [
    "#### 1. Mean, Median, Standard Deviation, Skewness, Kurtosis\n",
    "\n",
    "**Harga Produk:**\n",
    "\n",
    "* Rata-rata: Rp21.074,81\n",
    "* Median: Rp16.990,00\n",
    "* Variasi harga tinggi (standar deviasi Rp20.672,20)\n",
    "* Banyak produk dengan harga murah, beberapa dengan harga sangat tinggi (skewness 3.78)\n",
    "* Beberapa produk memiliki harga ekstrem (kurtosis 20.63)\n",
    "\n",
    "**Banyak Terjual:**\n",
    "\n",
    "* Rata-rata: 1.154,68 unit\n",
    "* Median: 250 unit\n",
    "* Variasi jumlah terjual besar (standar deviasi 2.461,28 unit)\n",
    "* Banyak produk terjual sedikit, beberapa terjual sangat banyak (skewness 2.93)\n",
    "* Beberapa produk terjual dalam jumlah ekstrem (kurtosis 7.63)\n",
    "\n",
    "**Rating Produk:**\n",
    "\n",
    "* Rata-rata: 4.87\n",
    "* Median: 4.90\n",
    "* Rating tinggi dan konsisten (standar deviasi 0.12)\n",
    "* Mayoritas produk mendapat rating sangat baik (skewness -2.23)\n",
    "* Beberapa produk memiliki rating jauh lebih tinggi dibanding rating produk/toko lainya (kurtosis 12.00)\n",
    "\n",
    "***Kesimpulan:***\n",
    "\n",
    "Harga produk bervariasi besar, dengan beberapa produk memiliki harga sangat tinggi.\n",
    "Sebagian besar produk terjual dalam jumlah sedikit, dengan beberapa produk terjual sangat banyak.\n",
    "Mayoritas produk mendapat rating sangat baik.\n"
   ]
  },
  {
   "cell_type": "markdown",
   "metadata": {},
   "source": [
    "#### 2. Potensi minimum & maksimum jika menjual produk seblak\n",
    "\n",
    "* Rata-rata Pendapatan Bulanan: Rp26.211.911,83\n",
    "\n",
    "* Variasi Pendapatan Bulanan:\n",
    "\n",
    "    - Standar Deviasi: Rp62.850.777,02\n",
    "    - Lower Bound: Rp17.629.188,13\n",
    "    - Upper Bound: Rp34.794.635,54\n",
    "\n",
    "* Potensi Pendapatan Bulanan (95% Confidence Interval):\n",
    "\n",
    "    - Minimum: Rp17.629.188,13\n",
    "    - Maksimum: Rp34.794.635,54\n",
    "\n",
    "***Kesimpulan:***\n",
    "\n",
    "Berdasarkan data yang tersedia, potensi pendapatan bulanan dari penjualan seblak bervariasi antara Rp17.629.188,13 dan Rp34.794.635,54 dengan tingkat kepercayaan 95%."
   ]
  },
  {
   "cell_type": "markdown",
   "metadata": {},
   "source": [
    "#### 3. Perbandingan harga antara Jabodetabek dan di luar Jabodetabek\n",
    "\n",
    "- Hipotesis:\n",
    "    * Hipotesis Nol (H0): Tidak terdapat perbedaan yang signifikan antara harga barang di Jabodetabek dan luar Jabodetabek.\n",
    "    * Hipotesis Alternatif (H1): Terdapat perbedaan yang signifikan antara harga barang di Jabodetabek dan luar Jabodetabek.\n",
    "\n",
    "- Jenis Uji Hipotesis:\n",
    "    * Uji t dua sampel, karena sampel lebih dari 30 dan hipotesis komparatif dengan dua sisi (two-tailed hypothesis).\n",
    "\n",
    "- Hasil:\n",
    "    * T-statistik: -0.20776693636456778\n",
    "    * Nilai P: 0.8356182173095233\n",
    "\n",
    "***Kesimpulan:***\n",
    "\n",
    "Meskipun biaya bahan baku berbeda di Jabodetabek dan luar Jabodetabek, data menunjukkan bahwa tidak terdapat perbedaan yang signifikan dalam harga barang di kedua lokasi. Hal ini menunjukkan bahwa faktor lain, seperti biaya transportasi, permintaan, dan penawaran, mungkin memainkan peran yang lebih besar dalam menentukan harga barang."
   ]
  },
  {
   "cell_type": "markdown",
   "metadata": {},
   "source": [
    "#### 4. Apakah orang lebih cenderung suka dengan produk yang harganya murah?\n",
    "\n",
    "- Terdapat hubungan korelasi negatif yang lemah antara rating produk dan harga produk. Artinya, semakin tinggi harga produk, semakin rendah rating produknya.\n",
    "- Hubungan ini lemah, dengan nilai koefisien korelasi Pearson sebesar -0.21.\n",
    "- Hubungan ini berstatistik signifikan, dengan nilai p-value Pearson jauh lebih kecil dari 0.05.\n",
    "- Hubungan non-linear antara rating produk dan harga produk tidak dapat ditentukan secara pasti, dengan nilai koefisien korelasi Spearman sebesar 0.06 dan nilai p-value Spearman lebih besar dari 0.05.\n",
    "\n",
    "***Kesimpulan:***\n",
    "\n",
    "Meskipun terdapat hubungan korelasi negatif yang lemah antara rating produk dan harga produk, masih banyak faktor lain yang perlu dipertimbangkan untuk menentukan apakah orang lebih cenderung suka dengan produk yang harganya murah."
   ]
  }
 ],
 "metadata": {
  "kernelspec": {
   "display_name": "Python 3",
   "language": "python",
   "name": "python3"
  },
  "language_info": {
   "codemirror_mode": {
    "name": "ipython",
    "version": 3
   },
   "file_extension": ".py",
   "mimetype": "text/x-python",
   "name": "python",
   "nbconvert_exporter": "python",
   "pygments_lexer": "ipython3",
   "version": "3.11.11"
  }
 },
 "nbformat": 4,
 "nbformat_minor": 2
}
