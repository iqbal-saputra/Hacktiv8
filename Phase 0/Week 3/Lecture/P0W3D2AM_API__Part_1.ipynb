{
  "cells": [
    {
      "cell_type": "markdown",
      "metadata": {
        "id": "_sYB7fYd3KT5"
      },
      "source": [
        "# Fetching Data"
      ]
    },
    {
      "cell_type": "markdown",
      "metadata": {
        "id": "9vfqh3dw-Fq9"
      },
      "source": [
        "## Using `requests`"
      ]
    },
    {
      "cell_type": "markdown",
      "metadata": {
        "id": "KhUsETxwVi1W"
      },
      "source": [
        "`requests` used for making HTTP requests to interact with APIs and web services. It provides a simple and user-friendly interface for sending various types of HTTP requests, such as GET, POST, PUT, DELETE, etc., and handling responses. The `requests` library is widely used for web scraping, API integration, and making HTTP calls in general.\n",
        "\n",
        "Next, we will send HTTP requests, specifically `GET` to access an API that stores weather and earthquake data in Indonesia."
      ]
    },
    {
      "cell_type": "code",
      "execution_count": 1,
      "metadata": {
        "id": "R-WhXtCowg6S"
      },
      "outputs": [],
      "source": [
        "import requests"
      ]
    },
    {
      "cell_type": "markdown",
      "metadata": {
        "id": "bgZCj2zeWJiX"
      },
      "source": [
        "To access the API, we just call the `.get` method and input the API's url. The output will be an information of request status. If we successfully access the API, it will give a 200 response."
      ]
    },
    {
      "cell_type": "code",
      "execution_count": 2,
      "metadata": {
        "colab": {
          "base_uri": "https://localhost:8080/"
        },
        "id": "fqo_65Dn69YF",
        "outputId": "90f35bd4-ce81-4f9c-9bea-b7bc0e3da6f1"
      },
      "outputs": [
        {
          "data": {
            "text/plain": [
              "<Response [200]>"
            ]
          },
          "execution_count": 2,
          "metadata": {},
          "output_type": "execute_result"
        }
      ],
      "source": [
        "response = requests.get(\"https://cuaca-gempa-rest-api.vercel.app\")\n",
        "response"
      ]
    },
    {
      "cell_type": "markdown",
      "metadata": {
        "id": "77-G9fAnWby2"
      },
      "source": [
        "We can specifically access the response status code by `.status_code` attribute."
      ]
    },
    {
      "cell_type": "code",
      "execution_count": 3,
      "metadata": {
        "colab": {
          "base_uri": "https://localhost:8080/"
        },
        "id": "Ry8Opa9jFMR5",
        "outputId": "3f5e3843-0383-4696-8c41-eedeb64416cc"
      },
      "outputs": [
        {
          "data": {
            "text/plain": [
              "['__attrs__',\n",
              " '__bool__',\n",
              " '__class__',\n",
              " '__delattr__',\n",
              " '__dict__',\n",
              " '__dir__',\n",
              " '__doc__',\n",
              " '__enter__',\n",
              " '__eq__',\n",
              " '__exit__',\n",
              " '__format__',\n",
              " '__ge__',\n",
              " '__getattribute__',\n",
              " '__getstate__',\n",
              " '__gt__',\n",
              " '__hash__',\n",
              " '__init__',\n",
              " '__init_subclass__',\n",
              " '__iter__',\n",
              " '__le__',\n",
              " '__lt__',\n",
              " '__module__',\n",
              " '__ne__',\n",
              " '__new__',\n",
              " '__nonzero__',\n",
              " '__reduce__',\n",
              " '__reduce_ex__',\n",
              " '__repr__',\n",
              " '__setattr__',\n",
              " '__setstate__',\n",
              " '__sizeof__',\n",
              " '__str__',\n",
              " '__subclasshook__',\n",
              " '__weakref__',\n",
              " '_content',\n",
              " '_content_consumed',\n",
              " '_next',\n",
              " 'apparent_encoding',\n",
              " 'close',\n",
              " 'connection',\n",
              " 'content',\n",
              " 'cookies',\n",
              " 'elapsed',\n",
              " 'encoding',\n",
              " 'headers',\n",
              " 'history',\n",
              " 'is_permanent_redirect',\n",
              " 'is_redirect',\n",
              " 'iter_content',\n",
              " 'iter_lines',\n",
              " 'json',\n",
              " 'links',\n",
              " 'next',\n",
              " 'ok',\n",
              " 'raise_for_status',\n",
              " 'raw',\n",
              " 'reason',\n",
              " 'request',\n",
              " 'status_code',\n",
              " 'text',\n",
              " 'url']"
            ]
          },
          "execution_count": 3,
          "metadata": {},
          "output_type": "execute_result"
        }
      ],
      "source": [
        "dir(response)"
      ]
    },
    {
      "cell_type": "code",
      "execution_count": 4,
      "metadata": {
        "colab": {
          "base_uri": "https://localhost:8080/"
        },
        "id": "hcp5QOrq-Rm5",
        "outputId": "5b13dd0a-81dd-4de3-ecec-aef2e542a503"
      },
      "outputs": [
        {
          "data": {
            "text/plain": [
              "200"
            ]
          },
          "execution_count": 4,
          "metadata": {},
          "output_type": "execute_result"
        }
      ],
      "source": [
        "response.status_code"
      ]
    },
    {
      "cell_type": "markdown",
      "metadata": {
        "id": "NvQZEyPZWjOH"
      },
      "source": [
        "All data or information that stored in API, will be in `json` format. So, by default, we can extract the json from the API using `.json()` method."
      ]
    },
    {
      "cell_type": "code",
      "execution_count": 5,
      "metadata": {
        "colab": {
          "base_uri": "https://localhost:8080/"
        },
        "id": "4K5TVULZ7GjS",
        "outputId": "f6e30601-f419-4362-bf88-b3638fe58c16"
      },
      "outputs": [
        {
          "data": {
            "text/plain": [
              "{'maintainer': 'Renova Muhamad Reza',\n",
              " 'source': 'https://github.com/renomureza/cuaca-gempa-rest-api',\n",
              " 'endpoint': {'quake': 'https://cuaca-gempa-rest-api.vercel.app/quake',\n",
              "  'weather': {'province': {'example': 'https://cuaca-gempa-rest-api.vercel.app/weather/jawa-barat'},\n",
              "   'city': {'example': 'https://cuaca-gempa-rest-api.vercel.app/weather/jawa-barat/bandung'}}}}"
            ]
          },
          "execution_count": 5,
          "metadata": {},
          "output_type": "execute_result"
        }
      ],
      "source": [
        "response.json()"
      ]
    },
    {
      "cell_type": "markdown",
      "metadata": {
        "id": "v8cQvlBtW5Jx"
      },
      "source": [
        "Another example. We access the latest earthquake event:"
      ]
    },
    {
      "cell_type": "code",
      "execution_count": 6,
      "metadata": {
        "colab": {
          "base_uri": "https://localhost:8080/"
        },
        "id": "xZAVI6DXE4f9",
        "outputId": "31d60812-34a2-42eb-c555-cc199d0883de"
      },
      "outputs": [
        {
          "name": "stdout",
          "output_type": "stream",
          "text": [
            "200\n"
          ]
        },
        {
          "data": {
            "text/plain": [
              "{'success': True,\n",
              " 'message': None,\n",
              " 'data': {'tanggal': '03 Jun 2024',\n",
              "  'jam': '04:43:44 WIB',\n",
              "  'datetime': '2024-06-02T21:43:44+00:00',\n",
              "  'coordinates': '-2.77,138.89',\n",
              "  'lintang': '2.77 LS',\n",
              "  'bujur': '138.89 BT',\n",
              "  'magnitude': '5.0',\n",
              "  'kedalaman': '31 km',\n",
              "  'wilayah': 'Pusat gempa berada di darat 77 km tenggara Mamberamo Tengah',\n",
              "  'potensi': 'Gempa ini dirasakan untuk diteruskan pada masyarakat',\n",
              "  'dirasakan': 'II - III Wamena, II Sarmi',\n",
              "  'shakemap': 'https://data.bmkg.go.id/DataMKG/TEWS/20240603044344.mmi.jpg'}}"
            ]
          },
          "execution_count": 6,
          "metadata": {},
          "output_type": "execute_result"
        }
      ],
      "source": [
        "url = 'https://cuaca-gempa-rest-api.vercel.app/quake'\n",
        "response = requests.get(url)\n",
        "\n",
        "print(response.status_code)\n",
        "response.json()"
      ]
    },
    {
      "cell_type": "markdown",
      "metadata": {
        "id": "wt_LsObjXAkg"
      },
      "source": [
        "We can interact with data in the API by set the input parameter. The input parameters will be unique for each API and you only know by the documentation.\n",
        "\n",
        "Example below, we want to know the currency rate of USD to IDR."
      ]
    },
    {
      "cell_type": "code",
      "execution_count": 7,
      "metadata": {
        "colab": {
          "base_uri": "https://localhost:8080/"
        },
        "id": "x7OMRseLELip",
        "outputId": "15ec1baf-44e5-4587-f0c9-b2fddebfcf73"
      },
      "outputs": [
        {
          "name": "stdout",
          "output_type": "stream",
          "text": [
            "{'success': False, 'error': {'code': 101, 'type': 'missing_access_key', 'info': 'You have not supplied an API Access Key. [Required format: access_key=YOUR_ACCESS_KEY]'}}\n"
          ]
        }
      ],
      "source": [
        "url = 'https://api.exchangerate.host/convert?from=USD&to=IDR'\n",
        "response = requests.get(url)\n",
        "data = response.json()\n",
        "\n",
        "print(data)"
      ]
    },
    {
      "cell_type": "code",
      "execution_count": 8,
      "metadata": {
        "colab": {
          "base_uri": "https://localhost:8080/"
        },
        "id": "_fR3JkEXulSe",
        "outputId": "a25cf0ec-1d5d-4829-8e96-da467633c23f"
      },
      "outputs": [
        {
          "name": "stdout",
          "output_type": "stream",
          "text": [
            "{'error': {'code': 101,\n",
            "           'info': 'You have not supplied an API Access Key. [Required format: '\n",
            "                   'access_key=YOUR_ACCESS_KEY]',\n",
            "           'type': 'missing_access_key'},\n",
            " 'success': False}\n"
          ]
        }
      ],
      "source": [
        "# [UPDATE] To display the results vertically rather than horizontally\n",
        "\n",
        "from pprint import pprint\n",
        "pprint(data)"
      ]
    },
    {
      "cell_type": "markdown",
      "metadata": {
        "id": "fMb6jC1z-Ivx"
      },
      "source": [
        "## Read Data from API with Pandas\n",
        "\n",
        "Pandas is a powerful library to read and manipulation data. Pandas can read json that stored in API (online) or a json file, and then stored to a Data Frame."
      ]
    },
    {
      "cell_type": "code",
      "execution_count": 9,
      "metadata": {
        "colab": {
          "base_uri": "https://localhost:8080/"
        },
        "id": "4mGtWV5EFIs7",
        "outputId": "3b4ef05d-a9a4-492e-d650-4423c964a413"
      },
      "outputs": [
        {
          "name": "stdout",
          "output_type": "stream",
          "text": [
            "403\n"
          ]
        }
      ],
      "source": [
        "import pandas as pd\n",
        "import json\n",
        "\n",
        "url = 'https://data.jabarprov.go.id/api-backend/bigdata/diskanlut/od_15086_angka_konsumsi_ikan_berdasarkan_tahun'\n",
        "response = requests.get(url)\n",
        "\n",
        "print(response.status_code)\n",
        "json = response.json()"
      ]
    },
    {
      "cell_type": "markdown",
      "metadata": {
        "id": "KL2JJgkwXpLc"
      },
      "source": [
        "As you know that json is the same as Python dictionary so we can access the keys and the values. For example, we access the keys to give us an overview about the data location."
      ]
    },
    {
      "cell_type": "code",
      "execution_count": 10,
      "metadata": {
        "colab": {
          "base_uri": "https://localhost:8080/"
        },
        "id": "3-aQnEnYMq9y",
        "outputId": "a0f3a04f-5e3a-4e60-cb89-aaabd2f59106"
      },
      "outputs": [
        {
          "data": {
            "text/plain": [
              "dict_keys(['message', 'error', 'data'])"
            ]
          },
          "execution_count": 10,
          "metadata": {},
          "output_type": "execute_result"
        }
      ],
      "source": [
        "json.keys()"
      ]
    },
    {
      "cell_type": "markdown",
      "metadata": {
        "id": "G3muKo_3X40w"
      },
      "source": [
        "It seems that the data are stored in `data` key. To make sure our assumption, we need to transform the json into data frame using `pd.json_normalize` or `pd.read_json`"
      ]
    },
    {
      "cell_type": "code",
      "execution_count": 11,
      "metadata": {
        "colab": {
          "base_uri": "https://localhost:8080/"
        },
        "id": "EnIG5QqEQU8-",
        "outputId": "b11e6bdc-ca82-4eb8-b981-27875487ca6e"
      },
      "outputs": [
        {
          "data": {
            "text/plain": [
              "{}"
            ]
          },
          "execution_count": 11,
          "metadata": {},
          "output_type": "execute_result"
        }
      ],
      "source": [
        "# [UPDATE] See the data\n",
        "\n",
        "json['data']"
      ]
    },
    {
      "cell_type": "code",
      "execution_count": 12,
      "metadata": {
        "colab": {
          "base_uri": "https://localhost:8080/",
          "height": 483
        },
        "id": "3II0IWy4GigP",
        "outputId": "ab305481-3502-43c9-db5c-6bdb9e5d1f57"
      },
      "outputs": [
        {
          "data": {
            "text/html": [
              "<div>\n",
              "<style scoped>\n",
              "    .dataframe tbody tr th:only-of-type {\n",
              "        vertical-align: middle;\n",
              "    }\n",
              "\n",
              "    .dataframe tbody tr th {\n",
              "        vertical-align: top;\n",
              "    }\n",
              "\n",
              "    .dataframe thead th {\n",
              "        text-align: right;\n",
              "    }\n",
              "</style>\n",
              "<table border=\"1\" class=\"dataframe\">\n",
              "  <thead>\n",
              "    <tr style=\"text-align: right;\">\n",
              "      <th></th>\n",
              "    </tr>\n",
              "  </thead>\n",
              "  <tbody>\n",
              "    <tr>\n",
              "      <th>0</th>\n",
              "    </tr>\n",
              "  </tbody>\n",
              "</table>\n",
              "</div>"
            ],
            "text/plain": [
              "Empty DataFrame\n",
              "Columns: []\n",
              "Index: [0]"
            ]
          },
          "execution_count": 12,
          "metadata": {},
          "output_type": "execute_result"
        }
      ],
      "source": [
        "data = pd.json_normalize(json['data'])\n",
        "data"
      ]
    },
    {
      "cell_type": "markdown",
      "metadata": {
        "id": "rF5T80AJ3GCj"
      },
      "source": [
        "# FastAPI\n",
        "\n",
        "We've already known how to access or fetch an API using `requests` library. However, how to create an API by ourself?\n",
        "\n",
        "Fortunately, Python has a library for building API which is `FastAPI`."
      ]
    },
    {
      "cell_type": "markdown",
      "metadata": {
        "id": "f2Zh1hTMbHUI"
      },
      "source": [
        "## SETUP"
      ]
    },
    {
      "cell_type": "markdown",
      "metadata": {
        "id": "oeq0o_20XZEJ"
      },
      "source": [
        "In order to practice making an API, you will use Visual Studio Code and create a Python script file (.py). After that, you will run it locally.\n",
        "\n",
        "But, before we further do, let's install the FastAPI and Uvicorn using this command:\n",
        "```\n",
        "pip install fastapi uvicorn[standard]\n",
        "```\n",
        "\n",
        "FastAPI is a library that we use for making the APIs and Uvicorn will be our API server."
      ]
    },
    {
      "cell_type": "markdown",
      "metadata": {
        "id": "G1B8nPnmb4-x"
      },
      "source": [
        "## Create Our First API\n",
        "\n",
        "```python\n",
        "from fastapi import FastAPI\n",
        "\n",
        "app = FastAPI()\n",
        "\n",
        "@app.get(\"/\")\n",
        "def root():\n",
        "    return {\"message\": \"Hello World\"}\n",
        "\n",
        "```\n",
        "\n",
        "**Explaination**:\n",
        "\n",
        "1. `from fastapi import FastAPI`: This line imports the `FastAPI` class from the `fastapi` module. `FastAPI` is the main class that allows us to create and define our API routes.\n",
        "\n",
        "2. `app = FastAPI()`: This line creates an instance of the `FastAPI` class and assigns it to the variable `app`. This `app` object will be used to define our API's routes and their corresponding functions.\n",
        "\n",
        "3. `@app.get(\"/\")`: This is a decorator provided by FastAPI, used to define a route for handling GET requests. In this case, the route is specified as \"/\". The function immediately below this decorator (`root()`) will be executed when the server receives a GET request to the root URL (\"/\").\n",
        "\n",
        "4. `def root():`: This is the Python function that handles the GET request to the root URL. When a GET request is made to the root URL (\"/\"), this function is executed.\n",
        "\n",
        "5. `return {\"message\": \"Hello World\"}`: This line returns a Python dictionary as the response to the GET request. The dictionary contains a single key-value pair, where the key is \"message,\" and the value is \"Hello World.\""
      ]
    },
    {
      "cell_type": "markdown",
      "metadata": {
        "id": "eXnG211AvPpE"
      },
      "source": [
        "\n",
        "\n",
        "To running the script :\n",
        "\n",
        "```\n",
        "uvicorn <filename-without-the-extension>:<fast-api-instance> --reload\n",
        "```\n",
        "\n",
        "For example if your filename is `main.py` and the instance of `FastAPI()` is called `app`, then the script will be :\n",
        "```\n",
        "uvicorn main:app --reload\n",
        "```\n",
        "\n",
        "or\n",
        "```\n",
        "python -m uvicorn main:app --reload\n",
        "```"
      ]
    },
    {
      "cell_type": "markdown",
      "metadata": {
        "id": "Vds7PBioEYa-"
      },
      "source": [
        "### **Explore the Swagger UI**\n",
        "\n",
        "You may need to access the 'docs' via http://localhost:8000/docs\n",
        "\n",
        "If you already enter the Swagger UI, you can easily interact with your API without any code."
      ]
    },
    {
      "cell_type": "markdown",
      "metadata": {
        "id": "Znx5aSnDd2hv"
      },
      "source": [
        "## Defining Endpoints\n",
        "\n",
        "You may use the Swagger UI or using Python to test your API"
      ]
    },
    {
      "cell_type": "markdown",
      "metadata": {
        "id": "lNGSW9VapiK9"
      },
      "source": [
        "### GET\n",
        "\n",
        "Here's our app.py to practice creating an API for `GET` function only:\n",
        "\n",
        "```python\n",
        "from fastapi import FastAPI\n",
        "\n",
        "app = FastAPI()\n",
        "\n",
        "@app.get(\"/\")\n",
        "def root():\n",
        "  return \"This is the main endpoint of this API\"\n",
        "\n",
        "@app.get(\"/names/{name}\")\n",
        "def read_name(name):\n",
        "  return {\"name\":name,\"message\":f\"Hello, my name is {name}\"}\n",
        "\n",
        "@app.get(\"/items/{id}\")\n",
        "def read_items(id):\n",
        "  return {\"id\":id}\n",
        "```\n",
        "\n",
        "To run, you can run the url, `https://localhost:8000/` or `https://localhost:8000/your_name` or `https://localhost:8000/id` on your browser."
      ]
    },
    {
      "cell_type": "markdown",
      "metadata": {
        "id": "CbWkTTaGplNL"
      },
      "source": [
        "### PUT\n",
        "\n",
        "Here's our app.py for updating existing data:\n",
        "\n",
        "```python\n",
        "from fastapi import FastAPI\n",
        "\n",
        "app = FastAPI()\n",
        "\n",
        "df = {\n",
        "    1: {\"name\": \"Hana\", \"age\": 10},\n",
        "    2: {\"name\": \"Rifdah\", \"age\": 18}\n",
        "}\n",
        "\n",
        "@app.get('/data')\n",
        "def read_data():\n",
        "    return df\n",
        "\n",
        "@app.put(\"/items/{item_id}\")\n",
        "def update_item(item_id: int, update_data: dict):\n",
        "\n",
        "    # Perform the update using the data from the request body\n",
        "    df[item_id].update(update_data)\n",
        "\n",
        "    return {\"message\": f\"Item with ID {item_id} has been updated successfully.\"}\n",
        "```\n",
        "\n",
        "Remember that, the way yout update data, it depends of the data type that stored the data. It's different if we using list or dictionary.\n",
        "\n",
        "To test our API, we can fetch the data using local notebook.\n",
        "\n",
        "Codes to be running on your local notebook:\n",
        "\n",
        "```\n",
        "import requests\n",
        "\n",
        "url = \"http://localhost:8000/items/1\"\n",
        "\n",
        "response = requests.put(url, json={\"name\":\"Fahmi\", \"age\":13})\n",
        "print(response.status_code)\n",
        "print(response.json())\n",
        "```\n",
        "\n",
        "or just access the Swagger UI."
      ]
    },
    {
      "cell_type": "markdown",
      "metadata": {
        "id": "KGIjHkcEpnLL"
      },
      "source": [
        "### POST\n",
        "\n",
        "Here's our app.py for posting a new data:\n",
        "\n",
        "```python\n",
        "from fastapi import FastAPI\n",
        "\n",
        "app = FastAPI()\n",
        "\n",
        "data = []\n",
        "\n",
        "@app.get('/')\n",
        "def cart():\n",
        "    if len(data)==0:\n",
        "        return \"There are no items in your cart\"\n",
        "    else:\n",
        "        return data\n",
        "\n",
        "@app.post('/input_data/')\n",
        "def add_cart(added_item:dict):\n",
        "    id = len(data) + 1\n",
        "    added_item['id'] = id\n",
        "    data.append(added_item)\n",
        "    return added_item\n",
        "```\n",
        "\n",
        "Codes to be running on your local notebook:\n",
        "\n",
        "```python\n",
        "import requests\n",
        "\n",
        "url = \"http://localhost:8000/input_data/\"\n",
        "\n",
        "response = requests.post(url, json={\"id\":1, \"name\":\"Apple\", \"price\":5000})\n",
        "print(response.status_code)\n",
        "print(response.json())\n",
        "\n",
        "```\n",
        "or just access the Swagger UI."
      ]
    },
    {
      "cell_type": "markdown",
      "metadata": {
        "id": "4Yv6bjjipvXX"
      },
      "source": [
        "### DELETE\n",
        "\n",
        "Here's our app.py to detele a row in a data:\n",
        "```python\n",
        "from fastapi import FastAPI\n",
        "\n",
        "app = FastAPI()\n",
        "\n",
        "df = {\n",
        "    1: {\"name\": \"Hana\", \"age\": 10},\n",
        "    2: {\"name\": \"Rifdah\", \"age\": 18},\n",
        "    3: {\"name\": \"Sakinah\", \"age\": 27}\n",
        "}\n",
        "\n",
        "@app.get('/data')\n",
        "def read_data():\n",
        "    return df\n",
        "\n",
        "@app.delete(\"/items/{item_id}\")\n",
        "def delete_item(item_id: int):\n",
        "    df.pop(item_id)\n",
        "    return {\"message\": f\"Item with ID {item_id} has been deleted successfully.\"}\n",
        "```\n",
        "\n",
        "Code to test the endpoint:\n",
        "\n",
        "```python\n",
        "import requests\n",
        "url = \"http://localhost:8000/items/2\"\n",
        "\n",
        "response = requests.delete(url)\n",
        "print(response.status_code)\n",
        "print(response.json())\n",
        "\n",
        "```\n",
        "\n",
        "or just access the Swagger UI."
      ]
    },
    {
      "cell_type": "markdown",
      "metadata": {
        "id": "xAMYrUWQd-u9"
      },
      "source": [
        "## Error Handling\n",
        "\n",
        "Error handling is a crucial aspect of any web application, including APIs built with FastAPI. FastAPI provides robust error handling mechanisms to help developers manage errors, exceptions, and unexpected situations that may occur during the processing of incoming requests. Proper error handling ensures that the API provides meaningful and consistent responses to clients when errors occur."
      ]
    },
    {
      "cell_type": "markdown",
      "metadata": {
        "id": "1lAtr6Gfox2N"
      },
      "source": [
        "Now, let we take an error from this simple endpoint:\n",
        "\n",
        "```python\n",
        "from fastapi import FastAPI\n",
        "\n",
        "app = FastAPI()\n",
        "\n",
        "@app.get(\"/items/{id}\")\n",
        "def route(id: int):\n",
        "    return {\"item_id\": id}\n",
        "```\n",
        "We created an endpoint to handle `GET` requests by calling the `/items/id`. However, we expecting that the `id` to be an integer.\n",
        "\n",
        "If we input the id by using another data type, like this:\n",
        "```\n",
        "https://localhost:8000/items/two\n",
        "```\n",
        "\n",
        "You will get an error like this:\n",
        "\n",
        "```json\n",
        "{\"detail\":[{\"type\":\"int_parsing\",\n",
        "            \"loc\":[\"path\",\"id\"],\n",
        "            \"msg\":\"Input should be a valid integer, unable to parse string as an integer\",\n",
        "            \"input\":\"two\",\n",
        "            \"url\":\"https://errors.pydantic.dev/2.0.3/v/int_parsing\"\n",
        "            }]\n",
        "      }\n",
        "```"
      ]
    },
    {
      "cell_type": "markdown",
      "metadata": {
        "id": "sFfLY3MBOICN"
      },
      "source": [
        "Another example. Our code below only provides two rows of data. Our next step is that we want to edit the existing data.\n",
        "\n",
        "```python\n",
        "from fastapi import FastAPI\n",
        "\n",
        "app = FastAPI()\n",
        "\n",
        "df = {\n",
        "    1: {\"name\": \"Hana\", \"age\": 10},\n",
        "    2: {\"name\": \"Rifdah\", \"age\": 18}\n",
        "}\n",
        "\n",
        "@app.get('/data')\n",
        "def read_data():\n",
        "    return df\n",
        "\n",
        "@app.put(\"/items/{item_id}\")\n",
        "def update_item(item_id: int, update_data: dict):\n",
        "    df[item_id].update(update_data)\n",
        "    return {\"message\": f\"Item with ID {item_id} has been updated successfully.\"}\n",
        "```\n",
        "\n",
        "However we set the item_id exceeding the number of rows consciously:\n",
        "\n",
        "```python\n",
        "import requests\n",
        "url = \"http://localhost:8000/items/5\"\n",
        "\n",
        "response = requests.delete(url)\n",
        "print(response.status_code)\n",
        "print(response.json())\n",
        "```\n",
        "\n",
        "What the error that you received?"
      ]
    },
    {
      "cell_type": "markdown",
      "metadata": {
        "id": "z2pgt5V_10oe"
      },
      "source": [
        "---\n",
        "> **[UPDATE]**\n",
        "\n",
        "```\n",
        "import requests\n",
        "url = \"http://localhost:8000/items/5\"\n",
        "\n",
        "response = requests.put(url)\n",
        "print(response.status_code)\n",
        "print(response.json())\n",
        "```"
      ]
    },
    {
      "cell_type": "markdown",
      "metadata": {
        "id": "oyt1NFmYkQ8V"
      },
      "source": [
        "### Raising HTTPException\n",
        "\n",
        "To handle those errors, we can raise the error using `HTTPException`. Handling errors using `HTTPException` is a common and effective approach in FastAPI. `HTTPException` allows you to raise and handle HTTP-related exceptions with specific status codes and error messages. It simplifies the process of returning meaningful and consistent error responses to clients when errors or exceptional situations occur during request processing.\n",
        "\n",
        "Here's the format of raising the error by response status code:\n",
        "\n",
        "```\n",
        "if condition:\n",
        "  raise HTTPException(status_code=<status>, detail=\"message\")\n",
        "```\n",
        "\n",
        "Example:\n",
        "\n",
        "```python\n",
        "from fastapi import FastAPI, HTTPException\n",
        "\n",
        "app = FastAPI()\n",
        "\n",
        "df = {\n",
        "    1: {\"name\": \"Hana\", \"age\": 10},\n",
        "    2: {\"name\": \"Rifdah\", \"age\": 18}\n",
        "}\n",
        "\n",
        "@app.get('/data')\n",
        "def read_data():\n",
        "    return df\n",
        "\n",
        "@app.put(\"/items/{item_id}\")\n",
        "def update_item(item_id: int, update_data: dict):\n",
        "    if item_id not in df.keys():\n",
        "      raise HTTPException(status_code=404, detail=f\"Item with ID {item_id} not found\")\n",
        "    df[item_id].update(update_data)\n",
        "    return {\"message\": f\"Item with ID {item_id} has been updated successfully.\"}\n",
        "\n",
        "```\n",
        "\n",
        "From the `raise HTTPException` above, when we meet the 404 not-found  error, the API will give message that `Item with ID xx not found`."
      ]
    },
    {
      "cell_type": "markdown",
      "metadata": {
        "id": "tBHYuLxG26cy"
      },
      "source": [
        "---\n",
        "\n",
        "## Use Case - Solve a Problem\n",
        "\n",
        "You are a developer working for a startup called \"Toko H8\" that specializes in online shopping. The company wants to build a simple shopping cart API to manage the items added to the users' shopping carts. They have provided you with some initial requirements and data for the API. Your task is to use FastAPI to create the API that allows users to view, add, edit, and delete items in their shopping carts.\n",
        "\n",
        "\n",
        "\n",
        "```python\n",
        "from fastapi import FastAPI, HTTPException\n",
        "\n",
        "app = FastAPI()\n",
        "\n",
        "data = {\"name\":\"shopping cart\",\n",
        "        \"columns\":[\"prod_name\",\"price\",\"num_items\"],\n",
        "        \"items\":{}}\n",
        "\n",
        "@app.get(\"/\")\n",
        "def root():\n",
        "    return {\"message\":\"Welcome to Toko H8 Shopping Cart! There are some features that you can explore\",\n",
        "            \"menu\":{1:\"See shopping cart (/cart)\",\n",
        "                    2:\"Add item (/add) - You may need request\",\n",
        "                    3:\"Edit shopping cart (/edit/id)\",\n",
        "                    4:\"Delete item from shopping cart (/del/id)\"}}\n",
        "\n",
        "@app.get(\"/cart\")\n",
        "def show():\n",
        "    return data\n",
        "\n",
        "@app.post(\"/add\")\n",
        "def add_item(added_item:dict):\n",
        "    id = len(data[\"items\"].keys())+1\n",
        "    data[\"items\"][id] = added_item\n",
        "    return f\"Item successfully added into your cart with ID {id}\"\n",
        "\n",
        "@app.put(\"/edit/{id}\")\n",
        "def update_cart(id:int,updated_cart:dict):\n",
        "    if id not in data['items'].keys():\n",
        "        raise HTTPException(status_code=404, detail=f\"Item with ID {id} not found\")\n",
        "    else:\n",
        "        data[\"items\"][id].update(updated_cart)\n",
        "        return {\"message\": f\"Item with ID {id} has been updated successfully.\"}\n",
        "\n",
        "@app.delete(\"/del/{id}\")\n",
        "def remove_row(id:int):\n",
        "    if id not in data['items'].keys():\n",
        "        raise HTTPException(status_code=404, detail=f\"Item with ID {id} not found\")\n",
        "    else:\n",
        "        data[\"items\"].pop(id)\n",
        "        return {\"message\": f\"Item with ID {id} has been deleted successfully.\"}\n",
        "\n",
        "```"
      ]
    }
  ],
  "metadata": {
    "colab": {
      "provenance": [],
      "toc_visible": true
    },
    "kernelspec": {
      "display_name": "Python 3",
      "name": "python3"
    },
    "language_info": {
      "codemirror_mode": {
        "name": "ipython",
        "version": 3
      },
      "file_extension": ".py",
      "mimetype": "text/x-python",
      "name": "python",
      "nbconvert_exporter": "python",
      "pygments_lexer": "ipython3",
      "version": "3.11.7"
    }
  },
  "nbformat": 4,
  "nbformat_minor": 0
}
