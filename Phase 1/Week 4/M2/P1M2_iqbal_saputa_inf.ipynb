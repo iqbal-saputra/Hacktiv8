{
 "cells": [
  {
   "cell_type": "markdown",
   "metadata": {},
   "source": [
    "# Perkenalan"
   ]
  },
  {
   "cell_type": "markdown",
   "metadata": {},
   "source": [
    "**Nama**: Muhammad Iqbal Saputra\n",
    "\n",
    "**Batch**: RMT 032\n",
    "\n",
    "**Objective**: Notebook ini ditujukan untuk mengevaluasi model Classification menggunakan AdaBoostClassifier yang telah dibuat, apakah model sudah dapat memprediksi apakah paket shipping reached on time atau not reached on time"
   ]
  },
  {
   "cell_type": "markdown",
   "metadata": {},
   "source": [
    "# Libraries"
   ]
  },
  {
   "cell_type": "code",
   "execution_count": 3,
   "metadata": {},
   "outputs": [],
   "source": [
    "# Library Dataframe\n",
    "import pandas as pd\n",
    "\n",
    "# Library Numerical Data\n",
    "import numpy as np\n",
    "\n",
    "# Library Model Saving\n",
    "import joblib\n",
    "\n",
    "# Library Random Data\n",
    "from scipy.stats import randint"
   ]
  },
  {
   "cell_type": "markdown",
   "metadata": {},
   "source": [
    "# Data Inference"
   ]
  },
  {
   "cell_type": "markdown",
   "metadata": {},
   "source": [
    "## **Load Model**"
   ]
  },
  {
   "cell_type": "code",
   "execution_count": 4,
   "metadata": {},
   "outputs": [],
   "source": [
    "# Memuat model pipeline terbaik\n",
    "with open('best_model_pipeline.joblib', 'rb') as file_1:\n",
    "  model_pipeline = joblib.load(file_1)\n"
   ]
  },
  {
   "cell_type": "markdown",
   "metadata": {},
   "source": [
    "## **Make Random Data**"
   ]
  },
  {
   "cell_type": "code",
   "execution_count": 5,
   "metadata": {},
   "outputs": [
    {
     "data": {
      "text/html": [
       "<div>\n",
       "<style scoped>\n",
       "    .dataframe tbody tr th:only-of-type {\n",
       "        vertical-align: middle;\n",
       "    }\n",
       "\n",
       "    .dataframe tbody tr th {\n",
       "        vertical-align: top;\n",
       "    }\n",
       "\n",
       "    .dataframe thead th {\n",
       "        text-align: right;\n",
       "    }\n",
       "</style>\n",
       "<table border=\"1\" class=\"dataframe\">\n",
       "  <thead>\n",
       "    <tr style=\"text-align: right;\">\n",
       "      <th></th>\n",
       "      <th>Customer_care_calls</th>\n",
       "      <th>Cost_of_the_Product</th>\n",
       "      <th>Prior_purchases</th>\n",
       "      <th>Discount_offered</th>\n",
       "      <th>Weight_in_gms</th>\n",
       "      <th>Product_importance</th>\n",
       "    </tr>\n",
       "  </thead>\n",
       "  <tbody>\n",
       "    <tr>\n",
       "      <th>0</th>\n",
       "      <td>2</td>\n",
       "      <td>189</td>\n",
       "      <td>4</td>\n",
       "      <td>9</td>\n",
       "      <td>1620</td>\n",
       "      <td>high</td>\n",
       "    </tr>\n",
       "    <tr>\n",
       "      <th>1</th>\n",
       "      <td>6</td>\n",
       "      <td>301</td>\n",
       "      <td>2</td>\n",
       "      <td>6</td>\n",
       "      <td>1636</td>\n",
       "      <td>medium</td>\n",
       "    </tr>\n",
       "    <tr>\n",
       "      <th>2</th>\n",
       "      <td>5</td>\n",
       "      <td>159</td>\n",
       "      <td>4</td>\n",
       "      <td>6</td>\n",
       "      <td>1730</td>\n",
       "      <td>high</td>\n",
       "    </tr>\n",
       "    <tr>\n",
       "      <th>3</th>\n",
       "      <td>6</td>\n",
       "      <td>299</td>\n",
       "      <td>3</td>\n",
       "      <td>10</td>\n",
       "      <td>3649</td>\n",
       "      <td>high</td>\n",
       "    </tr>\n",
       "    <tr>\n",
       "      <th>4</th>\n",
       "      <td>5</td>\n",
       "      <td>140</td>\n",
       "      <td>2</td>\n",
       "      <td>3</td>\n",
       "      <td>3380</td>\n",
       "      <td>high</td>\n",
       "    </tr>\n",
       "  </tbody>\n",
       "</table>\n",
       "</div>"
      ],
      "text/plain": [
       "   Customer_care_calls  Cost_of_the_Product  Prior_purchases  \\\n",
       "0                    2                  189                4   \n",
       "1                    6                  301                2   \n",
       "2                    5                  159                4   \n",
       "3                    6                  299                3   \n",
       "4                    5                  140                2   \n",
       "\n",
       "   Discount_offered  Weight_in_gms Product_importance  \n",
       "0                 9           1620               high  \n",
       "1                 6           1636             medium  \n",
       "2                 6           1730               high  \n",
       "3                10           3649               high  \n",
       "4                 3           3380               high  "
      ]
     },
     "execution_count": 5,
     "metadata": {},
     "output_type": "execute_result"
    }
   ],
   "source": [
    "# Number of rows\n",
    "num_rows = 10\n",
    "\n",
    "# Generate random data\n",
    "dataFrame = {\n",
    "    'Customer_care_calls': np.random.randint(2, 7, num_rows),\n",
    "    'Cost_of_the_Product': np.random.randint(96, 310, num_rows),\n",
    "    'Prior_purchases': np.random.randint(2.0, 5.5, num_rows),\n",
    "    'Discount_offered': np.random.randint(1, 19, num_rows),\n",
    "    'Weight_in_gms': np.random.randint(1492, 5017, num_rows),\n",
    "    'Product_importance': np.random.choice(['low', 'high', 'medium'], num_rows) \n",
    "    # 'Reached.on.Time_Y.N': np.random.randint(0, 1, num_rows)\n",
    "}\n",
    "\n",
    "# Create DataFrame\n",
    "random_data = pd.DataFrame(dataFrame)\n",
    "\n",
    "# Display the first few rows of the DataFrame\n",
    "random_data.head()"
   ]
  },
  {
   "cell_type": "markdown",
   "metadata": {},
   "source": [
    "## **Model Prediction**"
   ]
  },
  {
   "cell_type": "code",
   "execution_count": 6,
   "metadata": {},
   "outputs": [
    {
     "data": {
      "text/plain": [
       "array([1, 1, 1, 1, 0, 0, 1, 1, 1, 1], dtype=int64)"
      ]
     },
     "execution_count": 6,
     "metadata": {},
     "output_type": "execute_result"
    }
   ],
   "source": [
    "# Model Prediction\n",
    "prediction = model_pipeline.predict(random_data)\n",
    "prediction"
   ]
  }
 ],
 "metadata": {
  "kernelspec": {
   "display_name": "base",
   "language": "python",
   "name": "python3"
  },
  "language_info": {
   "codemirror_mode": {
    "name": "ipython",
    "version": 3
   },
   "file_extension": ".py",
   "mimetype": "text/x-python",
   "name": "python",
   "nbconvert_exporter": "python",
   "pygments_lexer": "ipython3",
   "version": "3.11.7"
  }
 },
 "nbformat": 4,
 "nbformat_minor": 2
}
