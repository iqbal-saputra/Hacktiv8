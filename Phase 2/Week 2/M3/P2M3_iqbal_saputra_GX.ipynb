{
 "cells": [
  {
   "cell_type": "markdown",
   "metadata": {},
   "source": [
    "**Milestone 3**\n",
    "\n",
    "**Nama**  : Muhammad Iqbal Saputra\n",
    "\n",
    "**Batch** : FTDS-032-RMT"
   ]
  },
  {
   "cell_type": "code",
   "execution_count": 1,
   "metadata": {},
   "outputs": [],
   "source": [
    "import pandas as pd\n",
    "import great_expectations as ge"
   ]
  },
  {
   "cell_type": "code",
   "execution_count": 2,
   "metadata": {},
   "outputs": [],
   "source": [
    "# Load Dataset\n",
    "df = pd.read_csv('P2M3_iqbal_saputra_data_clean.csv')\n",
    "\n",
    "# To Great Expectation\n",
    "ge_df = ge.from_pandas(df)"
   ]
  },
  {
   "cell_type": "code",
   "execution_count": 3,
   "metadata": {},
   "outputs": [
    {
     "name": "stdout",
     "output_type": "stream",
     "text": [
      "<class 'great_expectations.dataset.pandas_dataset.PandasDataset'>\n",
      "RangeIndex: 181458 entries, 0 to 181457\n",
      "Data columns (total 20 columns):\n",
      " #   Column                                           Non-Null Count   Dtype  \n",
      "---  ------                                           --------------   -----  \n",
      " 0   vin_1_10                                         181458 non-null  object \n",
      " 1   county                                           181458 non-null  object \n",
      " 2   city                                             181458 non-null  object \n",
      " 3   state                                            181458 non-null  object \n",
      " 4   postal_code                                      181458 non-null  float64\n",
      " 5   model_year                                       181458 non-null  object \n",
      " 6   make                                             181458 non-null  object \n",
      " 7   model                                            181458 non-null  object \n",
      " 8   electric_vehicle_type                            181458 non-null  object \n",
      " 9   clean_alternative_fuel_vehicle_cafv_eligibility  181458 non-null  object \n",
      " 10  electric_range                                   181458 non-null  int64  \n",
      " 11  base_msrp                                        181458 non-null  int64  \n",
      " 12  legislative_district                             181458 non-null  float64\n",
      " 13  dol_vehicle_id                                   181458 non-null  int64  \n",
      " 14  vehicle_location                                 181458 non-null  object \n",
      " 15  electric_utility                                 181458 non-null  object \n",
      " 16  census_tract_2020                                181458 non-null  float64\n",
      " 17  latitude                                         181450 non-null  float64\n",
      " 18  longitude                                        181450 non-null  float64\n",
      " 19  location                                         181458 non-null  object \n",
      "dtypes: float64(5), int64(3), object(12)\n",
      "memory usage: 27.7+ MB\n"
     ]
    }
   ],
   "source": [
    "ge_df.info()"
   ]
  },
  {
   "cell_type": "markdown",
   "metadata": {},
   "source": [
    "## Expectation 1"
   ]
  },
  {
   "cell_type": "code",
   "execution_count": 4,
   "metadata": {},
   "outputs": [],
   "source": [
    "# Expectation 1: Unique ID\n",
    "df['unique_id'] = df['vin_1_10'].astype(str) + '-' + df['county'].astype(str) + '-' + df['city'].astype(str) + '-' + \\\n",
    "                  df['state'].astype(str) + '-' + df['postal_code'].astype(str) + '-' + df['model_year'].astype(str) + '-' + \\\n",
    "                  df['make'].astype(str) + '-' + df['model'].astype(str) + '-' + df['electric_vehicle_type'].astype(str) + '-' + \\\n",
    "                  df['clean_alternative_fuel_vehicle_cafv_eligibility'].astype(str) + '-' + df['electric_range'].astype(str) + '-' + df['base_msrp'].astype(str) + '-' + \\\n",
    "                  df['legislative_district'].astype(str) + '-' + df['dol_vehicle_id'].astype(str) + '-' + df['vehicle_location'].astype(str)\n"
   ]
  },
  {
   "cell_type": "code",
   "execution_count": 5,
   "metadata": {},
   "outputs": [
    {
     "name": "stdout",
     "output_type": "stream",
     "text": [
      "Expectation 1 (Unique ID): {\n",
      "  \"result\": {\n",
      "    \"element_count\": 181458,\n",
      "    \"missing_count\": 0,\n",
      "    \"missing_percent\": 0.0,\n",
      "    \"unexpected_count\": 0,\n",
      "    \"unexpected_percent\": 0.0,\n",
      "    \"unexpected_percent_total\": 0.0,\n",
      "    \"unexpected_percent_nonmissing\": 0.0,\n",
      "    \"partial_unexpected_list\": []\n",
      "  },\n",
      "  \"exception_info\": {\n",
      "    \"raised_exception\": false,\n",
      "    \"exception_traceback\": null,\n",
      "    \"exception_message\": null\n",
      "  },\n",
      "  \"success\": true,\n",
      "  \"meta\": {},\n",
      "  \"expectation_config\": {\n",
      "    \"expectation_type\": \"expect_column_values_to_be_unique\",\n",
      "    \"meta\": {},\n",
      "    \"kwargs\": {\n",
      "      \"column\": \"unique_id\",\n",
      "      \"result_format\": \"BASIC\"\n",
      "    }\n",
      "  }\n",
      "}\n"
     ]
    }
   ],
   "source": [
    "ge_df = ge.from_pandas(df)\n",
    "expectation_1 = ge_df.expect_column_values_to_be_unique('unique_id')\n",
    "print(\"Expectation 1 (Unique ID):\", expectation_1)"
   ]
  },
  {
   "cell_type": "markdown",
   "metadata": {},
   "source": [
    "## Expectation 2"
   ]
  },
  {
   "cell_type": "code",
   "execution_count": 6,
   "metadata": {},
   "outputs": [
    {
     "name": "stdout",
     "output_type": "stream",
     "text": [
      "Expectation 2 (Not Null VIN): {\n",
      "  \"result\": {\n",
      "    \"element_count\": 181458,\n",
      "    \"unexpected_count\": 0,\n",
      "    \"unexpected_percent\": 0.0,\n",
      "    \"unexpected_percent_total\": 0.0,\n",
      "    \"partial_unexpected_list\": []\n",
      "  },\n",
      "  \"exception_info\": {\n",
      "    \"raised_exception\": false,\n",
      "    \"exception_traceback\": null,\n",
      "    \"exception_message\": null\n",
      "  },\n",
      "  \"success\": true,\n",
      "  \"meta\": {},\n",
      "  \"expectation_config\": {\n",
      "    \"expectation_type\": \"expect_column_values_to_not_be_null\",\n",
      "    \"meta\": {},\n",
      "    \"kwargs\": {\n",
      "      \"column\": \"vin_1_10\",\n",
      "      \"result_format\": \"BASIC\"\n",
      "    }\n",
      "  }\n",
      "}\n"
     ]
    }
   ],
   "source": [
    "# Expectation 2: Not Null VIN\n",
    "expectation_2 = ge_df.expect_column_values_to_not_be_null(\"vin_1_10\")\n",
    "print(\"Expectation 2 (Not Null VIN):\", expectation_2)\n"
   ]
  },
  {
   "cell_type": "markdown",
   "metadata": {},
   "source": [
    "## Expectation 3"
   ]
  },
  {
   "cell_type": "code",
   "execution_count": 7,
   "metadata": {},
   "outputs": [
    {
     "name": "stdout",
     "output_type": "stream",
     "text": [
      "Expectation 3 (DOL Vehicle ID Uniqueness): {\n",
      "  \"result\": {\n",
      "    \"element_count\": 181458,\n",
      "    \"missing_count\": 0,\n",
      "    \"missing_percent\": 0.0,\n",
      "    \"unexpected_count\": 0,\n",
      "    \"unexpected_percent\": 0.0,\n",
      "    \"unexpected_percent_total\": 0.0,\n",
      "    \"unexpected_percent_nonmissing\": 0.0,\n",
      "    \"partial_unexpected_list\": []\n",
      "  },\n",
      "  \"exception_info\": {\n",
      "    \"raised_exception\": false,\n",
      "    \"exception_traceback\": null,\n",
      "    \"exception_message\": null\n",
      "  },\n",
      "  \"success\": true,\n",
      "  \"meta\": {},\n",
      "  \"expectation_config\": {\n",
      "    \"expectation_type\": \"expect_column_values_to_be_unique\",\n",
      "    \"meta\": {},\n",
      "    \"kwargs\": {\n",
      "      \"column\": \"dol_vehicle_id\",\n",
      "      \"result_format\": \"BASIC\"\n",
      "    }\n",
      "  }\n",
      "}\n"
     ]
    }
   ],
   "source": [
    "# Expectation 3: DOL Vehicle ID Uniqueness\n",
    "expectation_3 = ge_df.expect_column_values_to_be_unique(\"dol_vehicle_id\")\n",
    "print(\"Expectation 3 (DOL Vehicle ID Uniqueness):\", expectation_3)"
   ]
  },
  {
   "cell_type": "markdown",
   "metadata": {},
   "source": [
    "## Expectation 4"
   ]
  },
  {
   "cell_type": "code",
   "execution_count": 8,
   "metadata": {},
   "outputs": [
    {
     "name": "stdout",
     "output_type": "stream",
     "text": [
      "Expectation 4 (Electric Range): {\n",
      "  \"result\": {\n",
      "    \"element_count\": 181458,\n",
      "    \"missing_count\": 0,\n",
      "    \"missing_percent\": 0.0,\n",
      "    \"unexpected_count\": 0,\n",
      "    \"unexpected_percent\": 0.0,\n",
      "    \"unexpected_percent_total\": 0.0,\n",
      "    \"unexpected_percent_nonmissing\": 0.0,\n",
      "    \"partial_unexpected_list\": []\n",
      "  },\n",
      "  \"exception_info\": {\n",
      "    \"raised_exception\": false,\n",
      "    \"exception_traceback\": null,\n",
      "    \"exception_message\": null\n",
      "  },\n",
      "  \"success\": true,\n",
      "  \"meta\": {},\n",
      "  \"expectation_config\": {\n",
      "    \"expectation_type\": \"expect_column_values_to_be_between\",\n",
      "    \"meta\": {},\n",
      "    \"kwargs\": {\n",
      "      \"column\": \"electric_range\",\n",
      "      \"min_value\": 0,\n",
      "      \"max_value\": 1000,\n",
      "      \"result_format\": \"BASIC\"\n",
      "    }\n",
      "  }\n",
      "}\n"
     ]
    }
   ],
   "source": [
    "# Expectation 4: Electric Range\n",
    "expectation_4 = ge_df.expect_column_values_to_be_between(\"electric_range\", min_value=0, max_value=1000)\n",
    "print(\"Expectation 4 (Electric Range):\", expectation_4)"
   ]
  },
  {
   "cell_type": "markdown",
   "metadata": {},
   "source": [
    "## Expectation 5"
   ]
  },
  {
   "cell_type": "code",
   "execution_count": 9,
   "metadata": {},
   "outputs": [
    {
     "name": "stdout",
     "output_type": "stream",
     "text": [
      "Expectation 5 (Legislative District Range): {\n",
      "  \"result\": {\n",
      "    \"element_count\": 181458,\n",
      "    \"missing_count\": 0,\n",
      "    \"missing_percent\": 0.0,\n",
      "    \"unexpected_count\": 0,\n",
      "    \"unexpected_percent\": 0.0,\n",
      "    \"unexpected_percent_total\": 0.0,\n",
      "    \"unexpected_percent_nonmissing\": 0.0,\n",
      "    \"partial_unexpected_list\": []\n",
      "  },\n",
      "  \"exception_info\": {\n",
      "    \"raised_exception\": false,\n",
      "    \"exception_traceback\": null,\n",
      "    \"exception_message\": null\n",
      "  },\n",
      "  \"success\": true,\n",
      "  \"meta\": {},\n",
      "  \"expectation_config\": {\n",
      "    \"expectation_type\": \"expect_column_values_to_be_between\",\n",
      "    \"meta\": {},\n",
      "    \"kwargs\": {\n",
      "      \"column\": \"legislative_district\",\n",
      "      \"min_value\": 1,\n",
      "      \"max_value\": 49,\n",
      "      \"result_format\": \"BASIC\"\n",
      "    }\n",
      "  }\n",
      "}\n"
     ]
    }
   ],
   "source": [
    "# Expectation 5: Legislative District Range\n",
    "expectation_5 = ge_df.expect_column_values_to_be_between(\"legislative_district\", min_value=1, max_value=49)\n",
    "print(\"Expectation 5 (Legislative District Range):\", expectation_5)"
   ]
  },
  {
   "cell_type": "markdown",
   "metadata": {},
   "source": [
    "## Expectation 6"
   ]
  },
  {
   "cell_type": "code",
   "execution_count": 10,
   "metadata": {},
   "outputs": [
    {
     "name": "stdout",
     "output_type": "stream",
     "text": [
      "Expectation 6 (Make in Set): {\n",
      "  \"result\": {\n",
      "    \"element_count\": 181458,\n",
      "    \"missing_count\": 0,\n",
      "    \"missing_percent\": 0.0,\n",
      "    \"unexpected_count\": 0,\n",
      "    \"unexpected_percent\": 0.0,\n",
      "    \"unexpected_percent_total\": 0.0,\n",
      "    \"unexpected_percent_nonmissing\": 0.0,\n",
      "    \"partial_unexpected_list\": []\n",
      "  },\n",
      "  \"exception_info\": {\n",
      "    \"raised_exception\": false,\n",
      "    \"exception_traceback\": null,\n",
      "    \"exception_message\": null\n",
      "  },\n",
      "  \"success\": true,\n",
      "  \"meta\": {},\n",
      "  \"expectation_config\": {\n",
      "    \"expectation_type\": \"expect_column_values_to_be_in_set\",\n",
      "    \"meta\": {},\n",
      "    \"kwargs\": {\n",
      "      \"column\": \"make\",\n",
      "      \"value_set\": [\n",
      "        \"AUDI\",\n",
      "        \"TESLA\",\n",
      "        \"JEEP\",\n",
      "        \"CHEVROLET\",\n",
      "        \"KIA\",\n",
      "        \"NISSAN\",\n",
      "        \"VOLVO\",\n",
      "        \"FIAT\",\n",
      "        \"TOYOTA\",\n",
      "        \"FORD\",\n",
      "        \"BMW\",\n",
      "        \"CHRYSLER\",\n",
      "        \"VOLKSWAGEN\",\n",
      "        \"HONDA\",\n",
      "        \"LEXUS\",\n",
      "        \"CADILLAC\",\n",
      "        \"MAZDA\",\n",
      "        \"SMART\",\n",
      "        \"LINCOLN\",\n",
      "        \"MINI\",\n",
      "        \"MITSUBISHI\",\n",
      "        \"MERCEDES-BENZ\",\n",
      "        \"PORSCHE\",\n",
      "        \"RIVIAN\",\n",
      "        \"HYUNDAI\",\n",
      "        \"DODGE\",\n",
      "        \"GENESIS\",\n",
      "        \"SUBARU\",\n",
      "        \"LUCID\",\n",
      "        \"JAGUAR\",\n",
      "        \"POLESTAR\",\n",
      "        \"LAND ROVER\",\n",
      "        \"TH!NK\",\n",
      "        \"ALFA ROMEO\",\n",
      "        \"GMC\",\n",
      "        \"FISKER\",\n",
      "        \"AZURE DYNAMICS\",\n",
      "        \"BENTLEY\",\n",
      "        \"WHEEGO ELECTRIC CARS\",\n",
      "        \"ROLLS ROYCE\"\n",
      "      ],\n",
      "      \"result_format\": \"BASIC\"\n",
      "    }\n",
      "  }\n",
      "}\n"
     ]
    }
   ],
   "source": [
    "# Expectation 6: Make in Set\n",
    "known_makes = ge_df['make'].unique().tolist()\n",
    "expectation_6 = ge_df.expect_column_values_to_be_in_set(\"make\", known_makes)\n",
    "print(\"Expectation 6 (Make in Set):\", expectation_6)"
   ]
  },
  {
   "cell_type": "markdown",
   "metadata": {},
   "source": [
    "## Expectation 7"
   ]
  },
  {
   "cell_type": "code",
   "execution_count": 11,
   "metadata": {},
   "outputs": [
    {
     "name": "stdout",
     "output_type": "stream",
     "text": [
      "Expectation 7 (Electric Vehicle Type): {\n",
      "  \"result\": {\n",
      "    \"element_count\": 181458,\n",
      "    \"missing_count\": 0,\n",
      "    \"missing_percent\": 0.0,\n",
      "    \"unexpected_count\": 0,\n",
      "    \"unexpected_percent\": 0.0,\n",
      "    \"unexpected_percent_total\": 0.0,\n",
      "    \"unexpected_percent_nonmissing\": 0.0,\n",
      "    \"partial_unexpected_list\": []\n",
      "  },\n",
      "  \"exception_info\": {\n",
      "    \"raised_exception\": false,\n",
      "    \"exception_traceback\": null,\n",
      "    \"exception_message\": null\n",
      "  },\n",
      "  \"success\": true,\n",
      "  \"meta\": {},\n",
      "  \"expectation_config\": {\n",
      "    \"expectation_type\": \"expect_column_values_to_be_in_set\",\n",
      "    \"meta\": {},\n",
      "    \"kwargs\": {\n",
      "      \"column\": \"electric_vehicle_type\",\n",
      "      \"value_set\": [\n",
      "        \"Plug-in Hybrid Electric Vehicle (PHEV)\",\n",
      "        \"Battery Electric Vehicle (BEV)\"\n",
      "      ],\n",
      "      \"result_format\": \"BASIC\"\n",
      "    }\n",
      "  }\n",
      "}\n"
     ]
    }
   ],
   "source": [
    "# Expectation 7: Electric Vehicle Type\n",
    "known_electric_vehicle_types = ge_df['electric_vehicle_type'].unique().tolist()\n",
    "expectation_7 = ge_df.expect_column_values_to_be_in_set(\"electric_vehicle_type\", known_electric_vehicle_types)\n",
    "print(\"Expectation 7 (Electric Vehicle Type):\", expectation_7)"
   ]
  }
 ],
 "metadata": {
  "kernelspec": {
   "display_name": "base",
   "language": "python",
   "name": "python3"
  },
  "language_info": {
   "codemirror_mode": {
    "name": "ipython",
    "version": 3
   },
   "file_extension": ".py",
   "mimetype": "text/x-python",
   "name": "python",
   "nbconvert_exporter": "python",
   "pygments_lexer": "ipython3",
   "version": "3.10.14"
  }
 },
 "nbformat": 4,
 "nbformat_minor": 2
}
