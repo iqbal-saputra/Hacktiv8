{
  "cells": [
    {
      "cell_type": "markdown",
      "metadata": {
        "id": "ekezbYt8_hiE"
      },
      "source": [
        "#\n",
        "<b>\n",
        "\n",
        "==============================\n",
        "\n",
        "Nama: Muhammad Iqbal Saputra\n",
        "\n",
        "Batch: RMT-032\n",
        "\n",
        "Objektif dari program ini adalah:\n",
        "- Mencari mean, median dan modus dari dataset\n",
        "- Mencari nilai skew\n",
        "- Menghilangkan outliers/extreme value analysis\n",
        "- Menyimpan data yang sudah dihilangkan outliersnya\n",
        "\n",
        "=============================="
      ]
    },
    {
      "cell_type": "code",
      "execution_count": 1,
      "metadata": {
        "colab": {
          "base_uri": "https://localhost:8080/"
        },
        "id": "R-5SIfe39hVl",
        "outputId": "042e99fd-2b87-4d0b-834c-9268aa229527"
      },
      "outputs": [
        {
          "ename": "ModuleNotFoundError",
          "evalue": "No module named 'google.colab'",
          "output_type": "error",
          "traceback": [
            "\u001b[1;31m---------------------------------------------------------------------------\u001b[0m",
            "\u001b[1;31mModuleNotFoundError\u001b[0m                       Traceback (most recent call last)",
            "Cell \u001b[1;32mIn[1], line 2\u001b[0m\n\u001b[0;32m      1\u001b[0m \u001b[38;5;66;03m# Proses autentikasi\u001b[39;00m\n\u001b[1;32m----> 2\u001b[0m \u001b[38;5;28;01mfrom\u001b[39;00m \u001b[38;5;21;01mgoogle\u001b[39;00m\u001b[38;5;21;01m.\u001b[39;00m\u001b[38;5;21;01mcolab\u001b[39;00m \u001b[38;5;28;01mimport\u001b[39;00m auth\n\u001b[0;32m      3\u001b[0m \u001b[38;5;28;01mfrom\u001b[39;00m \u001b[38;5;21;01mgoogle\u001b[39;00m\u001b[38;5;21;01m.\u001b[39;00m\u001b[38;5;21;01mcloud\u001b[39;00m \u001b[38;5;28;01mimport\u001b[39;00m bigquery\n\u001b[0;32m      4\u001b[0m auth\u001b[38;5;241m.\u001b[39mauthenticate_user()\n",
            "\u001b[1;31mModuleNotFoundError\u001b[0m: No module named 'google.colab'"
          ]
        }
      ],
      "source": [
        "# Proses autentikasi\n",
        "from google.colab import auth\n",
        "from google.cloud import bigquery\n",
        "auth.authenticate_user()\n",
        "print('Authenticated')\n",
        "\n",
        "project_id = \"ace-mile-424512-u5\"\n",
        "client = bigquery.Client(project=project_id)"
      ]
    },
    {
      "cell_type": "code",
      "execution_count": null,
      "metadata": {
        "colab": {
          "base_uri": "https://localhost:8080/",
          "height": 206
        },
        "id": "g3QJd7Ma9vhR",
        "outputId": "c26ef1f2-024f-47cc-b5bf-10711f7985d0"
      },
      "outputs": [],
      "source": [
        "# Hanya mengambil kolom 'price' yang mempunyai value dari kolom operation 'rent' dan property_type 'apartment'\n",
        "df = client.query('''\n",
        "SELECT price\n",
        "FROM `bigquery-public-data.properati_properties_ar.properties_rent_201501`\n",
        "WHERE operation = 'rent' AND property_type = 'apartment'\n",
        "LIMIT 1500\n",
        "''').to_dataframe()\n",
        "\n",
        "df.head()"
      ]
    },
    {
      "cell_type": "markdown",
      "metadata": {
        "id": "u2epv7GG_6DN"
      },
      "source": [
        "# Analisis Anomali"
      ]
    },
    {
      "cell_type": "markdown",
      "metadata": {
        "id": "hcmGCpu4AGrp"
      },
      "source": [
        "## 1. Mean, Median, Modus"
      ]
    },
    {
      "cell_type": "code",
      "execution_count": null,
      "metadata": {
        "colab": {
          "base_uri": "https://localhost:8080/"
        },
        "id": "NBDiIvxh_D3J",
        "outputId": "6ed65aa6-6861-4b1e-ea26-30e4f5ebdcf7"
      },
      "outputs": [],
      "source": [
        "# Mencari nilai rata-rata, median dan modus dari dataset\n",
        "mean = df['price'].mean()\n",
        "median = df['price'].median()\n",
        "mode = df['price'].mode().values[0]\n",
        "\n",
        "print(f\"Mean = {mean}\")\n",
        "print(f\"Median = {median}\")\n",
        "print(f\"Mode = {mode}\")"
      ]
    },
    {
      "cell_type": "markdown",
      "metadata": {
        "id": "y7rWfbruAybG"
      },
      "source": [
        "## 2. Skewness"
      ]
    },
    {
      "cell_type": "code",
      "execution_count": null,
      "metadata": {
        "colab": {
          "base_uri": "https://localhost:8080/"
        },
        "id": "lXtyFe5UA2ty",
        "outputId": "938769a9-caff-4f49-b943-de52659c766d"
      },
      "outputs": [],
      "source": [
        "# Mencari nilai skew dari dataset\n",
        "skewness = df['price'].skew()\n",
        "\n",
        "print(f\"Skew = {skewness}\")"
      ]
    },
    {
      "cell_type": "markdown",
      "metadata": {
        "id": "MvZ3_BRdA9ht"
      },
      "source": [
        "hasil skew positif yang berarti data cenderung tertarik kekanan karna frekuensi value 'price' yang lebih tinggi ternyata lebih banyak"
      ]
    },
    {
      "cell_type": "markdown",
      "metadata": {
        "id": "SEDRaPhSBnk3"
      },
      "source": [
        "## 3. Extreme Value Analysis"
      ]
    },
    {
      "cell_type": "code",
      "execution_count": null,
      "metadata": {
        "colab": {
          "base_uri": "https://localhost:8080/"
        },
        "id": "4QqbIN9VBrGP",
        "outputId": "555a219c-810b-40f9-c6c1-18ac27c5b0bf"
      },
      "outputs": [],
      "source": [
        "# Menghilangkan outliers pada dataset\n",
        "q1 = df['price'].quantile(0.25)\n",
        "q2 = df['price'].quantile(0.5)\n",
        "q3 = df['price'].quantile(0.75)\n",
        "\n",
        "iqr = q3 - q1\n",
        "\n",
        "lower_bound = q1 - 1.5*iqr\n",
        "upper_bound = q3 + 1.5*iqr\n",
        "\n",
        "outlier = df['price'][(df['price'] < lower_bound) | (df['price'] > upper_bound)]\n",
        "no_outlier = df['price'][(df['price'] >= lower_bound) & (df['price'] <= upper_bound)]\n",
        "\n",
        "print(f'Percentage of outliers: {len(outlier)*100/len(df[\"price\"]):.2f}%')\n",
        "\n"
      ]
    },
    {
      "cell_type": "markdown",
      "metadata": {
        "id": "gOC5sWHWDFs_"
      },
      "source": [
        "outliers masih banyak"
      ]
    },
    {
      "cell_type": "markdown",
      "metadata": {
        "id": "ITc4TH_nMfh5"
      },
      "source": [
        "## 4. Membuat variabel baru utk menyimpan data yang sudah dibuang anomalinya"
      ]
    },
    {
      "cell_type": "code",
      "execution_count": null,
      "metadata": {
        "colab": {
          "base_uri": "https://localhost:8080/"
        },
        "id": "c6z_x4CgEE4d",
        "outputId": "35be2e35-1150-46d3-c291-a8b68bb994b7"
      },
      "outputs": [],
      "source": [
        "# Melakukan iterasi untuk menghilangkan outliers sampai batas maksimum outliers\n",
        "max_outliers_percent = 5\n",
        "percent_outliers = 100\n",
        "df_clean = df.copy() # variabel baru utk menyimpan data yang sudah bersih\n",
        "\n",
        "while percent_outliers > max_outliers_percent:\n",
        "  q1 = df_clean['price'].quantile(0.25)\n",
        "  q3 = df_clean['price'].quantile(0.75)\n",
        "  iqr = q3-q1\n",
        "\n",
        "  lower_bound = q1 - 1.5*iqr\n",
        "  upper_bound = q3 + 1.5*iqr\n",
        "\n",
        "  outliers = df_clean[(df_clean['price']< lower_bound) | (df_clean['price'] > upper_bound)]\n",
        "  percent_outliers = len(outliers) * 100 / len(df_clean['price'])\n",
        "\n",
        "  if percent_outliers > max_outliers_percent:\n",
        "    df_clean = df_clean[(df_clean['price'] >= lower_bound) & (df_clean['price'] <= upper_bound)]\n",
        "\n",
        "\n",
        "print(f'Final percentage of outliers: {percent_outliers:.0f}%')"
      ]
    },
    {
      "cell_type": "code",
      "execution_count": null,
      "metadata": {
        "colab": {
          "base_uri": "https://localhost:8080/"
        },
        "id": "Ja0D4wKvFBrw",
        "outputId": "ef882aa3-ee59-4d7c-d187-f71f3715ac32"
      },
      "outputs": [],
      "source": [
        "df_clean.info()"
      ]
    },
    {
      "cell_type": "markdown",
      "metadata": {
        "id": "p7royvL5MFfa"
      },
      "source": [
        "Data tersortir dari 1500 menjadi 781 setelah dihilangkan outliersnya"
      ]
    },
    {
      "cell_type": "code",
      "execution_count": null,
      "metadata": {
        "colab": {
          "base_uri": "https://localhost:8080/"
        },
        "id": "605eVbgQGNCc",
        "outputId": "70273a6a-634c-4b1c-f136-b68685da6227"
      },
      "outputs": [],
      "source": [
        "skew = df_clean['price'].skew()\n",
        "\n",
        "print(f\"Skew df_clean = {skew}\")"
      ]
    },
    {
      "cell_type": "markdown",
      "metadata": {
        "id": "FClADGG9MQkQ"
      },
      "source": [
        "Nilai skew sudah tidak se-ekstrem sebelumnya"
      ]
    },
    {
      "cell_type": "markdown",
      "metadata": {
        "id": "3mezZsOzMnyn"
      },
      "source": [
        "## 5. Menyimpan data yang sudah bersih"
      ]
    },
    {
      "cell_type": "code",
      "execution_count": null,
      "metadata": {
        "colab": {
          "base_uri": "https://localhost:8080/",
          "height": 17
        },
        "id": "5L8vkxr0FXvQ",
        "outputId": "9c1594cc-1a43-4f88-88f1-4df35d41a7c6"
      },
      "outputs": [],
      "source": [
        "# Mengimpor data yang sudah dibersihkan\n",
        "df.to_csv('h8dsft_P0LC3_iqbal_saputra.csv', index=False)\n",
        "from google.colab import files\n",
        "files.download('h8dsft_P0LC3_iqbal_saputra.csv')"
      ]
    },
    {
      "cell_type": "markdown",
      "metadata": {
        "id": "pobknNPdGtD6"
      },
      "source": [
        "# Pertanyaan"
      ]
    },
    {
      "cell_type": "markdown",
      "metadata": {
        "id": "SK5oKhQpGyhL"
      },
      "source": [
        "1. Sebelum dihilangkan outliersnya data memiliki:\n",
        "- Mean = 6175.914141414141\n",
        "- Median = 3200.0\n",
        "- Mode = 0.0\n",
        "\n",
        "Menurut analisis saya, kecenderungan data lebih memusat kekanan dikarenakan frekuensi value price yang lebih tinggi(nilai ekstrim) lebih banyak dibandingkan value price yang lebih kecil(nilai ekstrim), yang berarti umumnya harga sewa apartement lebih tinggi dari harga median dan rata-rata\n"
      ]
    },
    {
      "cell_type": "markdown",
      "metadata": {
        "id": "YHOg5qZbIbKz"
      },
      "source": [
        "2. Sebelum melakukan extreme value analysis, nilai skewness pada data adalah 3.99 yang berarti distribusi data lebih cenderung ke value(price) yang lebih tinggi\n",
        "\n",
        "* -0.5 < skew < 0.5 = simetris\n",
        "* -1 < skew < 1 = slightly skew\n",
        "* skew < -1 | 1 < skew = moderate skew"
      ]
    },
    {
      "cell_type": "markdown",
      "metadata": {
        "id": "p_sJ20PvJ3fK"
      },
      "source": [
        "3. Dikarenakan nilai skew pada data > ±0.5, maka saya menggunakan metode Tukey's rule atau IQR, karna metode tersebut lebih robust untuk data yang terdapat banyak outliers"
      ]
    }
  ],
  "metadata": {
    "colab": {
      "collapsed_sections": [
        "hcmGCpu4AGrp",
        "y7rWfbruAybG",
        "SEDRaPhSBnk3",
        "ITc4TH_nMfh5"
      ],
      "provenance": []
    },
    "kernelspec": {
      "display_name": "Python 3",
      "name": "python3"
    },
    "language_info": {
      "codemirror_mode": {
        "name": "ipython",
        "version": 3
      },
      "file_extension": ".py",
      "mimetype": "text/x-python",
      "name": "python",
      "nbconvert_exporter": "python",
      "pygments_lexer": "ipython3",
      "version": "3.10.14"
    }
  },
  "nbformat": 4,
  "nbformat_minor": 0
}
