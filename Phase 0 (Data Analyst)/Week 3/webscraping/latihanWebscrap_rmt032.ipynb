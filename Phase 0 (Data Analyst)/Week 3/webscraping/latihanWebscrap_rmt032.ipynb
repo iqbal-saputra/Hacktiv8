{
 "cells": [
  {
   "cell_type": "code",
   "execution_count": 1,
   "metadata": {},
   "outputs": [],
   "source": [
    "# import libraries\n",
    "import pandas as pd\n",
    "from selenium import webdriver\n",
    "from bs4 import BeautifulSoup\n",
    "import time"
   ]
  },
  {
   "cell_type": "code",
   "execution_count": 2,
   "metadata": {},
   "outputs": [],
   "source": [
    "# assign webdriver\n",
    "driver = webdriver.Chrome()"
   ]
  },
  {
   "cell_type": "markdown",
   "metadata": {},
   "source": [
    "**Boxes**\n",
    "```html\n",
    "<div class=\"o_wsale_product_information position-relative d-flex flex-column flex-grow-1 flex-shrink-1\">\n",
    "```"
   ]
  },
  {
   "cell_type": "markdown",
   "metadata": {},
   "source": [
    "**Name of the product**\n",
    "```html\n",
    "<a class=\"text-primary text-decoration-none\" itemprop=\"name\" href=\"/electrolux-kulkas-portable-eum0500sb-sku3323235036\" content=\"ELECTROLUX Kulkas Portable EUM0500SB\">ELECTROLUX Kulkas Portable EUM0500SB</a>\n",
    "```"
   ]
  },
  {
   "cell_type": "markdown",
   "metadata": {},
   "source": [
    "**Price**\n",
    "```html\n",
    "<span itemprop=\"price\" style=\"display:none;\">2024500.0</span>\n",
    "```"
   ]
  },
  {
   "cell_type": "markdown",
   "metadata": {},
   "source": [
    "**Installment**\n",
    "```html\n",
    "<span class=\"bmd-installment\">Cicilan Rp. 168.708/bln</span>\n",
    "```\n",
    "\n",
    "**Review**\n",
    "```html\n",
    "<span class=\"bmd-installment\">(2)</span>\n",
    "```"
   ]
  },
  {
   "cell_type": "code",
   "execution_count": 26,
   "metadata": {},
   "outputs": [],
   "source": [
    "# create empty lists to contain the values\n",
    "names = []\n",
    "prices = []\n",
    "installments = []\n",
    "reviews = []\n",
    "\n",
    "# looping page number\n",
    "for page in range(1, 6):\n",
    "\n",
    "    # url\n",
    "    url = f'https://www.bhinneka.com/jual?page={page}&cari=kulkas&order='\n",
    "\n",
    "    # Access the web\n",
    "    driver.get(url)\n",
    "\n",
    "    # give time to load the page\n",
    "    time.sleep(2)\n",
    "\n",
    "    # fetch the html\n",
    "    html = driver.page_source\n",
    "\n",
    "    # parse the html\n",
    "    soup = BeautifulSoup(html, 'html.parser')\n",
    "\n",
    "    # Look for the boxes or containers\n",
    "    boxes = soup.find_all('div', {'class':'o_wsale_product_information position-relative d-flex flex-column flex-grow-1 flex-shrink-1'})\n",
    "\n",
    "    # Get Information from each box\n",
    "    for box in boxes:\n",
    "\n",
    "        # Get the name\n",
    "        try:\n",
    "            name = box.find('a', {'itemprop':'name'})\n",
    "            names.append(name.get_text())\n",
    "        except:\n",
    "            names.append(None)\n",
    "\n",
    "        # Get the price\n",
    "        try:\n",
    "            price = box.find('span', {'itemprop':'price'})\n",
    "            prices.append(price.get_text())\n",
    "        except:\n",
    "            prices.append(None)\n",
    "\n",
    "        # Get the installment\n",
    "        try:\n",
    "            installment = box.find('span', {'class':'bmd-installment'})\n",
    "            installments.append(installment.get_text())\n",
    "        except:\n",
    "            installments.append(None)\n",
    "\n",
    "        # Get the review\n",
    "        try:\n",
    "            review = box.find_all('span', {'class':'bmd-installment'})\n",
    "            reviews.append(review[2].get_text())\n",
    "        except:\n",
    "            reviews.append(None)\n"
   ]
  },
  {
   "cell_type": "code",
   "execution_count": 27,
   "metadata": {},
   "outputs": [
    {
     "data": {
      "text/html": [
       "<div>\n",
       "<style scoped>\n",
       "    .dataframe tbody tr th:only-of-type {\n",
       "        vertical-align: middle;\n",
       "    }\n",
       "\n",
       "    .dataframe tbody tr th {\n",
       "        vertical-align: top;\n",
       "    }\n",
       "\n",
       "    .dataframe thead th {\n",
       "        text-align: right;\n",
       "    }\n",
       "</style>\n",
       "<table border=\"1\" class=\"dataframe\">\n",
       "  <thead>\n",
       "    <tr style=\"text-align: right;\">\n",
       "      <th></th>\n",
       "      <th>produk</th>\n",
       "      <th>harga</th>\n",
       "      <th>cicilan</th>\n",
       "      <th>review</th>\n",
       "    </tr>\n",
       "  </thead>\n",
       "  <tbody>\n",
       "    <tr>\n",
       "      <th>0</th>\n",
       "      <td>ELECTROLUX Kulkas Portable EUM0500SB</td>\n",
       "      <td>2024500.0</td>\n",
       "      <td>Cicilan Rp. 168.708/bln</td>\n",
       "      <td>(2)</td>\n",
       "    </tr>\n",
       "    <tr>\n",
       "      <th>1</th>\n",
       "      <td>POLYTRON Kulkas 2 pintu PRB 219</td>\n",
       "      <td>2999000.0</td>\n",
       "      <td>Cicilan Rp. 249.917/bln</td>\n",
       "      <td>(0)</td>\n",
       "    </tr>\n",
       "    <tr>\n",
       "      <th>2</th>\n",
       "      <td>SANKEN Kulkas 1 Pintu SN-118</td>\n",
       "      <td>1758000.0</td>\n",
       "      <td>Cicilan Rp. 146.500/bln</td>\n",
       "      <td>(0)</td>\n",
       "    </tr>\n",
       "    <tr>\n",
       "      <th>3</th>\n",
       "      <td>AQUA Kulkas 2 Pintu AQR-405IG</td>\n",
       "      <td>6999000.0</td>\n",
       "      <td>Cicilan Rp. 583.250/bln</td>\n",
       "      <td>(1)</td>\n",
       "    </tr>\n",
       "    <tr>\n",
       "      <th>4</th>\n",
       "      <td>POLYTRON Kulkas 2 Pintu PRM21BNR</td>\n",
       "      <td>3290000.0</td>\n",
       "      <td>Cicilan Rp. 274.167/bln</td>\n",
       "      <td>(0)</td>\n",
       "    </tr>\n",
       "  </tbody>\n",
       "</table>\n",
       "</div>"
      ],
      "text/plain": [
       "                                 produk      harga                  cicilan  \\\n",
       "0  ELECTROLUX Kulkas Portable EUM0500SB  2024500.0  Cicilan Rp. 168.708/bln   \n",
       "1       POLYTRON Kulkas 2 pintu PRB 219  2999000.0  Cicilan Rp. 249.917/bln   \n",
       "2          SANKEN Kulkas 1 Pintu SN-118  1758000.0  Cicilan Rp. 146.500/bln   \n",
       "3         AQUA Kulkas 2 Pintu AQR-405IG  6999000.0  Cicilan Rp. 583.250/bln   \n",
       "4      POLYTRON Kulkas 2 Pintu PRM21BNR  3290000.0  Cicilan Rp. 274.167/bln   \n",
       "\n",
       "  review  \n",
       "0    (2)  \n",
       "1    (0)  \n",
       "2    (0)  \n",
       "3    (1)  \n",
       "4    (0)  "
      ]
     },
     "metadata": {},
     "output_type": "display_data"
    },
    {
     "name": "stdout",
     "output_type": "stream",
     "text": [
      "<class 'pandas.core.frame.DataFrame'>\n",
      "RangeIndex: 200 entries, 0 to 199\n",
      "Data columns (total 4 columns):\n",
      " #   Column   Non-Null Count  Dtype \n",
      "---  ------   --------------  ----- \n",
      " 0   produk   200 non-null    object\n",
      " 1   harga    200 non-null    object\n",
      " 2   cicilan  200 non-null    object\n",
      " 3   review   200 non-null    object\n",
      "dtypes: object(4)\n",
      "memory usage: 6.4+ KB\n"
     ]
    }
   ],
   "source": [
    "# Create dataframe\n",
    "data = pd.DataFrame({\n",
    "    'produk':names,\n",
    "    'harga':prices,\n",
    "    'cicilan':installments,\n",
    "    'review':reviews\n",
    "})\n",
    "\n",
    "display(data.head())\n",
    "data.info()"
   ]
  },
  {
   "cell_type": "markdown",
   "metadata": {},
   "source": [
    "---\n",
    "## Inspek element untuk mengambil reviews"
   ]
  },
  {
   "cell_type": "code",
   "execution_count": 29,
   "metadata": {},
   "outputs": [],
   "source": [
    "# url\n",
    "url = f'https://www.bhinneka.com/jual?page=1&cari=kulkas&order='\n",
    "\n",
    "# Access the web\n",
    "driver.get(url)\n",
    "\n",
    "# fetch the html\n",
    "html = driver.page_source\n",
    "\n",
    "# parse the html\n",
    "soup = BeautifulSoup(html, 'html.parser')"
   ]
  },
  {
   "cell_type": "code",
   "execution_count": 30,
   "metadata": {},
   "outputs": [],
   "source": [
    "# Look for the boxes or containers\n",
    "boxes = soup.find('div', {'class':'o_wsale_product_information position-relative d-flex flex-column flex-grow-1 flex-shrink-1'})"
   ]
  },
  {
   "cell_type": "code",
   "execution_count": 31,
   "metadata": {},
   "outputs": [
    {
     "data": {
      "text/plain": [
       "3"
      ]
     },
     "execution_count": 31,
     "metadata": {},
     "output_type": "execute_result"
    }
   ],
   "source": [
    "tag_intallments = boxes.find_all('span', {'class':'bmd-installment'})\n",
    "len(tag_intallments)"
   ]
  },
  {
   "cell_type": "code",
   "execution_count": 35,
   "metadata": {},
   "outputs": [
    {
     "name": "stdout",
     "output_type": "stream",
     "text": [
      "index : 0\n",
      "Cicilan Rp. 249.917/bln\n",
      "\n",
      "index : 1\n",
      "Jakarta Utara\n",
      "\n",
      "index : 2\n",
      "(0)\n",
      "\n"
     ]
    }
   ],
   "source": [
    "no=0\n",
    "for komponen in tag_intallments:\n",
    "    print('index :', no)\n",
    "    print(komponen.get_text().strip())\n",
    "    print()\n",
    "    no += 1"
   ]
  },
  {
   "cell_type": "code",
   "execution_count": 22,
   "metadata": {},
   "outputs": [
    {
     "data": {
      "text/plain": [
       "'(0)'"
      ]
     },
     "execution_count": 22,
     "metadata": {},
     "output_type": "execute_result"
    }
   ],
   "source": [
    "tag_intallments[2].get_text()"
   ]
  }
 ],
 "metadata": {
  "kernelspec": {
   "display_name": "Hacktiv8",
   "language": "python",
   "name": "python3"
  },
  "language_info": {
   "codemirror_mode": {
    "name": "ipython",
    "version": 3
   },
   "file_extension": ".py",
   "mimetype": "text/x-python",
   "name": "python",
   "nbconvert_exporter": "python",
   "pygments_lexer": "ipython3",
   "version": "3.11.7"
  }
 },
 "nbformat": 4,
 "nbformat_minor": 2
}
