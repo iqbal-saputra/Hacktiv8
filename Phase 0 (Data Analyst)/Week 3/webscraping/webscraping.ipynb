{
 "cells": [
  {
   "cell_type": "code",
   "execution_count": 1,
   "metadata": {},
   "outputs": [
    {
     "name": "stdout",
     "output_type": "stream",
     "text": [
      "Requirement already satisfied: bs4 in c:\\users\\user\\anaconda3\\lib\\site-packages (0.0.2)\n",
      "Requirement already satisfied: selenium in c:\\users\\user\\anaconda3\\lib\\site-packages (4.21.0)\n",
      "Requirement already satisfied: beautifulsoup4 in c:\\users\\user\\anaconda3\\lib\\site-packages (from bs4) (4.12.2)\n",
      "Requirement already satisfied: urllib3<3,>=1.26 in c:\\users\\user\\anaconda3\\lib\\site-packages (from urllib3[socks]<3,>=1.26->selenium) (2.0.7)\n",
      "Requirement already satisfied: trio~=0.17 in c:\\users\\user\\anaconda3\\lib\\site-packages (from selenium) (0.25.1)\n",
      "Requirement already satisfied: trio-websocket~=0.9 in c:\\users\\user\\anaconda3\\lib\\site-packages (from selenium) (0.11.1)\n",
      "Requirement already satisfied: certifi>=2021.10.8 in c:\\users\\user\\anaconda3\\lib\\site-packages (from selenium) (2024.2.2)\n",
      "Requirement already satisfied: typing_extensions>=4.9.0 in c:\\users\\user\\anaconda3\\lib\\site-packages (from selenium) (4.9.0)\n",
      "Requirement already satisfied: attrs>=23.2.0 in c:\\users\\user\\anaconda3\\lib\\site-packages (from trio~=0.17->selenium) (23.2.0)\n",
      "Requirement already satisfied: sortedcontainers in c:\\users\\user\\anaconda3\\lib\\site-packages (from trio~=0.17->selenium) (2.4.0)\n",
      "Requirement already satisfied: idna in c:\\users\\user\\anaconda3\\lib\\site-packages (from trio~=0.17->selenium) (3.4)\n",
      "Requirement already satisfied: outcome in c:\\users\\user\\anaconda3\\lib\\site-packages (from trio~=0.17->selenium) (1.3.0.post0)\n",
      "Requirement already satisfied: sniffio>=1.3.0 in c:\\users\\user\\anaconda3\\lib\\site-packages (from trio~=0.17->selenium) (1.3.0)\n",
      "Requirement already satisfied: cffi>=1.14 in c:\\users\\user\\anaconda3\\lib\\site-packages (from trio~=0.17->selenium) (1.16.0)\n",
      "Requirement already satisfied: wsproto>=0.14 in c:\\users\\user\\anaconda3\\lib\\site-packages (from trio-websocket~=0.9->selenium) (1.2.0)\n",
      "Requirement already satisfied: pysocks!=1.5.7,<2.0,>=1.5.6 in c:\\users\\user\\anaconda3\\lib\\site-packages (from urllib3[socks]<3,>=1.26->selenium) (1.7.1)\n",
      "Requirement already satisfied: soupsieve>1.2 in c:\\users\\user\\anaconda3\\lib\\site-packages (from beautifulsoup4->bs4) (2.5)\n",
      "Requirement already satisfied: pycparser in c:\\users\\user\\anaconda3\\lib\\site-packages (from cffi>=1.14->trio~=0.17->selenium) (2.21)\n",
      "Requirement already satisfied: h11<1,>=0.9.0 in c:\\users\\user\\anaconda3\\lib\\site-packages (from wsproto>=0.14->trio-websocket~=0.9->selenium) (0.14.0)\n"
     ]
    }
   ],
   "source": [
    "!pip install bs4 selenium"
   ]
  },
  {
   "cell_type": "markdown",
   "metadata": {},
   "source": [
    "### Access a website"
   ]
  },
  {
   "cell_type": "code",
   "execution_count": 1,
   "metadata": {},
   "outputs": [
    {
     "data": {
      "text/plain": [
       "<Response [200]>"
      ]
     },
     "execution_count": 1,
     "metadata": {},
     "output_type": "execute_result"
    }
   ],
   "source": [
    "import requests\n",
    "\n",
    "# ngecek apakah website dapat diakses\n",
    "page = requests.get('https://www.gramedia.com/categories/buku')\n",
    "page"
   ]
  },
  {
   "cell_type": "markdown",
   "metadata": {},
   "source": [
    "### Persiapan\n"
   ]
  },
  {
   "cell_type": "code",
   "execution_count": 28,
   "metadata": {},
   "outputs": [],
   "source": [
    "# Import librariees\n",
    "\n",
    "from selenium import webdriver\n",
    "from bs4 import BeautifulSoup\n",
    "import pandas as pd"
   ]
  },
  {
   "cell_type": "code",
   "execution_count": 29,
   "metadata": {},
   "outputs": [],
   "source": [
    "# buat driver\n",
    "driver = webdriver.Chrome()"
   ]
  },
  {
   "cell_type": "code",
   "execution_count": 30,
   "metadata": {},
   "outputs": [],
   "source": [
    "# sediakan url\n",
    "url = 'https://www.gramedia.com/categories/buku'\n",
    "# akses website\n",
    "driver.get(url)"
   ]
  },
  {
   "cell_type": "code",
   "execution_count": 6,
   "metadata": {},
   "outputs": [],
   "source": [
    "# extract html\n",
    "html = driver.page_source"
   ]
  },
  {
   "cell_type": "code",
   "execution_count": 31,
   "metadata": {},
   "outputs": [],
   "source": [
    "# Parsing html\n",
    "soup = BeautifulSoup(html, 'html.parser')"
   ]
  },
  {
   "cell_type": "markdown",
   "metadata": {},
   "source": [
    "### Mengambil judul buku"
   ]
  },
  {
   "cell_type": "markdown",
   "metadata": {},
   "source": [
    "<div _ngcontent-web-gramedia-c26=\"\" class=\"list-title\">I Want To Eat Your Pancreas 1</div>"
   ]
  },
  {
   "cell_type": "code",
   "execution_count": 39,
   "metadata": {},
   "outputs": [],
   "source": [
    "titles = soup.find('div', {'class':'list-title'})"
   ]
  },
  {
   "cell_type": "code",
   "execution_count": 40,
   "metadata": {},
   "outputs": [
    {
     "data": {
      "text/plain": [
       "'Wild Police Story-Last'"
      ]
     },
     "execution_count": 40,
     "metadata": {},
     "output_type": "execute_result"
    }
   ],
   "source": [
    "titles.get_text()"
   ]
  },
  {
   "cell_type": "code",
   "execution_count": 27,
   "metadata": {},
   "outputs": [
    {
     "name": "stdout",
     "output_type": "stream",
     "text": [
      "Wild Police Story-Last\n",
      "Aktivitas Hafiz Hafizah: Asah Kecerdasan IQ\n",
      "One Piece 106\n",
      "AKASHA : Dead Mount Death Play 3\n",
      "Lima Sekawan: Rahasia di Pulau Kirrin\n",
      "The Man In The Brown Suit ( Pria Bersetelan Cokelat )\n",
      "Doraemon 01 (2024)\n",
      "Doraemon 02 (2024)\n",
      "Spy x Family 12\n",
      "Black Clover 24\n",
      "One Piece 16 (2024)\n",
      "Mission: Yozakura Family 04\n",
      "Dr. Stone 08\n",
      "Jujutsu Kaisen 15\n",
      "Blue Lock 15\n",
      "Level Comic: Tokyo Revengers 16\n",
      "Amendemen I-IV UUD 1945 Dan Pengetahuan Umum Indonesia\n",
      "Panduan Stoik Untuk Hidup Bahagia : Seneca Filsafat Hidup Bahagia\n",
      "Cicero : Surat-Surat Cicero\n",
      "Kekuatan Manipulasi\n"
     ]
    }
   ],
   "source": [
    "# titles = soup.find_all('div', {'class':'list-title'}) # untuk mengambil elemen ## gabisa\n",
    "# titles.get_text() # untuk mengambil judul ## gabisa\n",
    "soup.find_all('div', {'class':'list-title'})\n",
    "list_titles = []\n",
    "\n",
    "for i in titles:\n",
    "    list_titles.append(i.get_text())\n",
    "    \n",
    "for i in list_titles:\n",
    "    print(i)"
   ]
  },
  {
   "cell_type": "code",
   "execution_count": 10,
   "metadata": {},
   "outputs": [
    {
     "data": {
      "text/plain": [
       "'Wild Police Story-Last'"
      ]
     },
     "execution_count": 10,
     "metadata": {},
     "output_type": "execute_result"
    }
   ],
   "source": [
    "book_title = soup.find('div', {'class':'list-title'}) # untuk mengambil elemen\n",
    "book_title.get_text() # untuk mengambil judul\n"
   ]
  },
  {
   "cell_type": "code",
   "execution_count": 11,
   "metadata": {},
   "outputs": [],
   "source": [
    "# 1. penulis\n",
    "# 2. harga\n",
    "# 3. link cover"
   ]
  },
  {
   "cell_type": "code",
   "execution_count": 12,
   "metadata": {},
   "outputs": [
    {
     "data": {
      "text/plain": [
       "<span _ngcontent-web-gramedia-c26=\"\" class=\"list-author ng-star-inserted\"> Aoyama Gosho </span>"
      ]
     },
     "execution_count": 12,
     "metadata": {},
     "output_type": "execute_result"
    }
   ],
   "source": [
    "book_author = soup.find('span', {'class':'list-author'})\n",
    "book_author"
   ]
  },
  {
   "cell_type": "code",
   "execution_count": 13,
   "metadata": {},
   "outputs": [
    {
     "data": {
      "text/plain": [
       "[<span _ngcontent-web-gramedia-c26=\"\" class=\"list-author ng-star-inserted\"> Aoyama Gosho </span>,\n",
       " <span _ngcontent-web-gramedia-c26=\"\" class=\"list-author ng-star-inserted\"> PT Hidayah Insan Mulia </span>,\n",
       " <span _ngcontent-web-gramedia-c26=\"\" class=\"list-author ng-star-inserted\"> Eiichiro Oda </span>,\n",
       " <span _ngcontent-web-gramedia-c26=\"\" class=\"list-author ng-star-inserted\"> Shinta Fujimoto </span>,\n",
       " <span _ngcontent-web-gramedia-c26=\"\" class=\"list-author ng-star-inserted\"> Enid Blyton </span>,\n",
       " <span _ngcontent-web-gramedia-c26=\"\" class=\"list-author ng-star-inserted\"> Agatha Christie </span>,\n",
       " <span _ngcontent-web-gramedia-c26=\"\" class=\"list-author ng-star-inserted\"> Kim Tae-hun </span>,\n",
       " <span _ngcontent-web-gramedia-c26=\"\" class=\"list-author ng-star-inserted\"> Fujiko F. Fujio </span>,\n",
       " <span _ngcontent-web-gramedia-c26=\"\" class=\"list-author ng-star-inserted\"> Fujiko F. Fujio </span>,\n",
       " <span _ngcontent-web-gramedia-c26=\"\" class=\"list-author ng-star-inserted\"> Endo Tatsuya </span>,\n",
       " <span _ngcontent-web-gramedia-c26=\"\" class=\"list-author ng-star-inserted\"> Yuki TABATA </span>,\n",
       " <span _ngcontent-web-gramedia-c26=\"\" class=\"list-author ng-star-inserted\"> Eiichiro Oda </span>,\n",
       " <span _ngcontent-web-gramedia-c26=\"\" class=\"list-author ng-star-inserted\"> Hitsuji Gondaira </span>,\n",
       " <span _ngcontent-web-gramedia-c26=\"\" class=\"list-author ng-star-inserted\"> Riichiro Inagaki </span>,\n",
       " <span _ngcontent-web-gramedia-c26=\"\" class=\"list-author ng-star-inserted\"> Gege Akutami </span>,\n",
       " <span _ngcontent-web-gramedia-c26=\"\" class=\"list-author ng-star-inserted\"> MUNEYUKI KANESHIRO,YUSUKE NOMURA </span>,\n",
       " <span _ngcontent-web-gramedia-c26=\"\" class=\"list-author ng-star-inserted\"> Ken Wakui </span>,\n",
       " <span _ngcontent-web-gramedia-c26=\"\" class=\"list-author ng-star-inserted\"> Tim Anak Hebat Indonesia </span>,\n",
       " <span _ngcontent-web-gramedia-c26=\"\" class=\"list-author ng-star-inserted\"> Lucius Annaeus Seneca </span>,\n",
       " <span _ngcontent-web-gramedia-c26=\"\" class=\"list-author ng-star-inserted\"> Marcus Tullius Cicero </span>]"
      ]
     },
     "execution_count": 13,
     "metadata": {},
     "output_type": "execute_result"
    }
   ],
   "source": [
    "authors = soup.find_all('span', {'class':'list-author'})\n",
    "authors"
   ]
  },
  {
   "cell_type": "code",
   "execution_count": 14,
   "metadata": {},
   "outputs": [
    {
     "name": "stdout",
     "output_type": "stream",
     "text": [
      " Aoyama Gosho \n",
      " PT Hidayah Insan Mulia \n",
      " Eiichiro Oda \n",
      " Shinta Fujimoto \n",
      " Enid Blyton \n",
      " Agatha Christie \n",
      " Kim Tae-hun \n",
      " Fujiko F. Fujio \n",
      " Fujiko F. Fujio \n",
      " Endo Tatsuya \n",
      " Yuki TABATA \n",
      " Eiichiro Oda \n",
      " Hitsuji Gondaira \n",
      " Riichiro Inagaki \n",
      " Gege Akutami \n",
      " MUNEYUKI KANESHIRO,YUSUKE NOMURA \n",
      " Ken Wakui \n",
      " Tim Anak Hebat Indonesia \n",
      " Lucius Annaeus Seneca \n",
      " Marcus Tullius Cicero \n"
     ]
    }
   ],
   "source": [
    "authors = soup.find_all('span', {'class':'list-author'})\n",
    "list_authors = []\n",
    "\n",
    "for i in authors:\n",
    "    list_authors.append(i.get_text())\n",
    "    \n",
    "for i in list_authors:\n",
    "    print(i)"
   ]
  },
  {
   "cell_type": "markdown",
   "metadata": {},
   "source": [
    "<p _ngcontent-web-gramedia-c26=\"\" class=\"formats-price\">Rp 25.600</p>"
   ]
  },
  {
   "cell_type": "code",
   "execution_count": 15,
   "metadata": {},
   "outputs": [
    {
     "data": {
      "text/plain": [
       "[<p _ngcontent-web-gramedia-c26=\"\" class=\"formats-price\">Rp 31.500</p>,\n",
       " <p _ngcontent-web-gramedia-c26=\"\" class=\"formats-price\">Rp 52.000</p>,\n",
       " <p _ngcontent-web-gramedia-c26=\"\" class=\"formats-price\">Rp 36.000</p>,\n",
       " <p _ngcontent-web-gramedia-c26=\"\" class=\"formats-price\">Rp 38.400</p>,\n",
       " <p _ngcontent-web-gramedia-c26=\"\" class=\"formats-price\">Rp 39.200</p>,\n",
       " <p _ngcontent-web-gramedia-c26=\"\" class=\"formats-price\">Rp 52.000</p>,\n",
       " <p _ngcontent-web-gramedia-c26=\"\" class=\"formats-price\">Rp 140.000</p>,\n",
       " <p _ngcontent-web-gramedia-c26=\"\" class=\"formats-price\">Rp 45.000</p>,\n",
       " <p _ngcontent-web-gramedia-c26=\"\" class=\"formats-price\">Rp 45.000</p>,\n",
       " <p _ngcontent-web-gramedia-c26=\"\" class=\"formats-price\">Rp 45.000</p>,\n",
       " <p _ngcontent-web-gramedia-c26=\"\" class=\"formats-price\">Rp 40.000</p>,\n",
       " <p _ngcontent-web-gramedia-c26=\"\" class=\"formats-price\">Rp 45.000</p>,\n",
       " <p _ngcontent-web-gramedia-c26=\"\" class=\"formats-price\">Rp 45.000</p>,\n",
       " <p _ngcontent-web-gramedia-c26=\"\" class=\"formats-price\">Rp 45.000</p>,\n",
       " <p _ngcontent-web-gramedia-c26=\"\" class=\"formats-price\">Rp 40.000</p>,\n",
       " <p _ngcontent-web-gramedia-c26=\"\" class=\"formats-price\">Rp 45.000</p>,\n",
       " <p _ngcontent-web-gramedia-c26=\"\" class=\"formats-price\">Rp 40.000</p>,\n",
       " <p _ngcontent-web-gramedia-c26=\"\" class=\"formats-price\">Rp 28.500</p>,\n",
       " <p _ngcontent-web-gramedia-c26=\"\" class=\"formats-price\">Rp 65.500</p>,\n",
       " <p _ngcontent-web-gramedia-c26=\"\" class=\"formats-price\">Rp 65.000</p>]"
      ]
     },
     "execution_count": 15,
     "metadata": {},
     "output_type": "execute_result"
    }
   ],
   "source": [
    "prices = soup.find_all('p', {'class':'formats-price'})\n",
    "prices"
   ]
  },
  {
   "cell_type": "code",
   "execution_count": 16,
   "metadata": {},
   "outputs": [
    {
     "name": "stdout",
     "output_type": "stream",
     "text": [
      "Rp 31.500\n",
      "Rp 52.000\n",
      "Rp 36.000\n",
      "Rp 38.400\n",
      "Rp 39.200\n",
      "Rp 52.000\n",
      "Rp 140.000\n",
      "Rp 45.000\n",
      "Rp 45.000\n",
      "Rp 45.000\n",
      "Rp 40.000\n",
      "Rp 45.000\n",
      "Rp 45.000\n",
      "Rp 45.000\n",
      "Rp 40.000\n",
      "Rp 45.000\n",
      "Rp 40.000\n",
      "Rp 28.500\n",
      "Rp 65.500\n",
      "Rp 65.000\n"
     ]
    }
   ],
   "source": [
    "prices = soup.find_all('p', {'class':'formats-price'})\n",
    "list_prices = []\n",
    "\n",
    "for i in prices:\n",
    "    list_prices.append(i.get_text())\n",
    "    \n",
    "for i in list_prices:\n",
    "    print(i)"
   ]
  },
  {
   "cell_type": "code",
   "execution_count": 17,
   "metadata": {},
   "outputs": [
    {
     "name": "stdout",
     "output_type": "stream",
     "text": [
      "https://cdn.gramedia.com/uploads/items/722010487_cover_Wild_Police_Story_Last__w149_hauto.jpg\n",
      "https://cdn.gramedia.com/uploads/items/722070265_COV_HH_ASAH_KECERDASAN_IQ__w149_hauto.jpg\n",
      "https://cdn.gramedia.com/uploads/picture_meta/2024/5/14/xmymlkgyramorxmhupydk3__w149_hauto.jpg\n",
      "https://cdn.gramedia.com/uploads/items/cover_DEAD_MOUNT_DEATH_PLAY_03__w149_hauto.jpg\n",
      "https://cdn.gramedia.com/uploads/items/9786020321288_Lima-Sekawan_Rahasia-di-Pulau-Kirrin__w149_hauto.jpg\n",
      "https://cdn.gramedia.com/uploads/items/9789792285130_the-man-in-the-brown-suit-_pria-bersetelan-cokelat___w149_hauto.jpg\n",
      "https://cdn.gramedia.com/uploads/picture_meta/2024/5/15/4ohnkvesdfia2w4x5icguw__w149_hauto.jpg\n",
      "https://cdn.gramedia.com/uploads/picture_meta/2024/6/7/jg8updzdgtdwbowz7bhqtg__w149_hauto.jpg\n",
      "https://cdn.gramedia.com/uploads/picture_meta/2024/6/7/fghdffwfdexez5o57k4prr__w149_hauto.jpg\n",
      "/assets/default-images/product.png\n",
      "/assets/default-images/product.png\n",
      "/assets/default-images/product.png\n",
      "/assets/default-images/product.png\n",
      "/assets/default-images/product.png\n",
      "/assets/default-images/product.png\n",
      "/assets/default-images/product.png\n",
      "/assets/default-images/product.png\n",
      "/assets/default-images/product.png\n",
      "/assets/default-images/product.png\n",
      "/assets/default-images/product.png\n"
     ]
    }
   ],
   "source": [
    "links_image = soup.find_all('img', {'class':'product-list-img'})\n",
    "list_images = []\n",
    "\n",
    "for i in links_image:\n",
    "    list_images.append(i['src'])\n",
    "    \n",
    "for i in list_images:\n",
    "    print(i)"
   ]
  },
  {
   "cell_type": "markdown",
   "metadata": {},
   "source": [
    "### Buat Menjadi Datafram"
   ]
  },
  {
   "cell_type": "code",
   "execution_count": 18,
   "metadata": {},
   "outputs": [
    {
     "data": {
      "text/html": [
       "<div>\n",
       "<style scoped>\n",
       "    .dataframe tbody tr th:only-of-type {\n",
       "        vertical-align: middle;\n",
       "    }\n",
       "\n",
       "    .dataframe tbody tr th {\n",
       "        vertical-align: top;\n",
       "    }\n",
       "\n",
       "    .dataframe thead th {\n",
       "        text-align: right;\n",
       "    }\n",
       "</style>\n",
       "<table border=\"1\" class=\"dataframe\">\n",
       "  <thead>\n",
       "    <tr style=\"text-align: right;\">\n",
       "      <th></th>\n",
       "      <th>Judul</th>\n",
       "      <th>Penulis</th>\n",
       "      <th>Harga</th>\n",
       "      <th>Cover</th>\n",
       "    </tr>\n",
       "  </thead>\n",
       "  <tbody>\n",
       "    <tr>\n",
       "      <th>0</th>\n",
       "      <td>Aoyama Gosho</td>\n",
       "      <td>Wild Police Story-Last</td>\n",
       "      <td>Rp 31.500</td>\n",
       "      <td>https://cdn.gramedia.com/uploads/items/7220104...</td>\n",
       "    </tr>\n",
       "    <tr>\n",
       "      <th>1</th>\n",
       "      <td>PT Hidayah Insan Mulia</td>\n",
       "      <td>Aktivitas Hafiz Hafizah: Asah Kecerdasan IQ</td>\n",
       "      <td>Rp 52.000</td>\n",
       "      <td>https://cdn.gramedia.com/uploads/items/7220702...</td>\n",
       "    </tr>\n",
       "    <tr>\n",
       "      <th>2</th>\n",
       "      <td>Eiichiro Oda</td>\n",
       "      <td>One Piece 106</td>\n",
       "      <td>Rp 36.000</td>\n",
       "      <td>https://cdn.gramedia.com/uploads/picture_meta/...</td>\n",
       "    </tr>\n",
       "    <tr>\n",
       "      <th>3</th>\n",
       "      <td>Shinta Fujimoto</td>\n",
       "      <td>AKASHA : Dead Mount Death Play 3</td>\n",
       "      <td>Rp 38.400</td>\n",
       "      <td>https://cdn.gramedia.com/uploads/items/cover_D...</td>\n",
       "    </tr>\n",
       "    <tr>\n",
       "      <th>4</th>\n",
       "      <td>Enid Blyton</td>\n",
       "      <td>Lima Sekawan: Rahasia di Pulau Kirrin</td>\n",
       "      <td>Rp 39.200</td>\n",
       "      <td>https://cdn.gramedia.com/uploads/items/9786020...</td>\n",
       "    </tr>\n",
       "    <tr>\n",
       "      <th>5</th>\n",
       "      <td>Agatha Christie</td>\n",
       "      <td>The Man In The Brown Suit ( Pria Bersetelan Co...</td>\n",
       "      <td>Rp 52.000</td>\n",
       "      <td>https://cdn.gramedia.com/uploads/items/9789792...</td>\n",
       "    </tr>\n",
       "    <tr>\n",
       "      <th>6</th>\n",
       "      <td>Kim Tae-hun</td>\n",
       "      <td>Ensiklopedia Sains &amp; Teknologi: Informasi &amp; Ko...</td>\n",
       "      <td>Rp 140.000</td>\n",
       "      <td>https://cdn.gramedia.com/uploads/picture_meta/...</td>\n",
       "    </tr>\n",
       "    <tr>\n",
       "      <th>7</th>\n",
       "      <td>Fujiko F. Fujio</td>\n",
       "      <td>Doraemon 01 (2024)</td>\n",
       "      <td>Rp 45.000</td>\n",
       "      <td>https://cdn.gramedia.com/uploads/picture_meta/...</td>\n",
       "    </tr>\n",
       "    <tr>\n",
       "      <th>8</th>\n",
       "      <td>Fujiko F. Fujio</td>\n",
       "      <td>Doraemon 02 (2024)</td>\n",
       "      <td>Rp 45.000</td>\n",
       "      <td>https://cdn.gramedia.com/uploads/picture_meta/...</td>\n",
       "    </tr>\n",
       "    <tr>\n",
       "      <th>9</th>\n",
       "      <td>Endo Tatsuya</td>\n",
       "      <td>Spy x Family 12</td>\n",
       "      <td>Rp 45.000</td>\n",
       "      <td>/assets/default-images/product.png</td>\n",
       "    </tr>\n",
       "    <tr>\n",
       "      <th>10</th>\n",
       "      <td>Yuki TABATA</td>\n",
       "      <td>Black Clover 24</td>\n",
       "      <td>Rp 40.000</td>\n",
       "      <td>/assets/default-images/product.png</td>\n",
       "    </tr>\n",
       "    <tr>\n",
       "      <th>11</th>\n",
       "      <td>Eiichiro Oda</td>\n",
       "      <td>One Piece 16 (2024)</td>\n",
       "      <td>Rp 45.000</td>\n",
       "      <td>/assets/default-images/product.png</td>\n",
       "    </tr>\n",
       "    <tr>\n",
       "      <th>12</th>\n",
       "      <td>Hitsuji Gondaira</td>\n",
       "      <td>Mission: Yozakura Family 04</td>\n",
       "      <td>Rp 45.000</td>\n",
       "      <td>/assets/default-images/product.png</td>\n",
       "    </tr>\n",
       "    <tr>\n",
       "      <th>13</th>\n",
       "      <td>Riichiro Inagaki</td>\n",
       "      <td>Dr. Stone 08</td>\n",
       "      <td>Rp 45.000</td>\n",
       "      <td>/assets/default-images/product.png</td>\n",
       "    </tr>\n",
       "    <tr>\n",
       "      <th>14</th>\n",
       "      <td>Gege Akutami</td>\n",
       "      <td>Jujutsu Kaisen 15</td>\n",
       "      <td>Rp 40.000</td>\n",
       "      <td>/assets/default-images/product.png</td>\n",
       "    </tr>\n",
       "    <tr>\n",
       "      <th>15</th>\n",
       "      <td>MUNEYUKI KANESHIRO,YUSUKE NOMURA</td>\n",
       "      <td>Blue Lock 15</td>\n",
       "      <td>Rp 45.000</td>\n",
       "      <td>/assets/default-images/product.png</td>\n",
       "    </tr>\n",
       "    <tr>\n",
       "      <th>16</th>\n",
       "      <td>Ken Wakui</td>\n",
       "      <td>Level Comic: Tokyo Revengers 16</td>\n",
       "      <td>Rp 40.000</td>\n",
       "      <td>/assets/default-images/product.png</td>\n",
       "    </tr>\n",
       "    <tr>\n",
       "      <th>17</th>\n",
       "      <td>Tim Anak Hebat Indonesia</td>\n",
       "      <td>Amendemen I-IV UUD 1945 Dan Pengetahuan Umum I...</td>\n",
       "      <td>Rp 28.500</td>\n",
       "      <td>/assets/default-images/product.png</td>\n",
       "    </tr>\n",
       "    <tr>\n",
       "      <th>18</th>\n",
       "      <td>Lucius Annaeus Seneca</td>\n",
       "      <td>Panduan Stoik Untuk Hidup Bahagia : Seneca Fil...</td>\n",
       "      <td>Rp 65.500</td>\n",
       "      <td>/assets/default-images/product.png</td>\n",
       "    </tr>\n",
       "    <tr>\n",
       "      <th>19</th>\n",
       "      <td>Marcus Tullius Cicero</td>\n",
       "      <td>Cicero : Surat-Surat Cicero</td>\n",
       "      <td>Rp 65.000</td>\n",
       "      <td>/assets/default-images/product.png</td>\n",
       "    </tr>\n",
       "  </tbody>\n",
       "</table>\n",
       "</div>"
      ],
      "text/plain": [
       "                                 Judul  \\\n",
       "0                        Aoyama Gosho    \n",
       "1              PT Hidayah Insan Mulia    \n",
       "2                        Eiichiro Oda    \n",
       "3                     Shinta Fujimoto    \n",
       "4                         Enid Blyton    \n",
       "5                     Agatha Christie    \n",
       "6                         Kim Tae-hun    \n",
       "7                     Fujiko F. Fujio    \n",
       "8                     Fujiko F. Fujio    \n",
       "9                        Endo Tatsuya    \n",
       "10                        Yuki TABATA    \n",
       "11                       Eiichiro Oda    \n",
       "12                   Hitsuji Gondaira    \n",
       "13                   Riichiro Inagaki    \n",
       "14                       Gege Akutami    \n",
       "15   MUNEYUKI KANESHIRO,YUSUKE NOMURA    \n",
       "16                          Ken Wakui    \n",
       "17           Tim Anak Hebat Indonesia    \n",
       "18              Lucius Annaeus Seneca    \n",
       "19              Marcus Tullius Cicero    \n",
       "\n",
       "                                              Penulis       Harga  \\\n",
       "0                              Wild Police Story-Last   Rp 31.500   \n",
       "1         Aktivitas Hafiz Hafizah: Asah Kecerdasan IQ   Rp 52.000   \n",
       "2                                       One Piece 106   Rp 36.000   \n",
       "3                    AKASHA : Dead Mount Death Play 3   Rp 38.400   \n",
       "4               Lima Sekawan: Rahasia di Pulau Kirrin   Rp 39.200   \n",
       "5   The Man In The Brown Suit ( Pria Bersetelan Co...   Rp 52.000   \n",
       "6   Ensiklopedia Sains & Teknologi: Informasi & Ko...  Rp 140.000   \n",
       "7                                  Doraemon 01 (2024)   Rp 45.000   \n",
       "8                                  Doraemon 02 (2024)   Rp 45.000   \n",
       "9                                     Spy x Family 12   Rp 45.000   \n",
       "10                                    Black Clover 24   Rp 40.000   \n",
       "11                                One Piece 16 (2024)   Rp 45.000   \n",
       "12                        Mission: Yozakura Family 04   Rp 45.000   \n",
       "13                                       Dr. Stone 08   Rp 45.000   \n",
       "14                                  Jujutsu Kaisen 15   Rp 40.000   \n",
       "15                                       Blue Lock 15   Rp 45.000   \n",
       "16                    Level Comic: Tokyo Revengers 16   Rp 40.000   \n",
       "17  Amendemen I-IV UUD 1945 Dan Pengetahuan Umum I...   Rp 28.500   \n",
       "18  Panduan Stoik Untuk Hidup Bahagia : Seneca Fil...   Rp 65.500   \n",
       "19                        Cicero : Surat-Surat Cicero   Rp 65.000   \n",
       "\n",
       "                                                Cover  \n",
       "0   https://cdn.gramedia.com/uploads/items/7220104...  \n",
       "1   https://cdn.gramedia.com/uploads/items/7220702...  \n",
       "2   https://cdn.gramedia.com/uploads/picture_meta/...  \n",
       "3   https://cdn.gramedia.com/uploads/items/cover_D...  \n",
       "4   https://cdn.gramedia.com/uploads/items/9786020...  \n",
       "5   https://cdn.gramedia.com/uploads/items/9789792...  \n",
       "6   https://cdn.gramedia.com/uploads/picture_meta/...  \n",
       "7   https://cdn.gramedia.com/uploads/picture_meta/...  \n",
       "8   https://cdn.gramedia.com/uploads/picture_meta/...  \n",
       "9                  /assets/default-images/product.png  \n",
       "10                 /assets/default-images/product.png  \n",
       "11                 /assets/default-images/product.png  \n",
       "12                 /assets/default-images/product.png  \n",
       "13                 /assets/default-images/product.png  \n",
       "14                 /assets/default-images/product.png  \n",
       "15                 /assets/default-images/product.png  \n",
       "16                 /assets/default-images/product.png  \n",
       "17                 /assets/default-images/product.png  \n",
       "18                 /assets/default-images/product.png  \n",
       "19                 /assets/default-images/product.png  "
      ]
     },
     "execution_count": 18,
     "metadata": {},
     "output_type": "execute_result"
    }
   ],
   "source": [
    "data = pd.DataFrame({\n",
    "    'Judul': list_authors,\n",
    "    'Penulis': list_titles,\n",
    "    'Harga': list_prices,\n",
    "    'Cover': list_images\n",
    "})\n",
    "\n",
    "data"
   ]
  },
  {
   "cell_type": "markdown",
   "metadata": {},
   "source": [
    "### Kompilasikan"
   ]
  },
  {
   "cell_type": "code",
   "execution_count": 19,
   "metadata": {},
   "outputs": [
    {
     "data": {
      "text/html": [
       "<div>\n",
       "<style scoped>\n",
       "    .dataframe tbody tr th:only-of-type {\n",
       "        vertical-align: middle;\n",
       "    }\n",
       "\n",
       "    .dataframe tbody tr th {\n",
       "        vertical-align: top;\n",
       "    }\n",
       "\n",
       "    .dataframe thead th {\n",
       "        text-align: right;\n",
       "    }\n",
       "</style>\n",
       "<table border=\"1\" class=\"dataframe\">\n",
       "  <thead>\n",
       "    <tr style=\"text-align: right;\">\n",
       "      <th></th>\n",
       "      <th>Judul</th>\n",
       "      <th>Penulis</th>\n",
       "      <th>Harga</th>\n",
       "      <th>Cover</th>\n",
       "    </tr>\n",
       "  </thead>\n",
       "  <tbody>\n",
       "    <tr>\n",
       "      <th>0</th>\n",
       "      <td>Aoyama Gosho</td>\n",
       "      <td>Wild Police Story-Last</td>\n",
       "      <td>Rp 31.500</td>\n",
       "      <td>https://cdn.gramedia.com/uploads/items/7220104...</td>\n",
       "    </tr>\n",
       "    <tr>\n",
       "      <th>1</th>\n",
       "      <td>PT Hidayah Insan Mulia</td>\n",
       "      <td>Aktivitas Hafiz Hafizah: Asah Kecerdasan IQ</td>\n",
       "      <td>Rp 52.000</td>\n",
       "      <td>https://cdn.gramedia.com/uploads/items/7220702...</td>\n",
       "    </tr>\n",
       "    <tr>\n",
       "      <th>2</th>\n",
       "      <td>Eiichiro Oda</td>\n",
       "      <td>One Piece 106</td>\n",
       "      <td>Rp 36.000</td>\n",
       "      <td>https://cdn.gramedia.com/uploads/picture_meta/...</td>\n",
       "    </tr>\n",
       "    <tr>\n",
       "      <th>3</th>\n",
       "      <td>Shinta Fujimoto</td>\n",
       "      <td>AKASHA : Dead Mount Death Play 3</td>\n",
       "      <td>Rp 38.400</td>\n",
       "      <td>https://cdn.gramedia.com/uploads/items/cover_D...</td>\n",
       "    </tr>\n",
       "    <tr>\n",
       "      <th>4</th>\n",
       "      <td>Enid Blyton</td>\n",
       "      <td>Lima Sekawan: Rahasia di Pulau Kirrin</td>\n",
       "      <td>Rp 39.200</td>\n",
       "      <td>https://cdn.gramedia.com/uploads/items/9786020...</td>\n",
       "    </tr>\n",
       "    <tr>\n",
       "      <th>5</th>\n",
       "      <td>Agatha Christie</td>\n",
       "      <td>The Man In The Brown Suit ( Pria Bersetelan Co...</td>\n",
       "      <td>Rp 52.000</td>\n",
       "      <td>https://cdn.gramedia.com/uploads/items/9789792...</td>\n",
       "    </tr>\n",
       "    <tr>\n",
       "      <th>6</th>\n",
       "      <td>Fujiko F. Fujio</td>\n",
       "      <td>Ensiklopedia Sains &amp; Teknologi: Informasi &amp; Ko...</td>\n",
       "      <td>Rp 45.000</td>\n",
       "      <td>https://cdn.gramedia.com/uploads/picture_meta/...</td>\n",
       "    </tr>\n",
       "    <tr>\n",
       "      <th>7</th>\n",
       "      <td>Fujiko F. Fujio</td>\n",
       "      <td>Doraemon 01 (2024)</td>\n",
       "      <td>Rp 45.000</td>\n",
       "      <td>https://cdn.gramedia.com/uploads/picture_meta/...</td>\n",
       "    </tr>\n",
       "    <tr>\n",
       "      <th>8</th>\n",
       "      <td>Endo Tatsuya</td>\n",
       "      <td>Doraemon 02 (2024)</td>\n",
       "      <td>Rp 45.000</td>\n",
       "      <td>https://cdn.gramedia.com/uploads/picture_meta/...</td>\n",
       "    </tr>\n",
       "    <tr>\n",
       "      <th>9</th>\n",
       "      <td>Yuki TABATA</td>\n",
       "      <td>Spy x Family 12</td>\n",
       "      <td>Rp 40.000</td>\n",
       "      <td>/assets/default-images/product.png</td>\n",
       "    </tr>\n",
       "    <tr>\n",
       "      <th>10</th>\n",
       "      <td>Eiichiro Oda</td>\n",
       "      <td>Black Clover 24</td>\n",
       "      <td>Rp 45.000</td>\n",
       "      <td>/assets/default-images/product.png</td>\n",
       "    </tr>\n",
       "    <tr>\n",
       "      <th>11</th>\n",
       "      <td>Hitsuji Gondaira</td>\n",
       "      <td>One Piece 16 (2024)</td>\n",
       "      <td>Rp 45.000</td>\n",
       "      <td>/assets/default-images/product.png</td>\n",
       "    </tr>\n",
       "    <tr>\n",
       "      <th>12</th>\n",
       "      <td>Riichiro Inagaki</td>\n",
       "      <td>Mission: Yozakura Family 04</td>\n",
       "      <td>Rp 45.000</td>\n",
       "      <td>/assets/default-images/product.png</td>\n",
       "    </tr>\n",
       "    <tr>\n",
       "      <th>13</th>\n",
       "      <td>Gege Akutami</td>\n",
       "      <td>Dr. Stone 08</td>\n",
       "      <td>Rp 40.000</td>\n",
       "      <td>/assets/default-images/product.png</td>\n",
       "    </tr>\n",
       "    <tr>\n",
       "      <th>14</th>\n",
       "      <td>MUNEYUKI KANESHIRO,YUSUKE NOMURA</td>\n",
       "      <td>Jujutsu Kaisen 15</td>\n",
       "      <td>Rp 45.000</td>\n",
       "      <td>/assets/default-images/product.png</td>\n",
       "    </tr>\n",
       "    <tr>\n",
       "      <th>15</th>\n",
       "      <td>Ken Wakui</td>\n",
       "      <td>Blue Lock 15</td>\n",
       "      <td>Rp 40.000</td>\n",
       "      <td>/assets/default-images/product.png</td>\n",
       "    </tr>\n",
       "    <tr>\n",
       "      <th>16</th>\n",
       "      <td>Tim Anak Hebat Indonesia</td>\n",
       "      <td>Level Comic: Tokyo Revengers 16</td>\n",
       "      <td>Rp 28.500</td>\n",
       "      <td>/assets/default-images/product.png</td>\n",
       "    </tr>\n",
       "    <tr>\n",
       "      <th>17</th>\n",
       "      <td>Lucius Annaeus Seneca</td>\n",
       "      <td>Amendemen I-IV UUD 1945 Dan Pengetahuan Umum I...</td>\n",
       "      <td>Rp 65.500</td>\n",
       "      <td>/assets/default-images/product.png</td>\n",
       "    </tr>\n",
       "    <tr>\n",
       "      <th>18</th>\n",
       "      <td>Marcus Tullius Cicero</td>\n",
       "      <td>Panduan Stoik Untuk Hidup Bahagia : Seneca Fil...</td>\n",
       "      <td>Rp 65.000</td>\n",
       "      <td>/assets/default-images/product.png</td>\n",
       "    </tr>\n",
       "    <tr>\n",
       "      <th>19</th>\n",
       "      <td>Siti Dianah</td>\n",
       "      <td>Cicero : Surat-Surat Cicero</td>\n",
       "      <td>Rp 52.500</td>\n",
       "      <td>/assets/default-images/product.png</td>\n",
       "    </tr>\n",
       "  </tbody>\n",
       "</table>\n",
       "</div>"
      ],
      "text/plain": [
       "                                 Judul  \\\n",
       "0                        Aoyama Gosho    \n",
       "1              PT Hidayah Insan Mulia    \n",
       "2                        Eiichiro Oda    \n",
       "3                     Shinta Fujimoto    \n",
       "4                         Enid Blyton    \n",
       "5                     Agatha Christie    \n",
       "6                     Fujiko F. Fujio    \n",
       "7                     Fujiko F. Fujio    \n",
       "8                        Endo Tatsuya    \n",
       "9                         Yuki TABATA    \n",
       "10                       Eiichiro Oda    \n",
       "11                   Hitsuji Gondaira    \n",
       "12                   Riichiro Inagaki    \n",
       "13                       Gege Akutami    \n",
       "14   MUNEYUKI KANESHIRO,YUSUKE NOMURA    \n",
       "15                          Ken Wakui    \n",
       "16           Tim Anak Hebat Indonesia    \n",
       "17              Lucius Annaeus Seneca    \n",
       "18              Marcus Tullius Cicero    \n",
       "19                        Siti Dianah    \n",
       "\n",
       "                                              Penulis      Harga  \\\n",
       "0                              Wild Police Story-Last  Rp 31.500   \n",
       "1         Aktivitas Hafiz Hafizah: Asah Kecerdasan IQ  Rp 52.000   \n",
       "2                                       One Piece 106  Rp 36.000   \n",
       "3                    AKASHA : Dead Mount Death Play 3  Rp 38.400   \n",
       "4               Lima Sekawan: Rahasia di Pulau Kirrin  Rp 39.200   \n",
       "5   The Man In The Brown Suit ( Pria Bersetelan Co...  Rp 52.000   \n",
       "6   Ensiklopedia Sains & Teknologi: Informasi & Ko...  Rp 45.000   \n",
       "7                                  Doraemon 01 (2024)  Rp 45.000   \n",
       "8                                  Doraemon 02 (2024)  Rp 45.000   \n",
       "9                                     Spy x Family 12  Rp 40.000   \n",
       "10                                    Black Clover 24  Rp 45.000   \n",
       "11                                One Piece 16 (2024)  Rp 45.000   \n",
       "12                        Mission: Yozakura Family 04  Rp 45.000   \n",
       "13                                       Dr. Stone 08  Rp 40.000   \n",
       "14                                  Jujutsu Kaisen 15  Rp 45.000   \n",
       "15                                       Blue Lock 15  Rp 40.000   \n",
       "16                    Level Comic: Tokyo Revengers 16  Rp 28.500   \n",
       "17  Amendemen I-IV UUD 1945 Dan Pengetahuan Umum I...  Rp 65.500   \n",
       "18  Panduan Stoik Untuk Hidup Bahagia : Seneca Fil...  Rp 65.000   \n",
       "19                        Cicero : Surat-Surat Cicero  Rp 52.500   \n",
       "\n",
       "                                                Cover  \n",
       "0   https://cdn.gramedia.com/uploads/items/7220104...  \n",
       "1   https://cdn.gramedia.com/uploads/items/7220702...  \n",
       "2   https://cdn.gramedia.com/uploads/picture_meta/...  \n",
       "3   https://cdn.gramedia.com/uploads/items/cover_D...  \n",
       "4   https://cdn.gramedia.com/uploads/items/9786020...  \n",
       "5   https://cdn.gramedia.com/uploads/items/9789792...  \n",
       "6   https://cdn.gramedia.com/uploads/picture_meta/...  \n",
       "7   https://cdn.gramedia.com/uploads/picture_meta/...  \n",
       "8   https://cdn.gramedia.com/uploads/picture_meta/...  \n",
       "9                  /assets/default-images/product.png  \n",
       "10                 /assets/default-images/product.png  \n",
       "11                 /assets/default-images/product.png  \n",
       "12                 /assets/default-images/product.png  \n",
       "13                 /assets/default-images/product.png  \n",
       "14                 /assets/default-images/product.png  \n",
       "15                 /assets/default-images/product.png  \n",
       "16                 /assets/default-images/product.png  \n",
       "17                 /assets/default-images/product.png  \n",
       "18                 /assets/default-images/product.png  \n",
       "19                 /assets/default-images/product.png  "
      ]
     },
     "execution_count": 19,
     "metadata": {},
     "output_type": "execute_result"
    }
   ],
   "source": [
    "# membuat list untuk menampung nilai\n",
    "\n",
    "list_titles = []\n",
    "list_prices = []\n",
    "list_authors = []\n",
    "list_images = []\n",
    "\n",
    "# sediakan url\n",
    "url = 'https://www.gramedia.com/categories/buku'\n",
    "\n",
    "# akses website\n",
    "driver.get(url)\n",
    "\n",
    "# extract html\n",
    "html = driver.page_source\n",
    "\n",
    "# Parsing html\n",
    "soup = BeautifulSoup(html, 'html.parser')\n",
    "\n",
    "# mengambil judul\n",
    "soup.find_all('div', {'class':'list-title'})\n",
    "list_titles = []\n",
    "\n",
    "for i in titles:\n",
    "    list_titles.append(i.get_text())\n",
    "    \n",
    "# mengambil penulis\n",
    "authors = soup.find_all('span', {'class':'list-author'})\n",
    "list_authors = []\n",
    "\n",
    "for i in authors:\n",
    "    list_authors.append(i.get_text())\n",
    "\n",
    "# mengambil harga\n",
    "prices = soup.find_all('p', {'class':'formats-price'})\n",
    "list_prices = []\n",
    "\n",
    "for i in prices:\n",
    "    list_prices.append(i.get_text())\n",
    "\n",
    "# mengambil link image\n",
    "links_image = soup.find_all('img', {'class':'product-list-img'})\n",
    "list_images = []\n",
    "\n",
    "for i in links_image:\n",
    "    list_images.append(i['src'])\n",
    "    \n",
    "# gabungkan list menjadi data frame\n",
    "\n",
    "data = pd.DataFrame({\n",
    "    'Judul': list_authors,\n",
    "    'Penulis': list_titles,\n",
    "    'Harga': list_prices,\n",
    "    'Cover': list_images\n",
    "})\n",
    "data"
   ]
  },
  {
   "cell_type": "markdown",
   "metadata": {},
   "source": [
    "### Menggunakan box element/kontainer"
   ]
  },
  {
   "cell_type": "markdown",
   "metadata": {},
   "source": [
    "```html\n",
    "<p _ngcontent-web-gramedia-c26=\"\" class=\"formats-price\">Rp 25.600</p>"
   ]
  },
  {
   "cell_type": "code",
   "execution_count": 20,
   "metadata": {},
   "outputs": [],
   "source": [
    "list_titles = []\n",
    "list_prices = []\n",
    "list_authors = []\n",
    "list_images = []"
   ]
  },
  {
   "cell_type": "code",
   "execution_count": 21,
   "metadata": {},
   "outputs": [
    {
     "name": "stdout",
     "output_type": "stream",
     "text": [
      "<class 'pandas.core.frame.DataFrame'>\n",
      "RangeIndex: 400 entries, 0 to 399\n",
      "Data columns (total 4 columns):\n",
      " #   Column   Non-Null Count  Dtype \n",
      "---  ------   --------------  ----- \n",
      " 0   Penulis  400 non-null    object\n",
      " 1   Judul    400 non-null    object\n",
      " 2   Harga    400 non-null    object\n",
      " 3   Cover    400 non-null    object\n",
      "dtypes: object(4)\n",
      "memory usage: 12.6+ KB\n"
     ]
    }
   ],
   "source": [
    "\n",
    "\n",
    "boxes = soup.find_all('div', {'class':'content-wrap'})\n",
    "\n",
    "for i in boxes:\n",
    "    \n",
    "    try:\n",
    "        # judul\n",
    "        titles = soup.find_all('div', {'class':'list-title'})\n",
    "        for i in titles:\n",
    "            list_titles.append(i.get_text())\n",
    "    except:\n",
    "        list_titles.append(None)\n",
    "        \n",
    "    try:\n",
    "        # penulis\n",
    "        authors = soup.find_all('span', {'class':'list-author'})\n",
    "        for i in authors:\n",
    "            list_authors.append(i.get_text())\n",
    "    except:\n",
    "        list_authors.append(None)\n",
    "        \n",
    "    try:\n",
    "        prices = soup.find_all('p', {'class':'formats-price'})\n",
    "        for i in prices:\n",
    "            list_prices.append(i.get_text())\n",
    "    except:\n",
    "        list_prices.append(None)\n",
    "        \n",
    "    try:\n",
    "        links_image = soup.find_all('img', {'class':'product-list-img'})\n",
    "        for i in links_image:\n",
    "            list_images.append(i['src'])\n",
    "    except:\n",
    "        list_images.append(None)\n",
    "        \n",
    "data = pd.DataFrame({\n",
    "    'Penulis': list_titles,\n",
    "    'Judul': list_authors,\n",
    "    'Harga': list_prices,\n",
    "    'Cover': list_images\n",
    "})\n",
    "\n",
    "data.info()"
   ]
  },
  {
   "cell_type": "code",
   "execution_count": 22,
   "metadata": {},
   "outputs": [],
   "source": [
    "data = pd.DataFrame({\n",
    "    'Penulis': list_titles,\n",
    "    'Judul': list_authors,\n",
    "    'Harga': list_prices,\n",
    "    'Cover': list_images\n",
    "})"
   ]
  },
  {
   "cell_type": "code",
   "execution_count": 23,
   "metadata": {},
   "outputs": [
    {
     "data": {
      "text/plain": [
       "<bound method DataFrame.all of                                                Penulis  \\\n",
       "0                               Wild Police Story-Last   \n",
       "1          Aktivitas Hafiz Hafizah: Asah Kecerdasan IQ   \n",
       "2                                        One Piece 106   \n",
       "3                     AKASHA : Dead Mount Death Play 3   \n",
       "4                Lima Sekawan: Rahasia di Pulau Kirrin   \n",
       "..                                                 ...   \n",
       "395                    Level Comic: Tokyo Revengers 16   \n",
       "396  Amendemen I-IV UUD 1945 Dan Pengetahuan Umum I...   \n",
       "397  Panduan Stoik Untuk Hidup Bahagia : Seneca Fil...   \n",
       "398                        Cicero : Surat-Surat Cicero   \n",
       "399                                Kekuatan Manipulasi   \n",
       "\n",
       "                          Judul      Harga  \\\n",
       "0                 Aoyama Gosho   Rp 31.500   \n",
       "1       PT Hidayah Insan Mulia   Rp 52.000   \n",
       "2                 Eiichiro Oda   Rp 36.000   \n",
       "3              Shinta Fujimoto   Rp 38.400   \n",
       "4                  Enid Blyton   Rp 39.200   \n",
       "..                          ...        ...   \n",
       "395                  Ken Wakui   Rp 40.000   \n",
       "396   Tim Anak Hebat Indonesia   Rp 28.500   \n",
       "397      Lucius Annaeus Seneca   Rp 65.500   \n",
       "398      Marcus Tullius Cicero   Rp 65.000   \n",
       "399                Siti Dianah   Rp 52.500   \n",
       "\n",
       "                                                 Cover  \n",
       "0    https://cdn.gramedia.com/uploads/items/7220104...  \n",
       "1    https://cdn.gramedia.com/uploads/items/7220702...  \n",
       "2    https://cdn.gramedia.com/uploads/picture_meta/...  \n",
       "3    https://cdn.gramedia.com/uploads/items/cover_D...  \n",
       "4    https://cdn.gramedia.com/uploads/items/9786020...  \n",
       "..                                                 ...  \n",
       "395                 /assets/default-images/product.png  \n",
       "396                 /assets/default-images/product.png  \n",
       "397                 /assets/default-images/product.png  \n",
       "398                 /assets/default-images/product.png  \n",
       "399                 /assets/default-images/product.png  \n",
       "\n",
       "[400 rows x 4 columns]>"
      ]
     },
     "execution_count": 23,
     "metadata": {},
     "output_type": "execute_result"
    }
   ],
   "source": [
    "data.all"
   ]
  },
  {
   "cell_type": "code",
   "execution_count": 24,
   "metadata": {},
   "outputs": [],
   "source": [
    "data.to_csv('data_scrap.csv', index=False)"
   ]
  }
 ],
 "metadata": {
  "kernelspec": {
   "display_name": "base",
   "language": "python",
   "name": "python3"
  },
  "language_info": {
   "codemirror_mode": {
    "name": "ipython",
    "version": 3
   },
   "file_extension": ".py",
   "mimetype": "text/x-python",
   "name": "python",
   "nbconvert_exporter": "python",
   "pygments_lexer": "ipython3",
   "version": "3.10.14"
  }
 },
 "nbformat": 4,
 "nbformat_minor": 2
}
