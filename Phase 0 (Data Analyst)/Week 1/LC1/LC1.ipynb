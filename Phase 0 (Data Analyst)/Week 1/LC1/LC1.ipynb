{
 "cells": [
  {
   "cell_type": "markdown",
   "metadata": {},
   "source": [
    "# 1"
   ]
  },
  {
   "cell_type": "code",
   "execution_count": 5,
   "metadata": {},
   "outputs": [],
   "source": [
    "\n",
    "def hitung_penghasilan(jabatan, jam_kerja):\n",
    "    '''\n",
    "    fungsi ini berguna untuk menghitung total gaji seorang karyawan\n",
    "    berdasarkan jenis pekerjaan dan jam kerja. \n",
    "    mengambil 2 parameter yaitu jabatan dan jam_kerja\n",
    "    '''\n",
    "    jenis_pekerjaan = {\n",
    "        \"Manager\" : 10_000_000,\n",
    "        \"Staff\" : 5_000_000,\n",
    "        \"Kasir\" : 4_000_000\n",
    "    }\n",
    "    \n",
    "    if jabatan not in jenis_pekerjaan:\n",
    "        raise ValueError(f\"Jabatan '{jabatan}' tidak valid.\")\n",
    "    \n",
    "    total_gaji = 0\n",
    "    gaji_lembur = 20_000\n",
    "    \n",
    "    if jam_kerja > 40:\n",
    "        total_gaji = jenis_pekerjaan[jabatan] + ((jam_kerja - 40) * gaji_lembur)\n",
    "    else:\n",
    "        total_gaji = jenis_pekerjaan[jabatan]\n",
    "        \n",
    "    return total_gaji\n",
    "\n",
    "\n",
    "# contoh penggunaan fungsi\n",
    "# hasil = hitung_penghasilan(\"Manager\", 45) # contoh benar\n",
    "# hasil = hitung_penghasilan(\"Supir\", 45) # contoh error\n",
    "# print(hasil)"
   ]
  },
  {
   "cell_type": "markdown",
   "metadata": {},
   "source": [
    "# 2"
   ]
  },
  {
   "cell_type": "code",
   "execution_count": 6,
   "metadata": {},
   "outputs": [],
   "source": [
    "def total_pengeluaran(karyawan):\n",
    "    '''\n",
    "    fungsi ini berguna untuk menghitung seluruh biaya\n",
    "    yang dikeluarkan oleh perusahaan untuk membayar\n",
    "    seluruh gaji karyawan berdasarskan jenis dan jam kerjanya\n",
    "    '''\n",
    "    total_biaya = 0\n",
    "    \n",
    "    for i in karyawan:\n",
    "        jabatan, jam_kerja = i\n",
    "        total_biaya += hitung_penghasilan(jabatan, jam_kerja)\n",
    "        \n",
    "    return total_biaya\n",
    "\n",
    "karyawan = (\n",
    "    [\"Manager\", 50],\n",
    "    [\"Staff\", 50],\n",
    "    [\"Kasir\", 50]\n",
    ")\n",
    "\n",
    "# contoh penggunaan fungsi\n",
    "# hasil = total_pengeluaran(karyawan)\n",
    "# print(hasil)"
   ]
  },
  {
   "cell_type": "markdown",
   "metadata": {},
   "source": [
    "# 3\n",
    "\n",
    "Flowchart = 'p0-ftds032-rmt-lc1-iqbal-saputra\\h8p0lc1-rmt032-iqbal_saputra.jpg'"
   ]
  },
  {
   "cell_type": "markdown",
   "metadata": {},
   "source": [
    "# 4"
   ]
  },
  {
   "cell_type": "code",
   "execution_count": 7,
   "metadata": {},
   "outputs": [],
   "source": [
    "\n",
    "import unittest # fungsi untuk mengimport modul unittest\n",
    "\n",
    "class UnitTest(unittest.TestCase):\n",
    "    '''\n",
    "    class ini dibuat untuk menguji fungsi hitung_penghasilan dan total_pengeluaran\n",
    "    '''\n",
    "    def karyawan1(self): # fungsi untuk menginitialize karyawan dan jam kerjanya sesuai dengan soal\n",
    "        daftar_karyawan1 = (\n",
    "            [\"Manager\", 45],\n",
    "            [\"Staff\", 35],\n",
    "            [\"Kasir\", 50]\n",
    "        )\n",
    "        \n",
    "        self.assertEqual(total_pengeluaran(daftar_karyawan1,19_300_000)) # fungsi untuk membandingkan apakah hasil sesuai dengan ekspetasi\n",
    "        \n",
    "    def karyawan2(self): # fungsi untuk menginitialize karyawan dan jam kerjanya sesuai dengan soal\n",
    "        daftar_karyawan1 = (\n",
    "            [\"Manager\", 50],\n",
    "            [\"Staff\", 50],\n",
    "            [\"Kasir\", 50]\n",
    "        )\n",
    "        \n",
    "        self.assertEqual(total_pengeluaran(daftar_karyawan1,19_600_000)) # fungsi untuk membandingkan apakah hasil sesuai dengan ekspetasi      "
   ]
  },
  {
   "cell_type": "code",
   "execution_count": 8,
   "metadata": {},
   "outputs": [
    {
     "name": "stderr",
     "output_type": "stream",
     "text": [
      "\n",
      "----------------------------------------------------------------------\n",
      "Ran 0 tests in 0.000s\n",
      "\n",
      "OK\n"
     ]
    },
    {
     "data": {
      "text/plain": [
       "<unittest.main.TestProgram at 0x1d0d8993ed0>"
      ]
     },
     "execution_count": 8,
     "metadata": {},
     "output_type": "execute_result"
    }
   ],
   "source": [
    "unittest.main(argv=[''], exit = False)"
   ]
  }
 ],
 "metadata": {
  "kernelspec": {
   "display_name": "hacktiv8",
   "language": "python",
   "name": "python3"
  },
  "language_info": {
   "codemirror_mode": {
    "name": "ipython",
    "version": 3
   },
   "file_extension": ".py",
   "mimetype": "text/x-python",
   "name": "python",
   "nbconvert_exporter": "python",
   "pygments_lexer": "ipython3",
   "version": "3.11.11"
  }
 },
 "nbformat": 4,
 "nbformat_minor": 2
}
