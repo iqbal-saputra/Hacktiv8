{
 "cells": [
  {
   "cell_type": "markdown",
   "metadata": {},
   "source": [
    "# aplikasi marketplace\n",
    "\n",
    "fitur keranjang\n",
    "\n",
    "object keranjang\n",
    "- atribute/property:\n",
    "    - kapasitas\n",
    "    - barang\" yang bisa disimpan\n",
    "- method/behaviour\n",
    "    - memasukan barang\n",
    "    - menambah kuantitas barang\n",
    "    - hapus barang"
   ]
  },
  {
   "cell_type": "markdown",
   "metadata": {},
   "source": [
    "# Class \n",
    "'''\n",
    "(mirip-mirip struct pada bahasa C)\n",
    "'''\n"
   ]
  },
  {
   "cell_type": "code",
   "execution_count": 8,
   "metadata": {},
   "outputs": [
    {
     "name": "stdout",
     "output_type": "stream",
     "text": [
      "ini barang: Sari Roti\n",
      "10\n",
      "Teh pucuk\n",
      "[<__main__.Item object at 0x000002682DC94CD0>, <__main__.Item object at 0x000002682DC97DD0>, <__main__.Item object at 0x000002682DC97490>]\n",
      "ini barang: Teh pucuk\n",
      "ini barang: Tango\n",
      "ini barang: Sari Roti\n"
     ]
    }
   ],
   "source": [
    "# rancangan item\n",
    "class Item:\n",
    "    def __init__(self,name, price):\n",
    "        self.name = name\n",
    "        self.price = price\n",
    "        \n",
    "    def __str__(self):\n",
    "        return \"ini barang: \" + self.name\n",
    "    \n",
    "# rancangan keranjang\n",
    "class Cart:\n",
    "    # define atribute/property\n",
    "    def __init__(self):\n",
    "        self.capacity = 10\n",
    "        self.listItem =[]\n",
    "        \n",
    "    # define behaviour\n",
    "    def addItem(self, item):\n",
    "        # .append() -> menambahkan data ke dalam list\n",
    "        self.listItem.append(item)\n",
    "        \n",
    "barang1 = Item(\"Teh pucuk\", 5000)\n",
    "barang2 = Item(\"Tango\", 10000)\n",
    "barang3 = Item(\"Sari Roti\", 15000)\n",
    "\n",
    "print(barang3)\n",
    "\n",
    "# summon object Cart\n",
    "\n",
    "keranjang = Cart()\n",
    "\n",
    "# melakukan interaksi add item\n",
    "keranjang.addItem(barang1)\n",
    "keranjang.addItem(barang2)\n",
    "keranjang.addItem(barang3)\n",
    "\n",
    "# lihat kapasitas keranjang\n",
    "print(keranjang.capacity)\n",
    "\n",
    "# lihat nama barang1\n",
    "print(barang1.name)\n",
    "\n",
    "# lihat isi keranjang\n",
    "print(keranjang.listItem)\n",
    "\n",
    "for barang in keranjang.listItem:\n",
    "    print(barang)\n"
   ]
  },
  {
   "cell_type": "markdown",
   "metadata": {},
   "source": [
    "# Inheritance"
   ]
  },
  {
   "cell_type": "code",
   "execution_count": 3,
   "metadata": {},
   "outputs": [
    {
     "name": "stdout",
     "output_type": "stream",
     "text": [
      "matilda\n",
      "matthew\n",
      "meong!\n",
      "hello world!\n"
     ]
    }
   ],
   "source": [
    "class IbuKucing:\n",
    "    def __init__(self, name):\n",
    "        self.name = name\n",
    "        \n",
    "        # private attribute\n",
    "        self.__secret = \"ini secret ibu kucing\"\n",
    "        \n",
    "    def greet(self):\n",
    "        print(\"meong!\")\n",
    "        \n",
    "class AnakKucing(IbuKucing):\n",
    "    def __init__(self, name):\n",
    "        self.canRun = True\n",
    "        # self.name = name\n",
    "        super().__init__(name)\n",
    "    \n",
    "    # overriding    \n",
    "    def greet(self):\n",
    "        print(\"hello world!\")\n",
    "        \n",
    "    # overloading -> tidak support python\n",
    "    # def greet(self, param1):\n",
    "        # print(\"hello world! + param1\")\n",
    "        \n",
    "ibuKucing = IbuKucing(\"matilda\")\n",
    "\n",
    "anakKucing = AnakKucing(\"matthew\")\n",
    "\n",
    "print(ibuKucing.name)\n",
    "print(anakKucing.name)\n",
    "\n",
    "ibuKucing.greet()\n",
    "anakKucing.greet()\n",
    "\n"
   ]
  }
 ],
 "metadata": {
  "kernelspec": {
   "display_name": "base",
   "language": "python",
   "name": "python3"
  },
  "language_info": {
   "codemirror_mode": {
    "name": "ipython",
    "version": 3
   },
   "file_extension": ".py",
   "mimetype": "text/x-python",
   "name": "python",
   "nbconvert_exporter": "python",
   "pygments_lexer": "ipython3",
   "version": "3.11.7"
  }
 },
 "nbformat": 4,
 "nbformat_minor": 2
}
