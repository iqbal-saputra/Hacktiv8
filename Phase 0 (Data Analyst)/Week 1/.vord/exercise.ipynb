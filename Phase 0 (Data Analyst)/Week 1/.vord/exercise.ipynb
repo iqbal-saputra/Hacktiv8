{
 "cells": [
  {
   "cell_type": "code",
   "execution_count": 11,
   "metadata": {},
   "outputs": [],
   "source": [
    "import unittest\n"
   ]
  },
  {
   "cell_type": "code",
   "execution_count": 21,
   "metadata": {},
   "outputs": [
    {
     "name": "stdout",
     "output_type": "stream",
     "text": [
      "10100000\n"
     ]
    }
   ],
   "source": [
    "def hitung_penghasilan(range_gaji, jam_kerja):\n",
    "    #dic untuk menyimpan info gaji berdasarkan tingkatan karyawan\n",
    "    gaji_tetap={\n",
    "        \"Manager\" : 10000000,\n",
    "        \"Staff\" : 5000000,\n",
    "        \"Kasir\" : 4000000\n",
    "    }\n",
    "\n",
    "    gaji_lembur = 20000\n",
    "\n",
    "    gaji_bulanan = gaji_tetap[range_gaji]\n",
    "    #jika lebih dari 40 jam per minggu maka di hitung lembur\n",
    "    if jam_kerja > 40:\n",
    "        jam_lembur = jam_kerja - 40\n",
    "        gaji_lemburya = jam_lembur * gaji_lembur\n",
    "        gaji_bulanan += gaji_lemburya\n",
    "    else:\n",
    "        jam_lembur = 0\n",
    "\n",
    "    return gaji_bulanan\n",
    "\n",
    "hasil = hitung_penghasilan(\"Manager\", 45)\n",
    "print(hasil)\n"
   ]
  },
  {
   "cell_type": "code",
   "execution_count": 27,
   "metadata": {},
   "outputs": [
    {
     "name": "stdout",
     "output_type": "stream",
     "text": [
      "19300000\n"
     ]
    }
   ],
   "source": [
    "def total_pengeluaran(karyawan):\n",
    "    total = 0\n",
    "\n",
    "    for cell in karyawan:\n",
    "        range_gaji, jam_kerja = cell\n",
    "        # print(type(cell))\n",
    "        total += hitung_penghasilan(range_gaji,jam_kerja)\n",
    "        # gaji_bulanan = hitung_penghasilan(nama,range_gaji, jam_kerja)\n",
    "        # total_pengeluaran += gaji_bulanan\n",
    "    return total\n",
    "\n",
    "print(total_pengeluaran(karyawanz))"
   ]
  },
  {
   "cell_type": "code",
   "execution_count": 14,
   "metadata": {},
   "outputs": [],
   "source": [
    "#unit tesnya\n",
    "class TestTotalPengeluaran(unittest.TestCase):\n",
    "    def test_karyawan_1(self):\n",
    "        karyawan = [\n",
    "            (\"Manager\", 45),\n",
    "            (\"Staff\", 35),\n",
    "            (\"Kasir\", 50)\n",
    "        ]\n",
    "        except_result = 19300000\n",
    "        self.assertEqual(total_pengeluaran(karyawan),except_result)\n",
    "\n",
    "    def test_karyawan_2(self):\n",
    "        karyawan = [\n",
    "            (\"Manager\", 50),\n",
    "            (\"Staff\", 50),\n",
    "            (\"Kasir\", 50)\n",
    "        ]\n",
    "        except_result = 19600000\n",
    "        self.assertEqual(total_pengeluaran(karyawan),except_result)\n",
    "        \n",
    "\n",
    "\n"
   ]
  },
  {
   "cell_type": "code",
   "execution_count": 23,
   "metadata": {},
   "outputs": [
    {
     "name": "stdout",
     "output_type": "stream",
     "text": [
      "<class 'list'>\n"
     ]
    }
   ],
   "source": [
    "# tes hasil output dan rumus\n",
    "karyawanz = [\n",
    "            (\"Manager\", 45),\n",
    "            (\"Staff\", 35),\n",
    "            (\"Kasir\", 50)\n",
    "        ]\n",
    "# total_pengeluaran = total_pengeluaran(karyawanz)\n",
    "# print(\"tes hasil: \",format(total_pengeluaran))\n",
    "\n",
    "print(type(karyawanz))\n",
    "\n",
    "# tes hasil ke 2\n",
    "# karyawan = [\n",
    "#             (\"Manager\", 50),\n",
    "#             (\"Staff\", 50),\n",
    "#             (\"Kasir\", 50)\n",
    "#         ]\n",
    "# total_pengeluaran = total_pengeluaran(karyawan)\n",
    "# print(\"tes hasil2: \",format(total_pengeluaran))"
   ]
  },
  {
   "cell_type": "code",
   "execution_count": 29,
   "metadata": {},
   "outputs": [
    {
     "name": "stderr",
     "output_type": "stream",
     "text": [
      "..\n",
      "----------------------------------------------------------------------\n",
      "Ran 2 tests in 0.001s\n",
      "\n",
      "OK\n"
     ]
    },
    {
     "data": {
      "text/plain": [
       "<unittest.main.TestProgram at 0x230ee973590>"
      ]
     },
     "execution_count": 29,
     "metadata": {},
     "output_type": "execute_result"
    }
   ],
   "source": [
    "# if __name__ ==\"__main__\":\n",
    "#     unittest.main(argv=[''], exit=False)\n",
    "    \n",
    "    \n",
    "unittest.main(argv=[''], exit=False)"
   ]
  }
 ],
 "metadata": {
  "kernelspec": {
   "display_name": "base",
   "language": "python",
   "name": "python3"
  },
  "language_info": {
   "codemirror_mode": {
    "name": "ipython",
    "version": 3
   },
   "file_extension": ".py",
   "mimetype": "text/x-python",
   "name": "python",
   "nbconvert_exporter": "python",
   "pygments_lexer": "ipython3",
   "version": "3.11.7"
  }
 },
 "nbformat": 4,
 "nbformat_minor": 2
}
