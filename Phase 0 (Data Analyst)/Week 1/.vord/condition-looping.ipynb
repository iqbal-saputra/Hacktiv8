{
 "cells": [
  {
   "cell_type": "code",
   "execution_count": 1,
   "metadata": {},
   "outputs": [
    {
     "name": "stdout",
     "output_type": "stream",
     "text": [
      "a lebih kecil dari b\n",
      "kondisi terpenuhi\n",
      "oke\n",
      "\n",
      "ini diluar if\n"
     ]
    }
   ],
   "source": [
    "# 1\n",
    "a = 100\n",
    "b = 200\n",
    "\n",
    "if a < b:\n",
    "    print(\"a lebih kecil dari b\")\n",
    "    print(\"kondisi terpenuhi\")\n",
    "    print(\"oke\\n\")\n",
    "print(\"ini diluar if\")\n",
    "\n",
    "    "
   ]
  },
  {
   "cell_type": "code",
   "execution_count": 2,
   "metadata": {},
   "outputs": [],
   "source": [
    "# 2\n",
    "a = 100\n",
    "b = 200\n",
    "if a > b:\n",
    "    print(\"a lebih besar dari b\")\n"
   ]
  },
  {
   "cell_type": "code",
   "execution_count": 6,
   "metadata": {},
   "outputs": [
    {
     "name": "stdout",
     "output_type": "stream",
     "text": [
      "a tidak sama dengan b\n"
     ]
    }
   ],
   "source": [
    "# 3\n",
    "a = \"januari\"\n",
    "b = \"februari\"\n",
    "\n",
    "if a != b:\n",
    "    print(\"a tidak sama dengan b\")\n",
    "else:\n",
    "    print(\"a sama dengan b\")"
   ]
  },
  {
   "cell_type": "code",
   "execution_count": 17,
   "metadata": {},
   "outputs": [],
   "source": [
    "# 4\n",
    "a = 1000\n",
    "b = 1000.000\n",
    "\n",
    "if a == b:\n",
    "    pass\n",
    "else:\n",
    "    print(\"a tidak sama dengan b\")"
   ]
  },
  {
   "cell_type": "code",
   "execution_count": 15,
   "metadata": {},
   "outputs": [
    {
     "name": "stdout",
     "output_type": "stream",
     "text": [
      "a berbeda dengan b\n"
     ]
    }
   ],
   "source": [
    "# 5\n",
    "angka_ganjil = [1,3,5,7]\n",
    "angka_genap = [2,4,6,8]\n",
    "\n",
    "if angka_ganjil != angka_genap:\n",
    "    print(\"a berbeda dengan b\")\n",
    "else:\n",
    "    print(\"a sama dengan b\")\n",
    "    "
   ]
  },
  {
   "cell_type": "code",
   "execution_count": 20,
   "metadata": {},
   "outputs": [
    {
     "name": "stdout",
     "output_type": "stream",
     "text": [
      "pendidikan merupakan bagian daftar_pendidikan\n",
      "nama merupakan bagian nama_lengkap\n"
     ]
    }
   ],
   "source": [
    "# 6\n",
    "pendidikan = \"s1\"\n",
    "daftar_pendidikan = [\"s1\",\"s2\",\"s3\"]\n",
    "nama = \"budi\"\n",
    "nama_lengkap = \"budi kurniawan\"\n",
    "\n",
    "if pendidikan in daftar_pendidikan:\n",
    "    print(\"pendidikan merupakan bagian daftar_pendidikan\")\n",
    "else:\n",
    "    print(\"pendidikan bukan merupakan bagian daftar_pendidikan\")\n",
    "    \n",
    "if nama in nama_lengkap:\n",
    "    print(\"nama merupakan bagian nama_lengkap\")\n",
    "else:\n",
    "    print(\"nama bukan merupakan bagian nama_lengkap\")"
   ]
  },
  {
   "cell_type": "code",
   "execution_count": 23,
   "metadata": {},
   "outputs": [
    {
     "name": "stdout",
     "output_type": "stream",
     "text": [
      "a sama dengan b\n"
     ]
    }
   ],
   "source": [
    "# 7\n",
    "a = 100\n",
    "b = 100\n",
    "\n",
    "if a < b:\n",
    "    print(\"a lebih kecil dari b\")\n",
    "elif a > b:\n",
    "    print(\"a lebih besar dari b\")\n",
    "else:\n",
    "    print(\"a sama dengan b\")"
   ]
  },
  {
   "cell_type": "code",
   "execution_count": 102,
   "metadata": {},
   "outputs": [
    {
     "name": "stdout",
     "output_type": "stream",
     "text": [
      "tidak ada uang\n"
     ]
    }
   ],
   "source": [
    "# 8\n",
    "uang = 0\n",
    "\n",
    "if uang >= 15_000:\n",
    "    print(\"nasi goreng\")\n",
    "elif uang >= 10_000 and uang < 15_000:\n",
    "    print(\"ketoprak\")\n",
    "elif uang >= 5_000 and uang < 10_000:\n",
    "    print(\"batagor\")\n",
    "elif uang < 5_000 and uang > 0:\n",
    "    print(\"es teh manis\")\n",
    "elif uang <= 0:\n",
    "    print(\"tidak ada uang\")\n",
    "    "
   ]
  },
  {
   "cell_type": "code",
   "execution_count": 44,
   "metadata": {},
   "outputs": [
    {
     "name": "stdout",
     "output_type": "stream",
     "text": [
      "hello\n",
      "hello\n",
      "hello\n",
      "hello\n",
      "hello\n",
      "\n",
      "hello\n",
      "hello\n",
      "hello\n",
      "hello\n",
      "hello\n"
     ]
    }
   ],
   "source": [
    "# 9\n",
    "for i in range(5):\n",
    "    print(\"hello\")\n",
    "    \n",
    "# atau\n",
    "print(\"\")\n",
    "\n",
    "count = 0\n",
    "while count < 5:\n",
    "    print(\"hello\")\n",
    "    count += 1\n"
   ]
  },
  {
   "cell_type": "code",
   "execution_count": 57,
   "metadata": {},
   "outputs": [
    {
     "name": "stdout",
     "output_type": "stream",
     "text": [
      "0, 1, 2, 3, 4, 5\n"
     ]
    }
   ],
   "source": [
    "# 10\n",
    "for i in range(6):\n",
    "    if i < 5:\n",
    "        print(i, end=\", \")\n",
    "    else:\n",
    "        print(i)"
   ]
  },
  {
   "cell_type": "code",
   "execution_count": 1,
   "metadata": {},
   "outputs": [
    {
     "name": "stdout",
     "output_type": "stream",
     "text": [
      "3, 4, 5\n"
     ]
    }
   ],
   "source": [
    "# 11\n",
    "for i in range(3,6): # full syntax = range(start, stop, step)\n",
    "    if i < 5:\n",
    "        print(i, end=\", \")\n",
    "    else:\n",
    "        print(i)"
   ]
  },
  {
   "cell_type": "code",
   "execution_count": 60,
   "metadata": {},
   "outputs": [
    {
     "name": "stdout",
     "output_type": "stream",
     "text": [
      "1, 4, 7, 10\n"
     ]
    }
   ],
   "source": [
    "# 12\n",
    "for i in range(1, 11, 3):\n",
    "    if i < 10:\n",
    "        print(i, end= \", \")\n",
    "    else:\n",
    "        print(i)"
   ]
  },
  {
   "cell_type": "code",
   "execution_count": 11,
   "metadata": {},
   "outputs": [
    {
     "name": "stdout",
     "output_type": "stream",
     "text": [
      "1, 2, 3, 4, 5, 6, 7, 8\n"
     ]
    }
   ],
   "source": [
    "# 13\n",
    "for i in range(1,11):\n",
    "    if i == 9:\n",
    "        break\n",
    "        # continue\n",
    "    else:\n",
    "        if i < 8:\n",
    "            print(i, end=\", \")\n",
    "        else:\n",
    "            print(i)"
   ]
  },
  {
   "cell_type": "code",
   "execution_count": 78,
   "metadata": {},
   "outputs": [
    {
     "name": "stdout",
     "output_type": "stream",
     "text": [
      "2, 4, 6\n"
     ]
    }
   ],
   "source": [
    "# 14\n",
    "for i in range(0,10,2):\n",
    "    if i < 7 and i != 0:\n",
    "        if i == 6:\n",
    "            print(i)\n",
    "        else:\n",
    "            print(i, end=\", \")\n",
    "    "
   ]
  },
  {
   "cell_type": "code",
   "execution_count": 99,
   "metadata": {},
   "outputs": [
    {
     "name": "stdout",
     "output_type": "stream",
     "text": [
      "anwar\n",
      "budi\n",
      "cecep\n",
      "deny\n"
     ]
    }
   ],
   "source": [
    "# 15\n",
    "daftar_nama = [\"anwar\", \"budi\", \"cecep\", \"deny\"]\n",
    "\n",
    "\n",
    "for nama in daftar_nama:\n",
    "    print(nama)\n"
   ]
  }
 ],
 "metadata": {
  "kernelspec": {
   "display_name": "base",
   "language": "python",
   "name": "python3"
  },
  "language_info": {
   "codemirror_mode": {
    "name": "ipython",
    "version": 3
   },
   "file_extension": ".py",
   "mimetype": "text/x-python",
   "name": "python",
   "nbconvert_exporter": "python",
   "pygments_lexer": "ipython3",
   "version": "3.11.7"
  }
 },
 "nbformat": 4,
 "nbformat_minor": 2
}
