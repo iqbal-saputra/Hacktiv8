{
 "cells": [
  {
   "cell_type": "code",
   "execution_count": 29,
   "metadata": {},
   "outputs": [],
   "source": [
    "# task 1\n",
    "\n",
    "def calories_burned(duration, exercise):\n",
    "    # dictionary untuk menyimpan kegiatan olahraga\n",
    "    exercise_calories = {\n",
    "        'berlari': 10,\n",
    "        'bersepeda': 8,\n",
    "        'berenang': 12\n",
    "    }\n",
    "    \n",
    "    # kalori terbakar\n",
    "    if exercise in exercise_calories:\n",
    "        calories_per_minute = exercise_calories[exercise]\n",
    "        total_calories = calories_per_minute * duration\n",
    "        return total_calories\n",
    "    else:\n",
    "        return \"Jenis kegiatan tidak diketahui\""
   ]
  },
  {
   "cell_type": "code",
   "execution_count": 20,
   "metadata": {},
   "outputs": [
    {
     "name": "stdout",
     "output_type": "stream",
     "text": [
      "720\n",
      "150\n",
      "160\n",
      "Jenis kegiatan tidak diketahui\n"
     ]
    }
   ],
   "source": [
    "# contoh:\n",
    "print(calories_burned(duration=60, exercise='berenang'))  \n",
    "print(calories_burned(duration=15, exercise='berlari'))   \n",
    "print(calories_burned(duration=20, exercise='bersepeda')) \n",
    "print(calories_burned(duration=30, exercise='yoga'))      \n"
   ]
  },
  {
   "cell_type": "code",
   "execution_count": 30,
   "metadata": {},
   "outputs": [],
   "source": [
    "# task 2\n",
    "\n",
    "def total_session_burned_cal(*args, each_session_duration):\n",
    "    total_calories = 0\n",
    "    \n",
    "    for exercise in args:\n",
    "        calories = calories_burned(each_session_duration, exercise)\n",
    "        if isinstance(calories, int):\n",
    "            total_calories += calories\n",
    "        else:\n",
    "            return calories \n",
    "    \n",
    "    return total_calories"
   ]
  },
  {
   "cell_type": "code",
   "execution_count": 22,
   "metadata": {},
   "outputs": [
    {
     "name": "stdout",
     "output_type": "stream",
     "text": [
      "200\n",
      "150\n"
     ]
    }
   ],
   "source": [
    "print(total_session_burned_cal('berenang', 'bersepeda', each_session_duration=10))  # Output: 200\n",
    "print(total_session_burned_cal('berenang', 'berlari', 'bersepeda', each_session_duration=5))  # Output: 150"
   ]
  },
  {
   "cell_type": "code",
   "execution_count": 35,
   "metadata": {},
   "outputs": [
    {
     "name": "stderr",
     "output_type": "stream",
     "text": [
      "..\n",
      "----------------------------------------------------------------------\n",
      "Ran 2 tests in 0.001s\n",
      "\n",
      "OK\n"
     ]
    }
   ],
   "source": [
    "# task 3\n",
    "\n",
    "import unittest\n",
    "\n",
    "class TestCaloriesFunctions(unittest.TestCase):\n",
    "    def test_calories_burned(self):\n",
    "        self.assertEqual(calories_burned(60, 'berenang'), 720)\n",
    "        self.assertEqual(calories_burned(15, 'berlari'), 150)\n",
    "        self.assertEqual(calories_burned(20, 'bersepeda'), 160)\n",
    "        self.assertEqual(calories_burned(10, 'yoga'), \"Jenis kegiatan tidak diketahui\")\n",
    "    \n",
    "    def test_total_session_burned_cal(self):\n",
    "        self.assertEqual(total_session_burned_cal('berenang', 'bersepeda', each_session_duration=10), 200)\n",
    "        self.assertEqual(total_session_burned_cal('berenang', 'berlari', 'bersepeda', each_session_duration=5), 150)\n",
    "        self.assertEqual(total_session_burned_cal('berenang', 'yoga', each_session_duration=10), \"Jenis kegiatan tidak diketahui\")\n",
    "\n",
    "if __name__ == \"__main__\":\n",
    "    unittest.main(argv=[''], exit=False)\n"
   ]
  },
  {
   "cell_type": "code",
   "execution_count": 44,
   "metadata": {},
   "outputs": [],
   "source": [
    "def total_calory_burned(**kwargs):\n",
    "    total_calories = 0\n",
    "    for exercise, duration in kwargs.items():\n",
    "        calories = calories_burned(duration, exercise)\n",
    "        if isinstance(calories, int):\n",
    "            total_calories += calories\n",
    "        else:\n",
    "            return calories\n",
    "    return total_calories\n"
   ]
  },
  {
   "cell_type": "code",
   "execution_count": 45,
   "metadata": {},
   "outputs": [
    {
     "data": {
      "text/plain": [
       "510"
      ]
     },
     "execution_count": 45,
     "metadata": {},
     "output_type": "execute_result"
    }
   ],
   "source": [
    "total_calory_burned(berenang=10, berlari=15, bersepeda=30)"
   ]
  }
 ],
 "metadata": {
  "kernelspec": {
   "display_name": "base",
   "language": "python",
   "name": "python3"
  },
  "language_info": {
   "codemirror_mode": {
    "name": "ipython",
    "version": 3
   },
   "file_extension": ".py",
   "mimetype": "text/x-python",
   "name": "python",
   "nbconvert_exporter": "python",
   "pygments_lexer": "ipython3",
   "version": "3.11.7"
  }
 },
 "nbformat": 4,
 "nbformat_minor": 2
}
