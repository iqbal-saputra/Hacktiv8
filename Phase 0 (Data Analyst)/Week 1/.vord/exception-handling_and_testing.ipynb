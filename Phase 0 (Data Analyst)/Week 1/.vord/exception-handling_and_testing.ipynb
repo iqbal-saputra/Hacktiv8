{
 "cells": [
  {
   "cell_type": "code",
   "execution_count": 32,
   "metadata": {},
   "outputs": [
    {
     "name": "stdout",
     "output_type": "stream",
     "text": [
      "Ini ada error bro\n",
      "jalan lagi bro\n",
      "hello world\n"
     ]
    }
   ],
   "source": [
    "listAngka = [1,2,3,4,5]\n",
    "\n",
    "# print(listAngka[5])\n",
    "\n",
    "# if 1 == 1:\n",
    "# print(\"hello\")\n",
    "\n",
    "# handle error\n",
    "try:\n",
    "    print(listAngka[5])\n",
    "except:\n",
    "    print('Ini ada error bro')\n",
    "else:\n",
    "    print('tidak ada error kok bro')\n",
    "finally:\n",
    "    print(\"jalan lagi bro\")\n",
    "    \n",
    "print(\"hello world\")"
   ]
  },
  {
   "cell_type": "code",
   "execution_count": 4,
   "metadata": {},
   "outputs": [
    {
     "name": "stdout",
     "output_type": "stream",
     "text": [
      "ada data yang tidak sesuai ketentuan\n"
     ]
    }
   ],
   "source": [
    "listAngka = ['1','2','3','4','5','a','7','8','9','10']\n",
    "# print(type(listAngka))\n",
    "\n",
    "for angka in listAngka:\n",
    "    try:\n",
    "        print(int(angka[5]),type(angka))\n",
    "    except:\n",
    "        print(\"ada data yang tidak sesuai ketentuan\")"
   ]
  },
  {
   "cell_type": "code",
   "execution_count": 75,
   "metadata": {},
   "outputs": [
    {
     "name": "stdout",
     "output_type": "stream",
     "text": [
      "1\n",
      "2\n",
      "3\n",
      "4\n",
      "5\n",
      "data tidak sesuai\n"
     ]
    }
   ],
   "source": [
    "listAngka = ['1','2','3','4','5','a','7','8','9','10']\n",
    "\n",
    "def printData():\n",
    "    for angka in listAngka:\n",
    "        # cek apakah string itu mengandung angka\n",
    "        if all(chr.isdigit() for chr in angka):\n",
    "            #convert to int\n",
    "            print(int(angka))\n",
    "        else:\n",
    "            # raise error ketika kondisi tidak sesuai\n",
    "            raise ValueError(\"data tidak sesuai\")\n",
    "\n",
    "try:\n",
    "    printData()\n",
    "except ValueError as error:\n",
    "    print(error)"
   ]
  },
  {
   "cell_type": "code",
   "execution_count": 8,
   "metadata": {},
   "outputs": [],
   "source": [
    "listAngka = []\n",
    "\n",
    "# program 1\n",
    "while True:\n",
    "    inputanUser = input(\"masukan angka sebebasnya, jika sudah ketik 'exit': \")\n",
    "    \n",
    "    if inputanUser == \"exit\":\n",
    "        break\n",
    "    else:\n",
    "        listAngka.append(inputanUser)\n",
    "        \n"
   ]
  },
  {
   "cell_type": "code",
   "execution_count": 11,
   "metadata": {},
   "outputs": [
    {
     "name": "stdout",
     "output_type": "stream",
     "text": [
      "43\n",
      "2\n",
      "3\n",
      "1\n",
      "5\n",
      "6\n",
      "ada data yang tidak sesuai\n"
     ]
    }
   ],
   "source": [
    "# program 2\n",
    "\n",
    "def printData():\n",
    "    for angka in listAngka:\n",
    "        # cek apakah string itu mengandung angka\n",
    "        if all(chr.isdigit() for chr in angka):\n",
    "            # convert to int\n",
    "            print(int(angka))\n",
    "        else:\n",
    "            # raise error ketika kondisi tidak sesuai\n",
    "            raise ValueError(\"ada data yang tidak sesuai\")\n",
    "        \n",
    "try:\n",
    "    # akan menimbulkan ValueError\n",
    "    printData()\n",
    "except ValueError as error:\n",
    "    print(error)"
   ]
  },
  {
   "cell_type": "code",
   "execution_count": 5,
   "metadata": {},
   "outputs": [
    {
     "name": "stdout",
     "output_type": "stream",
     "text": [
      "1\n",
      "1\n",
      "2\n",
      "2\n",
      "3\n",
      "3\n",
      "4\n",
      "4\n",
      "5\n",
      "5\n",
      "invalid literal for int() with base 10: 'a'\n"
     ]
    }
   ],
   "source": [
    "\n",
    "def printData():\n",
    "    for angka in listAngka:\n",
    "        print(int(angka))\n",
    "        # cek apakah string itu mengandung angka\n",
    "        if all(chr.isdigit() for chr in angka):\n",
    "            # convert to int\n",
    "            print(int(angka))\n",
    "        else:\n",
    "            # raise error ketika kondisi tidak sesuai\n",
    "            raise ValueError(\"ada data yang tidak sesuai\")\n",
    "        \n",
    "def main():\n",
    "    try:\n",
    "        # akan menimbulkan error ValueError\n",
    "        printData()\n",
    "    except ValueError as error:\n",
    "        print(error)\n",
    "        \n",
    "main()"
   ]
  },
  {
   "cell_type": "markdown",
   "metadata": {},
   "source": [
    "planning -> development -> testing -> publish (tahap pembuatan aplikasi)\n"
   ]
  },
  {
   "cell_type": "markdown",
   "metadata": {},
   "source": [
    "1 scenario melihat isi keranjang\n",
    "- add item\n",
    "- checkTotalHarga\n",
    "- lihatItem\n"
   ]
  },
  {
   "cell_type": "code",
   "execution_count": 2,
   "metadata": {},
   "outputs": [],
   "source": [
    "listItem = []\n",
    "\n",
    "def addItem(itemName):\n",
    "    listItem.append(itemName)"
   ]
  },
  {
   "cell_type": "code",
   "execution_count": 3,
   "metadata": {},
   "outputs": [
    {
     "name": "stderr",
     "output_type": "stream",
     "text": [
      "testCase1 (__main__.TestProgram1.testCase1) ... C:\\Users\\User\\AppData\\Local\\Temp\\ipykernel_12004\\4134287945.py:14: DeprecationWarning: Please use assertEqual instead.\n",
      "  self.assertEquals(actual, expectation) # akan menghasilkan 'ok' atau 'fail'\n",
      "ok\n",
      "\n",
      "----------------------------------------------------------------------\n",
      "Ran 1 test in 0.001s\n",
      "\n",
      "OK\n"
     ]
    },
    {
     "data": {
      "text/plain": [
       "<unittest.main.TestProgram at 0x1fd86972010>"
      ]
     },
     "execution_count": 3,
     "metadata": {},
     "output_type": "execute_result"
    }
   ],
   "source": [
    "import unittest\n",
    "\n",
    "class TestProgram1(unittest.TestCase):\n",
    "    # cases -> success add item\n",
    "    def testCase1(self):\n",
    "        addItem(\"item1\")\n",
    "        addItem(\"item2\")\n",
    "        addItem(\"item3\")\n",
    "        \n",
    "        # assertion -> untuk membuktikan apakah function bekerja sesuai harapan/ekspetasi\n",
    "        expectation = 3 # ekspetasi banyak item di listItem\n",
    "        actual = len(listItem) # hasil banyak data aktual\n",
    "        \n",
    "        self.assertEquals(actual, expectation) # akan menghasilkan 'ok' atau 'fail'\n",
    "\n",
    "# running unittest in notebook\n",
    "unittest.main(argv=[''], verbosity = 2, exit = False)"
   ]
  }
 ],
 "metadata": {
  "kernelspec": {
   "display_name": "base",
   "language": "python",
   "name": "python3"
  },
  "language_info": {
   "codemirror_mode": {
    "name": "ipython",
    "version": 3
   },
   "file_extension": ".py",
   "mimetype": "text/x-python",
   "name": "python",
   "nbconvert_exporter": "python",
   "pygments_lexer": "ipython3",
   "version": "3.11.7"
  }
 },
 "nbformat": 4,
 "nbformat_minor": 2
}
