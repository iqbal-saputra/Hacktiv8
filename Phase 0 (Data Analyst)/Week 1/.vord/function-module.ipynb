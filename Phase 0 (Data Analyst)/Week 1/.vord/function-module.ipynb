{
 "cells": [
  {
   "cell_type": "code",
   "execution_count": 1,
   "metadata": {},
   "outputs": [
    {
     "name": "stdout",
     "output_type": "stream",
     "text": [
      "hello\n",
      "selamat siang\n",
      "terima kasih\n"
     ]
    }
   ],
   "source": [
    "# tanpa function\n",
    "\n",
    "print(\"hello\")\n",
    "print(\"selamat siang\")\n",
    "print(\"terima kasih\")"
   ]
  },
  {
   "cell_type": "code",
   "execution_count": 4,
   "metadata": {},
   "outputs": [
    {
     "name": "stdout",
     "output_type": "stream",
     "text": [
      "hello\n",
      "selamat siang\n",
      "terima kasih\n"
     ]
    }
   ],
   "source": [
    "# dengan function\n",
    "\n",
    "def greeting():\n",
    "    print(\"hello\")\n",
    "    print(\"selamat siang\")\n",
    "    print(\"terima kasih\")\n",
    "    \n",
    "greeting()"
   ]
  },
  {
   "cell_type": "code",
   "execution_count": 17,
   "metadata": {},
   "outputs": [
    {
     "name": "stdout",
     "output_type": "stream",
     "text": [
      "+\n",
      "++\n",
      "+++\n",
      "++++\n",
      "+++++\n"
     ]
    }
   ],
   "source": [
    "# n adalah input parameter atau argmunenya\n",
    "\n",
    "def cetak_plus(n):\n",
    "    if n <= 0:\n",
    "        print(\"Input salah\")\n",
    "    else:\n",
    "        for i in range(1, n + 1):\n",
    "            for j in range(0,i):\n",
    "                print(\"+\", end=\"\")\n",
    "            print(\"\")\n",
    "        \n",
    "cetak_plus(5)"
   ]
  },
  {
   "cell_type": "code",
   "execution_count": 25,
   "metadata": {},
   "outputs": [
    {
     "name": "stdout",
     "output_type": "stream",
     "text": [
      "[2, 4]\n"
     ]
    }
   ],
   "source": [
    "def cetak_angka_genap(daftar_angka):\n",
    "    hasil = [] # tipe data 'list'\n",
    "    for angka in daftar_angka:\n",
    "        if angka != 0:\n",
    "            if angka % 2 == 0:\n",
    "                hasil.append(angka)\n",
    "                \n",
    "    print(hasil)\n",
    "\n",
    "cetak_angka_genap(daftar_angka=[1,2,3,4,5])"
   ]
  },
  {
   "cell_type": "code",
   "execution_count": 39,
   "metadata": {},
   "outputs": [
    {
     "name": "stdout",
     "output_type": "stream",
     "text": [
      "Halo Frank dari USA\n",
      "Halo Asep dari Indonesia\n",
      "Halo Anjay dari Malaysia\n"
     ]
    }
   ],
   "source": [
    "def cetak_nama_negara(nama, negara = 'Indonesia'): # Indonesia sebagai negara default\n",
    "    print('Halo', nama, 'dari', negara)\n",
    "    \n",
    "cetak_nama_negara(\"Frank\", \"USA\")\n",
    "cetak_nama_negara(\"Asep\")\n",
    "# cetak_nama_negara(negara = \"Singapura\") # error karna 'nama' adalah required argument\n",
    "cetak_nama_negara(negara = 'Malaysia', nama = \"Anjay\")\n",
    "# cetak_nama_negara(negara = 'Malaysia', \"Arno\") # error karna positional argument follows argument"
   ]
  },
  {
   "cell_type": "code",
   "execution_count": 28,
   "metadata": {},
   "outputs": [
    {
     "name": "stdout",
     "output_type": "stream",
     "text": [
      "200\n",
      "100.0\n",
      "64\n",
      "input harus ada angka\n",
      "input harus ada mode\n",
      "input harus ada bilangan_1\n"
     ]
    }
   ],
   "source": [
    "def hitung_luas(mode = None, bilangan_1 = None, bilangan_2 = None):\n",
    "    if bilangan_1 == None and bilangan_2 == None:\n",
    "        print(\"input harus ada angka\")\n",
    "    elif bilangan_1 == None:\n",
    "        print(\"input harus ada bilangan_1\")\n",
    "    elif mode == None:\n",
    "        print(\"input harus ada mode\")\n",
    "    else:\n",
    "        # jika hanya diinput bilangan_1, bilangan_2 tidak ada inputan\n",
    "        if bilangan_2 == None:\n",
    "            bilangan_2 = bilangan_1\n",
    "        # hitung luas berdasarkan mode\n",
    "        if mode == \"persegi\":\n",
    "            luas = bilangan_1 * bilangan_2\n",
    "        elif mode == \"segitiga\":\n",
    "            luas = (bilangan_1 * bilangan_2) / 2\n",
    "        else:\n",
    "            print(\"Program Error\")\n",
    "        \n",
    "        print(luas)\n",
    "        return luas\n",
    "    \n",
    "        \n",
    "hitung_luas(\"persegi\", 10, 20)\n",
    "hitung_luas(\"segitiga\", 10, 20)\n",
    "hitung_luas(\"persegi\", 8)\n",
    "hitung_luas(\"persegi\")\n",
    "hitung_luas(bilangan_1= 10, bilangan_2 = 20)\n",
    "hitung_luas(\"persegi\", bilangan_2 = 8)\n"
   ]
  },
  {
   "cell_type": "code",
   "execution_count": 31,
   "metadata": {},
   "outputs": [
    {
     "name": "stdout",
     "output_type": "stream",
     "text": [
      "200\n",
      "200"
     ]
    },
    {
     "data": {
      "text/plain": [
       "400"
      ]
     },
     "execution_count": 31,
     "metadata": {},
     "output_type": "execute_result"
    }
   ],
   "source": [
    "hasil = hitung_luas(\"persegi\",10,20)\n",
    "print(hasil, end = \"\")\n",
    "hasil * 2"
   ]
  },
  {
   "cell_type": "code",
   "execution_count": 63,
   "metadata": {},
   "outputs": [],
   "source": [
    "def cetak_angka(posisi, daftar_angka):\n",
    "    panjang_list = len(daftar_angka)\n",
    "    \n",
    "    if posisi > panjang_list:\n",
    "        output = -1\n",
    "    else:\n",
    "        output = daftar_angka[posisi]\n",
    "        return output"
   ]
  },
  {
   "cell_type": "code",
   "execution_count": 64,
   "metadata": {},
   "outputs": [
    {
     "data": {
      "text/plain": [
       "30"
      ]
     },
     "execution_count": 64,
     "metadata": {},
     "output_type": "execute_result"
    }
   ],
   "source": [
    "cetak_angka(2,[10,20,30,40])"
   ]
  },
  {
   "cell_type": "code",
   "execution_count": 66,
   "metadata": {},
   "outputs": [],
   "source": [
    "# menggunakan variable-length\n",
    "\n",
    "def cetak_angka(posisi, *daftar_angka): # *args, non keyword arguments -> menjadi tipe data tuple\n",
    "    panjang_list = len(daftar_angka)\n",
    "    \n",
    "    if posisi > panjang_list:\n",
    "        output = -1\n",
    "    else:\n",
    "        output = daftar_angka[posisi]\n",
    "        return output"
   ]
  },
  {
   "cell_type": "code",
   "execution_count": 71,
   "metadata": {},
   "outputs": [
    {
     "name": "stdout",
     "output_type": "stream",
     "text": [
      "hasil = -10\n"
     ]
    }
   ],
   "source": [
    "cetak_angka(3,10,20,40,50)\n",
    "hasil = cetak_angka(0,-10,10)\n",
    "print(\"hasil =\",hasil)"
   ]
  },
  {
   "cell_type": "code",
   "execution_count": 77,
   "metadata": {},
   "outputs": [],
   "source": [
    "C = 1 # global var\n",
    "\n",
    "def func(x1):\n",
    "    L = x1**2 + C # local var\n",
    "    print(L)\n",
    "    "
   ]
  },
  {
   "cell_type": "code",
   "execution_count": 78,
   "metadata": {},
   "outputs": [
    {
     "name": "stdout",
     "output_type": "stream",
     "text": [
      "5\n"
     ]
    }
   ],
   "source": [
    "func(2)"
   ]
  },
  {
   "cell_type": "code",
   "execution_count": 80,
   "metadata": {},
   "outputs": [],
   "source": [
    "# Modules\n",
    "\n",
    "import person"
   ]
  },
  {
   "cell_type": "code",
   "execution_count": 81,
   "metadata": {},
   "outputs": [
    {
     "data": {
      "text/plain": [
       "'Iqbal'"
      ]
     },
     "execution_count": 81,
     "metadata": {},
     "output_type": "execute_result"
    }
   ],
   "source": [
    "# Mengakses item didalam sebuah module\n",
    "\n",
    "person.name"
   ]
  },
  {
   "cell_type": "code",
   "execution_count": 83,
   "metadata": {},
   "outputs": [
    {
     "name": "stdout",
     "output_type": "stream",
     "text": [
      "halo Iqbal!\n"
     ]
    }
   ],
   "source": [
    "# Mengakses fungsi\n",
    "\n",
    "person.display(\"Iqbal\")"
   ]
  },
  {
   "cell_type": "code",
   "execution_count": 85,
   "metadata": {},
   "outputs": [],
   "source": [
    "# Import module dengan specific item\n",
    "\n",
    "from person import name"
   ]
  },
  {
   "cell_type": "code",
   "execution_count": 92,
   "metadata": {},
   "outputs": [],
   "source": [
    "# devices # akan error karna tidak di declare ketika import module dengan specific item"
   ]
  },
  {
   "cell_type": "code",
   "execution_count": 88,
   "metadata": {},
   "outputs": [
    {
     "name": "stdout",
     "output_type": "stream",
     "text": [
      "Requirement already satisfied: tweepy in c:\\users\\user\\anaconda3\\lib\\site-packages (4.14.0)\n",
      "Requirement already satisfied: oauthlib<4,>=3.2.0 in c:\\users\\user\\anaconda3\\lib\\site-packages (from tweepy) (3.2.2)\n",
      "Requirement already satisfied: requests<3,>=2.27.0 in c:\\users\\user\\anaconda3\\lib\\site-packages (from tweepy) (2.31.0)\n",
      "Requirement already satisfied: requests-oauthlib<2,>=1.2.0 in c:\\users\\user\\anaconda3\\lib\\site-packages (from tweepy) (1.3.1)\n",
      "Requirement already satisfied: charset-normalizer<4,>=2 in c:\\users\\user\\anaconda3\\lib\\site-packages (from requests<3,>=2.27.0->tweepy) (2.0.4)\n",
      "Requirement already satisfied: idna<4,>=2.5 in c:\\users\\user\\anaconda3\\lib\\site-packages (from requests<3,>=2.27.0->tweepy) (3.4)\n",
      "Requirement already satisfied: urllib3<3,>=1.21.1 in c:\\users\\user\\anaconda3\\lib\\site-packages (from requests<3,>=2.27.0->tweepy) (2.0.7)\n",
      "Requirement already satisfied: certifi>=2017.4.17 in c:\\users\\user\\anaconda3\\lib\\site-packages (from requests<3,>=2.27.0->tweepy) (2024.2.2)\n",
      "Note: you may need to restart the kernel to use updated packages.\n"
     ]
    }
   ],
   "source": [
    "# Instalasi package\n",
    "\n",
    "# pip install tweepy (misal kita mau install package tweepy)\n",
    "\n",
    "%pip install tweepy\n"
   ]
  }
 ],
 "metadata": {
  "kernelspec": {
   "display_name": "base",
   "language": "python",
   "name": "python3"
  },
  "language_info": {
   "codemirror_mode": {
    "name": "ipython",
    "version": 3
   },
   "file_extension": ".py",
   "mimetype": "text/x-python",
   "name": "python",
   "nbconvert_exporter": "python",
   "pygments_lexer": "ipython3",
   "version": "3.11.7"
  }
 },
 "nbformat": 4,
 "nbformat_minor": 2
}
