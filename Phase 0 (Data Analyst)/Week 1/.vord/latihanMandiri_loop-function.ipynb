{
 "cells": [
  {
   "cell_type": "code",
   "execution_count": 9,
   "metadata": {},
   "outputs": [
    {
     "data": {
      "text/plain": [
       "[6, 8, 10]"
      ]
     },
     "execution_count": 9,
     "metadata": {},
     "output_type": "execute_result"
    }
   ],
   "source": [
    "# Task 1\n",
    "\n",
    "def pencari_genap(angka):\n",
    "    result = []\n",
    "    for number in angka:\n",
    "        if number % 2 == 0:\n",
    "            result.append(number)\n",
    "            \n",
    "    return result\n",
    "    print(result)\n",
    "\n",
    "pencari_genap([1,6,3,8,10])"
   ]
  },
  {
   "cell_type": "code",
   "execution_count": 16,
   "metadata": {},
   "outputs": [
    {
     "name": "stdout",
     "output_type": "stream",
     "text": [
      "6\n"
     ]
    }
   ],
   "source": [
    "# Task 2\n",
    "\n",
    "def cari_vokal(kalimat):\n",
    "    \n",
    "    sum = 0\n",
    "    length = len(kalimat)\n",
    "    huruf_vokal = {'a', 'i', 'u', 'e', 'o'}\n",
    "    \n",
    "    i = 0\n",
    "    while i < length:\n",
    "        if kalimat[i] in huruf_vokal:\n",
    "            sum += 1\n",
    "        i += 1\n",
    "        \n",
    "    print(sum)\n",
    "    return\n",
    "    \n",
    "cari_vokal(\"saya lapar banget\")"
   ]
  },
  {
   "cell_type": "code",
   "execution_count": 25,
   "metadata": {},
   "outputs": [
    {
     "name": "stdout",
     "output_type": "stream",
     "text": [
      "*\n",
      "**\n",
      "***\n",
      "****\n",
      "*****\n"
     ]
    }
   ],
   "source": [
    "# Task 3\n",
    "\n",
    "def rasi_bintang(baris):\n",
    "    bintang = '*'\n",
    "    \n",
    "    for i in range(1,baris + 1):\n",
    "        for j in range(0,i):\n",
    "            print(\"*\", end=\"\")\n",
    "        print(\"\")\n",
    "        \n",
    "rasi_bintang(baris = 5)"
   ]
  }
 ],
 "metadata": {
  "kernelspec": {
   "display_name": "base",
   "language": "python",
   "name": "python3"
  },
  "language_info": {
   "codemirror_mode": {
    "name": "ipython",
    "version": 3
   },
   "file_extension": ".py",
   "mimetype": "text/x-python",
   "name": "python",
   "nbconvert_exporter": "python",
   "pygments_lexer": "ipython3",
   "version": "3.11.7"
  }
 },
 "nbformat": 4,
 "nbformat_minor": 2
}
