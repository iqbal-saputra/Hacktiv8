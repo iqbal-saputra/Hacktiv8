{
  "cells": [
    {
      "cell_type": "code",
      "execution_count": null,
      "metadata": {
        "colab": {
          "base_uri": "https://localhost:8080/"
        },
        "id": "l0W7Xw9WEtUc",
        "outputId": "1905e4d3-39a3-492d-e81c-24f1825b78b8"
      },
      "outputs": [
        {
          "name": "stdout",
          "output_type": "stream",
          "text": [
            "hello\n",
            "selamat siang\n",
            "terima kasih\n"
          ]
        }
      ],
      "source": [
        "# Tanpa Function\n",
        "\n",
        "print('hello')\n",
        "print('selamat siang')\n",
        "print('terima kasih')"
      ]
    },
    {
      "cell_type": "code",
      "execution_count": null,
      "metadata": {
        "id": "WBZnejbUE9YV"
      },
      "outputs": [],
      "source": [
        "# Dengan Function\n",
        "def greeting():\n",
        "  print('hello')\n",
        "  print('selamat siang')\n",
        "  print('terima kasih')\n"
      ]
    },
    {
      "cell_type": "code",
      "execution_count": null,
      "metadata": {
        "colab": {
          "base_uri": "https://localhost:8080/"
        },
        "id": "y_JEo6EuFW1O",
        "outputId": "fd39fa48-e706-4ef8-97fb-19a3cd19cce5"
      },
      "outputs": [
        {
          "name": "stdout",
          "output_type": "stream",
          "text": [
            "hello\n",
            "selamat siang\n",
            "terima kasih\n"
          ]
        }
      ],
      "source": [
        "# Pemanggilan ke-1\n",
        "\n",
        "greeting()\n"
      ]
    },
    {
      "cell_type": "code",
      "execution_count": null,
      "metadata": {
        "colab": {
          "base_uri": "https://localhost:8080/"
        },
        "id": "dbpNcerDFcjy",
        "outputId": "e1e2da10-8963-42c7-e6d4-04bc9c167bb0"
      },
      "outputs": [
        {
          "name": "stdout",
          "output_type": "stream",
          "text": [
            "hello\n",
            "selamat siang\n",
            "terima kasih\n"
          ]
        }
      ],
      "source": [
        "# Pemanggilan ke-2\n",
        "\n",
        "greeting()"
      ]
    },
    {
      "cell_type": "markdown",
      "metadata": {
        "id": "L3KnF6F_IOwh"
      },
      "source": [
        "# LATIHAN - P0W1D3AM : FUNCTION"
      ]
    },
    {
      "cell_type": "markdown",
      "metadata": {
        "id": "KD9SBZu6IWat"
      },
      "source": [
        "## Required/Keyword Argument"
      ]
    },
    {
      "cell_type": "markdown",
      "metadata": {
        "id": "SABgqKWrp27J"
      },
      "source": [
        "**NOMOR 1**\n",
        "\n",
        "Buatlah sebuah function untuk menampilkan tanda plus (`+`) sebanyak\n",
        "`n`.\n",
        "  * Input : `n` | Jumlah tanda plus (`+`) yang diinginkan | int\n",
        "  * Output : Jumlah tanda plus yang ditampilkan\n",
        "\n",
        "| Input | Output |\n",
        "| - | - |\n",
        "| n = 1 | + |\n",
        "| n = 3 | + <br /> + <br /> + |\n",
        "| n = 5 | + <br /> + <br /> + <br /> + <br /> + |\n",
        "| n = 0 | Tampilkan pesan `Input salah` |\n",
        "| n = -1 | Tampilkan pesan `Input salah` |\n",
        "\n"
      ]
    },
    {
      "cell_type": "code",
      "execution_count": null,
      "metadata": {
        "id": "K8IWatamFyk_"
      },
      "outputs": [],
      "source": [
        "# n adalah input parameter atau argumennya\n",
        "def cetak_plus(n):\n",
        "  if n <= 0:\n",
        "    print('Input salah')\n",
        "  else:\n",
        "    for loop in range(n):\n",
        "      print('+')"
      ]
    },
    {
      "cell_type": "code",
      "execution_count": null,
      "metadata": {
        "colab": {
          "base_uri": "https://localhost:8080/"
        },
        "id": "VLhDykhTF96X",
        "outputId": "f1a730bf-13cd-447a-e902-afd6a3ff3380"
      },
      "outputs": [
        {
          "name": "stdout",
          "output_type": "stream",
          "text": [
            "Input salah\n"
          ]
        }
      ],
      "source": [
        "cetak_plus(0)"
      ]
    },
    {
      "cell_type": "markdown",
      "metadata": {
        "id": "ci9Cw5h8I7_a"
      },
      "source": [
        "**NOMOR 2**\n",
        "\n",
        "Buat sebuah function untuk mereturn hanya angka genap (positif/negatif) dari sekumpulan list yang berisi nilai-nilai (tidak termasuk 0).\n",
        "  * Input : `daftar_angka` : daftar angka-angka | list of int\n",
        "  * Output : daftar angka-angka genap | list of int\n",
        "\n",
        "| No | Input | Output |\n",
        "| - | - | - |\n",
        "| 1 | daftar_angka = [1, 2, 3, 4, 5, 6] | [2, 4, 6] |\n",
        "| 2 | daftar_angka = [0, 1, 3, 5, 7, 9] | [] |\n",
        "| 3 | daftar_angka = [-10, -9, -8, -7]  | [-10, -8] |\n"
      ]
    },
    {
      "cell_type": "code",
      "execution_count": null,
      "metadata": {
        "id": "Um4Q5v5Fn3tj"
      },
      "outputs": [],
      "source": [
        "def cetak_angka_genap(daftar_angka):\n",
        "  hasil = []\n",
        "  for angka in daftar_angka:\n",
        "    if angka != 0:\n",
        "      if angka % 2 == 0:\n",
        "        hasil.append(angka)\n",
        "  print(hasil)"
      ]
    },
    {
      "cell_type": "code",
      "execution_count": null,
      "metadata": {
        "colab": {
          "base_uri": "https://localhost:8080/"
        },
        "id": "ns7XG3lHJExA",
        "outputId": "1ae6ab0c-e7e4-4113-ac16-c64efacdff7d"
      },
      "outputs": [
        {
          "name": "stdout",
          "output_type": "stream",
          "text": [
            "[2, 4, 6]\n"
          ]
        }
      ],
      "source": [
        "daftar_angka = [1, 2, 3, 4, 5, 6]\n",
        "cetak_angka_genap(daftar_angka)"
      ]
    },
    {
      "cell_type": "markdown",
      "metadata": {
        "id": "jz00PX1Sp6_S"
      },
      "source": [
        "## Default Argument"
      ]
    },
    {
      "cell_type": "markdown",
      "metadata": {
        "id": "3wEoWefTIg9a"
      },
      "source": [
        "**NOMOR 3**\n",
        "\n",
        "Buatlah sebuah function untuk menampilkan `nama` dan `negara`. Jika tidak ada value pada parameter `negara`, isi dengan `Indonesia`.\n",
        "  * Input : `nama` | str\n",
        "  * Input : `negara` | str\n",
        "\n",
        "| No | Input | Output |\n",
        "| - | - | - |\n",
        "| 1 | nama = Frank <br /> <br /> negara = USA| \"Halo Frank dari USA\" |\n",
        "| 2 | nama = Smith <br /> <br /> negara = Jerman| \"Halo Smith dari Jerman\" |\n",
        "| 3 | nama = Anton | \"Halo Anton dari Indonesia\" |\n",
        "| 4 | negara = Singapura | *--Program Error--* |"
      ]
    },
    {
      "cell_type": "code",
      "execution_count": null,
      "metadata": {
        "colab": {
          "base_uri": "https://localhost:8080/"
        },
        "id": "6Irlm3ZkLQCx",
        "outputId": "098962ce-e9fe-4a67-dbdf-04853c76fa0b"
      },
      "outputs": [
        {
          "name": "stdout",
          "output_type": "stream",
          "text": [
            "Halo Frank dari USA\n",
            "Halo Anton dari Indonesia\n",
            "Halo Smith dari Australia\n",
            "Halo Hana dari Arab\n"
          ]
        }
      ],
      "source": [
        "def cetak_nama_negara(nama, negara = 'Indonesia'):\n",
        "  print('Halo', nama, 'dari', negara)\n",
        "\n",
        "cetak_nama_negara('Frank', 'USA')\n",
        "cetak_nama_negara('Anton')\n",
        "cetak_nama_negara(nama = 'Smith', negara = 'Australia')\n",
        "cetak_nama_negara(negara = 'Arab', nama = 'Hana')"
      ]
    },
    {
      "cell_type": "code",
      "execution_count": null,
      "metadata": {
        "colab": {
          "base_uri": "https://localhost:8080/",
          "height": 198
        },
        "id": "riHpt91yMlUi",
        "outputId": "db5415de-5c4a-4e7a-bc4b-de4f11407eaf"
      },
      "outputs": [
        {
          "ename": "TypeError",
          "evalue": "cetak_nama_negara() missing 1 required positional argument: 'nama'",
          "output_type": "error",
          "traceback": [
            "\u001b[0;31m---------------------------------------------------------------------------\u001b[0m",
            "\u001b[0;31mTypeError\u001b[0m                                 Traceback (most recent call last)",
            "\u001b[0;32m<ipython-input-2-62f1167c1887>\u001b[0m in \u001b[0;36m<cell line: 1>\u001b[0;34m()\u001b[0m\n\u001b[0;32m----> 1\u001b[0;31m \u001b[0mcetak_nama_negara\u001b[0m\u001b[0;34m(\u001b[0m\u001b[0mnegara\u001b[0m \u001b[0;34m=\u001b[0m \u001b[0;34m'Singapura'\u001b[0m\u001b[0;34m)\u001b[0m\u001b[0;34m\u001b[0m\u001b[0;34m\u001b[0m\u001b[0m\n\u001b[0m",
            "\u001b[0;31mTypeError\u001b[0m: cetak_nama_negara() missing 1 required positional argument: 'nama'"
          ]
        }
      ],
      "source": [
        "cetak_nama_negara(negara = 'Singapura')"
      ]
    },
    {
      "cell_type": "markdown",
      "metadata": {
        "id": "318TQDqvcHKR"
      },
      "source": [
        "**NOMOR 4**\n",
        "\n",
        "Buatlah sebuah function untuk me-return luas dari dua angka yang dimasukkan berdasarkan jenis bidangnya.\n",
        "  * Jika hanya 1 angka yang dimasukkan, maka diasumsikan angka tersebut akan digunakan untuk panjang-dan-lebar atau alas-dan-tinggi.\n",
        "  * Input : `mode` : jenis bidang (segitiga/persegi) | str\n",
        "    - `mode = segitiga`\n",
        "    - `mode = persegi`\n",
        "  * Input : `bilangan_1` : bilangan ke-1 | int\n",
        "  * Input : `bilangan_2` : bilangan ke-2 | int\n",
        "  * Jika tidak ada bilangan yang dimasukkan, maka tampilkan pesan **\"Input harus ada angka\"**.\n",
        "  * Jika bilangan_1 tidak dimasukkan dan hanya ada bilangan_2, maka tampilkan pesan **\"Input harus ada bilangan_1\"**.\n",
        "\n",
        "  > *Rumus luas persegi = bilangan_1 (panjang) * bilangan_2 (lebar)*\n",
        "  >\n",
        "  > *Rumus luas segitiga = bilangan_1 (alas) * bilangan_2 (tinggi) / 2*\n",
        "\n",
        "---\n",
        "Asumsi :\n",
        "* Angka yang dimasukkan maksimal 2 angka.\n",
        "* Angka yang dimasukkan hanyalah angka yang lebih besar dari 0.\n",
        "\n",
        "*Hint : Gunakan konsep bahwa sisi bidang tidak mungkin bernilai 0.*\n",
        "\n",
        "\n",
        "| No | Input | Output |\n",
        "| - | - | - |\n",
        "| 1 | mode = persegi, <br /> <br /> bilangan_1 = 10, <br /> <br /> bilangan_2 = 20 | 200 |\n",
        "| 2 | mode = segitiga, <br /> <br /> bilangan_1 = 10, <br /> <br /> bilangan_2 = 20 | 100 |\n",
        "| 3 | mode = persegi | \"Input kurang angka\" |\n",
        "| 4 | mode = persegi, <br /> <br /> bilangan_1 = 8 | 64 |\n",
        "| 5 | mode = persegi, <br /> <br /> bilangan_2 = 8 | \"Input harus ada bilangan_1\" |\n",
        "| 6 | bilangan_1 = 10, <br /> <br /> bilangan_2 = 20 | *-Program Error-* |"
      ]
    },
    {
      "cell_type": "code",
      "execution_count": null,
      "metadata": {
        "id": "nJIKz4rtn2zO"
      },
      "outputs": [],
      "source": [
        "def hitung_luas(mode, bilangan_1 = None, bilangan_2 = None):\n",
        "  #ngecek apakah ada bilangan1&2\n",
        "  if bilangan_1 == None and bilangan_2 == None:\n",
        "    print('Input harus ada angka')\n",
        "  #ngecek apakah ada bilangan 1\n",
        "  elif bilangan_1 == None:\n",
        "    print('Input harus ada bilangan_1')\n",
        "  else:\n",
        "    #jika hanya ada bilangan_1 dan tidak ada bilangan_2\n",
        "    if bilangan_2 == None:\n",
        "      bilangan_2 = bilangan_1\n",
        "    #hitung luas berdasarkan mode\n",
        "    if mode == 'persegi':\n",
        "      luas = bilangan_1*bilangan_2\n",
        "    else:\n",
        "      luas = bilangan_1*bilangan_2/2\n",
        "    # print(luas)\n",
        "    return luas"
      ]
    },
    {
      "cell_type": "code",
      "execution_count": null,
      "metadata": {
        "colab": {
          "base_uri": "https://localhost:8080/"
        },
        "id": "GFb-C8tZQ7zq",
        "outputId": "a5344936-c1ca-44c9-c1ff-f1a74cd916f6"
      },
      "outputs": [
        {
          "name": "stdout",
          "output_type": "stream",
          "text": [
            "200\n",
            "100.0\n",
            "Input harus ada angka\n",
            "64\n",
            "Input harus ada bilangan_1\n"
          ]
        }
      ],
      "source": [
        "hitung_luas('persegi', 10, 20)\n",
        "hitung_luas('segitiga', 10, 20)\n",
        "hitung_luas('persegi')\n",
        "hitung_luas('persegi', 8)\n",
        "hitung_luas('persegi', bilangan_2 = 8)\n"
      ]
    },
    {
      "cell_type": "code",
      "execution_count": null,
      "metadata": {
        "colab": {
          "base_uri": "https://localhost:8080/"
        },
        "id": "6tEvR1g4TooX",
        "outputId": "5150eb7a-0945-4b58-9e1e-7daf44494b50"
      },
      "outputs": [
        {
          "name": "stdout",
          "output_type": "stream",
          "text": [
            "200\n"
          ]
        },
        {
          "data": {
            "text/plain": [
              "400"
            ]
          },
          "execution_count": 25,
          "metadata": {},
          "output_type": "execute_result"
        }
      ],
      "source": [
        "hasil = hitung_luas('persegi', 10, 20)\n",
        "print(hasil)\n",
        "hasil * 2"
      ]
    },
    {
      "cell_type": "code",
      "execution_count": null,
      "metadata": {
        "colab": {
          "base_uri": "https://localhost:8080/",
          "height": 180
        },
        "id": "6Hwj1Wu-SPmt",
        "outputId": "e1bbb84b-17b8-40e7-b104-4f7786c3489e"
      },
      "outputs": [
        {
          "ename": "TypeError",
          "evalue": "hitung_luas() missing 1 required positional argument: 'mode'",
          "output_type": "error",
          "traceback": [
            "\u001b[0;31m---------------------------------------------------------------------------\u001b[0m",
            "\u001b[0;31mTypeError\u001b[0m                                 Traceback (most recent call last)",
            "\u001b[0;32m<ipython-input-18-127e8d2b071a>\u001b[0m in \u001b[0;36m<cell line: 1>\u001b[0;34m()\u001b[0m\n\u001b[0;32m----> 1\u001b[0;31m \u001b[0mhitung_luas\u001b[0m\u001b[0;34m(\u001b[0m\u001b[0mbilangan_1\u001b[0m \u001b[0;34m=\u001b[0m \u001b[0;36m10\u001b[0m\u001b[0;34m,\u001b[0m \u001b[0mbilangan_2\u001b[0m \u001b[0;34m=\u001b[0m \u001b[0;36m20\u001b[0m\u001b[0;34m)\u001b[0m\u001b[0;34m\u001b[0m\u001b[0;34m\u001b[0m\u001b[0m\n\u001b[0m",
            "\u001b[0;31mTypeError\u001b[0m: hitung_luas() missing 1 required positional argument: 'mode'"
          ]
        }
      ],
      "source": [
        "hitung_luas(bilangan_1 = 10, bilangan_2 = 20)"
      ]
    },
    {
      "cell_type": "markdown",
      "metadata": {
        "id": "382AEd81qiuI"
      },
      "source": [
        "## Variable-Length Argument"
      ]
    },
    {
      "cell_type": "markdown",
      "metadata": {
        "id": "gy1BSwZQlhyd"
      },
      "source": [
        "**NOMOR 5**\n",
        "\n",
        "Buatlah sebuah function untuk :\n",
        "  * Mereturn angka disuatu posisi berdasarkan bilangan pertama dari sebuah daftar angka-angka.\n",
        "  * Urutan posisi dimulai dari bilangan kedua.\n",
        "  * Jika bilangan pertama melebihi jumlah banyaknya daftar angka-angka, maka return **-1**.\n",
        "  * Input : daftar angka\n",
        "\n",
        "| No | Input | Output |\n",
        "| - | - | - |\n",
        "| 1 | (3, 10, 20, 30, 40) | 40 |\n",
        "| 2 | (0, -10, 10)| -10 |\n",
        "| 3 | (1, 2, 300, 10) | 300 |\n",
        "| 4 | (100, 200, 300, -400) | -1 |\n",
        "| 5 | (4, 200, 300, -400) | -1 |"
      ]
    },
    {
      "cell_type": "code",
      "execution_count": null,
      "metadata": {
        "id": "WmnHgoaln1lH"
      },
      "outputs": [],
      "source": [
        "def cetak_angka(posisi, daftar_angka):\n",
        "  panjang_list = len(daftar_angka)\n",
        "\n",
        "  #cek posisi lebih dari panjang list nya ngga\n",
        "  if posisi > panjang_list:\n",
        "    output = -1\n",
        "  else:\n",
        "    output = daftar_angka[posisi]\n",
        "\n",
        "  return output"
      ]
    },
    {
      "cell_type": "code",
      "execution_count": null,
      "metadata": {
        "colab": {
          "base_uri": "https://localhost:8080/"
        },
        "id": "3IeiYIyfWNL0",
        "outputId": "ef4e9a7c-8ce1-491d-fc08-d603234b93a8"
      },
      "outputs": [
        {
          "data": {
            "text/plain": [
              "40"
            ]
          },
          "execution_count": 6,
          "metadata": {},
          "output_type": "execute_result"
        }
      ],
      "source": [
        "cetak_angka(3, [10, 20, 30, 40])"
      ]
    },
    {
      "cell_type": "code",
      "execution_count": null,
      "metadata": {
        "id": "E5F5HwONXHHz"
      },
      "outputs": [],
      "source": [
        "#bikin pake variable-length\n",
        "def cetak_angka(posisi, *daftar_angka):\n",
        "  panjang_list = len(daftar_angka)\n",
        "\n",
        "  #cek posisi lebih dari panjang list nya ngga\n",
        "  if posisi > panjang_list:\n",
        "    output = -1\n",
        "  else:\n",
        "    output = daftar_angka[posisi]\n",
        "\n",
        "  return output"
      ]
    },
    {
      "cell_type": "code",
      "execution_count": null,
      "metadata": {
        "colab": {
          "base_uri": "https://localhost:8080/"
        },
        "id": "G5tqHiqqXVw3",
        "outputId": "c357e198-3930-4427-b12a-fd4ed5ad650a"
      },
      "outputs": [
        {
          "name": "stdout",
          "output_type": "stream",
          "text": [
            "hasil:  -10\n"
          ]
        }
      ],
      "source": [
        "cetak_angka(3, 10, 20, 40, 40)\n",
        "hasil = cetak_angka(0, -10, 10)\n",
        "print('hasil: ' , hasil)"
      ]
    },
    {
      "cell_type": "code",
      "execution_count": null,
      "metadata": {
        "id": "WOnvq3YLYGoC"
      },
      "outputs": [],
      "source": [
        "c = 1 #global variabel\n",
        "def func(x1):\n",
        "  L = x1**2 + c #ini adalah local varibel\n",
        "  print(L)"
      ]
    },
    {
      "cell_type": "code",
      "execution_count": null,
      "metadata": {
        "colab": {
          "base_uri": "https://localhost:8080/"
        },
        "id": "A2wrbNtoYWhu",
        "outputId": "63ce4b24-fe43-4d40-9122-0c9ddd790476"
      },
      "outputs": [
        {
          "name": "stdout",
          "output_type": "stream",
          "text": [
            "5\n"
          ]
        }
      ],
      "source": [
        "func(2)"
      ]
    },
    {
      "cell_type": "markdown",
      "metadata": {
        "id": "Xszdp_Jbbwq5"
      },
      "source": [
        "## Modules\n",
        "\n",
        "---\n",
        "\n",
        "Buat file dengan judul person.py berisi\n",
        "\n",
        "```py\n",
        "name = '<namamu>'\n",
        "devices = ['laptop', 'smartphone', 'tablet']\n",
        "\n",
        "def display(nama):\n",
        "  print(f'halo {nama}!')\n",
        "```"
      ]
    },
    {
      "cell_type": "code",
      "execution_count": 3,
      "metadata": {
        "id": "hTa7Adh-byxF"
      },
      "outputs": [
        {
          "ename": "ModuleNotFoundError",
          "evalue": "No module named 'person'",
          "output_type": "error",
          "traceback": [
            "\u001b[1;31m---------------------------------------------------------------------------\u001b[0m",
            "\u001b[1;31mModuleNotFoundError\u001b[0m                       Traceback (most recent call last)",
            "Cell \u001b[1;32mIn[3], line 3\u001b[0m\n\u001b[0;32m      1\u001b[0m \u001b[38;5;66;03m# Import module\u001b[39;00m\n\u001b[1;32m----> 3\u001b[0m \u001b[38;5;28;01mimport\u001b[39;00m \u001b[38;5;21;01mperson\u001b[39;00m\n",
            "\u001b[1;31mModuleNotFoundError\u001b[0m: No module named 'person'"
          ]
        }
      ],
      "source": [
        "# Import module\n",
        "\n",
        "import person"
      ]
    },
    {
      "cell_type": "code",
      "execution_count": null,
      "metadata": {
        "colab": {
          "base_uri": "https://localhost:8080/",
          "height": 35
        },
        "id": "9zb8GXvlcxDP",
        "outputId": "df26a4b9-77e3-498b-c0fe-d95f7d41dfe8"
      },
      "outputs": [
        {
          "data": {
            "application/vnd.google.colaboratory.intrinsic+json": {
              "type": "string"
            },
            "text/plain": [
              "'hana'"
            ]
          },
          "execution_count": 19,
          "metadata": {},
          "output_type": "execute_result"
        }
      ],
      "source": [
        "# Mengakses item didalam sebuah module\n",
        "\n",
        "person.name"
      ]
    },
    {
      "cell_type": "code",
      "execution_count": null,
      "metadata": {
        "colab": {
          "base_uri": "https://localhost:8080/"
        },
        "id": "YvKqisMZaVj2",
        "outputId": "c174dab3-7ebd-40b7-c60a-dd6411c91094"
      },
      "outputs": [
        {
          "name": "stdout",
          "output_type": "stream",
          "text": [
            "halo hana!\n"
          ]
        }
      ],
      "source": [
        "person.display('hana')"
      ]
    },
    {
      "cell_type": "code",
      "execution_count": 4,
      "metadata": {
        "id": "cXrcLl0HeUgz"
      },
      "outputs": [
        {
          "ename": "ModuleNotFoundError",
          "evalue": "No module named 'person'",
          "output_type": "error",
          "traceback": [
            "\u001b[1;31m---------------------------------------------------------------------------\u001b[0m",
            "\u001b[1;31mModuleNotFoundError\u001b[0m                       Traceback (most recent call last)",
            "Cell \u001b[1;32mIn[4], line 3\u001b[0m\n\u001b[0;32m      1\u001b[0m \u001b[38;5;66;03m# Import module dengan specific item\u001b[39;00m\n\u001b[1;32m----> 3\u001b[0m \u001b[38;5;28;01mfrom\u001b[39;00m \u001b[38;5;21;01mperson\u001b[39;00m \u001b[38;5;28;01mimport\u001b[39;00m name\n",
            "\u001b[1;31mModuleNotFoundError\u001b[0m: No module named 'person'"
          ]
        }
      ],
      "source": [
        "# Import module dengan specific item\n",
        "\n",
        "from person import name"
      ]
    },
    {
      "cell_type": "code",
      "execution_count": null,
      "metadata": {
        "colab": {
          "base_uri": "https://localhost:8080/",
          "height": 198
        },
        "id": "VyqbXEheelUH",
        "outputId": "e1868c34-44b1-4354-b902-c8c4920bb750"
      },
      "outputs": [
        {
          "ename": "NameError",
          "evalue": "name 'devices' is not defined",
          "output_type": "error",
          "traceback": [
            "\u001b[0;31m---------------------------------------------------------------------------\u001b[0m",
            "\u001b[0;31mNameError\u001b[0m                                 Traceback (most recent call last)",
            "\u001b[0;32m<ipython-input-6-2ecbc9400d4c>\u001b[0m in \u001b[0;36m<cell line: 1>\u001b[0;34m()\u001b[0m\n\u001b[0;32m----> 1\u001b[0;31m \u001b[0mdevices\u001b[0m  \u001b[0;31m## akan error karena tidak dilakukan import mengenai `devices`\u001b[0m\u001b[0;34m\u001b[0m\u001b[0;34m\u001b[0m\u001b[0m\n\u001b[0m",
            "\u001b[0;31mNameError\u001b[0m: name 'devices' is not defined"
          ]
        }
      ],
      "source": [
        "#devices  ## akan error karena tidak dilakukan import mengenai `devices`"
      ]
    },
    {
      "cell_type": "code",
      "execution_count": 10,
      "metadata": {
        "colab": {
          "base_uri": "https://localhost:8080/"
        },
        "id": "MD0sCQSRfMaL",
        "outputId": "d2510adc-41a2-4d44-9491-599b064b09bf"
      },
      "outputs": [
        {
          "name": "stdout",
          "output_type": "stream",
          "text": [
            "Requirement already satisfied: tweepy in c:\\users\\user\\anaconda3\\lib\\site-packages (4.14.0)\n",
            "Requirement already satisfied: oauthlib<4,>=3.2.0 in c:\\users\\user\\anaconda3\\lib\\site-packages (from tweepy) (3.2.2)\n",
            "Requirement already satisfied: requests<3,>=2.27.0 in c:\\users\\user\\anaconda3\\lib\\site-packages (from tweepy) (2.31.0)\n",
            "Requirement already satisfied: requests-oauthlib<2,>=1.2.0 in c:\\users\\user\\anaconda3\\lib\\site-packages (from tweepy) (1.3.1)\n",
            "Requirement already satisfied: charset-normalizer<4,>=2 in c:\\users\\user\\anaconda3\\lib\\site-packages (from requests<3,>=2.27.0->tweepy) (2.0.4)\n",
            "Requirement already satisfied: idna<4,>=2.5 in c:\\users\\user\\anaconda3\\lib\\site-packages (from requests<3,>=2.27.0->tweepy) (3.4)\n",
            "Requirement already satisfied: urllib3<3,>=1.21.1 in c:\\users\\user\\anaconda3\\lib\\site-packages (from requests<3,>=2.27.0->tweepy) (2.0.7)\n",
            "Requirement already satisfied: certifi>=2017.4.17 in c:\\users\\user\\anaconda3\\lib\\site-packages (from requests<3,>=2.27.0->tweepy) (2024.2.2)\n",
            "Note: you may need to restart the kernel to use updated packages.\n"
          ]
        }
      ],
      "source": [
        "# Instalasi Package\n",
        "\n",
        "# pip install tweepy\n",
        "# !pip install tweepy  # Cara yang direkomendasikan\n",
        "%pip install tweepy"
      ]
    },
    {
      "cell_type": "markdown",
      "metadata": {
        "id": "SEB_VdwJquxl"
      },
      "source": [
        "## Free Practice"
      ]
    },
    {
      "cell_type": "markdown",
      "metadata": {
        "id": "1ZrIX3RTzgCH"
      },
      "source": [
        "**NOMOR 6**\n",
        "\n",
        "Buatlah sebuah function untuk menampilkan nama siswa yang memiliki nilai paling besar\n",
        "  * Input : Beberapa nama_siswa beserta nilai_siswa\n",
        "\n",
        "\n",
        "| No | Input | Output |\n",
        "| - | - | - |\n",
        "| 1 | (anwar=90, budi=40, charlie=100) | 'charlie' |\n",
        "| 2 | (tom=30, rian=90, jim=60, lily=70, abby=40)| 'rian' |\n",
        "| 3 | (frank=100) | 'frank' |"
      ]
    },
    {
      "cell_type": "code",
      "execution_count": null,
      "metadata": {
        "cellView": "form",
        "colab": {
          "base_uri": "https://localhost:8080/"
        },
        "id": "25Jr2bp2XQx8",
        "outputId": "d44f2e05-a446-4a61-af1b-0bb317176f26"
      },
      "outputs": [
        {
          "name": "stdout",
          "output_type": "stream",
          "text": [
            "daftar_siswa :  {'anwar': 90, 'budi': 40, 'charlie': 100}\n",
            "daftar_nama :  ['anwar', 'budi', 'charlie']\n",
            "daftar_nilai :  [90, 40, 100]\n",
            "Nama Siswa Terbaik :  charlie\n"
          ]
        }
      ],
      "source": [
        "# @title\n",
        "\n",
        "'''logic: di daftar siswa ada daftar nilai dan nama, berarti inputnya dibuat\n",
        "dictionary, nanti muncul daftar nilai dan daftar nama convert ke list, untuk\n",
        "ngecek nilainya buat seperti perbandingan, nilai 1 bandingkan dengan nilai 2,\n",
        "nanti yang lebih baik masukan ke variabel temporary, kalo nilai nya lebih dari\n",
        "yg sebelumnya akan nge overwrite nilai yang sebelumnya yg ada di variabel\n",
        "tersebut. Kalo loop nya habis keluarkan nama si yg mempunyai nilai terbaik\n",
        "'''\n",
        "\n",
        "#kwargs : non-keyword arguments\n",
        "#mengubah menjadi dictionary\n",
        "\n",
        "def cek_nilai(**daftar_siswa):\n",
        "  print('daftar_siswa : ', daftar_siswa)\n",
        "\n",
        "  # Mengumpulkan daftar nama dan daftar nilai\n",
        "\n",
        "  #dipecah mana yang nama mana yg siswa\n",
        "  daftar_nama = list(daftar_siswa.keys())\n",
        "  daftar_nilai = list(daftar_siswa.values())\n",
        "\n",
        "  print('daftar_nama : ', daftar_nama)\n",
        "  print('daftar_nilai : ', daftar_nilai)\n",
        "\n",
        "  # Inisialisasi student dengan nilai tertinggi\n",
        "  terbaik_nilai = 0\n",
        "\n",
        "  # Pencarian student terbaik\n",
        "  for loop in range(len(daftar_nilai)):\n",
        "    nilai = daftar_nilai[loop]\n",
        "    nama = daftar_nama[loop]\n",
        "\n",
        "    if nilai >= terbaik_nilai:\n",
        "      terbaik_nilai = nilai\n",
        "      terbaik_nama = nama\n",
        "\n",
        "  return terbaik_nama\n",
        "\n",
        "nama_siswa_terbaik = cek_nilai(anwar=90, budi=40, charlie=100)\n",
        "print('Nama Siswa Terbaik : ', nama_siswa_terbaik)"
      ]
    },
    {
      "cell_type": "markdown",
      "metadata": {
        "id": "m6GJVgJLIKkA"
      },
      "source": [
        "**NOMOR 7**\n",
        "\n",
        "Buatlah sebuah function untuk menampilkan tanda plus (`+`) berbentuk segitiga dibawah ini.\n",
        "  * Input : `n` | int\n",
        "  * Output : Jumlah tanda plus yang dimunculkan.\n",
        "\n",
        "| Input | Output |\n",
        "| - | - |\n",
        "| n = 1 | + |\n",
        "| n = 2 | ++ <br /> +|\n",
        "| n = 3 | +++ <br /> ++ <br /> +|\n",
        "| n = 4 | ++++ <br /> +++ <br /> ++ <br /> +|\n",
        "| n = 5 | +++++ <br /> ++++ <br /> +++ <br /> ++ <br /> +|\n",
        "| n = -1 | *--error--* |\n",
        "\n"
      ]
    },
    {
      "cell_type": "markdown",
      "metadata": {
        "id": "IlLSwYyvrf1D"
      },
      "source": [
        "**NOMOR 8**\n",
        "\n",
        "Buatlah sebuah function untuk mengambil huruf vokal dari sebuah teks dan masukkan ke dalam sebuah list. Return list yang terdiri dari huruf vokal tersebut.\n",
        "  * Input : `teks` | str\n",
        "\n",
        "| No | Input | Output |\n",
        "| - | - | - |\n",
        "| 1 | teks = 'selamat pagi' | ['e', 'a', 'a', 'a', 'i'] |\n",
        "| 2 | teks = '1002'| [] |\n",
        "| 3 | teks = 'myth' | [] |"
      ]
    },
    {
      "cell_type": "markdown",
      "metadata": {
        "id": "TwH2khkhxONF"
      },
      "source": [
        "**NOMOR 9**\n",
        "\n",
        "Buatlah sebuah function untuk mengambil huruf selain huruf vokal (huruf konsonan) dari sebuah teks dan masukkan ke dalam sebuah list. Return list yang terdiri dari huruf konsonan tersebut.\n",
        "  * Input : `teks` | str\n",
        "  * Jika karakter tersebut merupakan angka, maka jangan diambil.\n",
        "\n",
        "| No | Input | Output |\n",
        "| - | - | - |\n",
        "| 1 | teks = 'selamat pagi' | ['s', 'l', 'm', 't', 'p', 'g] |\n",
        "| 2 | teks = '1002'| [] |\n",
        "| 3 | teks = 'myth' | ['m', 'y', 't', 'h'] |\n",
        "\n"
      ]
    },
    {
      "cell_type": "markdown",
      "metadata": {
        "id": "v7T-3NfFVM6E"
      },
      "source": [
        "**NOMOR 10**\n",
        "\n",
        "Buatlah sebuah function untuk mereturn hasil pengecekan dari sekumpulan angka yang dimasukkan, apakah bilangan pertama merupakan penjumlahan dari bilangan kedua, ketiga, dst (asumsikan bilangan yang dimasukkan tidak terbatas).\n",
        "  * Input : `bil_1` : bilangan ke-1 | int\n",
        "  * Input : `bil_2` : bilangan ke-2 | int\n",
        "  * Input : `bil_3` : bilangan ke-3 | int\n",
        "  * Input : `bil_4` : bilangan ke-4 | int\n",
        "  * dst\n",
        "\n",
        "| No | Input | Output |\n",
        "| - | - | - |\n",
        "| 1 | bil_1 = 10, <br/><br/> bil_2 = 20, <br/><br/> bil_3 = 50, <br/><br/> bil_4 = 600 | False |\n",
        "| 2 | bil_1 = 0, <br/><br/> bil_2 = 10, <br/><br/> bil_3 = -10 | True |\n",
        "| 3 | bil_1 = 20, <br/><br/> bil_2 = 20 | True |\n",
        "| 4 | bil_1 = 20 | False |\n",
        "| 5 | bil_1 = 10, <br/><br/> bil_2 = 200, <br/><br/> bil_3 = 300, <br/><br/> bil_4 = 400 <br/> <br/> bil_5 = 500 | False |"
      ]
    }
  ],
  "metadata": {
    "colab": {
      "collapsed_sections": [
        "SEB_VdwJquxl"
      ],
      "provenance": []
    },
    "kernelspec": {
      "display_name": "Python 3",
      "name": "python3"
    },
    "language_info": {
      "codemirror_mode": {
        "name": "ipython",
        "version": 3
      },
      "file_extension": ".py",
      "mimetype": "text/x-python",
      "name": "python",
      "nbconvert_exporter": "python",
      "pygments_lexer": "ipython3",
      "version": "3.11.7"
    }
  },
  "nbformat": 4,
  "nbformat_minor": 0
}
